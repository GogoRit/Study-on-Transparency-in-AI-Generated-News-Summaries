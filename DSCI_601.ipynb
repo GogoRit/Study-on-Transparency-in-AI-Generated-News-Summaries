{
  "cells": [
    {
      "cell_type": "markdown",
      "source": [
        "Installing dataset"
      ],
      "metadata": {
        "id": "u9o1O2YmOeZa"
      }
    },
    {
      "cell_type": "markdown",
      "source": [
        "Installing required dependencies"
      ],
      "metadata": {
        "id": "7GmzEeGAT-2f"
      }
    },
    {
      "cell_type": "code",
      "source": [
        "pip install transformers"
      ],
      "metadata": {
        "id": "dBr0AMYgApdh"
      },
      "execution_count": null,
      "outputs": []
    },
    {
      "cell_type": "code",
      "execution_count": null,
      "metadata": {
        "id": "lKfRadaEubED"
      },
      "outputs": [],
      "source": [
        "pip install datasets"
      ]
    },
    {
      "cell_type": "code",
      "source": [
        "pip install detoxify"
      ],
      "metadata": {
        "id": "bFzelweKvQ8A"
      },
      "execution_count": null,
      "outputs": []
    },
    {
      "cell_type": "markdown",
      "source": [
        "Importing files"
      ],
      "metadata": {
        "id": "yXqPUVC2UDlW"
      }
    },
    {
      "cell_type": "code",
      "execution_count": null,
      "metadata": {
        "id": "U97nFkeVujUE"
      },
      "outputs": [],
      "source": [
        "from datasets import load_dataset, concatenate_datasets\n",
        "import pandas as pd\n",
        "import tensorflow as tf\n",
        "from transformers import TFRobertaForSequenceClassification,RobertaTokenizer,AutoTokenizer, TFAutoModelForSequenceClassification,pipeline,TextClassificationPipeline,AutoModelForSequenceClassification,BertTokenizer, TFBertForSequenceClassification\n",
        "from prettytable import PrettyTable\n",
        "from detoxify import Detoxify"
      ]
    },
    {
      "cell_type": "markdown",
      "source": [
        "Using dataset *cnn_dailymail* for running bias models"
      ],
      "metadata": {
        "id": "hP4dG8XBUG3w"
      }
    },
    {
      "cell_type": "code",
      "source": [
        "combined_dataset = concatenate_datasets([load_dataset('cnn_dailymail', '1.0.0')['train']])"
      ],
      "metadata": {
        "id": "hx383RigPHrW"
      },
      "execution_count": 84,
      "outputs": []
    },
    {
      "cell_type": "code",
      "source": [
        "print(\"Combined Length\")\n",
        "print(len(combined_dataset))"
      ],
      "metadata": {
        "colab": {
          "base_uri": "https://localhost:8080/"
        },
        "id": "I_Ir8ypE9QuY",
        "outputId": "7ae3c0c8-e25e-485e-a1b6-9e1c6de5ab86"
      },
      "execution_count": 85,
      "outputs": [
        {
          "output_type": "stream",
          "name": "stdout",
          "text": [
            "Combined Length\n",
            "287113\n"
          ]
        }
      ]
    },
    {
      "cell_type": "markdown",
      "source": [
        "Put all highlights(summaries of new articles) in a dataframe"
      ],
      "metadata": {
        "id": "E3gTnXXhUdpj"
      }
    },
    {
      "cell_type": "code",
      "execution_count": null,
      "metadata": {
        "id": "acPQ7Zr4u2ci"
      },
      "outputs": [],
      "source": [
        "df_train_highlights = pd.DataFrame({'highlights': [article['highlights'] for article in combined_dataset]})\n"
      ]
    },
    {
      "cell_type": "markdown",
      "metadata": {
        "id": "TZ9o65DPu2DD"
      },
      "source": []
    },
    {
      "cell_type": "markdown",
      "source": [
        "Using 1st value to test models"
      ],
      "metadata": {
        "id": "W8DfalTUUp2O"
      }
    },
    {
      "cell_type": "code",
      "execution_count": null,
      "metadata": {
        "id": "HHTewjPZvk3D"
      },
      "outputs": [],
      "source": [
        "predict_val=df_train_highlights['highlights'].iloc[0]"
      ]
    },
    {
      "cell_type": "code",
      "execution_count": null,
      "metadata": {
        "id": "QFiLtAgYFz4k"
      },
      "outputs": [],
      "source": [
        "# BIAS https://huggingface.co/d4data/bias-detection-model\n",
        "\n",
        "tokenizer_bias = AutoTokenizer.from_pretrained(\"d4data/bias-detection-model\")\n",
        "model_bias = TFAutoModelForSequenceClassification.from_pretrained(\"d4data/bias-detection-model\")\n",
        "\n",
        "classifier_bias = pipeline('text-classification', model=model_bias, tokenizer=tokenizer_bias) # cuda = 0,1 based on gpu availability\n"
      ]
    },
    {
      "cell_type": "code",
      "source": [
        "# TOXIC https://huggingface.co/unitary/toxic-bert\n",
        "tokenizer_toxic1= AutoTokenizer.from_pretrained(\"unitary/toxic-bert\")\n",
        "model_toxic1 = AutoModelForSequenceClassification.from_pretrained(\"unitary/toxic-bert\")\n",
        "classifier__toxic1 = pipeline('text-classification', model=model_toxic1, tokenizer=tokenizer_toxic1) # cuda = 0,1 based on gpu availability\n"
      ],
      "metadata": {
        "id": "QQw_7t8dS0QZ"
      },
      "execution_count": null,
      "outputs": []
    },
    {
      "cell_type": "code",
      "execution_count": null,
      "metadata": {
        "id": "mTwi6Ht3II0n"
      },
      "outputs": [],
      "source": [
        "# TOXIC https://huggingface.co/martin-ha/toxic-comment-model\n",
        "tokenizer_toxic = AutoTokenizer.from_pretrained(\"martin-ha/toxic-comment-model\")\n",
        "model_toxic = AutoModelForSequenceClassification.from_pretrained(\"martin-ha/toxic-comment-model\")\n",
        "\n",
        "classifier__toxic =  TextClassificationPipeline(model=model_toxic, tokenizer=tokenizer_toxic)\n"
      ]
    },
    {
      "cell_type": "code",
      "source": [
        "# Load pre-trained BERT model and tokenizer\n",
        "tokenizer_bert_base_uncased = BertTokenizer.from_pretrained(\"bert-base-uncased\")\n",
        "model_bert_base_uncased = TFBertForSequenceClassification.from_pretrained(\"bert-base-uncased\", num_labels=2)\n",
        "\n"
      ],
      "metadata": {
        "colab": {
          "base_uri": "https://localhost:8080/",
          "height": 140,
          "referenced_widgets": [
            "5b5d94f034cf4a8d98318f5f3c74a275",
            "7e7b674854b44a659e4adce46da801cc",
            "fac3172caedf4e498fc6bda745796bf2",
            "6f0a13bdc50f44c29eab23bb165c9452",
            "01abfb58483142da9e371ac8a21d7ef7",
            "3a23c86d6433418ab1606206dfff7810",
            "8dc173b20c934cd78c56fc25e06a3b19",
            "1ced1f2e72a44b95b3c6687175868374",
            "38739a21821a4ed9b75ca5f798bfb3cc",
            "b7176d089f9946d39a11840187e05da9",
            "f1177ab6849340d9bea59363bc6aa08d"
          ]
        },
        "id": "1B87WX1Inq_E",
        "outputId": "74d0ec3e-aa18-4812-878f-ee4c99679c14"
      },
      "execution_count": null,
      "outputs": [
        {
          "output_type": "display_data",
          "data": {
            "text/plain": [
              "model.safetensors:   0%|          | 0.00/440M [00:00<?, ?B/s]"
            ],
            "application/vnd.jupyter.widget-view+json": {
              "version_major": 2,
              "version_minor": 0,
              "model_id": "5b5d94f034cf4a8d98318f5f3c74a275"
            }
          },
          "metadata": {}
        },
        {
          "output_type": "stream",
          "name": "stderr",
          "text": [
            "All PyTorch model weights were used when initializing TFBertForSequenceClassification.\n",
            "\n",
            "Some weights or buffers of the TF 2.0 model TFBertForSequenceClassification were not initialized from the PyTorch model and are newly initialized: ['classifier.weight', 'classifier.bias']\n",
            "You should probably TRAIN this model on a down-stream task to be able to use it for predictions and inference.\n"
          ]
        }
      ]
    },
    {
      "cell_type": "code",
      "source": [
        "# Load pre-trained RoBERTa model and tokenizer\n",
        "tokenizer_roberta_base = RobertaTokenizer.from_pretrained(\"roberta-base\")\n",
        "model_roberta_base = TFRobertaForSequenceClassification.from_pretrained(\"roberta-base\", num_labels=9)"
      ],
      "metadata": {
        "id": "Oz0XvwYCoIbj"
      },
      "execution_count": null,
      "outputs": []
    },
    {
      "cell_type": "code",
      "source": [
        "# Load pre-trained RoBERTa model and tokenizer\n",
        "classifier = pipeline(task=\"text-classification\", model=\"SamLowe/roberta-base-go_emotions\", top_k=None)\n",
        "\n",
        "sentences = predict_val\n",
        "max_score_label = max(classifier(sentences)[0], key=lambda x: x['score'])"
      ],
      "metadata": {
        "id": "GpX4zA3Iqf5X"
      },
      "execution_count": null,
      "outputs": []
    },
    {
      "cell_type": "code",
      "source": [
        "# Tokenize the input text for both models\n",
        "inputs_bert = tokenizer(predict_val, padding=True, truncation=True, max_length=128, return_tensors=\"tf\")\n",
        "inputs_roberta = tokenizer(predict_val, padding=True, truncation=True, max_length=128, return_tensors=\"tf\")\n",
        "\n",
        "# Perform inference for both models\n",
        "outputs_bert = model_bert_base_uncased(inputs_bert)\n",
        "outputs_roberta = model_roberta_base(inputs_roberta)\n",
        "\n",
        "# Get predicted labels for both models\n",
        "predictions_bert = tf.nn.softmax(outputs_bert.logits, axis=-1)\n",
        "predictions_roberta = tf.nn.softmax(outputs_roberta.logits, axis=-1)\n",
        "\n",
        "# Get predicted label for BERT-based model\n",
        "label_bert = \"toxic\" if tf.argmax(predictions_bert, axis=1).numpy()[0] == 1 else \"not toxic\"\n",
        "\n",
        "# Get predicted label for RoBERTa-based model\n",
        "label_roberta = \"toxic\" if tf.argmax(predictions_roberta, axis=1).numpy()[0] == 1 else \"not toxic\""
      ],
      "metadata": {
        "colab": {
          "base_uri": "https://localhost:8080/"
        },
        "id": "TcumeFwkcYAx",
        "outputId": "ff89161d-8bfe-4aba-98b1-520f323776f4"
      },
      "execution_count": null,
      "outputs": [
        {
          "output_type": "stream",
          "name": "stdout",
          "text": [
            "The response from BERT-based model is not toxic.\n",
            "The response from RoBERTa-based model is not toxic.\n"
          ]
        }
      ]
    },
    {
      "cell_type": "code",
      "source": [
        "# Perform inference and get predicted emotion category for BERT-based model\n",
        "outputs_bert = model_bert_base_uncased(inputs)\n",
        "predicted_label_id_bert = tf.argmax(outputs_bert.logits, axis=1).numpy()[0]\n",
        "predicted_label_bert = emotion_labels[predicted_label_id_bert]\n",
        "\n",
        "# Perform inference and get predicted emotion category for RoBERTa-based model\n",
        "outputs_roberta = model_roberta_base(inputs)\n",
        "predicted_label_id_roberta = tf.argmax(outputs_roberta.logits, axis=1).numpy()[0]\n",
        "predicted_label_roberta = emotion_labels[predicted_label_id_roberta]\n"
      ],
      "metadata": {
        "colab": {
          "base_uri": "https://localhost:8080/"
        },
        "id": "kZ32JS68cjqp",
        "outputId": "096f4ce9-7bc5-4ca6-b1c6-0803aa5caa7c"
      },
      "execution_count": null,
      "outputs": [
        {
          "output_type": "stream",
          "name": "stdout",
          "text": [
            "The predicted emotion category from BERT-based model is: neutral.\n",
            "The predicted emotion category from RoBERTa-based model is: sadness.\n"
          ]
        }
      ]
    },
    {
      "cell_type": "code",
      "source": [
        "# Tokenize the input text\n",
        "inputs = tokenizer(predict_val, padding=True, truncation=True, max_length=128, return_tensors=\"tf\")\n",
        "\n",
        "# Perform inference and get predicted label for BERT-based model\n",
        "outputs_bert = model_bert_base_uncased(inputs)\n",
        "predictions_bert = tf.nn.softmax(outputs_bert.logits, axis=-1)\n",
        "label_bert = \"sexist\" if tf.argmax(predictions_bert, axis=1).numpy()[0] == 1 else \"not sexist\"\n",
        "\n",
        "# Perform inference and get predicted label for RoBERTa-based model\n",
        "outputs_roberta = model_roberta_base(inputs)\n",
        "predictions_roberta = tf.nn.softmax(outputs_roberta.logits, axis=-1)\n",
        "label_roberta = \"sexist\" if tf.argmax(predictions_roberta, axis=1).numpy()[0] == 1 else \"not sexist\"\n"
      ],
      "metadata": {
        "colab": {
          "base_uri": "https://localhost:8080/"
        },
        "id": "IdyCRarycsBP",
        "outputId": "31263f77-5c09-4e05-eedc-93077e983187"
      },
      "execution_count": null,
      "outputs": [
        {
          "output_type": "stream",
          "name": "stdout",
          "text": [
            "The response from BERT-based model is not sexist.\n",
            "The response from RoBERTa-based model is not sexist.\n"
          ]
        }
      ]
    },
    {
      "cell_type": "markdown",
      "source": [
        "Outputs of each model"
      ],
      "metadata": {
        "id": "qXn4okM5U0gM"
      }
    },
    {
      "cell_type": "code",
      "source": [
        "print(f\"Summary String: {predict_val}\")\n"
      ],
      "metadata": {
        "colab": {
          "base_uri": "https://localhost:8080/"
        },
        "id": "W9xdTpq1dTbU",
        "outputId": "e669779a-2bcb-44a6-c8bd-61a0e5a4acc7"
      },
      "execution_count": 86,
      "outputs": [
        {
          "output_type": "stream",
          "name": "stdout",
          "text": [
            "Summary String: Harry Potter star Daniel Radcliffe gets £20M fortune as he turns 18 Monday . Young actor says he has no plans to fritter his cash away . Radcliffe's earnings from first five Potter films have been held in trust fund .\n"
          ]
        }
      ]
    },
    {
      "cell_type": "code",
      "source": [
        "from prettytable import PrettyTable\n",
        "\n",
        "# Create a PrettyTable instance\n",
        "table = PrettyTable()\n",
        "\n",
        "# Add columns to the table\n",
        "table.field_names = [\"Category\", \"Response\"]\n",
        "\n",
        "# Add data to the table\n",
        "table.add_row([\"Bias Detection Model\", classifier_bias(str(predict_val))])\n",
        "table.add_row([\"Max Value Response from Roberta\", max_score_label])\n",
        "table.add_row([\"Toxic BERT\", classifier__toxic1(str(predict_val))])\n",
        "table.add_row([\"Toxic Comment Model\", classifier__toxic(str(predict_val))])\n",
        "table.add_row([\"Response from BERT-based model\", label_bert])\n",
        "table.add_row([\"Response from RoBERTa-based model\", label_roberta])\n",
        "table.add_row([\"Predicted Emotion Category from BERT\", predicted_label_bert])\n",
        "table.add_row([\"Predicted Emotion Category from RoBERTa\", predicted_label_roberta])\n",
        "table.add_row([\"Response from BERT-based model\", label_bert])\n",
        "table.add_row([\"Response from RoBERTa-based model\", label_roberta])\n",
        "\n",
        "# Print the table\n",
        "print(table)\n"
      ],
      "metadata": {
        "colab": {
          "base_uri": "https://localhost:8080/"
        },
        "id": "Aek1ruik2G_V",
        "outputId": "910fdfae-d7ee-4c16-8502-3821dc84b1a9"
      },
      "execution_count": 87,
      "outputs": [
        {
          "output_type": "stream",
          "name": "stdout",
          "text": [
            "+-----------------------------------------+--------------------------------------------------------+\n",
            "|                 Category                |                        Response                        |\n",
            "+-----------------------------------------+--------------------------------------------------------+\n",
            "|           Bias Detection Model          | [{'label': 'Non-biased', 'score': 0.5043940544128418}] |\n",
            "|     Max Value Response from Roberta     |   {'label': 'neutral', 'score': 0.9192013144493103}    |\n",
            "|                Toxic BERT               |  [{'label': 'toxic', 'score': 0.0008910775068216026}]  |\n",
            "|           Toxic Comment Model           | [{'label': 'non-toxic', 'score': 0.9989933371543884}]  |\n",
            "|      Response from BERT-based model     |                       not toxic                        |\n",
            "|    Response from RoBERTa-based model    |                       not toxic                        |\n",
            "|   Predicted Emotion Category from BERT  |                        neutral                         |\n",
            "| Predicted Emotion Category from RoBERTa |                        sadness                         |\n",
            "|      Response from BERT-based model     |                       not toxic                        |\n",
            "|    Response from RoBERTa-based model    |                       not toxic                        |\n",
            "+-----------------------------------------+--------------------------------------------------------+\n"
          ]
        }
      ]
    },
    {
      "cell_type": "code",
      "source": [
        "# Initialize Detoxify models\n",
        "original_model = Detoxify('original')\n",
        "unbiased_model = Detoxify('unbiased')\n",
        "multilingual_model = Detoxify('multilingual')\n",
        "\n",
        "# Get predictions from all three models\n",
        "original_results = original_model.predict(predict_val)\n",
        "unbiased_results = unbiased_model.predict(predict_val)\n",
        "multilingual_results = multilingual_model.predict(predict_val)\n",
        "\n",
        "# Create a PrettyTable instance\n",
        "table = PrettyTable()\n",
        "\n",
        "# Add columns to the table\n",
        "table.field_names = [\"Model\", \"Category\", \"Probability\"]\n",
        "\n",
        "# Add data to the table\n",
        "for model_name, results in [(\"Original\", original_results.items()), (\"Unbiased\", unbiased_results.items()), (\"Multilingual\", multilingual_results.items())]:\n",
        "    for category, probability in results:\n",
        "        table.add_row([model_name, category, probability])\n",
        "\n",
        "# Print the table\n",
        "print(table)\n"
      ],
      "metadata": {
        "colab": {
          "base_uri": "https://localhost:8080/"
        },
        "id": "xOUZC0F7vGTr",
        "outputId": "0d791f40-fd32-4ef5-8bd3-8f7db2b2f5bc"
      },
      "execution_count": 74,
      "outputs": [
        {
          "output_type": "stream",
          "name": "stdout",
          "text": [
            "+--------------+-----------------+----------------+\n",
            "|    Model     |     Category    |  Probability   |\n",
            "+--------------+-----------------+----------------+\n",
            "|   Original   |     toxicity    | 0.00089107745  |\n",
            "|   Original   | severe_toxicity | 0.00010377898  |\n",
            "|   Original   |     obscene     | 0.00016919927  |\n",
            "|   Original   |      threat     | 0.000114530434 |\n",
            "|   Original   |      insult     | 0.00020599189  |\n",
            "|   Original   | identity_attack | 0.00014119442  |\n",
            "|   Unbiased   |     toxicity    |  0.000525384   |\n",
            "|   Unbiased   | severe_toxicity | 1.2461513e-06  |\n",
            "|   Unbiased   |     obscene     | 3.7944104e-05  |\n",
            "|   Unbiased   | identity_attack |  6.431531e-05  |\n",
            "|   Unbiased   |      insult     | 0.00015094518  |\n",
            "|   Unbiased   |      threat     | 1.7821974e-05  |\n",
            "|   Unbiased   | sexual_explicit | 1.5974996e-05  |\n",
            "| Multilingual |     toxicity    | 0.00037832616  |\n",
            "| Multilingual | severe_toxicity |  3.070612e-05  |\n",
            "| Multilingual |     obscene     | 0.00022446709  |\n",
            "| Multilingual | identity_attack |  9.27899e-05   |\n",
            "| Multilingual |      insult     | 0.00023829188  |\n",
            "| Multilingual |      threat     | 4.1065865e-05  |\n",
            "| Multilingual | sexual_explicit |  2.756496e-05  |\n",
            "+--------------+-----------------+----------------+\n"
          ]
        }
      ]
    },
    {
      "cell_type": "markdown",
      "source": [],
      "metadata": {
        "id": "nHr-7S967-U4"
      }
    }
  ],
  "metadata": {
    "colab": {
      "provenance": []
    },
    "kernelspec": {
      "display_name": "Python 3",
      "name": "python3"
    },
    "language_info": {
      "name": "python"
    },
    "widgets": {
      "application/vnd.jupyter.widget-state+json": {
        "5b5d94f034cf4a8d98318f5f3c74a275": {
          "model_module": "@jupyter-widgets/controls",
          "model_name": "HBoxModel",
          "model_module_version": "1.5.0",
          "state": {
            "_dom_classes": [],
            "_model_module": "@jupyter-widgets/controls",
            "_model_module_version": "1.5.0",
            "_model_name": "HBoxModel",
            "_view_count": null,
            "_view_module": "@jupyter-widgets/controls",
            "_view_module_version": "1.5.0",
            "_view_name": "HBoxView",
            "box_style": "",
            "children": [
              "IPY_MODEL_7e7b674854b44a659e4adce46da801cc",
              "IPY_MODEL_fac3172caedf4e498fc6bda745796bf2",
              "IPY_MODEL_6f0a13bdc50f44c29eab23bb165c9452"
            ],
            "layout": "IPY_MODEL_01abfb58483142da9e371ac8a21d7ef7"
          }
        },
        "7e7b674854b44a659e4adce46da801cc": {
          "model_module": "@jupyter-widgets/controls",
          "model_name": "HTMLModel",
          "model_module_version": "1.5.0",
          "state": {
            "_dom_classes": [],
            "_model_module": "@jupyter-widgets/controls",
            "_model_module_version": "1.5.0",
            "_model_name": "HTMLModel",
            "_view_count": null,
            "_view_module": "@jupyter-widgets/controls",
            "_view_module_version": "1.5.0",
            "_view_name": "HTMLView",
            "description": "",
            "description_tooltip": null,
            "layout": "IPY_MODEL_3a23c86d6433418ab1606206dfff7810",
            "placeholder": "​",
            "style": "IPY_MODEL_8dc173b20c934cd78c56fc25e06a3b19",
            "value": "model.safetensors: 100%"
          }
        },
        "fac3172caedf4e498fc6bda745796bf2": {
          "model_module": "@jupyter-widgets/controls",
          "model_name": "FloatProgressModel",
          "model_module_version": "1.5.0",
          "state": {
            "_dom_classes": [],
            "_model_module": "@jupyter-widgets/controls",
            "_model_module_version": "1.5.0",
            "_model_name": "FloatProgressModel",
            "_view_count": null,
            "_view_module": "@jupyter-widgets/controls",
            "_view_module_version": "1.5.0",
            "_view_name": "ProgressView",
            "bar_style": "success",
            "description": "",
            "description_tooltip": null,
            "layout": "IPY_MODEL_1ced1f2e72a44b95b3c6687175868374",
            "max": 440449768,
            "min": 0,
            "orientation": "horizontal",
            "style": "IPY_MODEL_38739a21821a4ed9b75ca5f798bfb3cc",
            "value": 440449768
          }
        },
        "6f0a13bdc50f44c29eab23bb165c9452": {
          "model_module": "@jupyter-widgets/controls",
          "model_name": "HTMLModel",
          "model_module_version": "1.5.0",
          "state": {
            "_dom_classes": [],
            "_model_module": "@jupyter-widgets/controls",
            "_model_module_version": "1.5.0",
            "_model_name": "HTMLModel",
            "_view_count": null,
            "_view_module": "@jupyter-widgets/controls",
            "_view_module_version": "1.5.0",
            "_view_name": "HTMLView",
            "description": "",
            "description_tooltip": null,
            "layout": "IPY_MODEL_b7176d089f9946d39a11840187e05da9",
            "placeholder": "​",
            "style": "IPY_MODEL_f1177ab6849340d9bea59363bc6aa08d",
            "value": " 440M/440M [00:04&lt;00:00, 93.2MB/s]"
          }
        },
        "01abfb58483142da9e371ac8a21d7ef7": {
          "model_module": "@jupyter-widgets/base",
          "model_name": "LayoutModel",
          "model_module_version": "1.2.0",
          "state": {
            "_model_module": "@jupyter-widgets/base",
            "_model_module_version": "1.2.0",
            "_model_name": "LayoutModel",
            "_view_count": null,
            "_view_module": "@jupyter-widgets/base",
            "_view_module_version": "1.2.0",
            "_view_name": "LayoutView",
            "align_content": null,
            "align_items": null,
            "align_self": null,
            "border": null,
            "bottom": null,
            "display": null,
            "flex": null,
            "flex_flow": null,
            "grid_area": null,
            "grid_auto_columns": null,
            "grid_auto_flow": null,
            "grid_auto_rows": null,
            "grid_column": null,
            "grid_gap": null,
            "grid_row": null,
            "grid_template_areas": null,
            "grid_template_columns": null,
            "grid_template_rows": null,
            "height": null,
            "justify_content": null,
            "justify_items": null,
            "left": null,
            "margin": null,
            "max_height": null,
            "max_width": null,
            "min_height": null,
            "min_width": null,
            "object_fit": null,
            "object_position": null,
            "order": null,
            "overflow": null,
            "overflow_x": null,
            "overflow_y": null,
            "padding": null,
            "right": null,
            "top": null,
            "visibility": null,
            "width": null
          }
        },
        "3a23c86d6433418ab1606206dfff7810": {
          "model_module": "@jupyter-widgets/base",
          "model_name": "LayoutModel",
          "model_module_version": "1.2.0",
          "state": {
            "_model_module": "@jupyter-widgets/base",
            "_model_module_version": "1.2.0",
            "_model_name": "LayoutModel",
            "_view_count": null,
            "_view_module": "@jupyter-widgets/base",
            "_view_module_version": "1.2.0",
            "_view_name": "LayoutView",
            "align_content": null,
            "align_items": null,
            "align_self": null,
            "border": null,
            "bottom": null,
            "display": null,
            "flex": null,
            "flex_flow": null,
            "grid_area": null,
            "grid_auto_columns": null,
            "grid_auto_flow": null,
            "grid_auto_rows": null,
            "grid_column": null,
            "grid_gap": null,
            "grid_row": null,
            "grid_template_areas": null,
            "grid_template_columns": null,
            "grid_template_rows": null,
            "height": null,
            "justify_content": null,
            "justify_items": null,
            "left": null,
            "margin": null,
            "max_height": null,
            "max_width": null,
            "min_height": null,
            "min_width": null,
            "object_fit": null,
            "object_position": null,
            "order": null,
            "overflow": null,
            "overflow_x": null,
            "overflow_y": null,
            "padding": null,
            "right": null,
            "top": null,
            "visibility": null,
            "width": null
          }
        },
        "8dc173b20c934cd78c56fc25e06a3b19": {
          "model_module": "@jupyter-widgets/controls",
          "model_name": "DescriptionStyleModel",
          "model_module_version": "1.5.0",
          "state": {
            "_model_module": "@jupyter-widgets/controls",
            "_model_module_version": "1.5.0",
            "_model_name": "DescriptionStyleModel",
            "_view_count": null,
            "_view_module": "@jupyter-widgets/base",
            "_view_module_version": "1.2.0",
            "_view_name": "StyleView",
            "description_width": ""
          }
        },
        "1ced1f2e72a44b95b3c6687175868374": {
          "model_module": "@jupyter-widgets/base",
          "model_name": "LayoutModel",
          "model_module_version": "1.2.0",
          "state": {
            "_model_module": "@jupyter-widgets/base",
            "_model_module_version": "1.2.0",
            "_model_name": "LayoutModel",
            "_view_count": null,
            "_view_module": "@jupyter-widgets/base",
            "_view_module_version": "1.2.0",
            "_view_name": "LayoutView",
            "align_content": null,
            "align_items": null,
            "align_self": null,
            "border": null,
            "bottom": null,
            "display": null,
            "flex": null,
            "flex_flow": null,
            "grid_area": null,
            "grid_auto_columns": null,
            "grid_auto_flow": null,
            "grid_auto_rows": null,
            "grid_column": null,
            "grid_gap": null,
            "grid_row": null,
            "grid_template_areas": null,
            "grid_template_columns": null,
            "grid_template_rows": null,
            "height": null,
            "justify_content": null,
            "justify_items": null,
            "left": null,
            "margin": null,
            "max_height": null,
            "max_width": null,
            "min_height": null,
            "min_width": null,
            "object_fit": null,
            "object_position": null,
            "order": null,
            "overflow": null,
            "overflow_x": null,
            "overflow_y": null,
            "padding": null,
            "right": null,
            "top": null,
            "visibility": null,
            "width": null
          }
        },
        "38739a21821a4ed9b75ca5f798bfb3cc": {
          "model_module": "@jupyter-widgets/controls",
          "model_name": "ProgressStyleModel",
          "model_module_version": "1.5.0",
          "state": {
            "_model_module": "@jupyter-widgets/controls",
            "_model_module_version": "1.5.0",
            "_model_name": "ProgressStyleModel",
            "_view_count": null,
            "_view_module": "@jupyter-widgets/base",
            "_view_module_version": "1.2.0",
            "_view_name": "StyleView",
            "bar_color": null,
            "description_width": ""
          }
        },
        "b7176d089f9946d39a11840187e05da9": {
          "model_module": "@jupyter-widgets/base",
          "model_name": "LayoutModel",
          "model_module_version": "1.2.0",
          "state": {
            "_model_module": "@jupyter-widgets/base",
            "_model_module_version": "1.2.0",
            "_model_name": "LayoutModel",
            "_view_count": null,
            "_view_module": "@jupyter-widgets/base",
            "_view_module_version": "1.2.0",
            "_view_name": "LayoutView",
            "align_content": null,
            "align_items": null,
            "align_self": null,
            "border": null,
            "bottom": null,
            "display": null,
            "flex": null,
            "flex_flow": null,
            "grid_area": null,
            "grid_auto_columns": null,
            "grid_auto_flow": null,
            "grid_auto_rows": null,
            "grid_column": null,
            "grid_gap": null,
            "grid_row": null,
            "grid_template_areas": null,
            "grid_template_columns": null,
            "grid_template_rows": null,
            "height": null,
            "justify_content": null,
            "justify_items": null,
            "left": null,
            "margin": null,
            "max_height": null,
            "max_width": null,
            "min_height": null,
            "min_width": null,
            "object_fit": null,
            "object_position": null,
            "order": null,
            "overflow": null,
            "overflow_x": null,
            "overflow_y": null,
            "padding": null,
            "right": null,
            "top": null,
            "visibility": null,
            "width": null
          }
        },
        "f1177ab6849340d9bea59363bc6aa08d": {
          "model_module": "@jupyter-widgets/controls",
          "model_name": "DescriptionStyleModel",
          "model_module_version": "1.5.0",
          "state": {
            "_model_module": "@jupyter-widgets/controls",
            "_model_module_version": "1.5.0",
            "_model_name": "DescriptionStyleModel",
            "_view_count": null,
            "_view_module": "@jupyter-widgets/base",
            "_view_module_version": "1.2.0",
            "_view_name": "StyleView",
            "description_width": ""
          }
        }
      }
    }
  },
  "nbformat": 4,
  "nbformat_minor": 0
}