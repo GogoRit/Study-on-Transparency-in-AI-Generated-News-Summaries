{
  "nbformat": 4,
  "nbformat_minor": 0,
  "metadata": {
    "colab": {
      "provenance": []
    },
    "kernelspec": {
      "name": "python3",
      "display_name": "Python 3"
    },
    "language_info": {
      "name": "python"
    },
    "widgets": {
      "application/vnd.jupyter.widget-state+json": {
        "c83071a6c13840cdae36e557f9eacc5a": {
          "model_module": "@jupyter-widgets/controls",
          "model_name": "HBoxModel",
          "model_module_version": "1.5.0",
          "state": {
            "_dom_classes": [],
            "_model_module": "@jupyter-widgets/controls",
            "_model_module_version": "1.5.0",
            "_model_name": "HBoxModel",
            "_view_count": null,
            "_view_module": "@jupyter-widgets/controls",
            "_view_module_version": "1.5.0",
            "_view_name": "HBoxView",
            "box_style": "",
            "children": [
              "IPY_MODEL_5b5b8d77c27f4373817b7bd5128af1fc",
              "IPY_MODEL_daff8e5c29c24f1eba7f0e985ff97c8c",
              "IPY_MODEL_9ce36e444a634f3b9705e226fb51ae64"
            ],
            "layout": "IPY_MODEL_2c617ed53dc541e888e7b38dca9c55bc"
          }
        },
        "5b5b8d77c27f4373817b7bd5128af1fc": {
          "model_module": "@jupyter-widgets/controls",
          "model_name": "HTMLModel",
          "model_module_version": "1.5.0",
          "state": {
            "_dom_classes": [],
            "_model_module": "@jupyter-widgets/controls",
            "_model_module_version": "1.5.0",
            "_model_name": "HTMLModel",
            "_view_count": null,
            "_view_module": "@jupyter-widgets/controls",
            "_view_module_version": "1.5.0",
            "_view_name": "HTMLView",
            "description": "",
            "description_tooltip": null,
            "layout": "IPY_MODEL_e2e37d856f934697b7693e103230a689",
            "placeholder": "​",
            "style": "IPY_MODEL_0fe9d449a71944029cee179aea00169d",
            "value": "config.json: 100%"
          }
        },
        "daff8e5c29c24f1eba7f0e985ff97c8c": {
          "model_module": "@jupyter-widgets/controls",
          "model_name": "FloatProgressModel",
          "model_module_version": "1.5.0",
          "state": {
            "_dom_classes": [],
            "_model_module": "@jupyter-widgets/controls",
            "_model_module_version": "1.5.0",
            "_model_name": "FloatProgressModel",
            "_view_count": null,
            "_view_module": "@jupyter-widgets/controls",
            "_view_module_version": "1.5.0",
            "_view_name": "ProgressView",
            "bar_style": "success",
            "description": "",
            "description_tooltip": null,
            "layout": "IPY_MODEL_d742b000191e4befb204c16b845dd093",
            "max": 998,
            "min": 0,
            "orientation": "horizontal",
            "style": "IPY_MODEL_ae9919bddd5a4527993a8895d4d7353a",
            "value": 998
          }
        },
        "9ce36e444a634f3b9705e226fb51ae64": {
          "model_module": "@jupyter-widgets/controls",
          "model_name": "HTMLModel",
          "model_module_version": "1.5.0",
          "state": {
            "_dom_classes": [],
            "_model_module": "@jupyter-widgets/controls",
            "_model_module_version": "1.5.0",
            "_model_name": "HTMLModel",
            "_view_count": null,
            "_view_module": "@jupyter-widgets/controls",
            "_view_module_version": "1.5.0",
            "_view_name": "HTMLView",
            "description": "",
            "description_tooltip": null,
            "layout": "IPY_MODEL_ddd1361db51449169ec8a23685942c0d",
            "placeholder": "​",
            "style": "IPY_MODEL_412e0eb965a44e6d90ad809765f2dc90",
            "value": " 998/998 [00:00&lt;00:00, 20.3kB/s]"
          }
        },
        "2c617ed53dc541e888e7b38dca9c55bc": {
          "model_module": "@jupyter-widgets/base",
          "model_name": "LayoutModel",
          "model_module_version": "1.2.0",
          "state": {
            "_model_module": "@jupyter-widgets/base",
            "_model_module_version": "1.2.0",
            "_model_name": "LayoutModel",
            "_view_count": null,
            "_view_module": "@jupyter-widgets/base",
            "_view_module_version": "1.2.0",
            "_view_name": "LayoutView",
            "align_content": null,
            "align_items": null,
            "align_self": null,
            "border": null,
            "bottom": null,
            "display": null,
            "flex": null,
            "flex_flow": null,
            "grid_area": null,
            "grid_auto_columns": null,
            "grid_auto_flow": null,
            "grid_auto_rows": null,
            "grid_column": null,
            "grid_gap": null,
            "grid_row": null,
            "grid_template_areas": null,
            "grid_template_columns": null,
            "grid_template_rows": null,
            "height": null,
            "justify_content": null,
            "justify_items": null,
            "left": null,
            "margin": null,
            "max_height": null,
            "max_width": null,
            "min_height": null,
            "min_width": null,
            "object_fit": null,
            "object_position": null,
            "order": null,
            "overflow": null,
            "overflow_x": null,
            "overflow_y": null,
            "padding": null,
            "right": null,
            "top": null,
            "visibility": null,
            "width": null
          }
        },
        "e2e37d856f934697b7693e103230a689": {
          "model_module": "@jupyter-widgets/base",
          "model_name": "LayoutModel",
          "model_module_version": "1.2.0",
          "state": {
            "_model_module": "@jupyter-widgets/base",
            "_model_module_version": "1.2.0",
            "_model_name": "LayoutModel",
            "_view_count": null,
            "_view_module": "@jupyter-widgets/base",
            "_view_module_version": "1.2.0",
            "_view_name": "LayoutView",
            "align_content": null,
            "align_items": null,
            "align_self": null,
            "border": null,
            "bottom": null,
            "display": null,
            "flex": null,
            "flex_flow": null,
            "grid_area": null,
            "grid_auto_columns": null,
            "grid_auto_flow": null,
            "grid_auto_rows": null,
            "grid_column": null,
            "grid_gap": null,
            "grid_row": null,
            "grid_template_areas": null,
            "grid_template_columns": null,
            "grid_template_rows": null,
            "height": null,
            "justify_content": null,
            "justify_items": null,
            "left": null,
            "margin": null,
            "max_height": null,
            "max_width": null,
            "min_height": null,
            "min_width": null,
            "object_fit": null,
            "object_position": null,
            "order": null,
            "overflow": null,
            "overflow_x": null,
            "overflow_y": null,
            "padding": null,
            "right": null,
            "top": null,
            "visibility": null,
            "width": null
          }
        },
        "0fe9d449a71944029cee179aea00169d": {
          "model_module": "@jupyter-widgets/controls",
          "model_name": "DescriptionStyleModel",
          "model_module_version": "1.5.0",
          "state": {
            "_model_module": "@jupyter-widgets/controls",
            "_model_module_version": "1.5.0",
            "_model_name": "DescriptionStyleModel",
            "_view_count": null,
            "_view_module": "@jupyter-widgets/base",
            "_view_module_version": "1.2.0",
            "_view_name": "StyleView",
            "description_width": ""
          }
        },
        "d742b000191e4befb204c16b845dd093": {
          "model_module": "@jupyter-widgets/base",
          "model_name": "LayoutModel",
          "model_module_version": "1.2.0",
          "state": {
            "_model_module": "@jupyter-widgets/base",
            "_model_module_version": "1.2.0",
            "_model_name": "LayoutModel",
            "_view_count": null,
            "_view_module": "@jupyter-widgets/base",
            "_view_module_version": "1.2.0",
            "_view_name": "LayoutView",
            "align_content": null,
            "align_items": null,
            "align_self": null,
            "border": null,
            "bottom": null,
            "display": null,
            "flex": null,
            "flex_flow": null,
            "grid_area": null,
            "grid_auto_columns": null,
            "grid_auto_flow": null,
            "grid_auto_rows": null,
            "grid_column": null,
            "grid_gap": null,
            "grid_row": null,
            "grid_template_areas": null,
            "grid_template_columns": null,
            "grid_template_rows": null,
            "height": null,
            "justify_content": null,
            "justify_items": null,
            "left": null,
            "margin": null,
            "max_height": null,
            "max_width": null,
            "min_height": null,
            "min_width": null,
            "object_fit": null,
            "object_position": null,
            "order": null,
            "overflow": null,
            "overflow_x": null,
            "overflow_y": null,
            "padding": null,
            "right": null,
            "top": null,
            "visibility": null,
            "width": null
          }
        },
        "ae9919bddd5a4527993a8895d4d7353a": {
          "model_module": "@jupyter-widgets/controls",
          "model_name": "ProgressStyleModel",
          "model_module_version": "1.5.0",
          "state": {
            "_model_module": "@jupyter-widgets/controls",
            "_model_module_version": "1.5.0",
            "_model_name": "ProgressStyleModel",
            "_view_count": null,
            "_view_module": "@jupyter-widgets/base",
            "_view_module_version": "1.2.0",
            "_view_name": "StyleView",
            "bar_color": null,
            "description_width": ""
          }
        },
        "ddd1361db51449169ec8a23685942c0d": {
          "model_module": "@jupyter-widgets/base",
          "model_name": "LayoutModel",
          "model_module_version": "1.2.0",
          "state": {
            "_model_module": "@jupyter-widgets/base",
            "_model_module_version": "1.2.0",
            "_model_name": "LayoutModel",
            "_view_count": null,
            "_view_module": "@jupyter-widgets/base",
            "_view_module_version": "1.2.0",
            "_view_name": "LayoutView",
            "align_content": null,
            "align_items": null,
            "align_self": null,
            "border": null,
            "bottom": null,
            "display": null,
            "flex": null,
            "flex_flow": null,
            "grid_area": null,
            "grid_auto_columns": null,
            "grid_auto_flow": null,
            "grid_auto_rows": null,
            "grid_column": null,
            "grid_gap": null,
            "grid_row": null,
            "grid_template_areas": null,
            "grid_template_columns": null,
            "grid_template_rows": null,
            "height": null,
            "justify_content": null,
            "justify_items": null,
            "left": null,
            "margin": null,
            "max_height": null,
            "max_width": null,
            "min_height": null,
            "min_width": null,
            "object_fit": null,
            "object_position": null,
            "order": null,
            "overflow": null,
            "overflow_x": null,
            "overflow_y": null,
            "padding": null,
            "right": null,
            "top": null,
            "visibility": null,
            "width": null
          }
        },
        "412e0eb965a44e6d90ad809765f2dc90": {
          "model_module": "@jupyter-widgets/controls",
          "model_name": "DescriptionStyleModel",
          "model_module_version": "1.5.0",
          "state": {
            "_model_module": "@jupyter-widgets/controls",
            "_model_module_version": "1.5.0",
            "_model_name": "DescriptionStyleModel",
            "_view_count": null,
            "_view_module": "@jupyter-widgets/base",
            "_view_module_version": "1.2.0",
            "_view_name": "StyleView",
            "description_width": ""
          }
        },
        "9b04a098b69e4a0a8633d6ffc49cc0ee": {
          "model_module": "@jupyter-widgets/controls",
          "model_name": "HBoxModel",
          "model_module_version": "1.5.0",
          "state": {
            "_dom_classes": [],
            "_model_module": "@jupyter-widgets/controls",
            "_model_module_version": "1.5.0",
            "_model_name": "HBoxModel",
            "_view_count": null,
            "_view_module": "@jupyter-widgets/controls",
            "_view_module_version": "1.5.0",
            "_view_name": "HBoxView",
            "box_style": "",
            "children": [
              "IPY_MODEL_4cdea14601944aca8864e547bb6346ea",
              "IPY_MODEL_b4721c88ad464462a3e4b5bc6d5579b7",
              "IPY_MODEL_9a60389cc52b46899a971394ce232b8c"
            ],
            "layout": "IPY_MODEL_f1520b6550fe4f3ca1bd1ae0d9044a4c"
          }
        },
        "4cdea14601944aca8864e547bb6346ea": {
          "model_module": "@jupyter-widgets/controls",
          "model_name": "HTMLModel",
          "model_module_version": "1.5.0",
          "state": {
            "_dom_classes": [],
            "_model_module": "@jupyter-widgets/controls",
            "_model_module_version": "1.5.0",
            "_model_name": "HTMLModel",
            "_view_count": null,
            "_view_module": "@jupyter-widgets/controls",
            "_view_module_version": "1.5.0",
            "_view_name": "HTMLView",
            "description": "",
            "description_tooltip": null,
            "layout": "IPY_MODEL_c843639c38fa436b97ca712ab3f811f6",
            "placeholder": "​",
            "style": "IPY_MODEL_39de05b2f9534cbaac27a865407eae8c",
            "value": "model.safetensors: 100%"
          }
        },
        "b4721c88ad464462a3e4b5bc6d5579b7": {
          "model_module": "@jupyter-widgets/controls",
          "model_name": "FloatProgressModel",
          "model_module_version": "1.5.0",
          "state": {
            "_dom_classes": [],
            "_model_module": "@jupyter-widgets/controls",
            "_model_module_version": "1.5.0",
            "_model_name": "FloatProgressModel",
            "_view_count": null,
            "_view_module": "@jupyter-widgets/controls",
            "_view_module_version": "1.5.0",
            "_view_name": "ProgressView",
            "bar_style": "success",
            "description": "",
            "description_tooltip": null,
            "layout": "IPY_MODEL_8e9e772f5ff94084b09e65d8b0431361",
            "max": 1334400964,
            "min": 0,
            "orientation": "horizontal",
            "style": "IPY_MODEL_ec08cfde9fb34ea39cd7d23128a2826b",
            "value": 1334400964
          }
        },
        "9a60389cc52b46899a971394ce232b8c": {
          "model_module": "@jupyter-widgets/controls",
          "model_name": "HTMLModel",
          "model_module_version": "1.5.0",
          "state": {
            "_dom_classes": [],
            "_model_module": "@jupyter-widgets/controls",
            "_model_module_version": "1.5.0",
            "_model_name": "HTMLModel",
            "_view_count": null,
            "_view_module": "@jupyter-widgets/controls",
            "_view_module_version": "1.5.0",
            "_view_name": "HTMLView",
            "description": "",
            "description_tooltip": null,
            "layout": "IPY_MODEL_2061c9fafcef4eda82f9f0ec0b448bdf",
            "placeholder": "​",
            "style": "IPY_MODEL_43ca45911be24169ad1600aec75cc905",
            "value": " 1.33G/1.33G [00:13&lt;00:00, 99.4MB/s]"
          }
        },
        "f1520b6550fe4f3ca1bd1ae0d9044a4c": {
          "model_module": "@jupyter-widgets/base",
          "model_name": "LayoutModel",
          "model_module_version": "1.2.0",
          "state": {
            "_model_module": "@jupyter-widgets/base",
            "_model_module_version": "1.2.0",
            "_model_name": "LayoutModel",
            "_view_count": null,
            "_view_module": "@jupyter-widgets/base",
            "_view_module_version": "1.2.0",
            "_view_name": "LayoutView",
            "align_content": null,
            "align_items": null,
            "align_self": null,
            "border": null,
            "bottom": null,
            "display": null,
            "flex": null,
            "flex_flow": null,
            "grid_area": null,
            "grid_auto_columns": null,
            "grid_auto_flow": null,
            "grid_auto_rows": null,
            "grid_column": null,
            "grid_gap": null,
            "grid_row": null,
            "grid_template_areas": null,
            "grid_template_columns": null,
            "grid_template_rows": null,
            "height": null,
            "justify_content": null,
            "justify_items": null,
            "left": null,
            "margin": null,
            "max_height": null,
            "max_width": null,
            "min_height": null,
            "min_width": null,
            "object_fit": null,
            "object_position": null,
            "order": null,
            "overflow": null,
            "overflow_x": null,
            "overflow_y": null,
            "padding": null,
            "right": null,
            "top": null,
            "visibility": null,
            "width": null
          }
        },
        "c843639c38fa436b97ca712ab3f811f6": {
          "model_module": "@jupyter-widgets/base",
          "model_name": "LayoutModel",
          "model_module_version": "1.2.0",
          "state": {
            "_model_module": "@jupyter-widgets/base",
            "_model_module_version": "1.2.0",
            "_model_name": "LayoutModel",
            "_view_count": null,
            "_view_module": "@jupyter-widgets/base",
            "_view_module_version": "1.2.0",
            "_view_name": "LayoutView",
            "align_content": null,
            "align_items": null,
            "align_self": null,
            "border": null,
            "bottom": null,
            "display": null,
            "flex": null,
            "flex_flow": null,
            "grid_area": null,
            "grid_auto_columns": null,
            "grid_auto_flow": null,
            "grid_auto_rows": null,
            "grid_column": null,
            "grid_gap": null,
            "grid_row": null,
            "grid_template_areas": null,
            "grid_template_columns": null,
            "grid_template_rows": null,
            "height": null,
            "justify_content": null,
            "justify_items": null,
            "left": null,
            "margin": null,
            "max_height": null,
            "max_width": null,
            "min_height": null,
            "min_width": null,
            "object_fit": null,
            "object_position": null,
            "order": null,
            "overflow": null,
            "overflow_x": null,
            "overflow_y": null,
            "padding": null,
            "right": null,
            "top": null,
            "visibility": null,
            "width": null
          }
        },
        "39de05b2f9534cbaac27a865407eae8c": {
          "model_module": "@jupyter-widgets/controls",
          "model_name": "DescriptionStyleModel",
          "model_module_version": "1.5.0",
          "state": {
            "_model_module": "@jupyter-widgets/controls",
            "_model_module_version": "1.5.0",
            "_model_name": "DescriptionStyleModel",
            "_view_count": null,
            "_view_module": "@jupyter-widgets/base",
            "_view_module_version": "1.2.0",
            "_view_name": "StyleView",
            "description_width": ""
          }
        },
        "8e9e772f5ff94084b09e65d8b0431361": {
          "model_module": "@jupyter-widgets/base",
          "model_name": "LayoutModel",
          "model_module_version": "1.2.0",
          "state": {
            "_model_module": "@jupyter-widgets/base",
            "_model_module_version": "1.2.0",
            "_model_name": "LayoutModel",
            "_view_count": null,
            "_view_module": "@jupyter-widgets/base",
            "_view_module_version": "1.2.0",
            "_view_name": "LayoutView",
            "align_content": null,
            "align_items": null,
            "align_self": null,
            "border": null,
            "bottom": null,
            "display": null,
            "flex": null,
            "flex_flow": null,
            "grid_area": null,
            "grid_auto_columns": null,
            "grid_auto_flow": null,
            "grid_auto_rows": null,
            "grid_column": null,
            "grid_gap": null,
            "grid_row": null,
            "grid_template_areas": null,
            "grid_template_columns": null,
            "grid_template_rows": null,
            "height": null,
            "justify_content": null,
            "justify_items": null,
            "left": null,
            "margin": null,
            "max_height": null,
            "max_width": null,
            "min_height": null,
            "min_width": null,
            "object_fit": null,
            "object_position": null,
            "order": null,
            "overflow": null,
            "overflow_x": null,
            "overflow_y": null,
            "padding": null,
            "right": null,
            "top": null,
            "visibility": null,
            "width": null
          }
        },
        "ec08cfde9fb34ea39cd7d23128a2826b": {
          "model_module": "@jupyter-widgets/controls",
          "model_name": "ProgressStyleModel",
          "model_module_version": "1.5.0",
          "state": {
            "_model_module": "@jupyter-widgets/controls",
            "_model_module_version": "1.5.0",
            "_model_name": "ProgressStyleModel",
            "_view_count": null,
            "_view_module": "@jupyter-widgets/base",
            "_view_module_version": "1.2.0",
            "_view_name": "StyleView",
            "bar_color": null,
            "description_width": ""
          }
        },
        "2061c9fafcef4eda82f9f0ec0b448bdf": {
          "model_module": "@jupyter-widgets/base",
          "model_name": "LayoutModel",
          "model_module_version": "1.2.0",
          "state": {
            "_model_module": "@jupyter-widgets/base",
            "_model_module_version": "1.2.0",
            "_model_name": "LayoutModel",
            "_view_count": null,
            "_view_module": "@jupyter-widgets/base",
            "_view_module_version": "1.2.0",
            "_view_name": "LayoutView",
            "align_content": null,
            "align_items": null,
            "align_self": null,
            "border": null,
            "bottom": null,
            "display": null,
            "flex": null,
            "flex_flow": null,
            "grid_area": null,
            "grid_auto_columns": null,
            "grid_auto_flow": null,
            "grid_auto_rows": null,
            "grid_column": null,
            "grid_gap": null,
            "grid_row": null,
            "grid_template_areas": null,
            "grid_template_columns": null,
            "grid_template_rows": null,
            "height": null,
            "justify_content": null,
            "justify_items": null,
            "left": null,
            "margin": null,
            "max_height": null,
            "max_width": null,
            "min_height": null,
            "min_width": null,
            "object_fit": null,
            "object_position": null,
            "order": null,
            "overflow": null,
            "overflow_x": null,
            "overflow_y": null,
            "padding": null,
            "right": null,
            "top": null,
            "visibility": null,
            "width": null
          }
        },
        "43ca45911be24169ad1600aec75cc905": {
          "model_module": "@jupyter-widgets/controls",
          "model_name": "DescriptionStyleModel",
          "model_module_version": "1.5.0",
          "state": {
            "_model_module": "@jupyter-widgets/controls",
            "_model_module_version": "1.5.0",
            "_model_name": "DescriptionStyleModel",
            "_view_count": null,
            "_view_module": "@jupyter-widgets/base",
            "_view_module_version": "1.2.0",
            "_view_name": "StyleView",
            "description_width": ""
          }
        },
        "a87a392564ef42f1972590ca31ff8f15": {
          "model_module": "@jupyter-widgets/controls",
          "model_name": "HBoxModel",
          "model_module_version": "1.5.0",
          "state": {
            "_dom_classes": [],
            "_model_module": "@jupyter-widgets/controls",
            "_model_module_version": "1.5.0",
            "_model_name": "HBoxModel",
            "_view_count": null,
            "_view_module": "@jupyter-widgets/controls",
            "_view_module_version": "1.5.0",
            "_view_name": "HBoxView",
            "box_style": "",
            "children": [
              "IPY_MODEL_7228ccd6d34b4240ad3bc053f2766484",
              "IPY_MODEL_73d3e023a5b54421ae043791537591da",
              "IPY_MODEL_10e4c948441d49d684f5fba43870a43a"
            ],
            "layout": "IPY_MODEL_28bfcb8c14e54047bbe4b7f5bde5b3b5"
          }
        },
        "7228ccd6d34b4240ad3bc053f2766484": {
          "model_module": "@jupyter-widgets/controls",
          "model_name": "HTMLModel",
          "model_module_version": "1.5.0",
          "state": {
            "_dom_classes": [],
            "_model_module": "@jupyter-widgets/controls",
            "_model_module_version": "1.5.0",
            "_model_name": "HTMLModel",
            "_view_count": null,
            "_view_module": "@jupyter-widgets/controls",
            "_view_module_version": "1.5.0",
            "_view_name": "HTMLView",
            "description": "",
            "description_tooltip": null,
            "layout": "IPY_MODEL_71cf546fe3244d2996fa2f09810d326b",
            "placeholder": "​",
            "style": "IPY_MODEL_e5d3519ac47748b08e8f3bf1192b4de3",
            "value": "tokenizer_config.json: 100%"
          }
        },
        "73d3e023a5b54421ae043791537591da": {
          "model_module": "@jupyter-widgets/controls",
          "model_name": "FloatProgressModel",
          "model_module_version": "1.5.0",
          "state": {
            "_dom_classes": [],
            "_model_module": "@jupyter-widgets/controls",
            "_model_module_version": "1.5.0",
            "_model_name": "FloatProgressModel",
            "_view_count": null,
            "_view_module": "@jupyter-widgets/controls",
            "_view_module_version": "1.5.0",
            "_view_name": "ProgressView",
            "bar_style": "success",
            "description": "",
            "description_tooltip": null,
            "layout": "IPY_MODEL_5646461c34b64ce68d9521f41d9f8423",
            "max": 60,
            "min": 0,
            "orientation": "horizontal",
            "style": "IPY_MODEL_57fa8fac3716434d8ddc746e767ef599",
            "value": 60
          }
        },
        "10e4c948441d49d684f5fba43870a43a": {
          "model_module": "@jupyter-widgets/controls",
          "model_name": "HTMLModel",
          "model_module_version": "1.5.0",
          "state": {
            "_dom_classes": [],
            "_model_module": "@jupyter-widgets/controls",
            "_model_module_version": "1.5.0",
            "_model_name": "HTMLModel",
            "_view_count": null,
            "_view_module": "@jupyter-widgets/controls",
            "_view_module_version": "1.5.0",
            "_view_name": "HTMLView",
            "description": "",
            "description_tooltip": null,
            "layout": "IPY_MODEL_aa8634e24f484392b84b5d9b1b7ea96e",
            "placeholder": "​",
            "style": "IPY_MODEL_d34135b9dd064f72848dd1411dc3b3ca",
            "value": " 60.0/60.0 [00:00&lt;00:00, 1.17kB/s]"
          }
        },
        "28bfcb8c14e54047bbe4b7f5bde5b3b5": {
          "model_module": "@jupyter-widgets/base",
          "model_name": "LayoutModel",
          "model_module_version": "1.2.0",
          "state": {
            "_model_module": "@jupyter-widgets/base",
            "_model_module_version": "1.2.0",
            "_model_name": "LayoutModel",
            "_view_count": null,
            "_view_module": "@jupyter-widgets/base",
            "_view_module_version": "1.2.0",
            "_view_name": "LayoutView",
            "align_content": null,
            "align_items": null,
            "align_self": null,
            "border": null,
            "bottom": null,
            "display": null,
            "flex": null,
            "flex_flow": null,
            "grid_area": null,
            "grid_auto_columns": null,
            "grid_auto_flow": null,
            "grid_auto_rows": null,
            "grid_column": null,
            "grid_gap": null,
            "grid_row": null,
            "grid_template_areas": null,
            "grid_template_columns": null,
            "grid_template_rows": null,
            "height": null,
            "justify_content": null,
            "justify_items": null,
            "left": null,
            "margin": null,
            "max_height": null,
            "max_width": null,
            "min_height": null,
            "min_width": null,
            "object_fit": null,
            "object_position": null,
            "order": null,
            "overflow": null,
            "overflow_x": null,
            "overflow_y": null,
            "padding": null,
            "right": null,
            "top": null,
            "visibility": null,
            "width": null
          }
        },
        "71cf546fe3244d2996fa2f09810d326b": {
          "model_module": "@jupyter-widgets/base",
          "model_name": "LayoutModel",
          "model_module_version": "1.2.0",
          "state": {
            "_model_module": "@jupyter-widgets/base",
            "_model_module_version": "1.2.0",
            "_model_name": "LayoutModel",
            "_view_count": null,
            "_view_module": "@jupyter-widgets/base",
            "_view_module_version": "1.2.0",
            "_view_name": "LayoutView",
            "align_content": null,
            "align_items": null,
            "align_self": null,
            "border": null,
            "bottom": null,
            "display": null,
            "flex": null,
            "flex_flow": null,
            "grid_area": null,
            "grid_auto_columns": null,
            "grid_auto_flow": null,
            "grid_auto_rows": null,
            "grid_column": null,
            "grid_gap": null,
            "grid_row": null,
            "grid_template_areas": null,
            "grid_template_columns": null,
            "grid_template_rows": null,
            "height": null,
            "justify_content": null,
            "justify_items": null,
            "left": null,
            "margin": null,
            "max_height": null,
            "max_width": null,
            "min_height": null,
            "min_width": null,
            "object_fit": null,
            "object_position": null,
            "order": null,
            "overflow": null,
            "overflow_x": null,
            "overflow_y": null,
            "padding": null,
            "right": null,
            "top": null,
            "visibility": null,
            "width": null
          }
        },
        "e5d3519ac47748b08e8f3bf1192b4de3": {
          "model_module": "@jupyter-widgets/controls",
          "model_name": "DescriptionStyleModel",
          "model_module_version": "1.5.0",
          "state": {
            "_model_module": "@jupyter-widgets/controls",
            "_model_module_version": "1.5.0",
            "_model_name": "DescriptionStyleModel",
            "_view_count": null,
            "_view_module": "@jupyter-widgets/base",
            "_view_module_version": "1.2.0",
            "_view_name": "StyleView",
            "description_width": ""
          }
        },
        "5646461c34b64ce68d9521f41d9f8423": {
          "model_module": "@jupyter-widgets/base",
          "model_name": "LayoutModel",
          "model_module_version": "1.2.0",
          "state": {
            "_model_module": "@jupyter-widgets/base",
            "_model_module_version": "1.2.0",
            "_model_name": "LayoutModel",
            "_view_count": null,
            "_view_module": "@jupyter-widgets/base",
            "_view_module_version": "1.2.0",
            "_view_name": "LayoutView",
            "align_content": null,
            "align_items": null,
            "align_self": null,
            "border": null,
            "bottom": null,
            "display": null,
            "flex": null,
            "flex_flow": null,
            "grid_area": null,
            "grid_auto_columns": null,
            "grid_auto_flow": null,
            "grid_auto_rows": null,
            "grid_column": null,
            "grid_gap": null,
            "grid_row": null,
            "grid_template_areas": null,
            "grid_template_columns": null,
            "grid_template_rows": null,
            "height": null,
            "justify_content": null,
            "justify_items": null,
            "left": null,
            "margin": null,
            "max_height": null,
            "max_width": null,
            "min_height": null,
            "min_width": null,
            "object_fit": null,
            "object_position": null,
            "order": null,
            "overflow": null,
            "overflow_x": null,
            "overflow_y": null,
            "padding": null,
            "right": null,
            "top": null,
            "visibility": null,
            "width": null
          }
        },
        "57fa8fac3716434d8ddc746e767ef599": {
          "model_module": "@jupyter-widgets/controls",
          "model_name": "ProgressStyleModel",
          "model_module_version": "1.5.0",
          "state": {
            "_model_module": "@jupyter-widgets/controls",
            "_model_module_version": "1.5.0",
            "_model_name": "ProgressStyleModel",
            "_view_count": null,
            "_view_module": "@jupyter-widgets/base",
            "_view_module_version": "1.2.0",
            "_view_name": "StyleView",
            "bar_color": null,
            "description_width": ""
          }
        },
        "aa8634e24f484392b84b5d9b1b7ea96e": {
          "model_module": "@jupyter-widgets/base",
          "model_name": "LayoutModel",
          "model_module_version": "1.2.0",
          "state": {
            "_model_module": "@jupyter-widgets/base",
            "_model_module_version": "1.2.0",
            "_model_name": "LayoutModel",
            "_view_count": null,
            "_view_module": "@jupyter-widgets/base",
            "_view_module_version": "1.2.0",
            "_view_name": "LayoutView",
            "align_content": null,
            "align_items": null,
            "align_self": null,
            "border": null,
            "bottom": null,
            "display": null,
            "flex": null,
            "flex_flow": null,
            "grid_area": null,
            "grid_auto_columns": null,
            "grid_auto_flow": null,
            "grid_auto_rows": null,
            "grid_column": null,
            "grid_gap": null,
            "grid_row": null,
            "grid_template_areas": null,
            "grid_template_columns": null,
            "grid_template_rows": null,
            "height": null,
            "justify_content": null,
            "justify_items": null,
            "left": null,
            "margin": null,
            "max_height": null,
            "max_width": null,
            "min_height": null,
            "min_width": null,
            "object_fit": null,
            "object_position": null,
            "order": null,
            "overflow": null,
            "overflow_x": null,
            "overflow_y": null,
            "padding": null,
            "right": null,
            "top": null,
            "visibility": null,
            "width": null
          }
        },
        "d34135b9dd064f72848dd1411dc3b3ca": {
          "model_module": "@jupyter-widgets/controls",
          "model_name": "DescriptionStyleModel",
          "model_module_version": "1.5.0",
          "state": {
            "_model_module": "@jupyter-widgets/controls",
            "_model_module_version": "1.5.0",
            "_model_name": "DescriptionStyleModel",
            "_view_count": null,
            "_view_module": "@jupyter-widgets/base",
            "_view_module_version": "1.2.0",
            "_view_name": "StyleView",
            "description_width": ""
          }
        },
        "b6b03140c8954e7e9880992b9f2e974c": {
          "model_module": "@jupyter-widgets/controls",
          "model_name": "HBoxModel",
          "model_module_version": "1.5.0",
          "state": {
            "_dom_classes": [],
            "_model_module": "@jupyter-widgets/controls",
            "_model_module_version": "1.5.0",
            "_model_name": "HBoxModel",
            "_view_count": null,
            "_view_module": "@jupyter-widgets/controls",
            "_view_module_version": "1.5.0",
            "_view_name": "HBoxView",
            "box_style": "",
            "children": [
              "IPY_MODEL_ad158f6c11184388ad93aae001bb91f4",
              "IPY_MODEL_49f0bb227362435988e4e6a78db208b4",
              "IPY_MODEL_4613dddce7e3420c897466708a9ec513"
            ],
            "layout": "IPY_MODEL_6d397f3f054045639ddd386b0ceb9f59"
          }
        },
        "ad158f6c11184388ad93aae001bb91f4": {
          "model_module": "@jupyter-widgets/controls",
          "model_name": "HTMLModel",
          "model_module_version": "1.5.0",
          "state": {
            "_dom_classes": [],
            "_model_module": "@jupyter-widgets/controls",
            "_model_module_version": "1.5.0",
            "_model_name": "HTMLModel",
            "_view_count": null,
            "_view_module": "@jupyter-widgets/controls",
            "_view_module_version": "1.5.0",
            "_view_name": "HTMLView",
            "description": "",
            "description_tooltip": null,
            "layout": "IPY_MODEL_550b010a9a874a26b52d5f48c73e7cbe",
            "placeholder": "​",
            "style": "IPY_MODEL_8edeb657ef8d4de9a412b560602c2150",
            "value": "vocab.txt: 100%"
          }
        },
        "49f0bb227362435988e4e6a78db208b4": {
          "model_module": "@jupyter-widgets/controls",
          "model_name": "FloatProgressModel",
          "model_module_version": "1.5.0",
          "state": {
            "_dom_classes": [],
            "_model_module": "@jupyter-widgets/controls",
            "_model_module_version": "1.5.0",
            "_model_name": "FloatProgressModel",
            "_view_count": null,
            "_view_module": "@jupyter-widgets/controls",
            "_view_module_version": "1.5.0",
            "_view_name": "ProgressView",
            "bar_style": "success",
            "description": "",
            "description_tooltip": null,
            "layout": "IPY_MODEL_bd2e94718e554a528be9d70a8a389c0a",
            "max": 213450,
            "min": 0,
            "orientation": "horizontal",
            "style": "IPY_MODEL_08da5ba33bc64f1490d5e0375f5274ba",
            "value": 213450
          }
        },
        "4613dddce7e3420c897466708a9ec513": {
          "model_module": "@jupyter-widgets/controls",
          "model_name": "HTMLModel",
          "model_module_version": "1.5.0",
          "state": {
            "_dom_classes": [],
            "_model_module": "@jupyter-widgets/controls",
            "_model_module_version": "1.5.0",
            "_model_name": "HTMLModel",
            "_view_count": null,
            "_view_module": "@jupyter-widgets/controls",
            "_view_module_version": "1.5.0",
            "_view_name": "HTMLView",
            "description": "",
            "description_tooltip": null,
            "layout": "IPY_MODEL_402faaaafefc436c868f62adcad71d8f",
            "placeholder": "​",
            "style": "IPY_MODEL_1e2b072f362f42e094658ffa25b4bb91",
            "value": " 213k/213k [00:00&lt;00:00, 6.37MB/s]"
          }
        },
        "6d397f3f054045639ddd386b0ceb9f59": {
          "model_module": "@jupyter-widgets/base",
          "model_name": "LayoutModel",
          "model_module_version": "1.2.0",
          "state": {
            "_model_module": "@jupyter-widgets/base",
            "_model_module_version": "1.2.0",
            "_model_name": "LayoutModel",
            "_view_count": null,
            "_view_module": "@jupyter-widgets/base",
            "_view_module_version": "1.2.0",
            "_view_name": "LayoutView",
            "align_content": null,
            "align_items": null,
            "align_self": null,
            "border": null,
            "bottom": null,
            "display": null,
            "flex": null,
            "flex_flow": null,
            "grid_area": null,
            "grid_auto_columns": null,
            "grid_auto_flow": null,
            "grid_auto_rows": null,
            "grid_column": null,
            "grid_gap": null,
            "grid_row": null,
            "grid_template_areas": null,
            "grid_template_columns": null,
            "grid_template_rows": null,
            "height": null,
            "justify_content": null,
            "justify_items": null,
            "left": null,
            "margin": null,
            "max_height": null,
            "max_width": null,
            "min_height": null,
            "min_width": null,
            "object_fit": null,
            "object_position": null,
            "order": null,
            "overflow": null,
            "overflow_x": null,
            "overflow_y": null,
            "padding": null,
            "right": null,
            "top": null,
            "visibility": null,
            "width": null
          }
        },
        "550b010a9a874a26b52d5f48c73e7cbe": {
          "model_module": "@jupyter-widgets/base",
          "model_name": "LayoutModel",
          "model_module_version": "1.2.0",
          "state": {
            "_model_module": "@jupyter-widgets/base",
            "_model_module_version": "1.2.0",
            "_model_name": "LayoutModel",
            "_view_count": null,
            "_view_module": "@jupyter-widgets/base",
            "_view_module_version": "1.2.0",
            "_view_name": "LayoutView",
            "align_content": null,
            "align_items": null,
            "align_self": null,
            "border": null,
            "bottom": null,
            "display": null,
            "flex": null,
            "flex_flow": null,
            "grid_area": null,
            "grid_auto_columns": null,
            "grid_auto_flow": null,
            "grid_auto_rows": null,
            "grid_column": null,
            "grid_gap": null,
            "grid_row": null,
            "grid_template_areas": null,
            "grid_template_columns": null,
            "grid_template_rows": null,
            "height": null,
            "justify_content": null,
            "justify_items": null,
            "left": null,
            "margin": null,
            "max_height": null,
            "max_width": null,
            "min_height": null,
            "min_width": null,
            "object_fit": null,
            "object_position": null,
            "order": null,
            "overflow": null,
            "overflow_x": null,
            "overflow_y": null,
            "padding": null,
            "right": null,
            "top": null,
            "visibility": null,
            "width": null
          }
        },
        "8edeb657ef8d4de9a412b560602c2150": {
          "model_module": "@jupyter-widgets/controls",
          "model_name": "DescriptionStyleModel",
          "model_module_version": "1.5.0",
          "state": {
            "_model_module": "@jupyter-widgets/controls",
            "_model_module_version": "1.5.0",
            "_model_name": "DescriptionStyleModel",
            "_view_count": null,
            "_view_module": "@jupyter-widgets/base",
            "_view_module_version": "1.2.0",
            "_view_name": "StyleView",
            "description_width": ""
          }
        },
        "bd2e94718e554a528be9d70a8a389c0a": {
          "model_module": "@jupyter-widgets/base",
          "model_name": "LayoutModel",
          "model_module_version": "1.2.0",
          "state": {
            "_model_module": "@jupyter-widgets/base",
            "_model_module_version": "1.2.0",
            "_model_name": "LayoutModel",
            "_view_count": null,
            "_view_module": "@jupyter-widgets/base",
            "_view_module_version": "1.2.0",
            "_view_name": "LayoutView",
            "align_content": null,
            "align_items": null,
            "align_self": null,
            "border": null,
            "bottom": null,
            "display": null,
            "flex": null,
            "flex_flow": null,
            "grid_area": null,
            "grid_auto_columns": null,
            "grid_auto_flow": null,
            "grid_auto_rows": null,
            "grid_column": null,
            "grid_gap": null,
            "grid_row": null,
            "grid_template_areas": null,
            "grid_template_columns": null,
            "grid_template_rows": null,
            "height": null,
            "justify_content": null,
            "justify_items": null,
            "left": null,
            "margin": null,
            "max_height": null,
            "max_width": null,
            "min_height": null,
            "min_width": null,
            "object_fit": null,
            "object_position": null,
            "order": null,
            "overflow": null,
            "overflow_x": null,
            "overflow_y": null,
            "padding": null,
            "right": null,
            "top": null,
            "visibility": null,
            "width": null
          }
        },
        "08da5ba33bc64f1490d5e0375f5274ba": {
          "model_module": "@jupyter-widgets/controls",
          "model_name": "ProgressStyleModel",
          "model_module_version": "1.5.0",
          "state": {
            "_model_module": "@jupyter-widgets/controls",
            "_model_module_version": "1.5.0",
            "_model_name": "ProgressStyleModel",
            "_view_count": null,
            "_view_module": "@jupyter-widgets/base",
            "_view_module_version": "1.2.0",
            "_view_name": "StyleView",
            "bar_color": null,
            "description_width": ""
          }
        },
        "402faaaafefc436c868f62adcad71d8f": {
          "model_module": "@jupyter-widgets/base",
          "model_name": "LayoutModel",
          "model_module_version": "1.2.0",
          "state": {
            "_model_module": "@jupyter-widgets/base",
            "_model_module_version": "1.2.0",
            "_model_name": "LayoutModel",
            "_view_count": null,
            "_view_module": "@jupyter-widgets/base",
            "_view_module_version": "1.2.0",
            "_view_name": "LayoutView",
            "align_content": null,
            "align_items": null,
            "align_self": null,
            "border": null,
            "bottom": null,
            "display": null,
            "flex": null,
            "flex_flow": null,
            "grid_area": null,
            "grid_auto_columns": null,
            "grid_auto_flow": null,
            "grid_auto_rows": null,
            "grid_column": null,
            "grid_gap": null,
            "grid_row": null,
            "grid_template_areas": null,
            "grid_template_columns": null,
            "grid_template_rows": null,
            "height": null,
            "justify_content": null,
            "justify_items": null,
            "left": null,
            "margin": null,
            "max_height": null,
            "max_width": null,
            "min_height": null,
            "min_width": null,
            "object_fit": null,
            "object_position": null,
            "order": null,
            "overflow": null,
            "overflow_x": null,
            "overflow_y": null,
            "padding": null,
            "right": null,
            "top": null,
            "visibility": null,
            "width": null
          }
        },
        "1e2b072f362f42e094658ffa25b4bb91": {
          "model_module": "@jupyter-widgets/controls",
          "model_name": "DescriptionStyleModel",
          "model_module_version": "1.5.0",
          "state": {
            "_model_module": "@jupyter-widgets/controls",
            "_model_module_version": "1.5.0",
            "_model_name": "DescriptionStyleModel",
            "_view_count": null,
            "_view_module": "@jupyter-widgets/base",
            "_view_module_version": "1.2.0",
            "_view_name": "StyleView",
            "description_width": ""
          }
        }
      }
    }
  },
  "cells": [
    {
      "cell_type": "code",
      "execution_count": null,
      "metadata": {
        "id": "nZrGf_52INOI"
      },
      "outputs": [],
      "source": [
        "from google.colab import drive\n",
        "import pandas as pd"
      ]
    },
    {
      "cell_type": "code",
      "source": [
        "drive.mount('/content/drive')"
      ],
      "metadata": {
        "colab": {
          "base_uri": "https://localhost:8080/"
        },
        "id": "zHXu1474IUgb",
        "outputId": "ed41725e-fec1-4490-8c56-367c1d3e4847"
      },
      "execution_count": null,
      "outputs": [
        {
          "output_type": "stream",
          "name": "stdout",
          "text": [
            "Mounted at /content/drive\n"
          ]
        }
      ]
    },
    {
      "cell_type": "code",
      "source": [
        "import pandas as pd\n",
        "\n",
        "csv_file_path = '/content/drive/MyDrive/Colab Notebooks/data/processed/random_selected_articles_summaries_gpt.csv'"
      ],
      "metadata": {
        "id": "Wa5fHv8UIXCh"
      },
      "execution_count": null,
      "outputs": []
    },
    {
      "cell_type": "code",
      "source": [
        "df = pd.read_csv(csv_file_path)"
      ],
      "metadata": {
        "id": "suO1aBx3ImMZ"
      },
      "execution_count": null,
      "outputs": []
    },
    {
      "cell_type": "code",
      "source": [
        "df.head()"
      ],
      "metadata": {
        "colab": {
          "base_uri": "https://localhost:8080/",
          "height": 206
        },
        "id": "jw6Z0zkCIvn7",
        "outputId": "ac127259-2f82-4854-b6eb-49d2302327a1"
      },
      "execution_count": null,
      "outputs": [
        {
          "output_type": "execute_result",
          "data": {
            "text/plain": [
              "                                               title  \\\n",
              "0  Poland abortion: Polish women look for help in...   \n",
              "1  Hong Kong Cardinal advocates for promoting a c...   \n",
              "2  Sex Education in the Philippines - The Borgen ...   \n",
              "3  When a fetal scan showed problems, she fled Id...   \n",
              "4  Prioritizing the Neglected Areas of SRHR in Ca...   \n",
              "\n",
              "                                     cleaned_article  \\\n",
              "0  Poland abortion Polish women look for help in ...   \n",
              "1  Hong Kong Cardinal advocates for promoting a c...   \n",
              "2  Sex Education in the Philippines - The Borgen ...   \n",
              "3  When a fetal scan showed problems, she fled Id...   \n",
              "4  Prioritizing the Neglected Areas of SRHR in Ca...   \n",
              "\n",
              "                                             summary  \n",
              "0  Poland’s recent near-total abortion ban has dr...  \n",
              "1  In his message for Pro-Life Day 2020, Cardinal...  \n",
              "2  Sex education in the Philippines is aimed at e...  \n",
              "3  Jillaine St. Michel, a 37-year-old Idaho resid...  \n",
              "4  The policy brief from Action Canada for Sexual...  "
            ],
            "text/html": [
              "\n",
              "  <div id=\"df-6ed31346-333d-4dc5-883c-7259e242c994\" class=\"colab-df-container\">\n",
              "    <div>\n",
              "<style scoped>\n",
              "    .dataframe tbody tr th:only-of-type {\n",
              "        vertical-align: middle;\n",
              "    }\n",
              "\n",
              "    .dataframe tbody tr th {\n",
              "        vertical-align: top;\n",
              "    }\n",
              "\n",
              "    .dataframe thead th {\n",
              "        text-align: right;\n",
              "    }\n",
              "</style>\n",
              "<table border=\"1\" class=\"dataframe\">\n",
              "  <thead>\n",
              "    <tr style=\"text-align: right;\">\n",
              "      <th></th>\n",
              "      <th>title</th>\n",
              "      <th>cleaned_article</th>\n",
              "      <th>summary</th>\n",
              "    </tr>\n",
              "  </thead>\n",
              "  <tbody>\n",
              "    <tr>\n",
              "      <th>0</th>\n",
              "      <td>Poland abortion: Polish women look for help in...</td>\n",
              "      <td>Poland abortion Polish women look for help in ...</td>\n",
              "      <td>Poland’s recent near-total abortion ban has dr...</td>\n",
              "    </tr>\n",
              "    <tr>\n",
              "      <th>1</th>\n",
              "      <td>Hong Kong Cardinal advocates for promoting a c...</td>\n",
              "      <td>Hong Kong Cardinal advocates for promoting a c...</td>\n",
              "      <td>In his message for Pro-Life Day 2020, Cardinal...</td>\n",
              "    </tr>\n",
              "    <tr>\n",
              "      <th>2</th>\n",
              "      <td>Sex Education in the Philippines - The Borgen ...</td>\n",
              "      <td>Sex Education in the Philippines - The Borgen ...</td>\n",
              "      <td>Sex education in the Philippines is aimed at e...</td>\n",
              "    </tr>\n",
              "    <tr>\n",
              "      <th>3</th>\n",
              "      <td>When a fetal scan showed problems, she fled Id...</td>\n",
              "      <td>When a fetal scan showed problems, she fled Id...</td>\n",
              "      <td>Jillaine St. Michel, a 37-year-old Idaho resid...</td>\n",
              "    </tr>\n",
              "    <tr>\n",
              "      <th>4</th>\n",
              "      <td>Prioritizing the Neglected Areas of SRHR in Ca...</td>\n",
              "      <td>Prioritizing the Neglected Areas of SRHR in Ca...</td>\n",
              "      <td>The policy brief from Action Canada for Sexual...</td>\n",
              "    </tr>\n",
              "  </tbody>\n",
              "</table>\n",
              "</div>\n",
              "    <div class=\"colab-df-buttons\">\n",
              "\n",
              "  <div class=\"colab-df-container\">\n",
              "    <button class=\"colab-df-convert\" onclick=\"convertToInteractive('df-6ed31346-333d-4dc5-883c-7259e242c994')\"\n",
              "            title=\"Convert this dataframe to an interactive table.\"\n",
              "            style=\"display:none;\">\n",
              "\n",
              "  <svg xmlns=\"http://www.w3.org/2000/svg\" height=\"24px\" viewBox=\"0 -960 960 960\">\n",
              "    <path d=\"M120-120v-720h720v720H120Zm60-500h600v-160H180v160Zm220 220h160v-160H400v160Zm0 220h160v-160H400v160ZM180-400h160v-160H180v160Zm440 0h160v-160H620v160ZM180-180h160v-160H180v160Zm440 0h160v-160H620v160Z\"/>\n",
              "  </svg>\n",
              "    </button>\n",
              "\n",
              "  <style>\n",
              "    .colab-df-container {\n",
              "      display:flex;\n",
              "      gap: 12px;\n",
              "    }\n",
              "\n",
              "    .colab-df-convert {\n",
              "      background-color: #E8F0FE;\n",
              "      border: none;\n",
              "      border-radius: 50%;\n",
              "      cursor: pointer;\n",
              "      display: none;\n",
              "      fill: #1967D2;\n",
              "      height: 32px;\n",
              "      padding: 0 0 0 0;\n",
              "      width: 32px;\n",
              "    }\n",
              "\n",
              "    .colab-df-convert:hover {\n",
              "      background-color: #E2EBFA;\n",
              "      box-shadow: 0px 1px 2px rgba(60, 64, 67, 0.3), 0px 1px 3px 1px rgba(60, 64, 67, 0.15);\n",
              "      fill: #174EA6;\n",
              "    }\n",
              "\n",
              "    .colab-df-buttons div {\n",
              "      margin-bottom: 4px;\n",
              "    }\n",
              "\n",
              "    [theme=dark] .colab-df-convert {\n",
              "      background-color: #3B4455;\n",
              "      fill: #D2E3FC;\n",
              "    }\n",
              "\n",
              "    [theme=dark] .colab-df-convert:hover {\n",
              "      background-color: #434B5C;\n",
              "      box-shadow: 0px 1px 3px 1px rgba(0, 0, 0, 0.15);\n",
              "      filter: drop-shadow(0px 1px 2px rgba(0, 0, 0, 0.3));\n",
              "      fill: #FFFFFF;\n",
              "    }\n",
              "  </style>\n",
              "\n",
              "    <script>\n",
              "      const buttonEl =\n",
              "        document.querySelector('#df-6ed31346-333d-4dc5-883c-7259e242c994 button.colab-df-convert');\n",
              "      buttonEl.style.display =\n",
              "        google.colab.kernel.accessAllowed ? 'block' : 'none';\n",
              "\n",
              "      async function convertToInteractive(key) {\n",
              "        const element = document.querySelector('#df-6ed31346-333d-4dc5-883c-7259e242c994');\n",
              "        const dataTable =\n",
              "          await google.colab.kernel.invokeFunction('convertToInteractive',\n",
              "                                                    [key], {});\n",
              "        if (!dataTable) return;\n",
              "\n",
              "        const docLinkHtml = 'Like what you see? Visit the ' +\n",
              "          '<a target=\"_blank\" href=https://colab.research.google.com/notebooks/data_table.ipynb>data table notebook</a>'\n",
              "          + ' to learn more about interactive tables.';\n",
              "        element.innerHTML = '';\n",
              "        dataTable['output_type'] = 'display_data';\n",
              "        await google.colab.output.renderOutput(dataTable, element);\n",
              "        const docLink = document.createElement('div');\n",
              "        docLink.innerHTML = docLinkHtml;\n",
              "        element.appendChild(docLink);\n",
              "      }\n",
              "    </script>\n",
              "  </div>\n",
              "\n",
              "\n",
              "<div id=\"df-8e764df0-916a-494d-b296-21aa53955c2e\">\n",
              "  <button class=\"colab-df-quickchart\" onclick=\"quickchart('df-8e764df0-916a-494d-b296-21aa53955c2e')\"\n",
              "            title=\"Suggest charts\"\n",
              "            style=\"display:none;\">\n",
              "\n",
              "<svg xmlns=\"http://www.w3.org/2000/svg\" height=\"24px\"viewBox=\"0 0 24 24\"\n",
              "     width=\"24px\">\n",
              "    <g>\n",
              "        <path d=\"M19 3H5c-1.1 0-2 .9-2 2v14c0 1.1.9 2 2 2h14c1.1 0 2-.9 2-2V5c0-1.1-.9-2-2-2zM9 17H7v-7h2v7zm4 0h-2V7h2v10zm4 0h-2v-4h2v4z\"/>\n",
              "    </g>\n",
              "</svg>\n",
              "  </button>\n",
              "\n",
              "<style>\n",
              "  .colab-df-quickchart {\n",
              "      --bg-color: #E8F0FE;\n",
              "      --fill-color: #1967D2;\n",
              "      --hover-bg-color: #E2EBFA;\n",
              "      --hover-fill-color: #174EA6;\n",
              "      --disabled-fill-color: #AAA;\n",
              "      --disabled-bg-color: #DDD;\n",
              "  }\n",
              "\n",
              "  [theme=dark] .colab-df-quickchart {\n",
              "      --bg-color: #3B4455;\n",
              "      --fill-color: #D2E3FC;\n",
              "      --hover-bg-color: #434B5C;\n",
              "      --hover-fill-color: #FFFFFF;\n",
              "      --disabled-bg-color: #3B4455;\n",
              "      --disabled-fill-color: #666;\n",
              "  }\n",
              "\n",
              "  .colab-df-quickchart {\n",
              "    background-color: var(--bg-color);\n",
              "    border: none;\n",
              "    border-radius: 50%;\n",
              "    cursor: pointer;\n",
              "    display: none;\n",
              "    fill: var(--fill-color);\n",
              "    height: 32px;\n",
              "    padding: 0;\n",
              "    width: 32px;\n",
              "  }\n",
              "\n",
              "  .colab-df-quickchart:hover {\n",
              "    background-color: var(--hover-bg-color);\n",
              "    box-shadow: 0 1px 2px rgba(60, 64, 67, 0.3), 0 1px 3px 1px rgba(60, 64, 67, 0.15);\n",
              "    fill: var(--button-hover-fill-color);\n",
              "  }\n",
              "\n",
              "  .colab-df-quickchart-complete:disabled,\n",
              "  .colab-df-quickchart-complete:disabled:hover {\n",
              "    background-color: var(--disabled-bg-color);\n",
              "    fill: var(--disabled-fill-color);\n",
              "    box-shadow: none;\n",
              "  }\n",
              "\n",
              "  .colab-df-spinner {\n",
              "    border: 2px solid var(--fill-color);\n",
              "    border-color: transparent;\n",
              "    border-bottom-color: var(--fill-color);\n",
              "    animation:\n",
              "      spin 1s steps(1) infinite;\n",
              "  }\n",
              "\n",
              "  @keyframes spin {\n",
              "    0% {\n",
              "      border-color: transparent;\n",
              "      border-bottom-color: var(--fill-color);\n",
              "      border-left-color: var(--fill-color);\n",
              "    }\n",
              "    20% {\n",
              "      border-color: transparent;\n",
              "      border-left-color: var(--fill-color);\n",
              "      border-top-color: var(--fill-color);\n",
              "    }\n",
              "    30% {\n",
              "      border-color: transparent;\n",
              "      border-left-color: var(--fill-color);\n",
              "      border-top-color: var(--fill-color);\n",
              "      border-right-color: var(--fill-color);\n",
              "    }\n",
              "    40% {\n",
              "      border-color: transparent;\n",
              "      border-right-color: var(--fill-color);\n",
              "      border-top-color: var(--fill-color);\n",
              "    }\n",
              "    60% {\n",
              "      border-color: transparent;\n",
              "      border-right-color: var(--fill-color);\n",
              "    }\n",
              "    80% {\n",
              "      border-color: transparent;\n",
              "      border-right-color: var(--fill-color);\n",
              "      border-bottom-color: var(--fill-color);\n",
              "    }\n",
              "    90% {\n",
              "      border-color: transparent;\n",
              "      border-bottom-color: var(--fill-color);\n",
              "    }\n",
              "  }\n",
              "</style>\n",
              "\n",
              "  <script>\n",
              "    async function quickchart(key) {\n",
              "      const quickchartButtonEl =\n",
              "        document.querySelector('#' + key + ' button');\n",
              "      quickchartButtonEl.disabled = true;  // To prevent multiple clicks.\n",
              "      quickchartButtonEl.classList.add('colab-df-spinner');\n",
              "      try {\n",
              "        const charts = await google.colab.kernel.invokeFunction(\n",
              "            'suggestCharts', [key], {});\n",
              "      } catch (error) {\n",
              "        console.error('Error during call to suggestCharts:', error);\n",
              "      }\n",
              "      quickchartButtonEl.classList.remove('colab-df-spinner');\n",
              "      quickchartButtonEl.classList.add('colab-df-quickchart-complete');\n",
              "    }\n",
              "    (() => {\n",
              "      let quickchartButtonEl =\n",
              "        document.querySelector('#df-8e764df0-916a-494d-b296-21aa53955c2e button');\n",
              "      quickchartButtonEl.style.display =\n",
              "        google.colab.kernel.accessAllowed ? 'block' : 'none';\n",
              "    })();\n",
              "  </script>\n",
              "</div>\n",
              "\n",
              "    </div>\n",
              "  </div>\n"
            ],
            "application/vnd.google.colaboratory.intrinsic+json": {
              "type": "dataframe",
              "variable_name": "df",
              "summary": "{\n  \"name\": \"df\",\n  \"rows\": 293,\n  \"fields\": [\n    {\n      \"column\": \"title\",\n      \"properties\": {\n        \"dtype\": \"string\",\n        \"num_unique_values\": 291,\n        \"samples\": [\n          \"This Really Is a Different Pro-Life Movement - The Atlantic\",\n          \"Public Opinion on Abortion | Pew Research Center\",\n          \"Sahel project helps women raise themselves, their communities from poverty - Chad | ReliefWeb\"\n        ],\n        \"semantic_type\": \"\",\n        \"description\": \"\"\n      }\n    },\n    {\n      \"column\": \"cleaned_article\",\n      \"properties\": {\n        \"dtype\": \"string\",\n        \"num_unique_values\": 291,\n        \"samples\": [\n          \"This Really Is a Different Pro-Life Movement - The AtlanticSkip to contentSite NavigationThe AtlanticPopularLatestNewslettersSectionsPoliticsIdeasFictionTechnologySciencePhotoBusinessCulturePlanetGlobalBooksPodcastsHealthEducationProjectsFeaturesFamilyEventsWashington WeekProgressNewslettersExplore The Atlantic ArchivePlay The Atlantic crosswordThe Print EditionLatest IssuePast IssuesGive a GiftSearch The AtlanticQuick LinksDear TherapistCrossword PuzzleMagazine ArchiveYour SubscriptionPopularLatestNewslettersSign InSubscribeIdeasThis Really Is a Different Pro-Life MovementWhat happened when a campaign led by northern Catholics was captured by southern evangelicalsBy Daniel K. WilliamsNina Berman ReduxMay 9, 2022ShareSave When the Supreme Court issued its landmark abortion-rights decision, Roe v. Wade, in 1973, the most intransigent opponents of the decision were not the legislatures of southern Bible Belt states such as Mississippi and Oklahoma. Indeed, doctors in many southern statesincluding Arkansas, Georgia, North and South Carolina, and Virginiahad been performing legal hospital abortions for at least a few carefully defined therapeutic reasons for years before Roe. The state legislatures that presented the strongest defiance to legalizing abortion were those of the heavily Catholic states of the Northeast. Barely 10 percent of Massachusetts legislators supported legalizing abortion in 1973, according to an archival American Civil Liberties Union document. Instead of permitting the procedure up to the point of viability about 28 weeks at the time, as the Supreme Court mandated, the Massachusetts state legislature responded to Roe by passing a bill prohibiting abortion after the 20th week of pregnancy. Rhode Islands statehouse presented even stronger opposition It kept abortion clinics out of the state until 1975, when its anti-abortion law was overturned by a federal court.Today, of course, Massachusetts and the rest of New England are in the vanguard of states that will protect abortion access ifwhen, as it now appearsRoe v. Wade is rescinded. And many of the southern states that liberalized their abortion laws in the late 1960s and early 1970s are now at the forefront of the movement to restrict abortion.From the May 2022 issue The future of abortion in a post-Roe AmericaThis was not merely a geographic shift, trading one region for another, but a more fundamental transformation of the anti-abortion movements political ideology. In 1973 many of the most vocal opponents of abortion were northern Democrats who believed in an expanded social-welfare state and who wanted to reduce abortion rates through prenatal insurance and federally funded day care. In 2022, most anti-abortion politicians are conservative Republicans who are skeptical of such measures. What happened was a seismic religious and political shift in opposition to abortion that has not occurred in any other Western country.Before the mid-1970s, active opposition to abortion in the United States looked almost exactly like opposition to abortion in Britain, Western Europe, and Australia It was concentrated mainly among Catholics. As late as 1980, 70 percent of the members of the nations largest anti-abortion organization, the National Right to Life Committee, were Catholic. As a result, the states that were most resistant to abortion legalization were, in most cases, the states with the highest concentration of Catholics, most of which were in the North and leaned Democratic.This fit the pattern across the Western world Countries with large numbers of devout Catholics restricted abortion, while those that were predominantly Protestant did not. Swedenwhere Catholics made up less than 1 percent of the populationlegalized some abortions as early as the 1930s Ireland did not follow suit until 2018.If the United States had followed this script, opposition to abortion probably would have weakened with the decline of Catholic-church attendance rates. Like Canada and England, where the leading conservative parties are overwhelmingly supportive of abortion rights, the Republican Party in the United States might have remained what it was for most of the 1970s a heavily Protestant party whose leaders generally leaned in favor of abortion rights.But in the United States, the anti-abortion movement did not remain predominantly Catholic. Southern evangelical Protestants, who had once hesitated to embrace the anti-abortion movement in the belief that it was a sectarian Catholic campaign, began enlisting in the cause in the late 70s and 80s. Motivated by a conviction that Roe v. Wade was a product of liberal social changes they opposedincluding secularization, the sexual revolution, second-wave feminism, and a rights-conscious reading of the Constitutionthey made opposition to the ruling a centerpiece of the new Christian right. When they captured control of the Republican Party in the late 20th century, they transformed the GOP from a northern-centered mainline Protestant party that was moderately friendly to abortion rights into a hotbed of southern populism that blended economic libertarianism with Bible Belt moral regulation.Read Americas blue-red divide is about to get starkerThe change was not instantaneous. Although the Republican Party endorsed an anti-abortion constitutional amendment in its party platform in 1976, partly because of its desire to win over northern Catholics, the party at first gave the idea little more than lip service, and pro-abortion-rights conservatives continued to hold leadership positions in the GOP for several more years. In 1983, the Republican-controlled Senate considered an anti-abortion constitutional amendment, but one-third of Republican senators voted against it, dooming it to defeat. However, as evangelical Protestants from the South acquired a greater controlling interest in the GOP, Republicans had a harder time ignoring their desire to restrict abortion. The crucial change came in the midterm elections of 1994, when southern conservatives gave Republicans the votes they needed to take over both houses of Congress for the first time in 40 years. Newt Gingrichs Contract With America did not mention abortion, but southern evangelicals insisted that the GOP needed to pay attention to the issue. When the 1996 Republican presidential nominee, Bob Dole, attempted to moderate the partys platform statement on abortion, right-wing Christian activists blocked the change.But what really motivated anti-abortion activists to remain loyal to the GOP was not merely a platform statement but the promise of the Supreme Court. They believed that the Republican Party offered them the only path to a conservative judiciary that would overturn Roe v. Wade. If this goal required them to accept a conservative economic platform at odds with the views that many in the movement had held before Roe, well, that was of little matter, because many of the evangelical-Protestant anti-abortion advocates were political conservatives anyway.As late as the beginning of this century, Texas still had a pro-abortion-rights Protestant Republican senator, while Pennsylvania, Michigan, and Minnesota were still represented in Congress by anti-abortion Democrats who were Catholic. But as the historically Catholic population of the North became less devout and therefore less inclined to follow the Churchs teaching on abortionand as a younger generation of progressive Democrats began to view reproductive rights as a nonnegotiable part of the Democratic Party platformanti-abortion influence in the politically liberal states of the Northeast diminished, while it expanded in the South.The anti-abortion movements political priorities changed as a result. A movement that in the early 70s had attracted some political progressives who opposed the Vietnam War and capital punishment became associated in the 80s and 90s with evangelical-inspired conservative-Christian nationalism. Early activists wanted to create a comprehensive culture of life, but many of the evangelicals who joined the movement in the late 20th century wanted to save America from secularism and take back the nation for God.Only a minority of white evangelical Protestants were politically progressive the majority especially in the South were conservative, and they combined their commitment to moral regulation with a faith in free-market economics and opposition to social-welfare spending. American evangelicalism had long been the most individualistic of the nations Christian traditions, and in keeping with that individualistic theology of sin and salvation, most white evangelicals thought that the governments interest in morality extended only to the punishment of individual vice, not the reduction of poverty. Thus, as the anti-abortion movements political influence shifted away from Catholic states toward evangelical-Protestant regions, it abandoned its earlier calls for federal antipoverty programs, expanded maternal-health insurance, and federally funded day care, and instead focused exclusively on the narrower issue of overturning Roe v. Wade and making abortion illegal.Rachel Rebouch and Mary Ziegler Theres no knowing what will happen when Roe fallsA few activists including a number of the northern Catholic veterans of the movement remained committed to poverty relief and a comprehensive culture-of-life ethic, but with the Democratic Partys current unequivocal endorsement of abortion rights, some of them felt politically homeless. Those activists began voting Republican despite their reservations about the partys stances on social-welfare issueswhich brought them into alliance with the southern evangelical conservatives who now had the political power to restrict abortion in their region.The result is the map we have today The states that are most likely to restrict abortion if the Supreme Court overturns Roe are also some of the states with the least generous health-care policies. Half a century ago, many liberal, northern, anti-abortion Democrats saw a connection between poverty reduction and abortion prevention, but today most of those in the southern Bible Belt who oppose abortion do not. They may soon Because abortion rates are very closely correlated with poverty, opponents of the procedure may find reducing its prevalence difficult without expanding Medicaid or enacting other antipoverty measures.The enthusiastic embrace of the movement by white evangelicals in the Bible Belt was key to the movements political success. Yet the association of the movement with a brand of southern evangelical-conservative politics that opposes antipoverty measures may also mean that the repeal of Roe v. Wade wont reduce abortion rates as much as the movement expects. If these activists really want to save unborn lives, they may have to look for guidance not only to the southern conservatives who currently lead the movement but to the northern social-welfare advocates whose voices were once dominant in the movement but whose early influence has long been forgotten.Daniel K. Williams is a senior fellow at the Ashbrook Center at Ashland University. He is the author of The Politics of the Cross A Christian Alternative to Partisanship.\",\n          \"Public Opinion on Abortion Pew Research Center Numbers, Facts and Trends Shaping Your World Newsletters Press Donate My Account Contacted By Us? Read our research on TikTok Podcasts Election 2024 Research Topics All PublicationsMethodsShort ReadsTools ResourcesExpertsAbout Topics Politics PolicyInternational AffairsImmigration MigrationRace EthnicityReligionAge GenerationsGender LGBTQFamily RelationshipsEconomy WorkScienceInternet TechnologyNews Habits MediaMethodological ResearchFull topic list Regions Countries Asia the PacificEurope RussiaLatin AmericaMiddle East North AfricaNorth AmericaSub-Saharan AfricaMultiple Regions Worldwide Formats FeaturesFact SheetsVideosData Essays Research Topics FeaturesFact SheetsVideosData Essays All PublicationsMethodsShort ReadsTools ResourcesExpertsAboutNewslettersPressMy AccountContacted By Us?DONATE Home Research Topics Politics Policy Political Issues Abortion Fact SheetMay 17, 2022 Public Opinion on Abortion For a detailed analysis of Pew Research Centers latest data on the U.S. publics abortion attitudes, see Americas Abortion Quandary. Table of Contents Views on abortion, 1995-2022Views on abortion by religious affiliation, 2022Views on abortion by party identification, 2022Views on abortion by political party and ideology, 2022Views on abortion by gender, 2022Views on abortion by race and ethnicity, 2022Views on abortion by age, 2022Views on abortion by level of education, 2022 Views on abortion, 1995-2022 While public support for legal abortion has fluctuated some in two decades of polling, it has remained relatively stable over the past several years. Currently, 61 say abortion should be legal in all or most cases, while 37 say it should be illegal in all or most cases. of U.S. adults who say abortion should be legalillegal 1995-2022 YearLegal in allmost casesIllegal in allmost cases199560381996574019971998544219995642200053432001544320022003574220045543200557412006514320075242200854402009474420105044201153422012543920135440201455402015514320165739201757402018583720196138202060382021593920226137 Download data as .csv Data from 1995-2005 from ABC NewsWashington Post polls data for 2006 from AP-Ipsos poll. PEW RESEARCH CENTER ChartDataShare Views on abortion by religious affiliation, 2022 About three-quarters of White evangelical Protestants 74 think abortion should be illegal in all or most cases. By contrast, 84 of religiously unaffiliated Americans say abortion should be legal in all or most cases, as do 66 of Black Protestants, 60 of White Protestants who are not evangelical, and 56 of Catholics. of U.S. adults who say abortion should be legalillegal, by religion 2022 Religious AffiliationLegal in allmost casesIllegal in allmost casesWhite evangelical Protestant2474White Protestant, not evangelical6038Black Protestant6628Catholic5642Unaffiliated8415 Views on abortion by party identification, 2022 Six-in-ten Republicans and those who lean toward the Republican Party 60 say abortion should be illegal in all or most cases. By contrast, 80 of Democrats and those who lean toward the Democratic Party say abortion should be legal in all or most cases. of U.S. adults who say abortion should be legalillegal, by party identification 2022 Party IdentificationLegal in allmost casesIllegal in allmost casesRepublicanlean Rep.3860Democratlean Dem.8018 Views on abortion by political party and ideology, 2022 Conservative Republicans and Republican leaners are far more likely to say abortion should be illegal in all or most cases than to say that it should be legal 72 vs. 27. Among moderate and liberal Republicans, 60 say abortion should be legal, while 38 say it should be illegal. The vast majority of liberal Democrats and Democratic leaners support legal abortion 90, as do seven-in-ten conservative and moderate Democrats 72. of U.S. adults who say abortion should be legalillegal, by party and ideology 2022 Political party and ideologyLegal in allmost casesIllegal in allmost casesConservative Republicanlean Rep.2772Moderateliberal Republicanlean Rep.6038Conservativemoderate Democratlean Dem.7226Liberal Democratlean Dem.909 Views on abortion by gender, 2022 Majorities of both men and women express support for legal abortion, though women are somewhat more likely than men to hold this view 63 vs. 58. of U.S. adults who say abortion should be legalillegal, by gender 2022 GenderLegal in allmost casesIllegal in allmost casesWomen6335Men5841 Views on abortion by race and ethnicity, 2022 Majorities of adults across racial and ethnic groups express support for legal abortion. About three-quarters of Asian 74 and two-thirds of Black adults 68 say abortion should be legal in all or most cases, as do 60 of Hispanic adults and 59 of White adults. of U.S. adults who say abortion should be legal, by race and ethnicity 2022 Race and ethnicityLegal in allmost casesIllegal in allmost casesWhite5939Black6827Hispanic6040Asian7426 Views on abortion by age, 2022 Among adults under age 30, 74 say abortion should be legal in all or most cases, as do 62 of adults in their 30s and 40s. Among those in their 50s and early 60s, 55 express support for legal abortion, as do 54 of those ages 65 and older. of U.S. adults who say abortion should be legalillegal, by age 2022 AgeLegal in allmost casesIllegal in allmost cases18-29742530-49623750-645542655444 Views on abortion by level of education, 2022 Two-thirds of college graduates 66 say abortion should be legal in all or most cases, as do 63 of those with some college education. Among those with a high school degree or less education, 54 say abortion should be legal in all or most cases, while 44 say it should be illegal in all or most cases. of U.S. adults who say abortion should be legalillegal, by education level 2022 Level of EducationLegal in allmost casesIllegal in allmost casesHigh school or less5444Some college6335College grad or more6632 Source Survey conducted March 7-13, 2022. Trend lines show aggregated data from polls conducted in each year. Data from 2019 and later come from Pew Research Centers online American Trends Panel prior data from telephone surveys. See report for more details on changes in survey mode. Question wording can be found here, and information on the Pew Research Centers polling methodology can be found here. White, Black and Asian adults include those who report being one race and are not Hispanic. Hispanics are of any race. Estimates for Asian adults are representative of English speakers only. 1615 L St. NW, Suite 800Washington, DC 20036USA 1 202-419-4300 Main 1 202-857-8562 Fax 1 202-419-4372 Media Inquiries Follow Us Email Newsletters Instagram Twitter LinkedIn YouTube RSS About Pew Research Center Pew Research Center is a nonpartisan fact tank that informs the public about the issues, attitudes and trends shaping the world. It conducts public opinion polling, demographic research, media content analysis and other empirical social science research. Pew Research Center does not take policy positions. It is a subsidiary of The Pew Charitable Trusts. Copyright 2024 Pew Research Center About Terms Conditions Privacy Policy Cookie Settings Reprints, Permissions Use Policy Feedback Careers\",\n          \"Sahel project helps women raise themselves, their communities from poverty - Chad ReliefWeb Skip to main content Help Log in ReliefWeb Content Search What are you looking for? Searcht Updates Countries Disasters Organizations Topics Jobs Training Informing humanitarians worldwide 247 a service provided by UN OCHA Chad 8 more Sahel project helps women raise themselves, their communities from poverty Format News and Press Release Source UNFPA Posted 16 Jun 2020 Originally published Origin View original Ms. Brema trains women in her village to become electricians. Vincent TremeauBanque mondiale AM TIMAM, Chad Once, Adouia Brema was a child bride forced to leave school. Today, she gives her community the gift of light. Her journey from vulnerable teen mother to solar cell electrician shows the remarkable feats that marginalized women and girls can achieve when they are empowered with information and economic opportunities. I was only 13 years old when I got married. The day I got married, I was in sixth grade, Ms. Brema recalled. At first, they let me continue going to school. Then I gave birth to my first two children. I found myself all alone in the house and I had to drop out of school so that I could take care of my home and my children. Today, I have eight children. Her experience is not unique Chad has one of the highest rates of child marriage in the world 67 per cent of young women were married before age 18, according to the 2019 State of World Population report. For many child brides, marriage means a swift exit from schooling and entry into motherhood. They are less able to advocate for themselves, have less access to health services and higher vulnerability to violence. Their communities forgo the full fruit of their potential. But change is possible. Not just a mans job The Sahel Womens Empowerment and Demographic Dividend Project SWEDD gives women and girls across West Africa vocational training so that they can earn more and have a better future. The project also strengthens girls education, increases access to reproductive health services, and engages whole communities on issues including child marriage, human rights and gender equality. Through SWEDD, Ms. Brema enrolled in a course to become an electrician. At first, we thought that electricity, with all those wires, was a mans job, she said. We felt like we couldnt do it. But we were told not to panic. We could do it. She and her classmates learned quickly. We started to grasp some of the notions, such as solar panels, batteries and all of the electrical connections, she said. I was able to learn the basics in two weeks, and I started to work on my first electrical installations with no fear. Now we have a business. Empowered women lift the community In Chad and other countries where it is working, SWEDD has already provided professional training to more than 154,000 women. When marginalized women and girls are able to access information and opportunities, the benefits accrue to their whole families and communities. Ms. Bremas own experience bears this out. With her business, she and her partners have been able to provide low-cost lighting to their community members. Once the panels have been installed, electricity is free because it comes from the sun, she said. You get electricity day and night. Children use it all the time. Ms. Brema also trains other women in the village. Before, I depended on my husband. But today, we make a profit from each installation. Ever since I learned how to do a paid job, Ive wanted my sisters to follow my example. If they learn skills, they will be able to work and earn money too. Expanding opportunities The World Bank recently approved 376 million in additional funds to support the implementation of SWEDDs phase 2, which brings the World Bank's overall support to 680 million. In addition to supporting existing initiatives, the new injection of funding will help governments strengthen legal frameworks that support womens rights to health and education. Parliamentarians, judges and lawyers have already been consulted for this part of the project. Joining phase 2 are the West Africa Health Organization and the African Union. UNFPA will continue to implement SWEDD and provide technical guidance. The countries implementing the project are Benin, Burkina Faso, Chad, Cte dIvoire, Mali, Mauritania, Niger, and the programme will soon roll out in Cameroun and Guinea. Most recently, UNFPA has supported SWEDD in the regional campaign StrongerTogether, which has the rallying cry My empowerment, my future, even in times of crisis! The campaign shares information about COVID-19, positive gender roles, water and sanitation, and menstrual hygiene. It also highlights distance learning for girls and the importance of having them return to school. We men must seize this time of crisis to be role models for our sons by supporting our wives and daughters. Let's break the cycle of violence, and build a better world for our mothers, wives, sisters and daughters and for ourselves, the messages say. Protecting and promoting the rights of adolescent girls must be emphasized. As for Ms. Brema, she recently told UNFPA the pandemic has been hard on her family and business. Still, she has always said that with the right resources, women and girls can create a better world for all We will help each other and our combined efforts will make a better future, she said. A version of this story was first published at This story has been updated with new information. Report details Primary country Other countries BeninBurkina FasoCameroonCte d'IvoireGuineaMaliMauritaniaNiger United Nations Population Fund Themes EducationHealthProtection and Human RightsWater Sanitation Hygiene Disaster type Epidemic Language English Share Share this on Facebook Share this on Twitter Post this on LinkedIn Related Content Tchad Aperu de la situation humanitaire au Tchad - 31 dcembre 2023 mars 2024 Infographic OCHA 19 Mar 2024 8 Mar 2024 Burkina Faso 2 more UNICEF Central Sahel Burkina Faso, Mali and Niger Child Rights and Humanitarian Dashboard January - December 2023 UNICEF 18 Mar 2024 7 Mar 2024 Mali 10 more UNICEF Sahel Child Rights and Humanitarian Dashboard January - December 2023 7 Feb 2024 17 more UNICEF West and Central Africa Region Child Rights and Humanitarian Dashboard January-December 2023 Subscribe Subscribe to ReliefWeb Blog Do not fill in this field Blog Labs About Us Terms Contact Facebook Twitter LinkedIn Instagram Telegram Service provided by United Nations Office for the Coordination of Humanitarian Affairs UN OCHA OCHA coordinates the global emergency response to save lives and protect people in humanitarian crises. We advocate for effective and principled humanitarian action by all, for all. ReliefWeb's Terms Conditions. 2024 all rights reserved. OCHA Services Related Platforms Reliefweb Response Humanitarian Data Exchange Humanitarian Action Central Emergency Response Fund Other OCHA Services Financial Tracking Service Humanitarian ID ReliefWeb Response Inter-Agency Standing Committee OCHA website Virtual OSOCC See all\"\n        ],\n        \"semantic_type\": \"\",\n        \"description\": \"\"\n      }\n    },\n    {\n      \"column\": \"summary\",\n      \"properties\": {\n        \"dtype\": \"string\",\n        \"num_unique_values\": 293,\n        \"samples\": [\n          \"The article \\u201cThis Really Is a Different Pro-Life Movement\\u201d by Daniel K. Williams explores the significant shift in the political and religious dynamics of the U.S. anti-abortion movement since the landmark 1973 Roe v. Wade decision. Initially, opposition to abortion was led by northern Catholics, many of whom were also aligned with social-welfare policies aimed at reducing abortion through prenatal care and federally funded daycare. In contrast, by 2022, the movement was largely driven by conservative southern evangelicals, whose focus was on overturning Roe v. Wade rather than comprehensive social reforms.\\n\\nIn the 1970s and 1980s, southern evangelicals, initially skeptical of the Catholic-led anti-abortion cause, became more involved due to their opposition to secularization, feminism, and the sexual revolution. Their growing influence within the Republican Party transformed the party\\u2019s stance, making it staunchly anti-abortion and aligning it with evangelical moral views. This shift was crucial in turning the GOP from a moderate, northern Protestant party into a more conservative, southern-dominated one.\\n\\nOver time, the movement\\u2019s political and moral priorities also shifted. Early anti-abortion activists sought a \\u201cculture of life,\\u201d encompassing broader social-welfare policies, while later evangelical leaders focused narrowly on abortion and opposed social welfare programs. As northern Catholics became less devout and the Democratic Party firmly endorsed abortion rights, many Catholic anti-abortion activists began voting Republican, despite disagreements on other issues.\\n\\nToday, the political map reflects these changes: states most likely to restrict abortion are in the Bible Belt, where there is less emphasis on poverty reduction, even though abortion rates are closely tied to poverty. This raises the possibility that without addressing social welfare, the expected reduction in abortion rates may not materialize. The article suggests that for the pro-life movement to achieve its goal of reducing abortion, it may need to revisit the more comprehensive, social-welfare-focused approach that earlier Catholic activists advocated.\\n\\nThe article highlights the broader cultural and political transformation of the anti-abortion movement, shaped by the rise of evangelical influence and the shifting priorities within the Republican Party.\",\n          \"The South Carolina House has passed a bill that bans most abortions, with exceptions for cases of rape, incest, or when the mother\\u2019s life is at risk. Initially, the bill was rejected, but after procedural maneuvers by Republicans, it was brought back with these exceptions included. The final vote was 67-38.\\n\\nThe bill permits abortions up to 12 weeks in cases of rape, provided the woman informs a doctor, who must report the incident to the authorities. It also allows abortion when the mother\\u2019s life is in danger. Some conservative lawmakers opposed these exceptions but ultimately supported the bill.\\n\\nThe debate included attempts to amend the bill to address concerns about in vitro fertilization, birth control, and criminal charges for women obtaining abortions, all of which were rejected. The bill now moves to the state Senate, where similar abortion restrictions have faced challenges.\\n\\nSouth Carolina currently has a suspended six-week abortion ban, with the state Supreme Court deliberating on its constitutionality. Governor Henry McMaster supports the goal of eliminating abortion in the state, but has not taken a stance on this specific bill. The passage of the bill comes amid ongoing national discussions about abortion rights following the overturning of Roe v. Wade.\",\n          \"The Sahel Women\\u2019s Empowerment and Demographic Dividend (SWEDD) project has made significant strides in empowering women and girls across West Africa, including in Chad. One of the featured stories is that of Adouia Brema, a former child bride, who became a solar cell electrician and now contributes to her community by providing affordable solar electricity. Brema\\u2019s journey reflects the positive changes SWEDD fosters by providing women with vocational training, educational opportunities, and access to reproductive health services.\\n\\nIn Chad, where 67% of young women are married before 18, child marriage often leads to early motherhood, limited education, and economic dependence. SWEDD works to change this, offering training in fields traditionally dominated by men, such as electrical work. Brema\\u2019s success has inspired other women in her community to pursue similar opportunities, leading to greater financial independence and improved quality of life.\\n\\nThrough SWEDD, over 154,000 women have received professional training, and the program has had a broader impact by addressing issues like child marriage and gender equality. This initiative, supported by the World Bank, has also led to a legal framework strengthening women\\u2019s rights to health and education. The ongoing phase 2 of the project, backed by $376 million in funding, will expand these efforts and include new regional partners like the African Union.\\n\\nIn response to the COVID-19 pandemic, SWEDD also launched the StrongerTogether campaign to promote positive gender roles, provide information on sanitation, and encourage girls\\u2019 education. Despite challenges posed by the pandemic, Brema remains optimistic about the future, believing that women and girls, when given the right resources, can build a better world.\"\n        ],\n        \"semantic_type\": \"\",\n        \"description\": \"\"\n      }\n    }\n  ]\n}"
            }
          },
          "metadata": {},
          "execution_count": 5
        }
      ]
    },
    {
      "cell_type": "code",
      "source": [
        "!pip install transformers"
      ],
      "metadata": {
        "colab": {
          "base_uri": "https://localhost:8080/"
        },
        "id": "G0t08MV3MBOQ",
        "outputId": "1569b3d5-7cd4-4a73-8edf-c75c4e974277",
        "collapsed": true
      },
      "execution_count": null,
      "outputs": [
        {
          "output_type": "stream",
          "name": "stdout",
          "text": [
            "Requirement already satisfied: transformers in /usr/local/lib/python3.10/dist-packages (4.44.2)\n",
            "Requirement already satisfied: filelock in /usr/local/lib/python3.10/dist-packages (from transformers) (3.16.1)\n",
            "Requirement already satisfied: huggingface-hub<1.0,>=0.23.2 in /usr/local/lib/python3.10/dist-packages (from transformers) (0.24.7)\n",
            "Requirement already satisfied: numpy>=1.17 in /usr/local/lib/python3.10/dist-packages (from transformers) (1.26.4)\n",
            "Requirement already satisfied: packaging>=20.0 in /usr/local/lib/python3.10/dist-packages (from transformers) (24.1)\n",
            "Requirement already satisfied: pyyaml>=5.1 in /usr/local/lib/python3.10/dist-packages (from transformers) (6.0.2)\n",
            "Requirement already satisfied: regex!=2019.12.17 in /usr/local/lib/python3.10/dist-packages (from transformers) (2024.9.11)\n",
            "Requirement already satisfied: requests in /usr/local/lib/python3.10/dist-packages (from transformers) (2.32.3)\n",
            "Requirement already satisfied: safetensors>=0.4.1 in /usr/local/lib/python3.10/dist-packages (from transformers) (0.4.5)\n",
            "Requirement already satisfied: tokenizers<0.20,>=0.19 in /usr/local/lib/python3.10/dist-packages (from transformers) (0.19.1)\n",
            "Requirement already satisfied: tqdm>=4.27 in /usr/local/lib/python3.10/dist-packages (from transformers) (4.66.6)\n",
            "Requirement already satisfied: fsspec>=2023.5.0 in /usr/local/lib/python3.10/dist-packages (from huggingface-hub<1.0,>=0.23.2->transformers) (2024.10.0)\n",
            "Requirement already satisfied: typing-extensions>=3.7.4.3 in /usr/local/lib/python3.10/dist-packages (from huggingface-hub<1.0,>=0.23.2->transformers) (4.12.2)\n",
            "Requirement already satisfied: charset-normalizer<4,>=2 in /usr/local/lib/python3.10/dist-packages (from requests->transformers) (3.4.0)\n",
            "Requirement already satisfied: idna<4,>=2.5 in /usr/local/lib/python3.10/dist-packages (from requests->transformers) (3.10)\n",
            "Requirement already satisfied: urllib3<3,>=1.21.1 in /usr/local/lib/python3.10/dist-packages (from requests->transformers) (2.2.3)\n",
            "Requirement already satisfied: certifi>=2017.4.17 in /usr/local/lib/python3.10/dist-packages (from requests->transformers) (2024.8.30)\n"
          ]
        }
      ]
    },
    {
      "cell_type": "code",
      "source": [
        "from transformers import pipeline\n",
        "\n",
        "# Load the NER model\n",
        "ner_model = pipeline(\"ner\", model=\"dbmdz/bert-large-cased-finetuned-conll03-english\", aggregation_strategy=\"simple\")\n",
        "\n",
        "# Apply NER to the text column\n",
        "def apply_ner(text):\n",
        "    return ner_model(text)\n",
        "\n",
        "# Function to extract entities using NER model\n",
        "def extract_entities(text):\n",
        "    ner_results = apply_ner(text)\n",
        "\n",
        "    entities = []\n",
        "\n",
        "    # Iterate through the NER results and extract relevant information\n",
        "    for entity in ner_results:\n",
        "        entities.append({\n",
        "            'entity': entity['entity_group'],  # 'entity_group' provides the label (like 'LOC', 'ORG', etc.)\n",
        "            'score': entity['score'],          # Confidence score\n",
        "            'word': entity['word'],            # Extracted word or phrase\n",
        "            'start': entity['start'],          # Start index of the entity in the text\n",
        "            'end': entity['end']                # End index of the entity in the text\n",
        "        })\n",
        "\n",
        "    if not entities:\n",
        "        print(\"No entities found in the NER output.\")\n",
        "\n",
        "    return entities\n",
        "\n",
        "# Apply NER to the first article's text for demonstration\n",
        "ner_results = extract_entities(df['cleaned_article'].iloc[0])\n",
        "\n",
        "# Print NER results\n",
        "print(ner_results)"
      ],
      "metadata": {
        "colab": {
          "base_uri": "https://localhost:8080/",
          "height": 272,
          "referenced_widgets": [
            "c83071a6c13840cdae36e557f9eacc5a",
            "5b5b8d77c27f4373817b7bd5128af1fc",
            "daff8e5c29c24f1eba7f0e985ff97c8c",
            "9ce36e444a634f3b9705e226fb51ae64",
            "2c617ed53dc541e888e7b38dca9c55bc",
            "e2e37d856f934697b7693e103230a689",
            "0fe9d449a71944029cee179aea00169d",
            "d742b000191e4befb204c16b845dd093",
            "ae9919bddd5a4527993a8895d4d7353a",
            "ddd1361db51449169ec8a23685942c0d",
            "412e0eb965a44e6d90ad809765f2dc90",
            "9b04a098b69e4a0a8633d6ffc49cc0ee",
            "4cdea14601944aca8864e547bb6346ea",
            "b4721c88ad464462a3e4b5bc6d5579b7",
            "9a60389cc52b46899a971394ce232b8c",
            "f1520b6550fe4f3ca1bd1ae0d9044a4c",
            "c843639c38fa436b97ca712ab3f811f6",
            "39de05b2f9534cbaac27a865407eae8c",
            "8e9e772f5ff94084b09e65d8b0431361",
            "ec08cfde9fb34ea39cd7d23128a2826b",
            "2061c9fafcef4eda82f9f0ec0b448bdf",
            "43ca45911be24169ad1600aec75cc905",
            "a87a392564ef42f1972590ca31ff8f15",
            "7228ccd6d34b4240ad3bc053f2766484",
            "73d3e023a5b54421ae043791537591da",
            "10e4c948441d49d684f5fba43870a43a",
            "28bfcb8c14e54047bbe4b7f5bde5b3b5",
            "71cf546fe3244d2996fa2f09810d326b",
            "e5d3519ac47748b08e8f3bf1192b4de3",
            "5646461c34b64ce68d9521f41d9f8423",
            "57fa8fac3716434d8ddc746e767ef599",
            "aa8634e24f484392b84b5d9b1b7ea96e",
            "d34135b9dd064f72848dd1411dc3b3ca",
            "b6b03140c8954e7e9880992b9f2e974c",
            "ad158f6c11184388ad93aae001bb91f4",
            "49f0bb227362435988e4e6a78db208b4",
            "4613dddce7e3420c897466708a9ec513",
            "6d397f3f054045639ddd386b0ceb9f59",
            "550b010a9a874a26b52d5f48c73e7cbe",
            "8edeb657ef8d4de9a412b560602c2150",
            "bd2e94718e554a528be9d70a8a389c0a",
            "08da5ba33bc64f1490d5e0375f5274ba",
            "402faaaafefc436c868f62adcad71d8f",
            "1e2b072f362f42e094658ffa25b4bb91"
          ]
        },
        "id": "3_fo6NRHIxto",
        "outputId": "c57bf818-09ae-4280-fa2b-91640878964b"
      },
      "execution_count": null,
      "outputs": [
        {
          "output_type": "display_data",
          "data": {
            "text/plain": [
              "config.json:   0%|          | 0.00/998 [00:00<?, ?B/s]"
            ],
            "application/vnd.jupyter.widget-view+json": {
              "version_major": 2,
              "version_minor": 0,
              "model_id": "c83071a6c13840cdae36e557f9eacc5a"
            }
          },
          "metadata": {}
        },
        {
          "output_type": "display_data",
          "data": {
            "text/plain": [
              "model.safetensors:   0%|          | 0.00/1.33G [00:00<?, ?B/s]"
            ],
            "application/vnd.jupyter.widget-view+json": {
              "version_major": 2,
              "version_minor": 0,
              "model_id": "9b04a098b69e4a0a8633d6ffc49cc0ee"
            }
          },
          "metadata": {}
        },
        {
          "output_type": "stream",
          "name": "stderr",
          "text": [
            "Some weights of the model checkpoint at dbmdz/bert-large-cased-finetuned-conll03-english were not used when initializing BertForTokenClassification: ['bert.pooler.dense.bias', 'bert.pooler.dense.weight']\n",
            "- This IS expected if you are initializing BertForTokenClassification from the checkpoint of a model trained on another task or with another architecture (e.g. initializing a BertForSequenceClassification model from a BertForPreTraining model).\n",
            "- This IS NOT expected if you are initializing BertForTokenClassification from the checkpoint of a model that you expect to be exactly identical (initializing a BertForSequenceClassification model from a BertForSequenceClassification model).\n"
          ]
        },
        {
          "output_type": "display_data",
          "data": {
            "text/plain": [
              "tokenizer_config.json:   0%|          | 0.00/60.0 [00:00<?, ?B/s]"
            ],
            "application/vnd.jupyter.widget-view+json": {
              "version_major": 2,
              "version_minor": 0,
              "model_id": "a87a392564ef42f1972590ca31ff8f15"
            }
          },
          "metadata": {}
        },
        {
          "output_type": "display_data",
          "data": {
            "text/plain": [
              "vocab.txt:   0%|          | 0.00/213k [00:00<?, ?B/s]"
            ],
            "application/vnd.jupyter.widget-view+json": {
              "version_major": 2,
              "version_minor": 0,
              "model_id": "b6b03140c8954e7e9880992b9f2e974c"
            }
          },
          "metadata": {}
        },
        {
          "output_type": "stream",
          "name": "stderr",
          "text": [
            "/usr/local/lib/python3.10/dist-packages/transformers/tokenization_utils_base.py:1601: FutureWarning: `clean_up_tokenization_spaces` was not set. It will be set to `True` by default. This behavior will be depracted in transformers v4.45, and will be then set to `False` by default. For more details check this issue: https://github.com/huggingface/transformers/issues/31884\n",
            "  warnings.warn(\n"
          ]
        },
        {
          "output_type": "stream",
          "name": "stdout",
          "text": [
            "[{'entity': 'LOC', 'score': 0.99946207, 'word': 'Poland', 'start': 0, 'end': 6}, {'entity': 'MISC', 'score': 0.9983883, 'word': 'Polish', 'start': 16, 'end': 22}, {'entity': 'LOC', 'score': 0.9998104, 'word': 'Germany', 'start': 46, 'end': 53}, {'entity': 'MISC', 'score': 0.55002713, 'word': 'Euro', 'start': 88, 'end': 92}, {'entity': 'MISC', 'score': 0.94263625, 'word': 'English English', 'start': 97, 'end': 112}, {'entity': 'MISC', 'score': 0.44439402, 'word': '##is', 'start': 117, 'end': 119}, {'entity': 'MISC', 'score': 0.6375738, 'word': '##eutsch', 'start': 120, 'end': 126}, {'entity': 'MISC', 'score': 0.5232149, 'word': '##iano', 'start': 130, 'end': 134}, {'entity': 'LOC', 'score': 0.627969, 'word': 'Europe', 'start': 222, 'end': 228}, {'entity': 'MISC', 'score': 0.5080433, 'word': 'EU', 'start': 244, 'end': 246}, {'entity': 'MISC', 'score': 0.49934965, 'word': 'euro', 'start': 317, 'end': 321}, {'entity': 'LOC', 'score': 0.94855565, 'word': 'Brussels', 'start': 324, 'end': 332}, {'entity': 'LOC', 'score': 0.956879, 'word': 'Europe', 'start': 343, 'end': 349}, {'entity': 'LOC', 'score': 0.34921107, 'word': 'Europe', 'start': 358, 'end': 364}, {'entity': 'MISC', 'score': 0.4571867, 'word': 'Of', 'start': 390, 'end': 392}, {'entity': 'MISC', 'score': 0.6998216, 'word': 'Union', 'start': 397, 'end': 402}, {'entity': 'MISC', 'score': 0.6992552, 'word': 'C', 'start': 407, 'end': 408}, {'entity': 'LOC', 'score': 0.88958675, 'word': 'Europe', 'start': 423, 'end': 429}, {'entity': 'LOC', 'score': 0.44638675, 'word': 'Europe', 'start': 441, 'end': 447}, {'entity': 'MISC', 'score': 0.6331954, 'word': 'Euro', 'start': 467, 'end': 471}, {'entity': 'ORG', 'score': 0.42981523, 'word': 'Eurone', 'start': 484, 'end': 490}, {'entity': 'LOC', 'score': 0.99015135, 'word': 'Qatar', 'start': 512, 'end': 517}, {'entity': 'MISC', 'score': 0.45890906, 'word': 'World', 'start': 579, 'end': 584}, {'entity': 'ORG', 'score': 0.5715348, 'word': 'Focus', 'start': 620, 'end': 625}, {'entity': 'MISC', 'score': 0.6452638, 'word': 'Japan', 'start': 633, 'end': 638}, {'entity': 'MISC', 'score': 0.75848264, 'word': 'Dub', 'start': 736, 'end': 739}, {'entity': 'ORG', 'score': 0.6747331, 'word': 'Euro', 'start': 743, 'end': 747}, {'entity': 'MISC', 'score': 0.57661885, 'word': 'Us', 'start': 882, 'end': 884}, {'entity': 'MISC', 'score': 0.5654472, 'word': 'Soul Of', 'start': 886, 'end': 893}, {'entity': 'MISC', 'score': 0.5442703, 'word': 'South', 'start': 898, 'end': 903}, {'entity': 'ORG', 'score': 0.3658967, 'word': 'Ocean Ocean', 'start': 943, 'end': 954}, {'entity': 'MISC', 'score': 0.9611467, 'word': 'Saudi', 'start': 1041, 'end': 1046}, {'entity': 'LOC', 'score': 0.98774093, 'word': 'Dubai', 'start': 1181, 'end': 1186}, {'entity': 'LOC', 'score': 0.9809069, 'word': 'Estonia', 'start': 1196, 'end': 1203}, {'entity': 'LOC', 'score': 0.99322325, 'word': 'Sharjah', 'start': 1213, 'end': 1220}, {'entity': 'LOC', 'score': 0.9898177, 'word': 'Azerbaijan', 'start': 1245, 'end': 1255}, {'entity': 'LOC', 'score': 0.99925417, 'word': 'Qatar', 'start': 1261, 'end': 1266}, {'entity': 'LOC', 'score': 0.9042852, 'word': 'Spain', 'start': 1280, 'end': 1285}, {'entity': 'MISC', 'score': 0.8325658, 'word': 'New', 'start': 1290, 'end': 1293}, {'entity': 'LOC', 'score': 0.90830225, 'word': 'Uzbekistan', 'start': 1294, 'end': 1304}, {'entity': 'LOC', 'score': 0.821637, 'word': 'Greece', 'start': 1354, 'end': 1360}, {'entity': 'MISC', 'score': 0.8429572, 'word': 'Classic Piano Competition', 'start': 1361, 'end': 1386}, {'entity': 'MISC', 'score': 0.68809235, 'word': 'Garden City', 'start': 1395, 'end': 1406}, {'entity': 'LOC', 'score': 0.7697815, 'word': 'Kerala', 'start': 1422, 'end': 1428}, {'entity': 'ORG', 'score': 0.3908087, 'word': 'Galaxy', 'start': 1429, 'end': 1435}, {'entity': 'PER', 'score': 0.82345873, 'word': 'Ron Barcel', 'start': 1491, 'end': 1501}, {'entity': 'MISC', 'score': 0.44193208, 'word': 'Of', 'start': 1527, 'end': 1529}, {'entity': 'LOC', 'score': 0.76353663, 'word': 'Moldova', 'start': 1530, 'end': 1537}, {'entity': 'ORG', 'score': 0.99196506, 'word': 'EU', 'start': 1590, 'end': 1592}, {'entity': 'LOC', 'score': 0.9916897, 'word': 'Ukraine', 'start': 1635, 'end': 1642}, {'entity': 'MISC', 'score': 0.9537766, 'word': 'Euro', 'start': 1665, 'end': 1669}, {'entity': 'MISC', 'score': 0.9410388, 'word': 'Euro', 'start': 1703, 'end': 1707}, {'entity': 'LOC', 'score': 0.9967907, 'word': 'Poland', 'start': 1739, 'end': 1745}, {'entity': 'MISC', 'score': 0.99829227, 'word': 'Polish', 'start': 1755, 'end': 1761}, {'entity': 'LOC', 'score': 0.99673295, 'word': 'Germany', 'start': 1785, 'end': 1792}, {'entity': 'MISC', 'score': 0.9982566, 'word': 'Polish', 'start': 1859, 'end': 1865}, {'entity': 'MISC', 'score': 0.9496025, 'word': 'Euro', 'start': 1898, 'end': 1902}]\n"
          ]
        }
      ]
    },
    {
      "cell_type": "code",
      "source": [
        "# Print NER results\n",
        "print(\"Entities found:\", ner_results)\n",
        "\n",
        "# Count number of entities\n",
        "entity_count = len(ner_results)\n",
        "print(\"Number of entities found:\", entity_count)\n"
      ],
      "metadata": {
        "colab": {
          "base_uri": "https://localhost:8080/"
        },
        "id": "Rg-KAOyZM-MY",
        "outputId": "0a27571c-35fb-404e-a36d-473acac07a74"
      },
      "execution_count": null,
      "outputs": [
        {
          "output_type": "stream",
          "name": "stdout",
          "text": [
            "Entities found: [{'entity': 'LOC', 'score': 0.99946207, 'word': 'Poland', 'start': 0, 'end': 6}, {'entity': 'MISC', 'score': 0.9983883, 'word': 'Polish', 'start': 16, 'end': 22}, {'entity': 'LOC', 'score': 0.9998104, 'word': 'Germany', 'start': 46, 'end': 53}, {'entity': 'MISC', 'score': 0.55002713, 'word': 'Euro', 'start': 88, 'end': 92}, {'entity': 'MISC', 'score': 0.94263625, 'word': 'English English', 'start': 97, 'end': 112}, {'entity': 'MISC', 'score': 0.44439402, 'word': '##is', 'start': 117, 'end': 119}, {'entity': 'MISC', 'score': 0.6375738, 'word': '##eutsch', 'start': 120, 'end': 126}, {'entity': 'MISC', 'score': 0.5232149, 'word': '##iano', 'start': 130, 'end': 134}, {'entity': 'LOC', 'score': 0.627969, 'word': 'Europe', 'start': 222, 'end': 228}, {'entity': 'MISC', 'score': 0.5080433, 'word': 'EU', 'start': 244, 'end': 246}, {'entity': 'MISC', 'score': 0.49934965, 'word': 'euro', 'start': 317, 'end': 321}, {'entity': 'LOC', 'score': 0.94855565, 'word': 'Brussels', 'start': 324, 'end': 332}, {'entity': 'LOC', 'score': 0.956879, 'word': 'Europe', 'start': 343, 'end': 349}, {'entity': 'LOC', 'score': 0.34921107, 'word': 'Europe', 'start': 358, 'end': 364}, {'entity': 'MISC', 'score': 0.4571867, 'word': 'Of', 'start': 390, 'end': 392}, {'entity': 'MISC', 'score': 0.6998216, 'word': 'Union', 'start': 397, 'end': 402}, {'entity': 'MISC', 'score': 0.6992552, 'word': 'C', 'start': 407, 'end': 408}, {'entity': 'LOC', 'score': 0.88958675, 'word': 'Europe', 'start': 423, 'end': 429}, {'entity': 'LOC', 'score': 0.44638675, 'word': 'Europe', 'start': 441, 'end': 447}, {'entity': 'MISC', 'score': 0.6331954, 'word': 'Euro', 'start': 467, 'end': 471}, {'entity': 'ORG', 'score': 0.42981523, 'word': 'Eurone', 'start': 484, 'end': 490}, {'entity': 'LOC', 'score': 0.99015135, 'word': 'Qatar', 'start': 512, 'end': 517}, {'entity': 'MISC', 'score': 0.45890906, 'word': 'World', 'start': 579, 'end': 584}, {'entity': 'ORG', 'score': 0.5715348, 'word': 'Focus', 'start': 620, 'end': 625}, {'entity': 'MISC', 'score': 0.6452638, 'word': 'Japan', 'start': 633, 'end': 638}, {'entity': 'MISC', 'score': 0.75848264, 'word': 'Dub', 'start': 736, 'end': 739}, {'entity': 'ORG', 'score': 0.6747331, 'word': 'Euro', 'start': 743, 'end': 747}, {'entity': 'MISC', 'score': 0.57661885, 'word': 'Us', 'start': 882, 'end': 884}, {'entity': 'MISC', 'score': 0.5654472, 'word': 'Soul Of', 'start': 886, 'end': 893}, {'entity': 'MISC', 'score': 0.5442703, 'word': 'South', 'start': 898, 'end': 903}, {'entity': 'ORG', 'score': 0.3658967, 'word': 'Ocean Ocean', 'start': 943, 'end': 954}, {'entity': 'MISC', 'score': 0.9611467, 'word': 'Saudi', 'start': 1041, 'end': 1046}, {'entity': 'LOC', 'score': 0.98774093, 'word': 'Dubai', 'start': 1181, 'end': 1186}, {'entity': 'LOC', 'score': 0.9809069, 'word': 'Estonia', 'start': 1196, 'end': 1203}, {'entity': 'LOC', 'score': 0.99322325, 'word': 'Sharjah', 'start': 1213, 'end': 1220}, {'entity': 'LOC', 'score': 0.9898177, 'word': 'Azerbaijan', 'start': 1245, 'end': 1255}, {'entity': 'LOC', 'score': 0.99925417, 'word': 'Qatar', 'start': 1261, 'end': 1266}, {'entity': 'LOC', 'score': 0.9042852, 'word': 'Spain', 'start': 1280, 'end': 1285}, {'entity': 'MISC', 'score': 0.8325658, 'word': 'New', 'start': 1290, 'end': 1293}, {'entity': 'LOC', 'score': 0.90830225, 'word': 'Uzbekistan', 'start': 1294, 'end': 1304}, {'entity': 'LOC', 'score': 0.821637, 'word': 'Greece', 'start': 1354, 'end': 1360}, {'entity': 'MISC', 'score': 0.8429572, 'word': 'Classic Piano Competition', 'start': 1361, 'end': 1386}, {'entity': 'MISC', 'score': 0.68809235, 'word': 'Garden City', 'start': 1395, 'end': 1406}, {'entity': 'LOC', 'score': 0.7697815, 'word': 'Kerala', 'start': 1422, 'end': 1428}, {'entity': 'ORG', 'score': 0.3908087, 'word': 'Galaxy', 'start': 1429, 'end': 1435}, {'entity': 'PER', 'score': 0.82345873, 'word': 'Ron Barcel', 'start': 1491, 'end': 1501}, {'entity': 'MISC', 'score': 0.44193208, 'word': 'Of', 'start': 1527, 'end': 1529}, {'entity': 'LOC', 'score': 0.76353663, 'word': 'Moldova', 'start': 1530, 'end': 1537}, {'entity': 'ORG', 'score': 0.99196506, 'word': 'EU', 'start': 1590, 'end': 1592}, {'entity': 'LOC', 'score': 0.9916897, 'word': 'Ukraine', 'start': 1635, 'end': 1642}, {'entity': 'MISC', 'score': 0.9537766, 'word': 'Euro', 'start': 1665, 'end': 1669}, {'entity': 'MISC', 'score': 0.9410388, 'word': 'Euro', 'start': 1703, 'end': 1707}, {'entity': 'LOC', 'score': 0.9967907, 'word': 'Poland', 'start': 1739, 'end': 1745}, {'entity': 'MISC', 'score': 0.99829227, 'word': 'Polish', 'start': 1755, 'end': 1761}, {'entity': 'LOC', 'score': 0.99673295, 'word': 'Germany', 'start': 1785, 'end': 1792}, {'entity': 'MISC', 'score': 0.9982566, 'word': 'Polish', 'start': 1859, 'end': 1865}, {'entity': 'MISC', 'score': 0.9496025, 'word': 'Euro', 'start': 1898, 'end': 1902}]\n",
            "Number of entities found: 57\n"
          ]
        }
      ]
    },
    {
      "cell_type": "code",
      "source": [
        "# Function to show entities and allow user selection\n",
        "# def show_entities_and_get_selection(article_index):\n",
        "#     article_text = df.loc[article_index, 'cleaned_article']\n",
        "#     entities = extract_entities(article_text)\n",
        "\n",
        "#     # Display entities\n",
        "#     if entities:\n",
        "#         print(\"Extracted Entities:\")\n",
        "#         for i, entity in enumerate(entities):\n",
        "#             print(f\"{i + 1}: {entity['word']} (Score: {entity['score']:.2f})\")\n",
        "\n",
        "#         # User selects entities\n",
        "#         selected_indices = input(\"Select entity numbers to include in the summary (comma-separated): \")\n",
        "#         selected_indices = list(map(int, selected_indices.split(',')))\n",
        "\n",
        "#         # Get selected entities\n",
        "#         selected_entities = [entities[i - 1]['word'] for i in selected_indices if 0 < i <= len(entities)]\n",
        "#     else:\n",
        "#         selected_entities = []\n",
        "#         print(\"No entities available for selection.\")\n",
        "\n",
        "#     return selected_entities"
      ],
      "metadata": {
        "id": "VZBI7K0OJB_t"
      },
      "execution_count": null,
      "outputs": []
    },
    {
      "cell_type": "code",
      "source": [
        "# Function to show entities and automatically select those with score > 50%\n",
        "def show_entities_and_get_selection(article_index):\n",
        "    article_text = df.loc[article_index, 'cleaned_article']\n",
        "    entities = extract_entities(article_text)\n",
        "\n",
        "    # Automatically select entities with a score greater than 0.5 (50%)\n",
        "    selected_entities = [entity['word'] for entity in entities if entity['score'] > 0.5]\n",
        "\n",
        "    # Display selected entities for reference (optional)\n",
        "    if selected_entities:\n",
        "        print(\"Selected Entities (Score > 50%):\", selected_entities)\n",
        "    else:\n",
        "        print(\"No entities with a score above 50%.\")\n",
        "\n",
        "    return selected_entities\n"
      ],
      "metadata": {
        "id": "EXsoq2AIZ2Q9"
      },
      "execution_count": null,
      "outputs": []
    },
    {
      "cell_type": "code",
      "source": [
        "import pandas as pd\n",
        "from tqdm import tqdm\n",
        "\n",
        "# List to collect results\n",
        "results = []\n",
        "\n",
        "# Iterate through each article in the DataFrame\n",
        "for index, row in tqdm(df.iterrows()):\n",
        "    article_title = row['title']      # Get the article title\n",
        "\n",
        "    # Process each article to get selected entities\n",
        "    selected_entities = show_entities_and_get_selection(index)\n",
        "\n",
        "    # Append result as a dictionary for each article\n",
        "    results.append({\n",
        "        'article_title': article_title,\n",
        "        'selected_entities': selected_entities\n",
        "    })\n",
        "\n",
        "# Convert results to DataFrame\n",
        "results_df = pd.DataFrame(results)\n",
        "\n",
        "# Save results to CSV\n",
        "results_df.to_csv('/content/drive/MyDrive/Colab Notebooks/data/processed/selected_entities.csv', index=False)\n",
        "\n",
        "print(\"Entities for all articles saved to 'selected_entities.csv'\")\n"
      ],
      "metadata": {
        "colab": {
          "base_uri": "https://localhost:8080/"
        },
        "id": "le8xTjhgYqRw",
        "outputId": "ea24327a-5702-4901-f1dd-0d24b3cd87d4"
      },
      "execution_count": null,
      "outputs": [
        {
          "metadata": {
            "tags": null
          },
          "name": "stderr",
          "output_type": "stream",
          "text": [
            "1it [00:09,  9.73s/it]"
          ]
        },
        {
          "metadata": {
            "tags": null
          },
          "name": "stdout",
          "output_type": "stream",
          "text": [
            "Selected Entities (Score > 50%): ['Poland', 'Polish', 'Germany', 'Euro', 'English English', '##eutsch', '##iano', 'Europe', 'EU', 'Brussels', 'Europe', 'Union', 'C', 'Europe', 'Euro', 'Qatar', 'Focus', 'Japan', 'Dub', 'Euro', 'Us', 'Soul Of', 'South', 'Saudi', 'Dubai', 'Estonia', 'Sharjah', 'Azerbaijan', 'Qatar', 'Spain', 'New', 'Uzbekistan', 'Greece', 'Classic Piano Competition', 'Garden City', 'Kerala', 'Ron Barcel', 'Moldova', 'EU', 'Ukraine', 'Euro', 'Euro', 'Poland', 'Polish', 'Germany', 'Polish', 'Euro']\n"
          ]
        },
        {
          "metadata": {
            "tags": null
          },
          "name": "stderr",
          "output_type": "stream",
          "text": [
            "\r2it [00:19,  9.83s/it]"
          ]
        },
        {
          "metadata": {
            "tags": null
          },
          "name": "stdout",
          "output_type": "stream",
          "text": [
            "Selected Entities (Score > 50%): ['Hong Kong', 'Vatican News', 'Vatican Church', 'English Italiano Italian Franais French', '##utsch German E', 'Spanish Portugus Portuguese Arabic Armenian Belarusian Bulgarian et', 'Czech Esperanto Hebrew H', '##rva', '##tski Croatian Magyar Hungarian Lietuvi Lithuanian Latvieu Latvian Macedonian Mongolian Polski Polish', 'Romanian', 'Albanian', 'Slovenin', '##a Slovak Slovenian Svenska Swedish Russian Ukrainian Hindi Malayalam Tamil', 'Vietnamese Japanese Korean', 'Chinese', 'Chinese English Africa Franais Afrique Portug', '##rica Kiswahili Swahili Amharic', 'T', '##igrinya Facebook Twitter', 'In', 'Vatican News', 'A', '##F', '##RICA', 'Cardinal Tong', 'Hong Kong', 'Corona', 'Hong Kong', 'Pro', 'Life Day 2020', 'John Tong', 'Hong Kong', 'Christians', 'Evangelium Vitae', 'Vatican News', 'John Tong', 'Hong Kong', 'Christians', 'Pro', 'Life Day 2020', 'Pope', 'John Paul', 'Tong']\n"
          ]
        },
        {
          "metadata": {
            "tags": null
          },
          "name": "stderr",
          "output_type": "stream",
          "text": [
            "\r3it [00:26,  8.30s/it]"
          ]
        },
        {
          "metadata": {
            "tags": null
          },
          "name": "stdout",
          "output_type": "stream",
          "text": [
            "Selected Entities (Score > 50%): ['Philippines', 'Borgen', 'Project', 'Board of Directors', 'Global', 'U', 'S', 'National Security Po', 'Aid', 'Act', 'Congress', 'Congress', 'Blog Magazine', 'Philippines', 'HIV', 'Philippines', 'Reproductive Health Act', 'Philippines', 'Responsible Parenthood and Reproductive Health Act', 'RH Act', 'Philippines', 'RH Act', 'HIVAIDS', 'Philippines', 'Act', 'Philippines', 'Catholic', 'Philippine', 'Roman Catholic', 'Catholic', 'Catholic', 'Catholic']\n"
          ]
        },
        {
          "metadata": {
            "tags": null
          },
          "name": "stderr",
          "output_type": "stream",
          "text": [
            "\r4it [00:34,  8.40s/it]"
          ]
        },
        {
          "metadata": {
            "tags": null
          },
          "name": "stdout",
          "output_type": "stream",
          "text": [
            "Selected Entities (Score > 50%): ['Idaho', 'The Guardian', '##ralia', 'Guardian', 'Guardian', '##US', 'Guardian', 'Guardian', 'Guardian', '##uard', '##ian', 'Archive', 'Idaho', 'Idaho']\n"
          ]
        },
        {
          "metadata": {
            "tags": null
          },
          "name": "stderr",
          "output_type": "stream",
          "text": [
            "\r5it [00:40,  7.61s/it]"
          ]
        },
        {
          "metadata": {
            "tags": null
          },
          "name": "stdout",
          "output_type": "stream",
          "text": [
            "Selected Entities (Score > 50%): ['Canada', 'Action Canada', 'Sexual', 'Health and', 'English', 'English', 'Canada', '##D', 'Action Canada', 'Health and Rights', 'CO', '##D', '19', 'Canada', 'Canada', 'Feminist International Assistance Policy FIA', 'CO', '##D', '19', 'Action Canada', 'Sexual Health and Rights', 'Government of Canada', 'Canada', 'LGBT']\n"
          ]
        },
        {
          "metadata": {
            "tags": null
          },
          "name": "stderr",
          "output_type": "stream",
          "text": [
            "\r6it [00:48,  7.74s/it]"
          ]
        },
        {
          "metadata": {
            "tags": null
          },
          "name": "stdout",
          "output_type": "stream",
          "text": [
            "Selected Entities (Score > 50%): ['Roe v', 'Wade', 'Congress White House', 'Defense', '##tech Health Care Technology Transportation', 'CQ', 'Capitol In', 'RollC', 'RollCall', 'Roe v', 'Wade', 'Texas', 'Bill Clark', 'Sandhya Raman', 'Supreme Court', 'Supreme Court', 'Roe v', 'Wade', 'March for Life', 'Congress', 'Republican', 'Senate', 'Kristan Hawkins', 'Students for Life', 'America', 'Life', 'Life']\n"
          ]
        },
        {
          "metadata": {
            "tags": null
          },
          "name": "stderr",
          "output_type": "stream",
          "text": [
            "\r7it [00:55,  7.30s/it]"
          ]
        },
        {
          "metadata": {
            "tags": null
          },
          "name": "stdout",
          "output_type": "stream",
          "text": [
            "Selected Entities (Score > 50%): ['Barbara Krugers', 'Your Body is', 'Battleground', 'Poland', 'Van Gogh', 'Van Gogh', '##Barbara Krugers', 'Your Body is', 'Battleground', 'Poland', '##nny Shaw', '##Barbara Kruger', 'Your Body is', 'Battleground', 'Szczecin', '##ej', 'Golc', 'Polish', 'Barbara Krugers', 'Your Body is a Battleground', 'European', 'Szczecin', 'Poland', 'TRAFO Center for Contemporary Art', 'Poland', 'Poland', 'US', 'Poland']\n"
          ]
        },
        {
          "metadata": {
            "tags": null
          },
          "name": "stderr",
          "output_type": "stream",
          "text": [
            "\r8it [01:02,  7.27s/it]"
          ]
        },
        {
          "metadata": {
            "tags": null
          },
          "name": "stdout",
          "output_type": "stream",
          "text": [
            "Selected Entities (Score > 50%): ['Turkey', 'Turkey', 'Turkey', 'Sedef Erkmen', 'Akt', '##U', 'Turkey', 'Sedef Erkmen', 'Duvar', 'Erkmen', '##de', 'E', '##men', 'Turkey', 'Justice and Development Party AKP', 'Recep Tayyip Erdoan', 'Erkmen', 'Turkey']\n"
          ]
        },
        {
          "metadata": {
            "tags": null
          },
          "name": "stderr",
          "output_type": "stream",
          "text": [
            "\r9it [01:09,  7.25s/it]"
          ]
        },
        {
          "metadata": {
            "tags": null
          },
          "name": "stdout",
          "output_type": "stream",
          "text": [
            "Selected Entities (Score > 50%): ['Mitch McConnell', 'Senate Republicans', 'Americans', 'Human Rights Campaign', 'Human Rights Campaign', 'Human Rights Campaign', 'Equality Magazine', 'Mitch McConnell', 'Senate Republicans', 'Americans', 'HRC', 'Lucas Acosta', 'PoliticsToday', 'Human Rights Campaign', 'U', 'S', 'Senate', 'Americans', 'Trump', 'Pence', 'Affordable Care Act', 'Senate', 'Republicans', 'Americans', 'HRC', 'Alphonso David', 'McConnell', 'Senate', 'Republicans', 'Amy Coney Barrett', 'Supreme Court', 'LGBTQ', 'Donald Trump', 'Mike Pence', 'Mitch McConnell', 'Unit', 'Equality', '##A', 'Americans', 'CO', '##RC', 'Barrett', 'United', 'States', 'Supreme Court', 'Con', 'Barrett', 'LGBT']\n"
          ]
        },
        {
          "metadata": {
            "tags": null
          },
          "name": "stderr",
          "output_type": "stream",
          "text": [
            "\r10it [01:16,  7.01s/it]"
          ]
        },
        {
          "metadata": {
            "tags": null
          },
          "name": "stdout",
          "output_type": "stream",
          "text": [
            "Selected Entities (Score > 50%): ['DeSanti', 'Florida Phoenix', 'Environment Culture Society', 'The', '##IB', 'Society', 'Legislature', 'DeSantis', 'Michael Moline', 'Republican', 'Erin Grall', 'House', 'HB 5', 'Ron DeSantis', 'Credit DeSanti', 'Ron DeSantis', 'Nacion de Fe', 'Kissimmee', 'American Civil Liberties Union', 'Kara Gross', 'Floridian', 'HB 5', 'U', 'S', 'Court', 'Roe', 'Wade', 'Casey', 'Florida', 'Mississippi', 'Republican', 'Mississippi', 'Florida', 'Constitution', 'Florida', 'Court']\n"
          ]
        },
        {
          "metadata": {
            "tags": null
          },
          "name": "stderr",
          "output_type": "stream",
          "text": [
            "\r11it [01:24,  7.32s/it]"
          ]
        },
        {
          "metadata": {
            "tags": null
          },
          "name": "stdout",
          "output_type": "stream",
          "text": [
            "Selected Entities (Score > 50%): ['Anti - Abortion - Rights Movement', 'America', 'Roe v', 'Wade', 'The Atlantic', 'Atlantic', 'Atlantic', 'Atlantic', 'Anti - Abortion - Rights Movement', 'Post', 'Roe World', 'Emma Green', 'Atlantic', 'Cheryl Bachelder', 'Pope', '##yes', 'Christian', 'Bachelder', 'Bach', 'United', 'States', 'God', 'Bach']\n"
          ]
        },
        {
          "metadata": {
            "tags": null
          },
          "name": "stderr",
          "output_type": "stream",
          "text": [
            "\r12it [01:31,  7.32s/it]"
          ]
        },
        {
          "metadata": {
            "tags": null
          },
          "name": "stdout",
          "output_type": "stream",
          "text": [
            "Selected Entities (Score > 50%): ['Rohingya', 'Region', 'WHO', 'Africa Americas South', 'East Asia Europe Eastern Mediterranean Western Pacific', 'WHO', 'South', 'East Asia', 'Region', 'Bangladesh Bhutan Democratic Peoples Republic of Korea India Indonesia Maldives Myanmar Nepal Sri Lanka Thailand Timor - Leste', 'Coxs Bazar', 'Bangladesh', 'World Health Organization WHO', 'Coxs Bazar', 'R', '##oh', '##ingya', 'WHO', 'Government of Bangladesh GoB', 'Sexual Rep', '##uctive Health', 'Ad', 'Task Force', 'WHO', 'Rohingya', 'Coxs Bazar', 'WHO', 'Bangladesh', '##ana Almei', '##da', 'Um', 'Han', 'WHO']\n"
          ]
        },
        {
          "metadata": {
            "tags": null
          },
          "name": "stderr",
          "output_type": "stream",
          "text": [
            "\r13it [01:39,  7.58s/it]"
          ]
        },
        {
          "metadata": {
            "tags": null
          },
          "name": "stdout",
          "output_type": "stream",
          "text": [
            "Selected Entities (Score > 50%): ['Senate Committee', 'Abortion Law', 'Republican', 'Los Alamos Reporter Los Alamos', 'Los Alamos', 'Los Alamos Reporter Legislature Senate Committee', 'Abortion Law', 'Republican', '##BLIC', 'Senate Health and Public Affairs Committee', 'New Mexico', 'Senate', 'Bill 10', 'Democratic', 'Linda Lopez', 'Bernalillo', 'Roe v', 'Wade', 'Gregg Schmede', 'Bernalillo', 'Sandoval', 'Santa Fe', 'Torrance', 'New Mexican', 'New Mexico Court of Appeals', 'New Mexico', 'New Mexico', 'Crystal Diamond', 'Dona Ana', 'Hidalgo', 'Luna', 'Sierra', 'Senate', 'Senate', 'Affairs Committee', 'Republican', 'Gregg', 'David', 'Stuart', 'Senate Judiciary Committee']\n"
          ]
        },
        {
          "metadata": {
            "tags": null
          },
          "name": "stderr",
          "output_type": "stream",
          "text": [
            "\r14it [01:45,  7.14s/it]"
          ]
        },
        {
          "metadata": {
            "tags": null
          },
          "name": "stdout",
          "output_type": "stream",
          "text": [
            "Selected Entities (Score > 50%): ['Slate Shop', 'Slate', 'Slate', 'Insta', '##gram Slate', 'Twitter Slate', 'Facebook Slate', 'Rights', 'A', '##tion', 'Dahlia Lithwick', 'Slate', 'Leif Skoog', '##forsCorbis', 'Getty Images', 'Saul Lo', '##P', 'Getty Images', 'Supreme Courts', '5th Circuit', 'Stormy Daniels', 'Trump', 'John Roberts', 'June', 'Medical', 'Louisiana', 'Planned Parenthood', 'Casey', 'Whole Womans Health', 'Texas', 'Department', 'Justice', 'Samuel', 'Ali', 'Roe', 'Ruth']\n"
          ]
        },
        {
          "metadata": {
            "tags": null
          },
          "name": "stderr",
          "output_type": "stream",
          "text": [
            "\r15it [01:54,  7.70s/it]"
          ]
        },
        {
          "metadata": {
            "tags": null
          },
          "name": "stdout",
          "output_type": "stream",
          "text": [
            "Selected Entities (Score > 50%): ['Polish', 'Poland', 'News In', 'Po p', '##ols', 'Politics Society', 'Energy', 'Law Media', 'Poland', 'VoiCEE', 'Advisory Board', 'Poland Foundation', 'Newslette', 'Poland', 'Newslette', 'Central and Eastern Europe Newslette', 'Polish', 'Poland', 'Poland', 'Civic Platform PO', 'Polityka', 'Polish', 'Constitutional Tribunal', 'Ben Stanley', '##DStan', 'Kantar', 'Polityka', 'Tribunal', 'Poland']\n"
          ]
        },
        {
          "metadata": {
            "tags": null
          },
          "name": "stderr",
          "output_type": "stream",
          "text": [
            "\r16it [02:00,  7.22s/it]"
          ]
        },
        {
          "metadata": {
            "tags": null
          },
          "name": "stdout",
          "output_type": "stream",
          "text": [
            "Selected Entities (Score > 50%): ['AP', 'U', 'S', 'Israel', 'Hamas War Russia', 'Ukraine War', 'Asia Pacific', 'Latin', 'America', 'Europe Africa Middle East China Australia', 'Joe Biden Congress March Madness MLB NBA NHL NFL Soccer Golf Tennis AP', 'Associated Press', 'AP', 'AP', 'The Associated Press', 'AP', 'AP', 'Associated Press', 'Israel', 'Hamas', 'Unilever', 'Elon Musk', 'Mississippi', 'Planned Parenthood Southeast', 'Tyler Harden', 'Smith Park Jackson', 'Miss', 'AP', '##Rogelio V', 'Solis', 'Get', 'Israel', 'Jackson', 'Israel', 'AP', 'Jackson', 'Jackson', 'House']\n"
          ]
        },
        {
          "metadata": {
            "tags": null
          },
          "name": "stderr",
          "output_type": "stream",
          "text": [
            "\r17it [02:09,  7.56s/it]"
          ]
        },
        {
          "metadata": {
            "tags": null
          },
          "name": "stdout",
          "output_type": "stream",
          "text": [
            "Selected Entities (Score > 50%): ['Zika', 'Brazil', 'Co', '##vid', '19 Human Rights Watch', 'Human Rights Watch', 'English', 'Fr', 'De', '##uts', '##ug', '##us Espaol', '##ate', 'Zika', 'Brazil', 'Covid', '19', 'Ximena Casas', \"Women ' s Rights Division\", 'Facebook', 'WhatsApp', 'LinkedI', 'Red', 'Raquel', 'Heloisa', 'Areia', 'Paraba', 'Brazil', 'Raquel', 'Zika', 'Human Rights Watch', 'Ueslei Marcelino', 'Covid', '19', 'Zika', 'Brazil', 'Brazil', 'Ministry of Health', 'Zika', 'Zika', 'Zika', 'Brazil', 'Brazil']\n"
          ]
        },
        {
          "metadata": {
            "tags": null
          },
          "name": "stderr",
          "output_type": "stream",
          "text": [
            "\r18it [02:15,  7.11s/it]"
          ]
        },
        {
          "metadata": {
            "tags": null
          },
          "name": "stdout",
          "output_type": "stream",
          "text": [
            "Selected Entities (Score > 50%): ['EU', 'Poland', 'Eurone', 'English English', 'EU', 'Brussels', 'Europe', 'Union', 'C', 'Europe', 'Euro', 'Eurone', 'Qatar', 'World News', 'Japan', 'Dub', 'Eurone', 'Us', 'Soul Of', 'South', 'Saudi', 'Dubai', 'Estonia', 'Sharjah', 'Azerbaijan', 'Qatar', 'Spain', 'Uzbekistan', 'Greece', 'Classic Piano Competition', 'Garden City', 'Kerala', 'Ron Barcel', 'Wine Of', 'Moldova', 'EU', 'Euro', 'EU', 'Poland', 'Euro']\n"
          ]
        },
        {
          "metadata": {
            "tags": null
          },
          "name": "stderr",
          "output_type": "stream",
          "text": [
            "\r19it [02:23,  7.40s/it]"
          ]
        },
        {
          "metadata": {
            "tags": null
          },
          "name": "stdout",
          "output_type": "stream",
          "text": [
            "Selected Entities (Score > 50%): ['Respect Life E', 'The Record Newspaper', 'Archdiocese of Louisville', 'Archdiocesan', 'National', 'Blue', 'Faith', 'Louisville', 'Archdiocese Vida Catlica Noticias Columnas Acerca de Arquidicesis Pa', 'Mi', 'Arch', '##cesan', 'Respect Life E', 'Contest', 'The Record', 'Archdiocese of Louisville', 'Respect Life E', 'Contest', 'Archdiocese of Louisville', 'Family Ministries', 'Knights of Columbus', 'Catholic', 'Catholic', 'Christ', 'Life', 'God', 'Gospel', 'Catholic', 'United', 'States', 'Catholics', 'Gospel', 'Christ']\n"
          ]
        },
        {
          "metadata": {
            "tags": null
          },
          "name": "stderr",
          "output_type": "stream",
          "text": [
            "\r20it [02:29,  7.03s/it]"
          ]
        },
        {
          "metadata": {
            "tags": null
          },
          "name": "stdout",
          "output_type": "stream",
          "text": [
            "Selected Entities (Score > 50%): ['Black', '##tion Law', 'Pa', '##hood', '##tion Laws', 'Black', 'Sharn Haywood', 'Black Mat', '##al Health Week', 'COVID - 19', 'Black', 'Black Mat', '##al Health Week', 'Black', 'COVID - 19', 'Black', 'Americans', '##Ibram', 'The Atlantic TheA', 'Black', 'Black', 'Black', 'Alliance', 'National', 'Black', 'Black', 'Black', 'Week', 'Congress', 'Black', 'Congress', 'Black Mat']\n"
          ]
        },
        {
          "metadata": {
            "tags": null
          },
          "name": "stderr",
          "output_type": "stream",
          "text": [
            "\r21it [02:32,  5.80s/it]"
          ]
        },
        {
          "metadata": {
            "tags": null
          },
          "name": "stdout",
          "output_type": "stream",
          "text": [
            "Selected Entities (Score > 50%): ['##bor', 'Rights', 'ACLU', 'A', 'Rights', 'ACLU', 'Supreme Court', 'Roe v', 'Wade', 'Roe', 'Alabama', 'ACLU', 'Supreme Court', 'Busy Philipp', 'Ban', 'Busy Philipp', 'ACLU']\n"
          ]
        },
        {
          "metadata": {
            "tags": null
          },
          "name": "stderr",
          "output_type": "stream",
          "text": [
            "\r22it [02:40,  6.53s/it]"
          ]
        },
        {
          "metadata": {
            "tags": null
          },
          "name": "stdout",
          "output_type": "stream",
          "text": [
            "Selected Entities (Score > 50%): ['SR', '##HR Initiative', 'African Region', 'WHO Regional Office', 'Africa', 'English', '##uese', 'Corona', 'Ebola Disease HIV', 'World Tuber', '##losis Day', 'Ethiopia', 'Angola', 'Liberia', 'Zimbabwe', 'Oral Polio', 'Co', '##nicado de Imprensa Newsroom', 'WHO', 'Mauritius', 'Southern Africa', 'CO', '##D', 'WHO', 'African', 'Africa', 'Age', 'WHO', 'SR', '##HR Initiative', 'African Region', 'WHO', 'African Region', 'African Region', 'Initiative', '##HC', 'Initiative', 'Region']\n"
          ]
        },
        {
          "metadata": {
            "tags": null
          },
          "name": "stderr",
          "output_type": "stream",
          "text": [
            "\r23it [02:46,  6.40s/it]"
          ]
        },
        {
          "metadata": {
            "tags": null
          },
          "name": "stdout",
          "output_type": "stream",
          "text": [
            "Selected Entities (Score > 50%): ['Warsaw', 'Poland', 'CNN CNN', 'World Africa Americas Asia Australia China Europe India Middle East United Kingdom', 'CNN', 'CNN', 'US', 'Arabic', 'CNN', 'US', 'Congress', 'Bell', 'US', 'Olympics', 'Hockey Digital Studios CNN', 'CNN', 'Earth', 'World', 'Africa', 'CNN', 'CNN', 'CNN', 'CNN', 'CNN', 'Warsaw', 'Poland', 'Artur Osinski', 'Zahi', 'CNN', 'Warsaw', 'CNN', 'Poland', 'Warsaw', 'Poland', 'Poland']\n"
          ]
        },
        {
          "metadata": {
            "tags": null
          },
          "name": "stderr",
          "output_type": "stream",
          "text": [
            "\r24it [02:55,  6.97s/it]"
          ]
        },
        {
          "metadata": {
            "tags": null
          },
          "name": "stdout",
          "output_type": "stream",
          "text": [
            "Selected Entities (Score > 50%): ['America', 'Roe v', 'Wade', 'YouGov', 'US Australia France Germany Italy Spain Singapore Switzerland United Kingdom Vietnam', 'YouGov', 'YouGov', 'YouGov', 'YouGov', 'YouGov']\n"
          ]
        },
        {
          "metadata": {
            "tags": null
          },
          "name": "stderr",
          "output_type": "stream",
          "text": [
            "\r25it [03:04,  7.67s/it]"
          ]
        },
        {
          "metadata": {
            "tags": null
          },
          "name": "stdout",
          "output_type": "stream",
          "text": [
            "Selected Entities (Score > 50%): ['Kansas', 'KCUR', 'Kansas City', 'NPR', 'KCUR', 'Kansas City', 'History', 'Kansas City', 'M', 'Hermon Mehari', 'Co', 'Kansas City', 'Kansas', 'Kansas City', 'KC Media Collective Midwest Newsroom Kansas News Service Harvest Public Media', 'RadioActive', 'Aviva', 'KCUR', 'KCUR', 'KCUR', 'KCUR', 'KCUR Audio - Reader Network', 'Fish Fry', 'History', 'KC', 'RadioActive', 'Ari Shapiro', 'KC', 'Kansas City Public Radio', 'NPR', 'Kansas City', 'KC', 'Kansas', 'K', 'Rose Conlon', 'Celia Llopis', 'Jepsen', 'Kansas', 'Kansas', 'Kansas Kansas', 'Kansas', 'Wichita', 'Kansas City', 'Kansas', 'Kansas', 'Kansas', 'North']\n"
          ]
        },
        {
          "metadata": {
            "tags": null
          },
          "name": "stderr",
          "output_type": "stream",
          "text": [
            "\r26it [03:13,  8.04s/it]"
          ]
        },
        {
          "metadata": {
            "tags": null
          },
          "name": "stdout",
          "output_type": "stream",
          "text": [
            "Selected Entities (Score > 50%): ['Roe v', 'Wade', 'Louisiana', 'Illum', '##inator', 'Justice', 'Roe v', 'Wade', 'Josie Abugov', 'City Hall', 'New Orleans', 'U', 'S', 'Supreme Courts', 'Roe v', 'Wade', 'Louisiana', 'Piper HutchinsonLouisiana Illum', '##inator', 'ORLE', 'Planned Parenthood Gulf Coast', 'Louisiana', 'New Orleans', 'Baton Rouge', 'Planned Parenthood', 'South Claiborne Avenue', 'Magazine Street', 'Archdiocese of New', 'Orleans', 'Planned Parenthood', 'New Orleans', 'Planned Parenthood', 'John Bel Edwards', 'Democrat', 'Plan', 'Sam', 'Plan', '##hood', 'Gulf', 'Coast', 'U', 'S', 'Supreme Court', 'Dobbs', 'Health', 'Wade', 'Louisiana']\n"
          ]
        },
        {
          "metadata": {
            "tags": null
          },
          "name": "stderr",
          "output_type": "stream",
          "text": [
            "\r27it [03:19,  7.46s/it]"
          ]
        },
        {
          "metadata": {
            "tags": null
          },
          "name": "stdout",
          "output_type": "stream",
          "text": [
            "Selected Entities (Score > 50%): ['Louisiana', 'Louisiana', 'Justice', 'Care', 'Louisiana', \"Julie O ' Donoghue\", 'Astrid Riecken', '##G', 'Louisiana', 'Department of Health', 'Nancy Davis', 'Womans Hospital', 'Baton Rouge', 'Davis', 'Womans Hospital', 'Baton Rouge', 'Louisiana', 'New York', 'Womans Hospital', 'Davis']\n"
          ]
        },
        {
          "metadata": {
            "tags": null
          },
          "name": "stderr",
          "output_type": "stream",
          "text": [
            "\r28it [03:27,  7.73s/it]"
          ]
        },
        {
          "metadata": {
            "tags": null
          },
          "name": "stdout",
          "output_type": "stream",
          "text": [
            "Selected Entities (Score > 50%): ['Brazil', 'Rights', 'Pande', 'Human Rights Watch', 'Human Rights Watch', 'English', 'Franais De', '##uts', 'Port', '##ug', '##us Espaol', 'Brazil', 'Rights', 'Pande', '##sA', 'LinkedI', 'Red', 'Ro de Janeiro', 'Brasil', 'Paulo Brazil', 'Covid - 19', 'Human Rights Watch', 'Health Ministry', 'Jair Bolsonaro', 'Brazilian', 'Tamara', 'Americas', 'Watch']\n"
          ]
        },
        {
          "metadata": {
            "tags": null
          },
          "name": "stderr",
          "output_type": "stream",
          "text": [
            "\r29it [03:34,  7.41s/it]"
          ]
        },
        {
          "metadata": {
            "tags": null
          },
          "name": "stdout",
          "output_type": "stream",
          "text": [
            "Selected Entities (Score > 50%): ['Arizona', 'CNN', 'CNN', 'Congress', 'CNN', 'CNN', 'US International Arabic', 'CNN', 'World Africa', 'Americas Asia Australia China Europe India Middle East United Kingdom', 'US', 'Bell', 'US', 'Olympics', 'Hockey Digital Studios CNN', 'CNN', 'Earth', 'World', 'Africa', 'CNN', 'CNN Leadership CNN', 'CNN', 'Arizona', 'Maeve Reston', 'CNN', 'Tucson', 'Arizona', 'CNN', 'Arizona', 'US', 'Senate', 'Arizona']\n"
          ]
        },
        {
          "metadata": {
            "tags": null
          },
          "name": "stderr",
          "output_type": "stream",
          "text": [
            "\r30it [03:42,  7.68s/it]"
          ]
        },
        {
          "metadata": {
            "tags": null
          },
          "name": "stdout",
          "output_type": "stream",
          "text": [
            "Selected Entities (Score > 50%): ['University of Kentucky', 'Assembly', 'Student Network', 'Network', '##E Legal Network', 'FIRE Legal Network', 'FIR', 'Network', 'F']\n"
          ]
        },
        {
          "metadata": {
            "tags": null
          },
          "name": "stderr",
          "output_type": "stream",
          "text": [
            "\r31it [03:48,  7.22s/it]"
          ]
        },
        {
          "metadata": {
            "tags": null
          },
          "name": "stdout",
          "output_type": "stream",
          "text": [
            "Selected Entities (Score > 50%): ['Nebraska', 'AP', 'World U', 'S', 'Election', 'Israel', 'Hamas War Russia', 'Ukraine War', 'Asia', 'Pacific', 'Latin', 'America', 'Europe Africa Middle East China', 'Australia Joe', 'B', '##iden Congress March Madness MLB NBA NHL NFL Soccer Golf Tennis AP', 'Associated Press', 'AP', 'AP', 'Associated Press', 'AP', 'AP', 'Associated Press', 'Israel', 'Hamas', 'Unilever', 'Haiti', 'Elon Musk', 'Nebraska', 'Nebraska Legislature', 'Nick Ingram', 'AP', 'Javier Arc', '##ger', 'Beck', 'S', 'Co', 'Em', 'Facebook X Red', '##I', 'Pi', '##COLN', 'N', 'AP', 'Republican', 'Nebraska', 'Go', 'Pi', '##ir', '##ir', 'Republicans']\n"
          ]
        },
        {
          "metadata": {
            "tags": null
          },
          "name": "stderr",
          "output_type": "stream",
          "text": [
            "\r32it [03:56,  7.32s/it]"
          ]
        },
        {
          "metadata": {
            "tags": null
          },
          "name": "stdout",
          "output_type": "stream",
          "text": [
            "Selected Entities (Score > 50%): ['Christian', 'Pro', 'Life', 'Students for Life of America', 'SFLA', 'Christian', 'Pro', 'Life', '##line Wharton', 'SFLA', '##deus Stevens', 'Rebecca Rose', 'Students for Life of America SFLA', 'Heritage Christian Academy', 'Kansas', 'National Pro - Life Cha', 'Day', 'Cemetery of the Innocents', 'Roe v', 'Wade', 'Value Them Both Amendment', 'National', 'Day', 'SFLA', 'Heritage', 'Life', 'States']\n"
          ]
        },
        {
          "metadata": {
            "tags": null
          },
          "name": "stderr",
          "output_type": "stream",
          "text": [
            "\r33it [04:03,  7.18s/it]"
          ]
        },
        {
          "metadata": {
            "tags": null
          },
          "name": "stdout",
          "output_type": "stream",
          "text": [
            "Selected Entities (Score > 50%): ['Minn', 'Minnesota Reformer', 'Rights Health Care Schools', 'Co', 'Minn', 'Maia Irvin', 'Planned Parenthood Reproductive Health Services Center', 'St Louis', 'Missouri', 'Michael B', 'Thomas', 'Images', 'Republicans', 'U', 'S', 'Supreme Court', 'Roe v', 'Wade', 'Republican', 'Roe', 'Kansas', 'Republicans', 'Lindsey Graham', 'S', 'C', 'Minnesota', 'Midwest', 'Supreme Court', 'Do', '##e', 'Gomez', 'U', 'S. House', 'Graham', 'Brad Finstad', 'R Finstad', 'Reform', 'Graham', 'Jeff Ettinger', 'DFL Etting', 'Graham', 'First', 'Fin', 'Fin', 'Angie Craig', '##FL', 'Craig', 'Graham', 'Craig', 'Tyler', '##ner', 'Craig', 'Republican', '##ner', 'Graham']\n"
          ]
        },
        {
          "metadata": {
            "tags": null
          },
          "name": "stderr",
          "output_type": "stream",
          "text": [
            "\r34it [04:10,  7.06s/it]"
          ]
        },
        {
          "metadata": {
            "tags": null
          },
          "name": "stdout",
          "output_type": "stream",
          "text": [
            "Selected Entities (Score > 50%): ['Congress', 'Roe v', 'Wade', 'NonCom', 'No', '##D', '##ives Creative Commons', 'The 19th', 'The 19th', '19th News Network', '19th News Network', 'Black South Carolinian', 'Nikki Haley Brandon Tensley', 'Capital B', 'Alabama Supreme Court', 'Alander Rocha', 'Alabama Reflector', 'Bekah McNeel', 'So', '##rners', 'Amendment', 'Amendment Down South', 'Tressie McMillan Co', 'Errin Haines', 'Amendment', 'Amendment', 'Nikole Hannah - Jones', 'Chabeli Carrazana', 'Jasmine Mi', 'Marie', '##di', 'Dar', 'Davis', '##abby', 'Jennifer', '##erson', 'Sarah McBride', 'Congress', 'Orion', 'First', 'Hawaiian', '##dice Norwood']\n"
          ]
        },
        {
          "metadata": {
            "tags": null
          },
          "name": "stderr",
          "output_type": "stream",
          "text": [
            "\r35it [04:17,  7.28s/it]"
          ]
        },
        {
          "metadata": {
            "tags": null
          },
          "name": "stdout",
          "output_type": "stream",
          "text": [
            "Selected Entities (Score > 50%): ['Wisconsin', 'Civil War', 'W', 'Wisconsin Public Radio', 'Wisconsin Public Radio', 'Supreme Court', 'Wisconsin', 'Civil War', 'Roe v', 'Wade', 'Anya van Wagtendonk', 'Shawn Johnson', 'Madison', 'Madison', 'Wis', 'Midwest Medical Center', 'Dade County', 'AP', 'Wisconsin Public Radio', 'We', 'Wisconsin', 'WPR', 'Wisconsin', 'U', 'S. Supreme Court', 'Roe v', 'Wade', 'Wisconsin', 'Civil War', 'Wisconsin', 'Roe', 'Wade', 'Wisconsin']\n"
          ]
        },
        {
          "metadata": {
            "tags": null
          },
          "name": "stderr",
          "output_type": "stream",
          "text": [
            "\r36it [04:24,  6.95s/it]"
          ]
        },
        {
          "metadata": {
            "tags": null
          },
          "name": "stdout",
          "output_type": "stream",
          "text": [
            "Selected Entities (Score > 50%): ['Texas', 'care Education Environment Society', 'Justice', '##IB', 'Texas', 'David Montgomery', 'Amanda Zurawski', 'Molly Duane', 'Travis County Courthouse', 'Austin', 'Texas', 'Zurawski', 'Texas', 'Eric Gay', 'Associated Press', 'AUSTIN', 'Texas', 'Texas', 'Texas', 'U', 'S', 'Supreme Court', 'Roe v', 'Wade', 'Texas', 'Texas', 'Texas', 'Washington', 'Texas', 'Nicolas Ka', 'Center', 'York', 'Texas', 'Ka']\n"
          ]
        },
        {
          "metadata": {
            "tags": null
          },
          "name": "stderr",
          "output_type": "stream",
          "text": [
            "\r37it [04:32,  7.37s/it]"
          ]
        },
        {
          "metadata": {
            "tags": null
          },
          "name": "stdout",
          "output_type": "stream",
          "text": [
            "Selected Entities (Score > 50%): ['US', 'AP', 'NORC', 'AP', 'U', 'S', 'AP', 'Israel', 'Hamas War Russia - Ukraine War', 'Asia', 'Pacific', 'Latin', 'America', 'Europe Africa Middle East', 'China Australia Joe', '##iden Congress', 'Madness MLB NBA NHL NFL Soccer Golf Tennis AP', 'Markets', 'Associated Press', 'AP', 'AP', 'Associated Press', 'AP', 'AP', 'Associated Press', 'Israel', 'Unilever', 'Elon Musk', 'US', 'AP', 'NORC', 'U', 'S', 'Associated Press', 'NORC Center for Public Affairs Research', 'GEOFF MULVIHILL', 'L', '##LE', 'SAND', '##S S', 'Co', 'Em', 'Facebook X Reddit', '##I', 'Pi', 'U', 'S', 'Associated Press', 'NORC Center', 'Affairs Research', 'U', 'S', 'Court', 'Roe', 'Wade']\n"
          ]
        },
        {
          "metadata": {
            "tags": null
          },
          "name": "stderr",
          "output_type": "stream",
          "text": [
            "\r38it [04:38,  7.00s/it]"
          ]
        },
        {
          "metadata": {
            "tags": null
          },
          "name": "stdout",
          "output_type": "stream",
          "text": [
            "Selected Entities (Score > 50%): ['Americans', 'AP', 'NORC', 'NORC', 'Ethnic', 'Americans', 'Roe v', 'Wade', 'Congress', 'Supreme Court', 'Roe v', 'Wade', 'Congress', 'NORC', 'Roe v', 'Wade', 'Congress', 'Democrats', 'Republicans', 'Democrats', 'Republicans', 'Democrats', 'Republicans', 'Catholics', 'Democrats', 'Republicans']\n"
          ]
        },
        {
          "metadata": {
            "tags": null
          },
          "name": "stderr",
          "output_type": "stream",
          "text": [
            "\r39it [04:46,  7.42s/it]"
          ]
        },
        {
          "metadata": {
            "tags": null
          },
          "name": "stdout",
          "output_type": "stream",
          "text": [
            "Selected Entities (Score > 50%): ['Life', 'Tablet', 'Policy', 'Table', '##oc', 'News New York News National News International', '##w New York News', 'Life', 'Allyson Escobar Zachary', 'Adam', 'Natanya Stark', 'March For Life 2020', 'Washington D', 'C', 'Allyson Escobar', 'Natanya Stark', 'March for Life', 'Washington', 'Natanya', 'Adam', 'Marisa Stark', 'Stark', 'Pound Ridge', 'Westchester County', 'China', 'Adam Stark', 'Stark', 'Jewish', 'United States', 'Nat', 'David', 'Maya', 'China']\n"
          ]
        },
        {
          "metadata": {
            "tags": null
          },
          "name": "stderr",
          "output_type": "stream",
          "text": [
            "\r40it [04:53,  7.02s/it]"
          ]
        },
        {
          "metadata": {
            "tags": null
          },
          "name": "stdout",
          "output_type": "stream",
          "text": [
            "Selected Entities (Score > 50%): ['Kentucky', 'PBS NewsHour', 'PBS News', 'and Cape', '##hart', 'Supreme Court Arts', 'Race', 'Paul Sol', 'PBS NewsHour', 'Bruce Schreiner', 'Associated Press', 'Beth Campbell', 'Associated Press', 'Pinter', 'Kentucky', 'LOUISVILLE', 'Ky', 'Kentucky', 'Republican', 'Kentucky', 'GOP', 'Supreme Court', 'Rachel', 'Kentucky', 'Kent', 'Kentucky', 'Duke', 'AC', 'Kentucky']\n"
          ]
        },
        {
          "metadata": {
            "tags": null
          },
          "name": "stderr",
          "output_type": "stream",
          "text": [
            "\r41it [05:01,  7.36s/it]"
          ]
        },
        {
          "metadata": {
            "tags": null
          },
          "name": "stdout",
          "output_type": "stream",
          "text": [
            "Selected Entities (Score > 50%): ['S', '##TI', 'TIM', 'TIM', '##IM', 'Care', 'CanadaG', '##bal Help Center', \"Whole Woman ' s Health\", 'San Antonio', 'Texas', 'Matthew Busch', 'Abigail Abrams', 'Klein', '##feld', 'Houston', 'Texas', 'Klein', 'Klein']\n"
          ]
        },
        {
          "metadata": {
            "tags": null
          },
          "name": "stderr",
          "output_type": "stream",
          "text": [
            "\r42it [05:07,  7.03s/it]"
          ]
        },
        {
          "metadata": {
            "tags": null
          },
          "name": "stdout",
          "output_type": "stream",
          "text": [
            "Selected Entities (Score > 50%): ['Elizabeth Banks', 'Busy Philipps', 'Supreme Court', '##ble', 'LGBT', '##ble', 'Apple', '##ble', 'VIDEOS Ma', '##ble', 'Elizabeth Banks', 'Busy Philipps', 'Supreme Court', 'U', 'S', 'Rebecca Ruiz', 'Elizabeth Banks', 'Supreme Court', 'Supreme Court', 'Elizabeth Banks', 'Busy Philipps', 'Congress', 'Rashida Tlaib', 'Michigan', 'Ayanna Pressley', 'Massachusetts', 'Barbara Lee', 'California', 'Russo', 'Louisiana', 'United', 'States', 'Banks', 'Charlie', 'Philipp', 'Center', 'Council', '##yers', 'Center', 'Rep']\n"
          ]
        },
        {
          "metadata": {
            "tags": null
          },
          "name": "stderr",
          "output_type": "stream",
          "text": [
            "\r43it [05:11,  6.18s/it]"
          ]
        },
        {
          "metadata": {
            "tags": null
          },
          "name": "stdout",
          "output_type": "stream",
          "text": [
            "Selected Entities (Score > 50%): ['Virginia', 'Glenn Youngkin', 'Supreme Court', 'CBS News', 'S', 'World', 'Politics Entertainment HealthWatch', '##Watch Crime Sports Local News Baltimore', 'Bay Area Boston Chicago Colorado', 'Detroit', 'Los Angeles', 'Miami Minnesota New York', 'Philadelphia', 'Pittsburgh Sacramento Texas Live CBS News', 'CBS Evening News', 'CBS', 'News Eye', 'America', 'CBS News', 'CBS', 'Reports', 'CBS', 'Di', 'CBS News Team', 'Paramount Shop Paramount', '##in Our Talent Community RS', 'CBS News', 'Virginia', 'Glenn Youngkin', 'Supreme Court', 'Virginia', 'Glenn Youngkin', 'Supreme Court', 'Roe v', 'Wade', 'CBS Interactive Inc', 'California', 'CBS News', 'Paramount CBS News', 'CBS News', 'CBS']\n"
          ]
        },
        {
          "metadata": {
            "tags": null
          },
          "name": "stderr",
          "output_type": "stream",
          "text": [
            "\r44it [05:22,  7.45s/it]"
          ]
        },
        {
          "metadata": {
            "tags": null
          },
          "name": "stdout",
          "output_type": "stream",
          "text": [
            "Selected Entities (Score > 50%): ['Roe v', 'Wade', 'The Washington Post', 'Roe Roe', 'Wade', 'Dobbs', 'Jackson', 'Womens Health', '##bor', 'Roe Roe', 'Wade', 'Dobbs', 'Womens Health', 'Roe v', 'Wade', 'Republican', 'Supreme Court', 'Michael Scherer', 'Josh Dawsey', 'Caroline Kitchener', 'Rachel Roubein', 'Supreme Court', 'Bonnie Jo Mount', 'Washington Post', 'Trump Era', 'Mitch McConnell', 'Donald Trump', 'Supreme Court', 'McConnell', 'National Republican Senatorial Committee', 'Donald McGahn', 'White House', 'Arrow', 'Leonard Leo', '##onnell', 'Trump Tower', 'New', 'York', 'Trump', 'Ivan', 'Leo', 'Trump']\n"
          ]
        },
        {
          "metadata": {
            "tags": null
          },
          "name": "stderr",
          "output_type": "stream",
          "text": [
            "\r45it [05:28,  7.04s/it]"
          ]
        },
        {
          "metadata": {
            "tags": null
          },
          "name": "stdout",
          "output_type": "stream",
          "text": [
            "Selected Entities (Score > 50%): ['American', 'Britain', 'Economist', 'Econ', '##rael', 'Hamas', 'Ukraine', '##na', 'Economist', '##rael', 'Hamas', 'Ukraine', 'World', '##na', 'Economi', 'States', 'East AfricaAs', 'Americas', 'US', 'Economist', 'Economist', 'Economist', 'Economi', 'Britain', 'St', 'Scotland', 'Texas', 'Scottish']\n"
          ]
        },
        {
          "metadata": {
            "tags": null
          },
          "name": "stderr",
          "output_type": "stream",
          "text": [
            "\r46it [05:35,  7.29s/it]"
          ]
        },
        {
          "metadata": {
            "tags": null
          },
          "name": "stdout",
          "output_type": "stream",
          "text": [
            "Selected Entities (Score > 50%): ['Sahel', 'Chad', 'ReliefW', 'UN OCHA', 'Chad', 'Sahel', 'UNFPA', 'Brema', 'Vincent Tremeau', 'TIMAM', 'Chad', 'Adouia Brema', 'Brema', 'Chad', 'State of World Population', 'West Africa']\n"
          ]
        },
        {
          "metadata": {
            "tags": null
          },
          "name": "stderr",
          "output_type": "stream",
          "text": [
            "\r47it [05:42,  7.05s/it]"
          ]
        },
        {
          "metadata": {
            "tags": null
          },
          "name": "stdout",
          "output_type": "stream",
          "text": [
            "Selected Entities (Score > 50%): ['DeSantis', 'Florida', 'News Sports Entertainment', 'Florida', 'Roe v', 'Wade', 'C', 'A', '##allahassee', 'Democrat', 'FDA', 'Supreme Court', 'Roe v', 'Wade', 'Republican', 'Democratic', 'Floridian', 'Ron DeSantis', 'Roe v', 'Wade', 'Florida', 'Leon', 'County', 'Florida', 'Roe v', 'Wade', 'Roe v', 'Wade', 'Florida', 'Roe', 'Wade', 'Florida']\n"
          ]
        },
        {
          "metadata": {
            "tags": null
          },
          "name": "stderr",
          "output_type": "stream",
          "text": [
            "\r48it [05:49,  7.05s/it]"
          ]
        },
        {
          "metadata": {
            "tags": null
          },
          "name": "stdout",
          "output_type": "stream",
          "text": [
            "Selected Entities (Score > 50%): ['Bible', 'Bible', 'Christian Post', 'JavaScript', 'S', 'World', '##CP', 'Board', 'English', 'Modern Version', '##on DeSantis', 'American', 'Haiti', '##eorgia', 'Kathie Lee Gifford', 'God', 'Charles Stanley', 'Jesus', 'Palm', 'Red Pill', 'The Christian Post', 'American', 'America', 'United', 'States', 'Americas', 'Christian']\n"
          ]
        },
        {
          "metadata": {
            "tags": null
          },
          "name": "stderr",
          "output_type": "stream",
          "text": [
            "\r49it [05:56,  7.16s/it]"
          ]
        },
        {
          "metadata": {
            "tags": null
          },
          "name": "stdout",
          "output_type": "stream",
          "text": [
            "Selected Entities (Score > 50%): ['De', '##S', '##antis', 'DC', 'Ba', 'Florida', 'National Catholic Register', 'Service', 'EWTN News, Inc', 'EWTN News, Inc', 'Catholic', 'Gospel', 'Catholic Church', 'National Catholic Register News Age', 'Catholic News Agency CNA Deutsch ACI Africa ACI Afrique ACI Digital ACI Prens', 'AC', 'Stamp', 'AC', 'Mena Digital Media', '##o', 'Port', '##ug', '##us TV Radio', '##N', '##N', 'Register Radio Vatican', 'Register', 'National Catholic Register', 'Pope Francis', 'E', '##uch', '##aristic', 'Congress Synod', 'Vatican Job Board', 'Register', 'DeSanti', 'DC', 'Ba', 'Florida', 'DeSanti', 'House', 'Bill 5', 'Ron DeSantis', 'Katie', 'Florida', 'Ron', 'Washington', 'Florida', 'Republican', 'Lauren', '##ina']\n"
          ]
        },
        {
          "metadata": {
            "tags": null
          },
          "name": "stderr",
          "output_type": "stream",
          "text": [
            "\r50it [06:03,  6.85s/it]"
          ]
        },
        {
          "metadata": {
            "tags": null
          },
          "name": "stdout",
          "output_type": "stream",
          "text": [
            "Selected Entities (Score > 50%): ['UN Women', 'English', '##F', 'UN Women', 'UN', 'Women', 'HIV', 'AIDS', 'Sustainable Development Commission', 'Status', 'of', 'Women', 'UN', 'UN', 'Afghanistan', 'Africa', 'African Girls Can Code Initiative', \"International Women ' s Day\", 'Women', 'Girls UN', 'Women', 'Europe', 'Americas']\n"
          ]
        },
        {
          "metadata": {
            "tags": null
          },
          "name": "stderr",
          "output_type": "stream",
          "text": [
            "\r51it [06:11,  7.24s/it]"
          ]
        },
        {
          "metadata": {
            "tags": null
          },
          "name": "stdout",
          "output_type": "stream",
          "text": [
            "Selected Entities (Score > 50%): ['Katrina Jackson', 'LA Constitution', '##tion', 'Roe', 'Insta', '##nter', 'Twitter', '##Exec', 'Stetzer ChurchL', '##L', 'Ed Stet', '##zer', 'Exchange Search Store', 'ChurchL', 'Charles Stanley Institute', 'In', 'Ed', 'Lisa Young', 'White', 'Christian', 'She', '##win Gardner', 'Jesus', '##tarian', 'Christ', 'Jackie Hill Perry', 'Lecrae', 'Christian News LA Constitution', 'LA Constitution', 'Roe', 'Jessica Lea', 'Louisiana', 'Democratic', 'Katrina Jackson', 'Roe', 'Wade', 'Jackson', 'York', 'Katrina', 'Jackson', 'Life Amendment', 'Amendment', 'Love Life Amendment', 'Louisiana']\n"
          ]
        },
        {
          "metadata": {
            "tags": null
          },
          "name": "stderr",
          "output_type": "stream",
          "text": [
            "\r52it [06:17,  6.91s/it]"
          ]
        },
        {
          "metadata": {
            "tags": null
          },
          "name": "stdout",
          "output_type": "stream",
          "text": [
            "Selected Entities (Score > 50%): ['Environment', 'East', 'Southern Africa', 'Angola', 'ReliefW', 'UN OCHA', 'Angola', 'Environment', 'East', 'Southern Africa', 'UNFPA', '##DA', '##UM', 'East', 'Southern Africa', 'UNFPA', '##guard', 'People', 'SADC', 'SADC Parliamentary Forum', 'Malawi', 'Namibia', 'South Africa', 'Zimbabwe', 'SADC Model Law', 'SADC', 'Mozambique', 'Botswana', 'Malawi']\n"
          ]
        },
        {
          "metadata": {
            "tags": null
          },
          "name": "stderr",
          "output_type": "stream",
          "text": [
            "\r53it [06:25,  7.37s/it]"
          ]
        },
        {
          "metadata": {
            "tags": null
          },
          "name": "stdout",
          "output_type": "stream",
          "text": [
            "Selected Entities (Score > 50%): ['Jose Feliciano', 'Feliz Navid', 'Entertainment News Search', '##ose Feliciano', 'Feliz Navidad', 'Christian', 'JavaScript', '##ch Minist', 'S', '##CP Magazine', '##rand', '##CP', 'English', 'Modern Version', '##on DeSantis', 'American', 'Haiti', '##eorgia', 'Kathie Lee Gifford', 'God', 'Charles Stanley', 'Jesus', 'Palm', 'Red Pill', '##ose Feliciano', 'Feliz Na', 'Ryan Foley', 'Christian', 'Post', 'Jose Fe', '##iano', 'Starr', 'Jimmy Fallon', 'YouTube', 'Show', 'Starr', 'Jimmy Fallon', 'Jose Fe', '##iano', 'Fe', '##iano', 'Feli', 'Na', 'Catholic']\n"
          ]
        },
        {
          "metadata": {
            "tags": null
          },
          "name": "stderr",
          "output_type": "stream",
          "text": [
            "\r54it [06:31,  6.98s/it]"
          ]
        },
        {
          "metadata": {
            "tags": null
          },
          "name": "stdout",
          "output_type": "stream",
          "text": [
            "Selected Entities (Score > 50%): ['Tennessee', 'Tennessee', 'Tennessee', 'Adam Friedman', 'Nashville', 'John Partipilo', 'Tennessee', 'Tennessee', 'Tennessee', 'Legislature', 'Tennessee', 'Tennessee', 'U', 'S. Supreme Court', 'Republican', 'Supreme Court', 'Roe', 'Wade', 'The', 'Center', 'Reprod', 'Rights', 'The', 'Nicole', 'Blackmon', 'Allyson Phillips', 'Kai', '##n Du', 'Dr', 'Heather', 'Maune', 'Laura Andre', '##son', 'Docume', '##Frag', 'XA', 'Tennessee', 'Adam', 'Friedman', 'Tennessee', 'Tennessee', 'States Newsroom']\n"
          ]
        },
        {
          "metadata": {
            "tags": null
          },
          "name": "stderr",
          "output_type": "stream",
          "text": [
            "\r55it [06:40,  7.39s/it]"
          ]
        },
        {
          "metadata": {
            "tags": null
          },
          "name": "stdout",
          "output_type": "stream",
          "text": [
            "Selected Entities (Score > 50%): ['ALEC Co', 'Designated Hate Group', 'Anti', 'Abortion', '##AT', 'ALECBradley', 'ALEC Co', 'Designated Hate Group', 'Anti', 'Abortion', 'Stanford Law School YouTubeALEC Co', 'Designated Hate Group', 'Anti', 'Abortion', 'David Armiak', 'Facebook', 'American Legislative Exchange Council ALEC', 'Christian Right Family Research Council FRC', 'Pro - Life Legislative Summit', 'San Diego', 'Center for Media and Democracy CMD', 'ALEC', 'FRC', 'Pro', 'Life Legislative Summit', 'ALEC', 'CMD', 'FRC', 'ALEC', 'ALEC', 'Southern Poverty Law Center', 'FRC', 'LGBT', 'ALEC', 'FRC', 'ALEC', 'Utah', 'ALEC', 'ALEC', 'Alliance', 'Freedom', 'National Association', 'Christian', 'National', 'Caucus', 'ALEC']\n"
          ]
        },
        {
          "metadata": {
            "tags": null
          },
          "name": "stderr",
          "output_type": "stream",
          "text": [
            "\r56it [06:46,  7.01s/it]"
          ]
        },
        {
          "metadata": {
            "tags": null
          },
          "name": "stdout",
          "output_type": "stream",
          "text": [
            "Selected Entities (Score > 50%): ['Facebook In', 'Biblical', 'Trump Trials Biden', 'Israel - Hamas', 'Family International', 'Magazine Election Center', 'Vitals Libert', 'World', 'Leah Savas', 'Calvin Zastrow', 'Heritage Clinic', 'Grand Rapids', 'Mich', 'Leah Savas Paul Vaughn', 'Tennessee', 'FBI', 'FBI', 'Vaughn', 'Vaughn', 'Vaughn', 'S', 'Freedom', 'Clinic', '##CE', 'Act', 'Congress', 'Act']\n"
          ]
        },
        {
          "metadata": {
            "tags": null
          },
          "name": "stderr",
          "output_type": "stream",
          "text": [
            "\r57it [06:54,  7.22s/it]"
          ]
        },
        {
          "metadata": {
            "tags": null
          },
          "name": "stdout",
          "output_type": "stream",
          "text": [
            "Selected Entities (Score > 50%): ['United Nations Population Fund', 'United Nations Population Fund', '##CP', 'Centre of Excellence', 'South', 'South', 'Generation Equality Forum Action Coalition', 'UNFPA', 'UN', '##U', 'University Network', 'PSEA', 'UNFPA', 'UNFPA', 'Board', 'UN', 'Population Award', 'HIV AIDS', 'Gender', 'Afghanistan Armenia', 'Bangladesh', 'Democratic', 'Republic', 'Congo Ethiopia', 'Palestinian', 'Haiti', 'Africa Sudan Syria', 'Syria Ukraine Yemen']\n"
          ]
        },
        {
          "metadata": {
            "tags": null
          },
          "name": "stderr",
          "output_type": "stream",
          "text": [
            "\r58it [06:59,  6.69s/it]"
          ]
        },
        {
          "metadata": {
            "tags": null
          },
          "name": "stdout",
          "output_type": "stream",
          "text": [
            "Selected Entities (Score > 50%): ['##ot', 'Facebook', 'In', 'YouTube', 'Highlander Magazine', '##ot', 'Israel', 'Hamas Business Tech', 'Ksenia Lapshina', 'Ksenia Lapshina', 'Ksenia Lapshina', 'Carl', '##mont High School', 'Lapshina', 'Twitter', 'Carl', '##mont High School', 'Alameda de las Pulgas', '##elmont', 'CA', '##ot', 'Carlmont High School']\n"
          ]
        },
        {
          "metadata": {
            "tags": null
          },
          "name": "stderr",
          "output_type": "stream",
          "text": [
            "\r59it [07:05,  6.55s/it]"
          ]
        },
        {
          "metadata": {
            "tags": null
          },
          "name": "stdout",
          "output_type": "stream",
          "text": [
            "Selected Entities (Score > 50%): ['Idaho', 'U', 'S', 'Election', 'Israel', 'Hamas War Russia - Ukraine War', 'Pacific', 'Latin', 'America', 'Europe Africa Middle East China Australia', 'Joe Biden Congress March Madness MLB NBA NHL NFL Soccer Golf Tennis', 'Associated Press', 'AP', 'AP', 'The Associated Press', 'AP', 'Associated Press', 'Israel', 'Hamas', 'Unilever', 'Elon Musk', 'Idaho', 'Idaho Capitol Building', 'Boise', 'March for Life', 'Sandpoint', 'Idaho', 'Sarah A', 'AP', '##IL', 'Idaho', 'Boise', 'Life', 'Idaho', 'Sarah', 'Miller', 'States', 'AP', '##IL', 'My', 'My', 'U', 'Roe', 'Wade', 'Idaho']\n"
          ]
        },
        {
          "metadata": {
            "tags": null
          },
          "name": "stderr",
          "output_type": "stream",
          "text": [
            "\r60it [07:13,  7.05s/it]"
          ]
        },
        {
          "metadata": {
            "tags": null
          },
          "name": "stdout",
          "output_type": "stream",
          "text": [
            "Selected Entities (Score > 50%): ['Blue States', 'Education Environment Society', 'Justice', '##IB', 'Blue States', 'Christine Vestal', 'Democratic', 'Assembly', 'Cristina Garcia', 'California', 'Rich Pedroncelli', 'Associated Press', 'U', 'S', 'Supreme Court', 'Americans', 'Medicaid', 'Andrea Miller', 'National Institute for Reproductive Health', 'United', 'States', 'Institute', 'Black', 'Kaiser Family Foundation', 'Black', 'Mississippi', 'Georgia', 'Alabama', 'Southern', 'Supreme Court', '##bor']\n"
          ]
        },
        {
          "metadata": {
            "tags": null
          },
          "name": "stderr",
          "output_type": "stream",
          "text": [
            "\r61it [07:20,  6.78s/it]"
          ]
        },
        {
          "metadata": {
            "tags": null
          },
          "name": "stdout",
          "output_type": "stream",
          "text": [
            "Selected Entities (Score > 50%): ['AP', 'U', 'S', 'Election', 'AP', 'Israel', 'Hamas War Russia - Ukraine War', 'Pacific', 'Latin', 'America', 'Europe Africa Middle East China', 'Australia Joe Biden Congress', 'MLB NBA NHL NFL Soccer Golf Tennis AP', 'Markets', 'Associated Press', 'AP', 'AP', 'The Associated Press', 'AP', 'AP', 'Associated Press', 'Israel', 'Unilever', 'Elon Musk', 'Supreme Court', 'Washington', 'Supreme Court', 'Republicans', 'AP', 'Luis Ma', '##gan', 'FIL', 'Republican', 'U', 'N', 'Nikki', 'Haley', 'Fair', 'Cha', 'Iowa', 'Go', 'Kim', 'Reynolds', 'Iowa', 'Fair', 'Moines', 'Iowa', 'AP', '##J', 'Roberson', 'FIL', 'Joe', 'B', '##iden', 'Democratic', 'National Committee', 'Howard', 'Washington', 'AP Photo', '##van V', '##ucci', 'FIL']\n"
          ]
        },
        {
          "metadata": {
            "tags": null
          },
          "name": "stderr",
          "output_type": "stream",
          "text": [
            "\r62it [07:28,  7.34s/it]"
          ]
        },
        {
          "metadata": {
            "tags": null
          },
          "name": "stdout",
          "output_type": "stream",
          "text": [
            "Selected Entities (Score > 50%): ['Russia', 'No', 'Women Job', 'List', 'Human Rights Watch', 'Human Rights Watch', 'English', 'Fr', 'De', '##utsch', 'Port', '##ug', '##us Espaol', 'Russia', 'No', 'Women', 'List', 'Trans', '##der Woman', 'Court', 'Russian', 'Thomson Reuters Foundation', 'Kyle Knight', 'Lesbian', 'Gay', 'Bisexual', 'and', 'Trans', '##der', 'Rights Program', 'Facebook', 'WhatsApp', 'LinkedIn', 'Reddit', 'Russian', 'St', 'Petersburg', 'Russia', 'Alexander Koria', 'AP', 'St', 'Petersburg', 'Russia', 'Anna', 'Russian', 'Soviet', 'Vladimir Putin', 'Russian', 'Russian', 'United', 'Nations']\n"
          ]
        },
        {
          "metadata": {
            "tags": null
          },
          "name": "stderr",
          "output_type": "stream",
          "text": [
            "\r63it [07:36,  7.42s/it]"
          ]
        },
        {
          "metadata": {
            "tags": null
          },
          "name": "stdout",
          "output_type": "stream",
          "text": [
            "Selected Entities (Score > 50%): ['Middletown', 'News', 'Butler', 'County', 'WorldL', '##al', '##lton', '##town', 'Chester Liberty', '##field', '##xford', '##ler County', '##ren County', 'Butler County', 'SchoolsOSU Buckeye', 'RedH', '##ks', '##nati Reds', '##nati Bengals', '##nd Browns', 'Help Center', '##omer Service', 'Journal - News', '##igi', 'Help Center', 'Journal - News', 'Policy', 'CC', 'Cox Enterprises', 'Middletown', 'Rick McCrabb', 'University', 'Middletown', 'John', 'Williams', 'Williams', 'Middle', '##town', 'Division', 'Hamilton', 'Williams', 'Middletown']\n"
          ]
        },
        {
          "metadata": {
            "tags": null
          },
          "name": "stderr",
          "output_type": "stream",
          "text": [
            "\r64it [07:44,  7.71s/it]"
          ]
        },
        {
          "metadata": {
            "tags": null
          },
          "name": "stdout",
          "output_type": "stream",
          "text": [
            "Selected Entities (Score > 50%): ['Church', 'Latin America', 'America Magazine', '##tics SocietyUS', 'Club', 'Politics Society', 'Latin America', 'Eduardo Campos Lima', 'Oaxaca', 'Mexico', 'Mexico', 'Catholics', 'Supreme Court', 'CNS', 'Luis Plata', 'Reuters', 'Latin', 'American', 'Catholic', 'Ecuador', 'Dominican', 'Republic', 'Mexican', 'Veracruz', 'Cuba', 'Guyana', 'French', 'Guyana', 'Uruguay', 'U', 'S', 'Puerto Rico', 'Latin', 'American']\n"
          ]
        },
        {
          "metadata": {
            "tags": null
          },
          "name": "stderr",
          "output_type": "stream",
          "text": [
            "\r65it [07:50,  7.24s/it]"
          ]
        },
        {
          "metadata": {
            "tags": null
          },
          "name": "stdout",
          "output_type": "stream",
          "text": [
            "Selected Entities (Score > 50%): ['UN', 'Ecuador', 'CO', '##FP', 'IndonesiaBah', 'Malaysia', 'Israeli - Palestinian', 'War', 'Ukraine', 'US', '##RICA ASIA', 'PA', '##FI', 'AMER', '##ICA EU', 'AMERICA', 'IESS Sur Hospital', 'Quito', 'Rodrigo B', '##uen', '##dia AFP UN', 'Ecuador', 'CO', 'LAARMAN', 'AFP', 'USA', 'AFP', 'United Nations', 'Ecuador', 'South American', 'UN', 'UN', 'Corona', 'Pro', 'Life', 'LifeNews', 'United Nations', 'Ecuador', 'Ecuador', 'UN', '##FP', 'Life', '##ews', 'Ecuador', 'Office', 'O', 'UN', 'Ecuador', 'Spanish']\n"
          ]
        },
        {
          "metadata": {
            "tags": null
          },
          "name": "stderr",
          "output_type": "stream",
          "text": [
            "\r66it [07:59,  7.62s/it]"
          ]
        },
        {
          "metadata": {
            "tags": null
          },
          "name": "stdout",
          "output_type": "stream",
          "text": [
            "Selected Entities (Score > 50%): ['Congress', 'Roe', '##late Shop', 'Slate', 'Slate', 'Insta', '##gram', '##late', '##late', 'Facebook', '##late', 'Congress', 'Rights', 'Roe', 'Alan B. Morrison', 'Sonia M', 'Suter', 'House', 'Nancy Pelosi', 'Womens Health Protection Act', 'Saul', 'LoebGett', 'Supreme Courts', 'Texas', 'Roe v', 'Wade', 'Congress', 'Roe', 'Senate', 'U', 'S. House of Representatives', 'H', 'R', 'Womens Health Protection Act of 2021', 'Senate', 'Democrats', 'Supreme Court', 'Congress', 'Congress', 'Roe', 'Congressional']\n"
          ]
        },
        {
          "metadata": {
            "tags": null
          },
          "name": "stderr",
          "output_type": "stream",
          "text": [
            "\r67it [08:05,  7.18s/it]"
          ]
        },
        {
          "metadata": {
            "tags": null
          },
          "name": "stdout",
          "output_type": "stream",
          "text": [
            "Selected Entities (Score > 50%): ['Georgia', 'CNN', 'CNN', 'Congress', 'CNN', 'CNN', 'US International Arabic', 'CNN', 'World Africa', 'Americas Asia Australia China Europe India Middle East United Kingdom', 'US', 'World', 'Bell', 'US', 'Olympics', 'Hockey Digital Studios CNN', 'CNN', 'Earth', 'World', 'Africa', 'CNN', 'CNN Leadership CNN News', 'CNN', 'Georgia', 'Nick Valencia', 'Devon M', 'Sayers', 'CNN', 'Act', 'Capitol', 'Atlanta', 'Georgia', 'Washington', 'CNN', 'Georgia', 'Court', 'Fulton', 'Court']\n"
          ]
        },
        {
          "metadata": {
            "tags": null
          },
          "name": "stderr",
          "output_type": "stream",
          "text": [
            "\r68it [08:13,  7.43s/it]"
          ]
        },
        {
          "metadata": {
            "tags": null
          },
          "name": "stdout",
          "output_type": "stream",
          "text": [
            "Selected Entities (Score > 50%): ['EU', 'Homo', 'English', 'ME', 'EU', 'Homo', 'Right', 'Poland', 'LGBT', 'Poland', 'Sean Gall', 'Europe', 'Poland', 'Catholic', 'Warsaw', 'Cross']\n"
          ]
        },
        {
          "metadata": {
            "tags": null
          },
          "name": "stderr",
          "output_type": "stream",
          "text": [
            "\r69it [08:19,  7.08s/it]"
          ]
        },
        {
          "metadata": {
            "tags": null
          },
          "name": "stdout",
          "output_type": "stream",
          "text": [
            "Selected Entities (Score > 50%): ['for', 'Rights', 'Argentina', 'Poland US Europe Asia Middle East Africa Americas', 'Oceania Archives', 'Polish', 'Izabela', 'Poland', 'Izabel', 'Poland', 'US Supreme Court', 'Texas', 'Turkey', 'Erdogan', 'Erdogan', 'China', 'Ireland', 'Mexico', 'South Korea', 'Argentina', 'Mexico', 'Tex', 'American', 'Argentina', 'Ireland', 'Catholic']\n"
          ]
        },
        {
          "metadata": {
            "tags": null
          },
          "name": "stderr",
          "output_type": "stream",
          "text": [
            "\r70it [08:27,  7.24s/it]"
          ]
        },
        {
          "metadata": {
            "tags": null
          },
          "name": "stdout",
          "output_type": "stream",
          "text": [
            "Selected Entities (Score > 50%): ['DeSanti', 'Florida', 'CNN', 'CNN', 'Congress', 'CNN', 'CNN', 'US', 'Arabic', 'CNN', 'World', 'Africa Americas Asia Australia China Europe India Middle East United Kingdom', 'US', 'World', 'Bell', 'Television', 'US', 'Olympics', 'Digital Studios CNN', 'CNN', 'Earth', 'World', 'Africa', 'CNN', 'CNN', 'CNN', 'CNN', 'De', '##anti', 'Florida', 'Steve Contorno', 'CNN', 'Florida', 'Ron', '##mee', 'John Rao', 'CNN', 'Florida', 'Ron', 'Mississippi']\n"
          ]
        },
        {
          "metadata": {
            "tags": null
          },
          "name": "stderr",
          "output_type": "stream",
          "text": [
            "\r71it [08:34,  7.14s/it]"
          ]
        },
        {
          "metadata": {
            "tags": null
          },
          "name": "stdout",
          "output_type": "stream",
          "text": [
            "Selected Entities (Score > 50%): ['Poles', 'AP', 'U', 'S', 'Israel', 'Hamas War Russia - Ukraine War', 'Pacific', 'Latin', 'America', 'Europe Africa Middle East China Australia', 'Joe Biden Congress March Madness MLB NBA NHL NFL Soccer Golf Tennis', 'Associated Press', 'AP', 'AP', 'Associated Press', 'AP', 'AP', 'Associated Press', 'Israel', 'Hamas', 'Unilever', 'Elon Musk', 'Poles', 'Women', 'Warsaw', 'Poland', 'Poland', 'Warsaw', 'Poland', 'Poland', 'AP', 'Warsaw', 'Poland', 'Poland']\n"
          ]
        },
        {
          "metadata": {
            "tags": null
          },
          "name": "stderr",
          "output_type": "stream",
          "text": [
            "\r72it [08:41,  7.02s/it]"
          ]
        },
        {
          "metadata": {
            "tags": null
          },
          "name": "stdout",
          "output_type": "stream",
          "text": [
            "Selected Entities (Score > 50%): ['Abortion Caravan', 'Women', 'Battle for the Right to Choose', 'Frankfurt', 'Board', 'Abortion Caravan', 'Women', 'Battle for the Right to Choose', 'Karin Wells', 'Canadians', 'Abortion Caravan', 'Vancouver', 'Ottawa', 'Canada', 'Pierre Elliott Trudeau', 'Parliament', 'Karin Wells', 'CBC Radio', 'Abortion Caravan', 'Wells', 'Canada', 'Black', 'Canada', 'Wells', 'Fraser', 'Europe']\n"
          ]
        },
        {
          "metadata": {
            "tags": null
          },
          "name": "stderr",
          "output_type": "stream",
          "text": [
            "\r73it [08:48,  7.28s/it]"
          ]
        },
        {
          "metadata": {
            "tags": null
          },
          "name": "stdout",
          "output_type": "stream",
          "text": [
            "Selected Entities (Score > 50%): ['Trump', 'Portland', 'Oregon', 'Twitter Facebook RS', 'Vimeo', 'Instagram', 'Stop the Bans', 'Portland', 'Kimberly Marie Kimble', 'Trump', 'Parenthood', '##C', 'Oregon', 'Oregon', 'Emily Mc', '##ain', 'Donald Trump', 'Roe v', 'Wade', 'Trump', 'Pa', 'Oregon', 'Black', 'Emily', 'Oregon']\n"
          ]
        },
        {
          "metadata": {
            "tags": null
          },
          "name": "stderr",
          "output_type": "stream",
          "text": [
            "\r74it [08:55,  6.95s/it]"
          ]
        },
        {
          "metadata": {
            "tags": null
          },
          "name": "stdout",
          "output_type": "stream",
          "text": [
            "Selected Entities (Score > 50%): ['Texas', 'ABC News ABC News', '##Texas', '##Nadine El - Bawab', 'Mary Kekatos', \"Women ' s March\", 'Austin', 'Texas', 'Bloomberg', 'Getty Images', 'FILEA', 'Texas', 'Alan Braid', 'S', 'B', '8', 'Al', '##amo', \"Women ' s Reproductive Services\", 'San Antonio', 'Texas', 'Roe v', 'Wade', 'New Mexico', 'Illinois', 'Callaghan O', 'Hare', 'FILEMORE Supreme Court', 'Texas', 'Bexar', 'Aaron Haas', 'Texas', 'U', 'S', 'S', 'B', 'Texas', 'S']\n"
          ]
        },
        {
          "metadata": {
            "tags": null
          },
          "name": "stderr",
          "output_type": "stream",
          "text": [
            "\r75it [09:03,  7.42s/it]"
          ]
        },
        {
          "metadata": {
            "tags": null
          },
          "name": "stdout",
          "output_type": "stream",
          "text": [
            "Selected Entities (Score > 50%): ['Indiana', 'DONATE News', 'We', 'We', 'Indiana', '##ente Bouthier', 'Indiana', 'Hoosier Jews for Choice', 'Indiana NOW', 'MADVoters', 'Devan Rid', '##way', 'WTIU News', 'Monroe County Courthouse', 'Jessica Marchbank', 'All Options Pregnancy Resource Center', 'The Ho', '##osier', 'Di', '##aper', 'Program', 'Indiana', 'Senate', 'En', 'Act', 'Indiana', 'Marchbank', 'Monroe County', 'Devan Rid', '##way', 'WTIU News', 'Indiana Supreme Court', 'Indiana', 'Lac', 'Indiana', 'Indiana']\n"
          ]
        },
        {
          "metadata": {
            "tags": null
          },
          "name": "stderr",
          "output_type": "stream",
          "text": [
            "\r76it [09:09,  7.04s/it]"
          ]
        },
        {
          "metadata": {
            "tags": null
          },
          "name": "stdout",
          "output_type": "stream",
          "text": [
            "Selected Entities (Score > 50%): ['US', 'Muslim', 'Women News Al Jazeera', 'EastAfricaAsia', '##n America', '##pe', '##As', '##ia PacificI', 'War', 'Gaza', '##nce', 'Muslim', 'Roe v Wade', 'US', 'Muslim Americans', 'Roe v Wade', 'US Supreme Court', 'Washington', 'DC', 'Sarah Silbiger', 'Dalia Hatu', 'US Supreme Court', 'American', 'United States', 'Roe', 'Wade', 'Muslim Americans', 'US', 'US Supreme Court', 'Roe v Wade', 'US', 'Supreme Court', 'Aliza Kazmi', 'Muslim', 'US', 'Muslim', 'Islam', 'Black', 'Christian', 'Ka', 'Al']\n"
          ]
        },
        {
          "metadata": {
            "tags": null
          },
          "name": "stderr",
          "output_type": "stream",
          "text": [
            "\r77it [09:18,  7.52s/it]"
          ]
        },
        {
          "metadata": {
            "tags": null
          },
          "name": "stdout",
          "output_type": "stream",
          "text": [
            "Selected Entities (Score > 50%): ['State Abortion Ban', 'Dobbs Decision', 'KFF', 'A', '##able Care Act', '##D', 'Global', 'HIV', '##ID', 'Medicaid Medicare Mental Health', 'Protection', '##cial Equity', 'KFF', 'Peterson', 'KFF Health', 'KFF', 'Drew Alt', 'KFF Board', 'KFF', 'U', 'S', 'Medicare', 'Ban', 'Dobbs Decision', 'Dobbs Decision', 'Mabel Felix', 'Laurie Sobel', 'Alina Salganicoff', 'Supreme Court of the', 'United', 'States', 'Dobbs', 'Ohio', 'Oklahoma', 'Georgia', 'Utah', 'Health Care Amendment', 'Wyoming', 'Ohio', 'Florida', 'Indiana', 'Kentucky', 'Missouri', 'Utah', 'Wyoming']\n"
          ]
        },
        {
          "metadata": {
            "tags": null
          },
          "name": "stderr",
          "output_type": "stream",
          "text": [
            "\r78it [09:24,  7.12s/it]"
          ]
        },
        {
          "metadata": {
            "tags": null
          },
          "name": "stdout",
          "output_type": "stream",
          "text": [
            "Selected Entities (Score > 50%): ['Trump', 'Roe v', 'Wade', 'Republicans', 'CNN', 'CNN', 'Congress', 'CNN', 'CNN', 'Arabic', 'CNN', 'World', 'Africa Americas Asia Australia China Europe India Middle East United Kingdom', 'US', 'Bell', 'US', 'Olympics', 'Hockey Digital Studios CNN', 'CNN', 'Earth', 'World', 'Africa', 'CNN', 'CNN', 'CNN', 'CNN News', 'CNN', 'Trump', 'Roe v', 'Wade', 'Republicans', 'Eric Brad', 'CNN', 'Dale', 'Trump', 'CNN', 'Magazine', 'South Dakota', 'Katie', 'Union']\n"
          ]
        },
        {
          "metadata": {
            "tags": null
          },
          "name": "stderr",
          "output_type": "stream",
          "text": [
            "\r79it [09:32,  7.48s/it]"
          ]
        },
        {
          "metadata": {
            "tags": null
          },
          "name": "stdout",
          "output_type": "stream",
          "text": [
            "Selected Entities (Score > 50%): ['Pro - Life Project', '##cial', 'Christianity', 'Pro - Life Project', '##cial', 'Andrea Pa', '##pant Di', 'Stue', '##f Creative Source Images', 'Stringer Hulton Archive', 'Getty', 'American', 'Scott Cole']\n"
          ]
        },
        {
          "metadata": {
            "tags": null
          },
          "name": "stderr",
          "output_type": "stream",
          "text": [
            "\r80it [09:39,  7.12s/it]"
          ]
        },
        {
          "metadata": {
            "tags": null
          },
          "name": "stdout",
          "output_type": "stream",
          "text": [
            "Selected Entities (Score > 50%): ['TN', 'Nashville', '##N', 'Sports Counties', '##ise', 'POLITICSThr', 'Tennessee', 'Center for Reproductive Health', 'New York', 'Melissa Brown', '##ashville Ten', '##nessean', 'Tennessee', 'Katy Dulong', 'Dulong', 'Dulong', 'Dulong', 'Davidson County', 'Chancery Court', 'Tennessee', 'Tennessee', 'Tennessee', 'Center', 'York', 'Tennessee', 'Texas', 'Texas']\n"
          ]
        },
        {
          "metadata": {
            "tags": null
          },
          "name": "stderr",
          "output_type": "stream",
          "text": [
            "\r81it [09:47,  7.53s/it]"
          ]
        },
        {
          "metadata": {
            "tags": null
          },
          "name": "stdout",
          "output_type": "stream",
          "text": [
            "Selected Entities (Score > 50%): ['Students for Life of America', 'Frederick Douglass Foundation', 'District of Columbia', 'Free Speech Case', 'Students for Life of America', 'Life', 'SFLA', 'Life of America', 'Frederick Douglass Foundation', 'District of Columbia', 'Free Speech', 'Kristi Hamrick', 'U', 'S. Constitution', 'SFLA', 'Kristan Hawkins', 'Black Preborn Lives Matter', 'D', 'C', 'Frederick Douglass Foundation, Inc', 'District of Columbia', 'D', 'C', 'C', 'WAS', '##ING', 'D', 'C', 'for Life of America SFLA', 'Frederick Douglass Foundation FDF', 'Alliance Defending Freedom AD', 'Columbia', 'Black', 'Live Matter', 'Black Lives', 'SFLA', '##LA', 'D', 'AD', 'Washington']\n"
          ]
        },
        {
          "metadata": {
            "tags": null
          },
          "name": "stderr",
          "output_type": "stream",
          "text": [
            "\r82it [09:54,  7.33s/it]"
          ]
        },
        {
          "metadata": {
            "tags": null
          },
          "name": "stdout",
          "output_type": "stream",
          "text": [
            "Selected Entities (Score > 50%): ['Vatican', 'Frank Pavone', 'Catholic News Agency', 'EWTN News CNA ACI Prensa ACI Stampa ACI Digital ACI Africa ACI Afrique ACI Mena CNA Deutsche NCRegister News', 'Vatican Americas Asia', 'Pacific US Europe Middle East', 'Africa', 'Benedict XVI Bible Catech', 'Catholic Link', 'Calendar', 'Mary', 'Pope Francis', 'CNA News', 'Service', 'Donate Search', 'EWTN News Vatican', 'Frank Pavone', 'Frank Pavon', 'Life', 'W', '##media Commons', 'Shannon Mullen', 'Joe Bukuras', 'Washington, D', 'C. Newsroom', 'Frank Pavone', 'Priests for Life', 'CNA', 'U', 'S', 'CNA', 'Christophe Pierre', 'United States', 'Pavone', 'Pierre', 'Pavon', 'Pavon', 'C', '##NA', 'Vatican', 'Pierre', 'Pa', 'Pavon', 'Pa', 'Vatican', 'Life', 'Inc', 'Catholic', 'Pa']\n"
          ]
        },
        {
          "metadata": {
            "tags": null
          },
          "name": "stderr",
          "output_type": "stream",
          "text": [
            "\r83it [10:01,  7.18s/it]"
          ]
        },
        {
          "metadata": {
            "tags": null
          },
          "name": "stdout",
          "output_type": "stream",
          "text": [
            "Selected Entities (Score > 50%): ['Pro', 'Life Catholics', 'National Catholic Bioethics Center', 'Services', 'Bureau', 'Sacred Heart', 'NCB', 'Diocesan Hospital', 'Corporate State Catholic Conference', 'Washington Inside', 'Catholic Bio', 'B', 'Tad', 'NCBC', 'B', 'NCBC', 'Donald Trump', 'Vatican', 'Catholic']\n"
          ]
        },
        {
          "metadata": {
            "tags": null
          },
          "name": "stderr",
          "output_type": "stream",
          "text": [
            "\r84it [10:09,  7.35s/it]"
          ]
        },
        {
          "metadata": {
            "tags": null
          },
          "name": "stdout",
          "output_type": "stream",
          "text": [
            "Selected Entities (Score > 50%): ['Ohio', 'CNN CNN', 'CNN', 'CNN', 'US', 'Arabic', 'CNN', 'World', 'Africa Americas Asia Australia China Europe India Middle East United Kingdom', '##US Congress', 'World', 'College', 'Basketball Baseball Soccer Olympics', 'CNN', 'CNN Max Digital Studios CNN', 'CNN', 'CNN', 'Electronics Health Fitness', 'CNN', 'CNN', 'CNN', 'CNN', 'CNN', 'CNN', 'Ohio', 'CNN', 'Ohio', 'Elizabeth Cohen', 'Amanda', 'CNN', 'Beth', 'Kyle', 'Ohio']\n"
          ]
        },
        {
          "metadata": {
            "tags": null
          },
          "name": "stderr",
          "output_type": "stream",
          "text": [
            "\r85it [10:17,  7.65s/it]"
          ]
        },
        {
          "metadata": {
            "tags": null
          },
          "name": "stdout",
          "output_type": "stream",
          "text": [
            "Selected Entities (Score > 50%): ['This Really Is a Different Pro - Life Movement', 'Atlantic', 'Atlantic', 'Atlantic', 'Really Is a Different Pro - Life Movement', 'Catholics', 'Daniel K', 'Williams', 'Be', '##rman Red', 'Supreme Court', 'Roe v', 'Wade', 'Bible', 'Belt', 'Mississippi', 'Oklahoma', 'Arkansas', 'Georgia', 'North', 'South Carolina', 'Virginia', 'Roe', 'Catholic', 'Northeast', 'Massachusetts', 'American Civil Liberties Union', 'Supreme Court', 'Massachusetts', 'Roe', 'Rhode Islands', 'Massachusetts', 'New', 'England', 'Wade', 'Roe', 'America', 'Democrats']\n"
          ]
        },
        {
          "metadata": {
            "tags": null
          },
          "name": "stderr",
          "output_type": "stream",
          "text": [
            "\r86it [10:26,  7.94s/it]"
          ]
        },
        {
          "metadata": {
            "tags": null
          },
          "name": "stdout",
          "output_type": "stream",
          "text": [
            "Selected Entities (Score > 50%): ['Alaska', 'Covid', '19', 'Ban', 'Human Rights Watch', 'Human Rights Watch', 'English', 'Frana', 'De', '##uts', '##ug', '##us Esp', 'Alaska', 'Covid', '19', 'Ban', 'US', 'Sc', '##hu', '##yler', 'Reid', 'Global Human Resources', '##chuylerre', 'Facebook', 'WhatsApp', 'LinkedIn', 'Red', '##dit', 'Sitka', 'Alaska', \"Women ' s March on\", 'Washington', 'James Poulson', 'Daily Sitka Sentinel', 'AP', 'New York City', 'Chicago', 'Alaska', 'Covid - 19', 'Alaska', 'Michael Dun', '##vy', 'Du', 'American', 'Alaska', 'Alaska', 'US']\n"
          ]
        },
        {
          "metadata": {
            "tags": null
          },
          "name": "stderr",
          "output_type": "stream",
          "text": [
            "\r87it [10:32,  7.41s/it]"
          ]
        },
        {
          "metadata": {
            "tags": null
          },
          "name": "stdout",
          "output_type": "stream",
          "text": [
            "Selected Entities (Score > 50%): ['Poland', 'Poland', 'The Guardian', '##ralia', 'Guardian', 'Guardian', 'News', 'Guardian', '##icTV', '##ia', 'Guardian', 'Guardian', 'Observer', '##uard', '##ian', '##ian', '##ia', '##ia', 'East', 'Poland', 'Europe']\n"
          ]
        },
        {
          "metadata": {
            "tags": null
          },
          "name": "stderr",
          "output_type": "stream",
          "text": [
            "\r88it [10:40,  7.72s/it]"
          ]
        },
        {
          "metadata": {
            "tags": null
          },
          "name": "stdout",
          "output_type": "stream",
          "text": [
            "Selected Entities (Score > 50%): ['Wiregrass', 'Montgomery', '##rat', '##acy of Lynchings', '##USA', 'American', 'South Wiregrass', 'Montgomery', '##rian Lyman Montgomery Advertiser', 'Montgomery County House', 'Wiregrass', 'Mike Jones', 'Andalusia', 'Montgomery Public Schools', 'State House', 'Kirk Hatcher', 'Montgomery', 'Reed Ingram', 'Pike Road', 'Ingram', 'Hatcher', 'Jones', 'Hatcher', 'Jones', 'Montgomery County', 'Alabama Farmers Federation', 'Republicans', 'Committee', 'Hatch', 'Democratic', 'Hatch', 'Montgomery', 'Montgomery']\n"
          ]
        },
        {
          "metadata": {
            "tags": null
          },
          "name": "stderr",
          "output_type": "stream",
          "text": [
            "\r89it [10:46,  7.25s/it]"
          ]
        },
        {
          "metadata": {
            "tags": null
          },
          "name": "stdout",
          "output_type": "stream",
          "text": [
            "Selected Entities (Score > 50%): ['US', 'The Guardian', '##ralia', 'Guardian', 'Guardian', 'Guardian', '##icTV', '##ralia', 'Guardian', 'Guardian', 'Observer', '##ia', 'East', 'US', 'Washington DC', 'Reynolds', 'US']\n"
          ]
        },
        {
          "metadata": {
            "tags": null
          },
          "name": "stderr",
          "output_type": "stream",
          "text": [
            "\r90it [10:55,  7.56s/it]"
          ]
        },
        {
          "metadata": {
            "tags": null
          },
          "name": "stdout",
          "output_type": "stream",
          "text": [
            "Selected Entities (Score > 50%): ['Idaho', 'Friendly', 'Ban', 'Fair', 'Ban', '##rad Little', 'Bess Levin', '##rad Little', 'Idaho', 'U', 'S', 'Mike Pence', 'South Lawn', 'White House', 'Washington', 'D', 'C', 'U', 'S', 'Russian', 'Covid - 19', 'U', 'K', 'U', 'S', 'Canadian', 'Al Drago', '##loomberg', 'Getty Images', '##berg', 'Idaho', 'House', 'Texas', 'Lone Star States S', 'B. 8', 'Idaho', 'Texas', 'Idaho', 'Idaho', 'Idaho']\n"
          ]
        },
        {
          "metadata": {
            "tags": null
          },
          "name": "stderr",
          "output_type": "stream",
          "text": [
            "\r91it [11:01,  7.15s/it]"
          ]
        },
        {
          "metadata": {
            "tags": null
          },
          "name": "stdout",
          "output_type": "stream",
          "text": [
            "Selected Entities (Score > 50%): ['SFLA', 'Pro', 'Life Gen Voices', 'Students for Life of America', 'We', 'SFLA', 'SFLA', 'Pro', 'Life Gen Voices', 'Roe v', 'Wade', 'Students for Life of America SFLA', 'SFLA', 'Pro', 'Life Gen Voices', 'D', 'C', 'Pro', 'Life Gen Voices', 'SFLA', '##LA']\n"
          ]
        },
        {
          "metadata": {
            "tags": null
          },
          "name": "stderr",
          "output_type": "stream",
          "text": [
            "\r92it [11:09,  7.35s/it]"
          ]
        },
        {
          "metadata": {
            "tags": null
          },
          "name": "stdout",
          "output_type": "stream",
          "text": [
            "Selected Entities (Score > 50%): ['Kentucky Right to Life', 'Margie Montgomery', '##ews Sports Kentucky Derby Life Opinion Advertise', '##s POLITICSK', '##ucky Right to Life', 'Margie Montgomery', 'Deborah YetterLouisville Courier JournalLOUISVILLE', 'Ky', 'Margie Montgomery', 'Kentucky Right to Life Association', 'Montgomery', 'Right to Life of Louisville', 'Kentucky Right to Life', 'Montgomery', 'Frankfort', 'Kentucky General Assembly', 'Montgomery', '##my McGrath', 'Mitch Mc', '##C', '##onnell', 'The Courier Journal', 'U', 'S', 'Supreme Court', 'Roe v', 'Wade', 'Montgomery', 'Kentucky Right to Life', 'American Civil Libert', 'Union', 'Kentucky', 'Whitney', 'Hopkins', 'Republican', 'Montgomery', 'Kentucky', '##field', '##field', 'Montgomery', 'Kentucky', 'Right', 'Life Committee']\n"
          ]
        },
        {
          "metadata": {
            "tags": null
          },
          "name": "stderr",
          "output_type": "stream",
          "text": [
            "\r93it [11:15,  7.12s/it]"
          ]
        },
        {
          "metadata": {
            "tags": null
          },
          "name": "stdout",
          "output_type": "stream",
          "text": [
            "Selected Entities (Score > 50%): ['Bill Baird', 'Sharon - Stoughton League of Women Voters', 'Cars USA', 'JOURNAL', 'Bill Baird', 'Snyder', 'Sharon - Stoughton League of Women Voters', 'Bill Baird', 'Baird', 'U', 'S', 'Supreme Court', 'Baird', 'League of Women Voters', 'Snyder', 'Stoughton', 'Steve Fradkin', 'Sharon', 'Catholic', 'Boston', 'Vatican', 'Sharon', 'Baird']\n"
          ]
        },
        {
          "metadata": {
            "tags": null
          },
          "name": "stderr",
          "output_type": "stream",
          "text": [
            "\r94it [11:22,  7.11s/it]"
          ]
        },
        {
          "metadata": {
            "tags": null
          },
          "name": "stdout",
          "output_type": "stream",
          "text": [
            "Selected Entities (Score > 50%): ['Maltese', 'UK', 'UK', 'Maltese', 'Abortion Support Network', 'Malta', 'Mara Klein Clarke', 'UK', 'Klein Clarke', 'Times of Malta', 'Maltese', 'Malta', '##Joseph Muscat', 'Klein Clarke', 'Malta', 'Malta', 'Gilbert Gravino', 'Doctors for Choice']\n"
          ]
        },
        {
          "metadata": {
            "tags": null
          },
          "name": "stderr",
          "output_type": "stream",
          "text": [
            "\r95it [11:30,  7.23s/it]"
          ]
        },
        {
          "metadata": {
            "tags": null
          },
          "name": "stdout",
          "output_type": "stream",
          "text": [
            "Selected Entities (Score > 50%): ['FL Supreme Court', 'Florida Phoenix H', 'Environment Culture Society', 'The', '##IB', 'Civil Rights ImmigrationCulture Society', 'FL Supreme Courts', 'Michael Moline', 'Florida Supreme Court', 'Danielle J', 'Brown', 'Florida Supreme Court', 'Florida Constitution', 'Privacy Clause', 'Florida', 'Planned Parenthood', 'Pri', '##cy Clause', 'Florida', 'Ron DeSantis', 'Claus', 'Leon', 'John Cooper', 'Claus']\n"
          ]
        },
        {
          "metadata": {
            "tags": null
          },
          "name": "stderr",
          "output_type": "stream",
          "text": [
            "\r96it [11:36,  6.91s/it]"
          ]
        },
        {
          "metadata": {
            "tags": null
          },
          "name": "stdout",
          "output_type": "stream",
          "text": [
            "Selected Entities (Score > 50%): ['US', 'Moira Donegan', 'The Guardian', '##ralia', 'Guardian', 'Guardian', 'News', 'Guardian', '##icTV', '##ralia', 'Guardian', 'Guardian', 'Observer', 'Guardian']\n"
          ]
        },
        {
          "metadata": {
            "tags": null
          },
          "name": "stderr",
          "output_type": "stream",
          "text": [
            "\r97it [11:44,  7.35s/it]"
          ]
        },
        {
          "metadata": {
            "tags": null
          },
          "name": "stdout",
          "output_type": "stream",
          "text": [
            "Selected Entities (Score > 50%): ['Matty Healy', 'In', 'Facebook', 'You', 'Alex Darus', '1975', 'Matty Healy', 'Demi Lovato', 'Healy', 'Healy', '1975', 'Healy', 'Healy', '1975', 'Healy', 'Alabama', 'Healy', 'Hangout Music Festival', 'LGBT', 'Dubai', 'Healy', 'Dubai', 'LGBT', 'Arab', 'Matt', 'Healy', 'He']\n"
          ]
        },
        {
          "metadata": {
            "tags": null
          },
          "name": "stderr",
          "output_type": "stream",
          "text": [
            "\r98it [11:51,  7.00s/it]"
          ]
        },
        {
          "metadata": {
            "tags": null
          },
          "name": "stdout",
          "output_type": "stream",
          "text": [
            "Selected Entities (Score > 50%): ['New York', 'S', 'New York', '##drienne Dunn', 'USA', 'Cuomo', 'Roe V', 'Wade', 'Andrew Cuomo', 'Peekskill', 'Roe v', 'Wade', 'NY', 'Democrats', 'Senate', 'Cuomo', '##oseph Spector', 'RocklandWestchester Journal News', 'New York', 'Andrew Cuomo', '##ew York', 'Andrew Cuomo', 'U', 'S', 'Cuomo', 'NY', 'Andrew Cuomo', 'Andrew Cuomo', 'New York', 'York', '##ew York', 'C', 'Roe', 'Wade', 'New York', 'Act']\n"
          ]
        },
        {
          "metadata": {
            "tags": null
          },
          "name": "stderr",
          "output_type": "stream",
          "text": [
            "\r99it [11:59,  7.39s/it]"
          ]
        },
        {
          "metadata": {
            "tags": null
          },
          "name": "stdout",
          "output_type": "stream",
          "text": [
            "Selected Entities (Score > 50%): ['Louisiana', 'SC', '##b', 'Louisiana', 'Amy Howe', 'Julie Rikelman', 'Lie', 'Supreme Court', 'Texas', 'Anthony Kennedy', 'Supreme Court', 'Louisiana', 'Kennedy', 'John Roberts', 'Kennedy', 'Brett Kavanaugh', 'Louisiana Unsafe Abortion Protection Act', 'Louisiana', 'Supreme Court', 'John Roberts', 'Texas', 'Circuit', 'Supreme Court']\n"
          ]
        },
        {
          "metadata": {
            "tags": null
          },
          "name": "stderr",
          "output_type": "stream",
          "text": [
            "\r100it [12:05,  7.05s/it]"
          ]
        },
        {
          "metadata": {
            "tags": null
          },
          "name": "stdout",
          "output_type": "stream",
          "text": [
            "Selected Entities (Score > 50%): ['Notre Dame', '##ews Sports Entertainment Ad', '##ise', 'L', '##AL', 'Notre Dame', '##outh Bend Tribune Report', '##outh Bend Tribune', 'University of Notre Dame', 'Notre Dame', 'Notre Dame', 'Affordable Care Act', 'Notre Dame', 'Notre Dame', 'U', 'S. District Court', 'Philip Simon', 'Notre Dame', 'Paul Browne', 'Notre Dame', 'The Tribune', 'Irish 4 Reproductive Health', 'Notre Dame', 'National Womens Law Center', 'Americans United for Separation of Church and State', 'Center for Reproductive Rights', 'Irish', 'Notre Dame', 'Trump', 'Notre Dame', 'John Jenkins', 'Notre Dame']\n"
          ]
        },
        {
          "metadata": {
            "tags": null
          },
          "name": "stderr",
          "output_type": "stream",
          "text": [
            "\r101it [12:14,  7.49s/it]"
          ]
        },
        {
          "metadata": {
            "tags": null
          },
          "name": "stdout",
          "output_type": "stream",
          "text": [
            "Selected Entities (Score > 50%): ['UNFPA', 'COVID', '19', 'UN', 'United Nations', 'Language English Franais E', 'Portug', 'Kiswahili', 'Hindi Urdu', 'UN', 'Africa Americas Asia Pacific Middle East Europe', 'UN', 'UN', 'UN', 'UN', 'Africa', 'UN', 'UN', 'UN', 'UN', 'UNFPA', 'COVID', '19', 'UNICEF', 'Lagos State', 'Nigeria', 'United Nations Population Fund UNFPA', 'COVID - 19', 'UN', 'Natalia Kanem', 'UNFPA', 'UNFP', 'UNFP']\n"
          ]
        },
        {
          "metadata": {
            "tags": null
          },
          "name": "stderr",
          "output_type": "stream",
          "text": [
            "\r102it [12:20,  7.13s/it]"
          ]
        },
        {
          "metadata": {
            "tags": null
          },
          "name": "stdout",
          "output_type": "stream",
          "text": [
            "Selected Entities (Score > 50%): ['Nebraska', 'CBS News', 'U', 'S', 'World Politics Entertainment HealthWatch MoneyWatch Crime Sports Local News Baltimore', 'Bay Area', 'Colorado', 'Detroit', 'Los Angeles', 'Miami Minnesota New York', 'Philadelphia', 'Pittsburgh Sacramento Texas Live CBS News', 'America', 'CBS Evening News CBS', 'Morning', 'CBS', 'News Eye', 'CBS', 'News', 'CBS Reports CBS', 'CBS News Team', 'Paramount Shop Paramount Join Our Talent Community RS', 'CBS News', 'Nebraska', 'North Carolina', 'North Carolina', 'Nebraska Legislature', 'Republican', 'Jim Pillen', 'Nebraska Capitol', 'Republicans', 'U', 'S', 'Nebraska', 'Nebraska', 'North Carolina', 'Nebraska']\n"
          ]
        },
        {
          "metadata": {
            "tags": null
          },
          "name": "stderr",
          "output_type": "stream",
          "text": [
            "\r103it [12:28,  7.52s/it]"
          ]
        },
        {
          "metadata": {
            "tags": null
          },
          "name": "stdout",
          "output_type": "stream",
          "text": [
            "Selected Entities (Score > 50%): ['Canadians', 'English', '##iano', '##uese', '##olska', '##Slovenin', '##a', 'of Saint', 'Joseph', 'Canadians', 'Aleteia', 'Lenten', 'Angus Reid Institute', 'Canadians', 'Canadians', 'Canadians', 'Canadians']\n"
          ]
        },
        {
          "metadata": {
            "tags": null
          },
          "name": "stderr",
          "output_type": "stream",
          "text": [
            "\r104it [12:35,  7.18s/it]"
          ]
        },
        {
          "metadata": {
            "tags": null
          },
          "name": "stdout",
          "output_type": "stream",
          "text": [
            "Selected Entities (Score > 50%): ['Kanye West', 'White', '##BE', 'BETA', 'Congress', 'Prince Harry', 'U', 'S', 'Counter', 'Control', 'Medicaid', 'Wisconsin', '##George Lucas', 'Disney', 'Bob Iger', 'Peltz', 'Royal Family', 'News Agency', 'William', 'Kate Middleton', 'Trump', '##e House', 'Antisemit', 'Trump', 'Jewish Democratic', 'Israel', 'Bruno Mars', '##my Daniels', 'Michael Cohen', 'Trump', 'Trump', 'Peter Navarro', 'Kate Middleton', 'William', 'Richard Simmons', 'Star', 'Trump', 'Trump']\n"
          ]
        },
        {
          "metadata": {
            "tags": null
          },
          "name": "stderr",
          "output_type": "stream",
          "text": [
            "\r105it [12:42,  7.29s/it]"
          ]
        },
        {
          "metadata": {
            "tags": null
          },
          "name": "stdout",
          "output_type": "stream",
          "text": [
            "Selected Entities (Score > 50%): ['U', 'S', 'Supreme Court', 'Roe v', 'Wade', 'Lindsey Graham', 'R', 'SC', 'Michigan', 'Pro', '##sal 3', 'Constitution', 'Michigan', 'U', 'S. House', 'GOP', 'Democratic', 'Michigan', 'Supreme Court', 'Republican', 'John Gibbs', 'Tom Barrett', 'Paul Junge', 'John James', 'Right to Life of Michigan', 'Michigan', 'GO', '##P', 'Graham', 'Republican', 'Mitch McConnell', 'Roy Blunt', 'John Gibbs', 'Tom Barrett', 'Kansas', 'Paul Junge', 'Supreme Court', 'Roe v', 'Wade', 'pro', 'John James', 'Democratic', 'Hillary', 'S', 'Dan Ki', 'Carl Mar', 'Supreme Court', 'Michigan', 'Republican', 'Graham', 'Democratic']\n"
          ]
        },
        {
          "metadata": {
            "tags": null
          },
          "name": "stderr",
          "output_type": "stream",
          "text": [
            "\r106it [12:49,  7.26s/it]"
          ]
        },
        {
          "metadata": {
            "tags": null
          },
          "name": "stdout",
          "output_type": "stream",
          "text": [
            "Selected Entities (Score > 50%): ['UNFPA', 'English E', '##UNFPA', 'Amrica', '##a y el Caribe', '##FP', 'Latin America', 'Caribbean', '##UNFPA', '##FPA', 'Peru', 'Peru', 'United Nations Population Fund', 'UNFPA', 'UNFPA', 'CO', '##D', '19', 'UNFPA Peru Office', 'Kit', 'Kit', 'Kit']\n"
          ]
        },
        {
          "metadata": {
            "tags": null
          },
          "name": "stderr",
          "output_type": "stream",
          "text": [
            "\r107it [12:56,  7.10s/it]"
          ]
        },
        {
          "metadata": {
            "tags": null
          },
          "name": "stdout",
          "output_type": "stream",
          "text": [
            "Selected Entities (Score > 50%): ['South Korea', 'Human Rights Watch', 'Human Rights Watch', 'English', 'Fr', '##is De', '##uts', '##ch Port', '##ug', '##us Espaol', 'South Korea', 'Susann Seong', 'eun Bergsten', \"Women ' s Rights Division SuzeBP\", 'Facebook', 'WhatsApp', 'LinkedIn', 'Red', 'Constitutional Court', 'Seoul', 'South Korea', '##ee Jin', 'South Korea', 'Japan', 'Sayuri Fujita', 'Japanese', 'South Korea', 'South Korea']\n"
          ]
        },
        {
          "metadata": {
            "tags": null
          },
          "name": "stderr",
          "output_type": "stream",
          "text": [
            "\r108it [13:04,  7.31s/it]"
          ]
        },
        {
          "metadata": {
            "tags": null
          },
          "name": "stdout",
          "output_type": "stream",
          "text": [
            "Selected Entities (Score > 50%): ['Poland', 'Euro', 'English English', '##eutsch', 'Brussels', 'Europe', 'Europe', 'Union', 'C', 'Europe', 'Euro', 'Eurone', 'Qatar', 'World News', 'Japan', 'Dub', 'Eurone', 'Us', 'Soul Of', 'South', 'Women', 'Borders', 'Saudi', 'Dubai', 'Estonia', 'Sharjah', 'Azerbaijan', 'Qatar', 'Spain', 'Uzbekistan', 'Greece', 'Classic Piano Competition', 'Garden City', 'Kerala', 'Ron Barcel', 'Wine Of', 'Moldova', 'Euro', 'EU', 'Euro', 'Poland', 'Poland', 'Euro']\n"
          ]
        },
        {
          "metadata": {
            "tags": null
          },
          "name": "stderr",
          "output_type": "stream",
          "text": [
            "\r109it [13:10,  6.97s/it]"
          ]
        },
        {
          "metadata": {
            "tags": null
          },
          "name": "stdout",
          "output_type": "stream",
          "text": [
            "Selected Entities (Score > 50%): ['Fox News Fox News Media Fox News', '##ox News Audio', 'Fox News U', 'Politics World Op', 'Fox News', 'Senate House', 'U', 'N', '##OX Nation', 'NFL College Football MLB NBA NHL Golf Tennis Soccer', 'Auto Travel', 'Real Estate House', '##OX', '##OX News', '##OX News Go', '##OX Weather', '##OX Nation', '##OX News Shop', '##OX News Radio', 'Fox News', '##OX News Network, LLC', 'Factset', 'FactSet Digital Solutions', 'Refinitiv Lipper', 'In', 'DC', 'Fox', 'Houston', 'Fox', 'Facebook', 'Virginia', 'Fox']\n"
          ]
        },
        {
          "metadata": {
            "tags": null
          },
          "name": "stderr",
          "output_type": "stream",
          "text": [
            "\r110it [13:19,  7.39s/it]"
          ]
        },
        {
          "metadata": {
            "tags": null
          },
          "name": "stdout",
          "output_type": "stream",
          "text": [
            "Selected Entities (Score > 50%): ['##kron Zoo', 'Ko', '##do', 'Sports Entertainment Life', 'L', '##L', 'Roe', '##han', '##non', 'CoanAkron Beacon Journal', 'Supreme Court', 'Roe v', 'Wade', 'Norman K. Douglas', 'St. Vincent de Paul Catholic Parish', 'Akron', 'Edward Malesic', 'Catholic', 'Cleveland', 'Douglas', 'Douglas', 'Beacon Journal', 'Roe', 'Ohio', 'Ohio', 'Ohio', 'Department of Health', 'More', '##kron', 'U', 'Supreme Court', 'Roe v', 'Wade', 'Ohio', 'Carlo', 'Cleveland', 'Catholic']\n"
          ]
        },
        {
          "metadata": {
            "tags": null
          },
          "name": "stderr",
          "output_type": "stream",
          "text": [
            "\r111it [13:25,  7.02s/it]"
          ]
        },
        {
          "metadata": {
            "tags": null
          },
          "name": "stdout",
          "output_type": "stream",
          "text": [
            "Selected Entities (Score > 50%): ['Oklahoma', 'Vox', 'Vox', 'Vox', 'Israel', 'Hamas', 'Supreme Court', 'Health', 'Care Abortion', 'Oklahoma', 'Oklahoma', 'Nicole Narea', '##nicolenarea', 'Facebook', 'Red', '##dit', 'Reddit', 'Oklahoma Capitol', 'Oklahoma City', 'GOP', 'Sean Murphy', 'Nicole Narea', 'Vox', 'Vox', 'Politico', 'Washington Monthly', 'New Republic', 'Republican', 'Oklahoma', 'Oklahoma Heartbeat Act', 'Kevin Stitt', 'Stitt', 'Americas', 'Oklahoma', 'Texas']\n"
          ]
        },
        {
          "metadata": {
            "tags": null
          },
          "name": "stderr",
          "output_type": "stream",
          "text": [
            "\r112it [13:33,  7.45s/it]"
          ]
        },
        {
          "metadata": {
            "tags": null
          },
          "name": "stdout",
          "output_type": "stream",
          "text": [
            "Selected Entities (Score > 50%): ['Iowa', 'CNN', 'CNN', 'Congress', 'CNN', 'CNN', 'US International Arabic', 'CNN', 'World Africa', 'Americas Asia Australia China Europe India Middle East United Kingdom', 'US', 'Bell', 'US', 'Olympics', 'Hockey Digital Studios CNN', 'CNN', 'Earth', 'World', 'Africa', 'CNN', 'CNN', 'CNN', 'CNN', 'CNN', 'Iowa', 'Shania Shelton', 'Kim Reynolds', 'Moines', 'Zach Boyd', 'Holmes', 'Network CNN', 'Iowa', 'Republican', 'Kim Reynolds', 'Iowa']\n"
          ]
        },
        {
          "metadata": {
            "tags": null
          },
          "name": "stderr",
          "output_type": "stream",
          "text": [
            "\r113it [13:39,  7.07s/it]"
          ]
        },
        {
          "metadata": {
            "tags": null
          },
          "name": "stdout",
          "output_type": "stream",
          "text": [
            "Selected Entities (Score > 50%): ['Supreme Court', 'Rights', 'The Atlantic', 'The Atlantic', 'Atlantic', 'Atlantic', 'Supreme Courts', 'Roe v', 'Wade', 'Emma Green', 'Supreme Court', 'Washington', 'D', 'C', 'Patrick Semansky', 'John Roberts', 'Supreme Court', 'Medical Services', 'Russo', 'Court', 'Donald Trump', 'United States', 'Trump', 'Roe v', 'Wade', 'Court', 'Trump', 'Medical', 'Supreme Court', 'Court', 'Anthony Kennedy', 'Courts', 'Yorker', 'Court', 'Louisiana', 'Court', 'Texas']\n"
          ]
        },
        {
          "metadata": {
            "tags": null
          },
          "name": "stderr",
          "output_type": "stream",
          "text": [
            "\r114it [13:48,  7.48s/it]"
          ]
        },
        {
          "metadata": {
            "tags": null
          },
          "name": "stdout",
          "output_type": "stream",
          "text": [
            "Selected Entities (Score > 50%): ['Mike Pence', 'NonCom', 'No', '##D', 'Creative Commons', 'The 19th', 'The 19th', 'News Network', '19th News Network', 'Black South Carolinian', 'Nikki Haley Brandon Tensley', 'Capital B', 'Alabama Supreme Court', 'Alander Rocha', 'Alabama Reflector', 'Bekah McNeel', 'So', '##rners', 'Amendment', 'Amendment Down South', 'Tressie McMillan Co', 'Errin Haines', 'Amendment', 'Amendment', 'Nikole Hannah - Jones', 'Chabeli Carrazana', 'Jasmine Mi', 'Marie', '##di', 'Dar', 'Davis', '##abby', 'Jennifer', 'Sarah McBride', 'Congress', 'Orion', 'Hawaiian', 'Norwood']\n"
          ]
        },
        {
          "metadata": {
            "tags": null
          },
          "name": "stderr",
          "output_type": "stream",
          "text": [
            "\r115it [13:54,  7.10s/it]"
          ]
        },
        {
          "metadata": {
            "tags": null
          },
          "name": "stdout",
          "output_type": "stream",
          "text": [
            "Selected Entities (Score > 50%): ['Texas', 'The Texas Tribune', 'Immigration Law', 'Air Pollution House Freedom Caucus', 'SXSW', 'Texas A', '##bor', '##tion Rest', 'Texas', 'Eleanor Klibanoff', 'Rebecca Schneid', 'Facebook Reddit', 'Amanda Zurawski Samantha Casiano Molly Duane', 'Center for Reproductive Rights', 'Ashley Brandt', 'Travis County', 'Zurawski', 'State of', 'Texas', 'Joe Timmerman', '##he Texas Tribune', 'The Brief', 'The Texas Tribune', 'Texas', 'Travis County', 'Texas']\n"
          ]
        },
        {
          "metadata": {
            "tags": null
          },
          "name": "stderr",
          "output_type": "stream",
          "text": [
            "\r116it [14:02,  7.25s/it]"
          ]
        },
        {
          "metadata": {
            "tags": null
          },
          "name": "stdout",
          "output_type": "stream",
          "text": [
            "Selected Entities (Score > 50%): ['Students for Life Action', 'Chemical A', 'Alabama', 'H', 'B', '377', 'Students for Life of America', 'SFLA', '##nts for Life Action', 'A', 'Alabama', 'H', 'B', '##7', 'Students for Life Action', 'FDA', 'Biden', 'SFLActions', 'Meredith Stratmann', 'MONTGOMERY', 'AL', 'WASHINGTO', 'D', 'C', 'Students for Life Action', 'Meredith Stratmann', 'Students for Life of America', 'SFL Action', 'Alabama House Judiciary Committee', 'H', 'B', '##7', 'Chemical Abortion Ban', 'Andrew Sorrell', 'Chemical Abortion Pills', 'SFLA', 'Life Action', 'Life', 'Alabama', 'SFLA']\n"
          ]
        },
        {
          "metadata": {
            "tags": null
          },
          "name": "stderr",
          "output_type": "stream",
          "text": [
            "\r117it [14:08,  7.14s/it]"
          ]
        },
        {
          "metadata": {
            "tags": null
          },
          "name": "stdout",
          "output_type": "stream",
          "text": [
            "Selected Entities (Score > 50%): ['Down S', '##drome', 'Students for Life of America', 'SFLA', 'Down S', '##drome', '##essica Nardi', 'Down', 'Ann Poirier', 'Alice', 'Poirier', 'SFLA', 'Poirier', 'Down', 'Alice', 'Alice', 'Lucy', 'Alice', 'Down', 'Down', 'Down', 'Down', 'Alice', 'Down', 'Iceland', 'Down', 'Down', 'US', 'Down']\n"
          ]
        },
        {
          "metadata": {
            "tags": null
          },
          "name": "stderr",
          "output_type": "stream",
          "text": [
            "\r118it [14:15,  7.01s/it]"
          ]
        },
        {
          "metadata": {
            "tags": null
          },
          "name": "stdout",
          "output_type": "stream",
          "text": [
            "Selected Entities (Score > 50%): ['2020 Presidential', 'Women', 'Health KFF', 'A', '##able Care Act CO', '##D', '19 Global', 'HIV', 'Medicaid Medicare Mental Health', 'Protection', 'Insurance', '##cial Equity', 'Women', 'KFF', 'KFF Health', 'KFF', 'Drew Alt', 'KFF Board', 'KFF', 'U', 'S', 'Medicare Drug', '##able Care Act', '2020', 'Health', '2020', 'Women', '##s Health', 'Michelle Long', 'Amrutha Ramaswamy', 'Alina Salganicoff', 'COVID - 19', 'Affordable Care Act', 'Donald Trump', 'Republican', 'Joe', 'Democratic', 'Force', 'U', 'S', 'Barack Obama', 'Act', 'Care Act', 'U', 'S']\n"
          ]
        },
        {
          "metadata": {
            "tags": null
          },
          "name": "stderr",
          "output_type": "stream",
          "text": [
            "\r119it [14:23,  7.23s/it]"
          ]
        },
        {
          "metadata": {
            "tags": null
          },
          "name": "stdout",
          "output_type": "stream",
          "text": [
            "Selected Entities (Score > 50%): ['Polish', 'Poland', 'The Guardian', '##ralia', 'Guardian', 'Guardian', 'News', 'Guardian', '##icTV', '##ralia', 'Guardian', '##y', 'Guardian', 'Observer', '##uard', 'Archive', 'Li', 'Us', '##ia', 'East', '##rica', 'Catholic', 'Age', 'G', 'Catholic', 'Age', 'G']\n"
          ]
        },
        {
          "metadata": {
            "tags": null
          },
          "name": "stderr",
          "output_type": "stream",
          "text": [
            "\r120it [14:27,  6.30s/it]"
          ]
        },
        {
          "metadata": {
            "tags": null
          },
          "name": "stdout",
          "output_type": "stream",
          "text": [
            "Selected Entities (Score > 50%): ['Stitt', 'Stitt', 'Sarah Stitt', 'Oklahoma', 'Capitol', 'News', 'Oklahoma', 'Oklahoma', 'Kevin Stitt', 'HB43', 'Oklahoma', 'Oklahoma', 'Oklahoma', 'J', 'Kevin Stitt', 'N', 'Lincoln Bl', '##d', 'Oklahoma City', 'OK', 'Oklahoma', 'Oklahoma']\n"
          ]
        },
        {
          "metadata": {
            "tags": null
          },
          "name": "stderr",
          "output_type": "stream",
          "text": [
            "\r121it [14:35,  6.90s/it]"
          ]
        },
        {
          "metadata": {
            "tags": null
          },
          "name": "stdout",
          "output_type": "stream",
          "text": [
            "Selected Entities (Score > 50%): ['Oxfam', 'Oxfam', 'We', 'Oxfam', 'Gaza', 'Israel', 'Trkiye', 'Syria', 'East Africa', 'Yemen', 'West Africa', 'Sahel', 'Oxfam Closeup', 'Po', 'Oxfam', 'Oxfam', 'Ox', 'Oxfam']\n"
          ]
        },
        {
          "metadata": {
            "tags": null
          },
          "name": "stderr",
          "output_type": "stream",
          "text": [
            "\r122it [14:41,  6.64s/it]"
          ]
        },
        {
          "metadata": {
            "tags": null
          },
          "name": "stdout",
          "output_type": "stream",
          "text": [
            "Selected Entities (Score > 50%): ['OnePlus 8', 'OnePlus 8 Pro', 'Huawei HTC Samsung', 'Google', '##nd', 'Microsoft', 'Apple', 'Mac', 'Ultra', 'Android Phone', 'Intel AM', '##D', 'NVIDIA', 'OnePlus 8', 'OnePlus 8 Pro', 'Andrei Frumusanu', 'Android OnePlus Snapdragon', 'OnePlus 8 OnePlus 8 Pro', 'OnePlus 8 Pro', 'Galaxy S20', 'OnePlus 8 Pro']\n"
          ]
        },
        {
          "metadata": {
            "tags": null
          },
          "name": "stderr",
          "output_type": "stream",
          "text": [
            "\r123it [14:49,  6.93s/it]"
          ]
        },
        {
          "metadata": {
            "tags": null
          },
          "name": "stdout",
          "output_type": "stream",
          "text": [
            "Selected Entities (Score > 50%): ['Jewish', 'Israel', '##mit', 'Israel', 'Supreme Court', 'Jewish', 'New York', 'Peter Keegan', 'Felicia Kornbluh', 'Supreme Court', 'Trump', 'June Medical Services, LLC', 'Russo', 'Trump', 'Neal Gorsuch', 'Brett Kavanaugh', 'Justice Blackmuns', 'Roe v', 'Wade', 'Supreme Court', 'Louisiana', 'York', 'Ka', 'Soto', 'York', 'Jewish', 'Forward']\n"
          ]
        },
        {
          "metadata": {
            "tags": null
          },
          "name": "stderr",
          "output_type": "stream",
          "text": [
            "\r124it [14:56,  6.91s/it]"
          ]
        },
        {
          "metadata": {
            "tags": null
          },
          "name": "stdout",
          "output_type": "stream",
          "text": [
            "Selected Entities (Score > 50%): ['BabaSaheb Ambedkar', 'Karnataka', 'States', 'Southern Northern East West', 'International', 'ScienceTech Society', 'Kannada', 'Gauri Lankesh News', 'Karnataka Assembly Elections', 'BJP', 'Karnataka Assembly', 'U', 'T', 'K', 'Hindutva', 'Eddelu Karnataka Experience', 'Eddelu Karnataka', 'Karnataka', 'Karnataka', 'Bharat Jodo', 'Modi', 'Me', '##ssenia', 'Beirut', 'Lebanon', 'Central', 'Pakistan', 'PTI', 'Asad Umar', 'Imran Khan', 'Pakistan', 'Imran Khan', 'Islamabad', 'Babasaheb Ambedkar', 'Women', 'Rights', 'Iceberg', 'From', 'Code', 'Indonesia', 'UK', 'Rwanda', 'NATO', 'Russia', 'Ukraine', 'Babasaheb Ambedkar', 'Women', 'Rights', '##ionP', 'Ambedkar', 'Baba', 'Am', 'Baba', 'Indian', 'Am', 'Am']\n"
          ]
        },
        {
          "metadata": {
            "tags": null
          },
          "name": "stderr",
          "output_type": "stream",
          "text": [
            "\r125it [15:03,  6.86s/it]"
          ]
        },
        {
          "metadata": {
            "tags": null
          },
          "name": "stdout",
          "output_type": "stream",
          "text": [
            "Selected Entities (Score > 50%): ['English Esp', '##l Franais Portug', 'Bahasa Deutsch Kiswahili', '##h', 'Kreyl Zulu Setswana isiXhosa R', '##oh', '##ingya Tagalog Italiano', 'V', '##aka', 'Ki', '##l Somali', 'Africa Americas Asia Europe Middle East', 'O', 'Rights', 'Apart', 'Post', 'Pandemic', 'Rights', 'Rights', 'Rights', 'French', 'US', 'American', 'Pardis Mah', '##da', '##vi', 'US', 'American']\n"
          ]
        },
        {
          "metadata": {
            "tags": null
          },
          "name": "stderr",
          "output_type": "stream",
          "text": [
            "\r126it [15:13,  7.77s/it]"
          ]
        },
        {
          "metadata": {
            "tags": null
          },
          "name": "stdout",
          "output_type": "stream",
          "text": [
            "Selected Entities (Score > 50%): ['Trump', 'PBS NewsHour', 'PBS', 'News', 'Brooks', 'and', '##hart', 'Supreme Court Arts', 'Race', 'Paul', 'Sol', 'PBS NewsHour', 'Jill Colvin', 'Associated Press', '##nter', 'Trump', '##N', 'Donald Trump', 'Washington', 'March for Life', 'Democrats', 'White House', 'Trump', 'Trump', 'Trump', 'Trump', 'Ralph Reed', 'Coalition', 'Trump', 'Reed']\n"
          ]
        },
        {
          "metadata": {
            "tags": null
          },
          "name": "stderr",
          "output_type": "stream",
          "text": [
            "\r127it [15:19,  7.53s/it]"
          ]
        },
        {
          "metadata": {
            "tags": null
          },
          "name": "stdout",
          "output_type": "stream",
          "text": [
            "Selected Entities (Score > 50%): ['Florida', 'The Guardian', '##ralia', 'Guardian', 'Guardian', 'Guardian', '##icTV', '##ralia', 'Guardian', 'Guardian', 'Observer', 'Florida', 'Florida']\n"
          ]
        },
        {
          "metadata": {
            "tags": null
          },
          "name": "stderr",
          "output_type": "stream",
          "text": [
            "\r128it [15:25,  6.90s/it]"
          ]
        },
        {
          "metadata": {
            "tags": null
          },
          "name": "stdout",
          "output_type": "stream",
          "text": [
            "Selected Entities (Score > 50%): ['Action News Jax', '##ngton News Bureau', 'News Jax', 'United States']\n"
          ]
        },
        {
          "metadata": {
            "tags": null
          },
          "name": "stderr",
          "output_type": "stream",
          "text": [
            "\r129it [15:31,  6.68s/it]"
          ]
        },
        {
          "metadata": {
            "tags": null
          },
          "name": "stdout",
          "output_type": "stream",
          "text": [
            "Selected Entities (Score > 50%): ['NonCom', 'No', '##D', '##ives Creative Commons', 'The 19th', 'The 19th', '19th News Network', '19th News Network', 'Black South Carolinian', 'Nikki Haley Brandon Tensley', 'Capital B', 'Alabama Supreme Court', 'Alander Rocha', 'Alabama Reflector', 'Bekah McNeel', 'So', '##rners', 'Amendment', 'Amendment Down South', 'Tressie McMillan Co', 'Errin Haines', 'Amendment', 'Amendment', 'Nikole Hannah - Jones', 'Chabeli Carrazana', 'Jasmine Mi', 'Marie', '##di', 'Dar', 'Davis', '##abby', 'Jennifer', '##erson', 'Sarah McBride', 'Congress', 'Orion', 'First', 'Hawaiian', '##dice Norwood']\n"
          ]
        },
        {
          "metadata": {
            "tags": null
          },
          "name": "stderr",
          "output_type": "stream",
          "text": [
            "\r130it [15:39,  7.18s/it]"
          ]
        },
        {
          "metadata": {
            "tags": null
          },
          "name": "stdout",
          "output_type": "stream",
          "text": [
            "Selected Entities (Score > 50%): ['Students for Life of America', 'SFLA', 'Los Angeles Times', 'Students for Life of America SFLA', 'Los Angeles Times', 'Jennifer Haberkorn', 'SFLA', 'Haberkor', 'Alabama', 'Alabama', 'National', 'Life', 'f', 'Republican National', 'Committee', 'SFLA']\n"
          ]
        },
        {
          "metadata": {
            "tags": null
          },
          "name": "stderr",
          "output_type": "stream",
          "text": [
            "\r131it [15:45,  6.85s/it]"
          ]
        },
        {
          "metadata": {
            "tags": null
          },
          "name": "stdout",
          "output_type": "stream",
          "text": [
            "Selected Entities (Score > 50%): ['Amy Coney Barrett', 'Supreme Court', 'BU Today Boston University', 'Boston University', 'University', 'Bostonia BU Today', 'Amy Coney Barrett', 'Supreme Court', 'Amy Coney Barrett', 'US Supreme Court', 'US Senate', 'US Supreme Court', 'Clarence Thomas', 'Barrett', 'Donald Trump', 'AP PhotoA', 'Brandon Public Health', 'School of Public Health', 'Michelle Samuel', 'Amy Coney Barrett', 'US Supreme Court', 'US Senate', 'Ruth Bader Ginsburg', 'LGBTQ', 'Barrett', 'Senate', 'Republican', 'Susan Collins', 'Maine', 'Democrats', 'Democrats', 'Ginsburg', 'Election Day', 'Republican', 'Senate', 'Obama', 'Supreme Court', 'Merrick Garland', 'Supreme Court', 'Barrett', 'Barrett', 'United', 'States', '##luding', 'Care', 'Act', 'School', 'Nicole Hu', '##ber', 'Wendy', 'Marine', 'Edward', 'R', 'U', '##tley', 'Rights', 'School', '##ith', 'Nicole']\n"
          ]
        },
        {
          "metadata": {
            "tags": null
          },
          "name": "stderr",
          "output_type": "stream",
          "text": [
            "\r132it [15:54,  7.21s/it]"
          ]
        },
        {
          "metadata": {
            "tags": null
          },
          "name": "stdout",
          "output_type": "stream",
          "text": [
            "Selected Entities (Score > 50%): ['South Dakota', 'Down Syndrome', 'National Catholic Register', 'Service', 'EWTN News, Inc', 'EWTN News, Inc', 'Catholic', 'Gospel', 'National Catholic Register', 'Catholic News Agency CNA Deutsch ACI Africa ACI Afrique ACI', 'ACI Prensa ACI Stamp', 'AC', 'Mena', 'Media', '##o', 'Port', '##us TV Radio E', '##N', 'EWTN', '##N', '##icias E', '##N', 'Register Radio Vatican', 'Register', 'National Catholic Register', 'Eucharistic Congress Synod', 'Synod', 'Vatican Job Board', 'Life', 'Register', 'South Dakota', 'Down S', '##drome', 'Noem', 'Iceland', 'European', 'Down', 'South Dakota', 'Kristi Noem', 'Denis Ku', 'CNA', 'South Dakota', '##mar', 'Kris', 'South Dakota', 'Pierre']\n"
          ]
        },
        {
          "metadata": {
            "tags": null
          },
          "name": "stderr",
          "output_type": "stream",
          "text": [
            "\r133it [16:00,  6.98s/it]"
          ]
        },
        {
          "metadata": {
            "tags": null
          },
          "name": "stdout",
          "output_type": "stream",
          "text": [
            "Selected Entities (Score > 50%): ['Big Tech', 'Texas Abortion Law', 'Big Tech', 'Texas Abortion', 'Consulting', '##lin', 'Harrington', '##iness', 'Big Tech', 'Texas Abortion Law', 'Roe v', 'Wade', 'Austin', '##GI', 'Apple', 'Tim Cook', 'The Washington Post', 'Salesforce', 'Indiana', 'LGBT', 'Black Lives Matter', 'Supreme Court', 'Roe v', 'Wade', 'Apple', 'Texas', 'LGBTQ', 'Roe', 'Anthony']\n"
          ]
        },
        {
          "metadata": {
            "tags": null
          },
          "name": "stderr",
          "output_type": "stream",
          "text": [
            "\r134it [16:07,  7.05s/it]"
          ]
        },
        {
          "metadata": {
            "tags": null
          },
          "name": "stdout",
          "output_type": "stream",
          "text": [
            "Selected Entities (Score > 50%): ['Life', 'Roe', 'National Catholic Register', 'Service', 'EWTN News, Inc', 'EWTN News, Inc', 'Catholic', 'Gospel', 'National Catholic Register', 'Age', 'Catholic News Agency CNA Deutsch ACI Africa ACI Afrique ACI Digital ACI Prensa ACI Stampa ACI Mena Digital Media', '##l', '##o', 'Port', '##ug', '##us TV Radio E', '##N', 'EWTN', '##N', '##icias E', '##N', 'Register Radio Vatican', 'Register', 'National Catholic Register', 'Pope Francis Eucharistic Congress Synod', 'Synod', 'Vatican Job Board', 'Life', 'Register', 'Life', 'Roe', 'RE', 'Marjorie Dannenfelser', 'SBA Pro - Life', 'Joe Scheidler', 'Pro - Life Action League', 'Mississippi', 'Lynn Fitch', '##ikimedia Commons', '##ve Sanchez', 'Lau', 'Brown', 'Court', 'Roe', 'Casey', 'Jackson', 'Register']\n"
          ]
        },
        {
          "metadata": {
            "tags": null
          },
          "name": "stderr",
          "output_type": "stream",
          "text": [
            "\r135it [16:15,  7.16s/it]"
          ]
        },
        {
          "metadata": {
            "tags": null
          },
          "name": "stdout",
          "output_type": "stream",
          "text": [
            "Selected Entities (Score > 50%): ['A', 'Sexual', 'Rep', '##uctive Rights', 'Argentina', 'Human Rights Watch', 'WhatsApp', '##edI', 'Red', 'English', '##ate', 'Sexual', 'Rep', '##uctive Rights', 'Argentina', 'English', 'Espaol Mercedes', 'Sofia', 'Buenos Aires', 'Human Rights Watch', 'Camila', 'Buenos Aires', 'Geraldine', 'Buenos Aires', 'Congress', 'Buenos Aires', 'Argentina', '##AP', 'Argentine', 'Senate']\n"
          ]
        },
        {
          "metadata": {
            "tags": null
          },
          "name": "stderr",
          "output_type": "stream",
          "text": [
            "\r136it [16:22,  7.10s/it]"
          ]
        },
        {
          "metadata": {
            "tags": null
          },
          "name": "stdout",
          "output_type": "stream",
          "text": [
            "Selected Entities (Score > 50%): ['Florida', 'Human Rights Watch', 'Human Rights Watch', 'English', 'Franais De', '##uts', '##ch Port', '##ug', '##us Espaol', 'Florida', 'Margaret Wurth', \"Children ' s Rights Division\", 'MargaretWurth', 'Facebook', 'WhatsApp', 'LinkedIn', 'Red', '##dit', 'Florida', 'Capitol', 'Tallahasee', 'Per', 'United States Supreme Court', 'Louisiana', 'Florida', 'Florida', 'Florida', 'Senate', 'Florida', 'Florida']\n"
          ]
        },
        {
          "metadata": {
            "tags": null
          },
          "name": "stderr",
          "output_type": "stream",
          "text": [
            "\r137it [16:27,  6.67s/it]"
          ]
        },
        {
          "metadata": {
            "tags": null
          },
          "name": "stdout",
          "output_type": "stream",
          "text": [
            "Selected Entities (Score > 50%): ['Capito', 'Pro', 'Life', 'Committee', 'West Virginia', 'Federal Agency', 'DC', '##hips Academy', 'Congressional', 'Shelley', 'Capito', 'Capito', 'Capito', 'WASHINGTON', 'D', 'C', 'U', 'S', 'Shelley Moore Capito', 'W', 'Va', 'Senate', 'Born - Alive Abortion Survivors Protection Act', 'Pain Capable Unborn Child Act', 'Senate', 'Senate', 'Capito']\n"
          ]
        },
        {
          "metadata": {
            "tags": null
          },
          "name": "stderr",
          "output_type": "stream",
          "text": [
            "\r138it [16:34,  6.58s/it]"
          ]
        },
        {
          "metadata": {
            "tags": null
          },
          "name": "stdout",
          "output_type": "stream",
          "text": [
            "Selected Entities (Score > 50%): ['The Washington Post', 'Washington Post', '##thH', '##th Care Medical My', 'Science', 'Health', '##th Care Medical My', 'Science', 'Katie Shepherd', 'Frances Stead Sellers', '##Becky Hubbard', 'Tennessee', 'Earl Neikirk', 'The Washington Post', '##Becky Hubbard', 'Supreme Court', 'Roe v', 'Wade', 'Tennessee', 'Hubbard', 'Johnson', 'Roe', 'Hubbard']\n"
          ]
        },
        {
          "metadata": {
            "tags": null
          },
          "name": "stderr",
          "output_type": "stream",
          "text": [
            "\r139it [16:42,  7.15s/it]"
          ]
        },
        {
          "metadata": {
            "tags": null
          },
          "name": "stdout",
          "output_type": "stream",
          "text": [
            "Selected Entities (Score > 50%): ['Texas', 'B', '##iden', 'The Texas Tribune', 'Immigration Law Air', 'Pollution House Freedom Caucus', 'SXSW', 'Texas A', '##bor', '##tion', 'Texas', 'B', '##iden', 'Texas', 'Ken Paxton', 'Biden', 'Reese Oxner', 'Twitter', 'Facebook Red', 'Texas', 'Ken Paxton', 'Biden', 'Credit Jordan Vonder', '##ar', 'The Texas Tribune', 'The Brief', 'Texas', 'Texas', 'Biden', 'B', 'Biden', 'U', 'S', 'Supreme Court', 'Texas', 'Ken Pa', 'Texas', 'Texas']\n"
          ]
        },
        {
          "metadata": {
            "tags": null
          },
          "name": "stderr",
          "output_type": "stream",
          "text": [
            "\r140it [16:48,  6.89s/it]"
          ]
        },
        {
          "metadata": {
            "tags": null
          },
          "name": "stdout",
          "output_type": "stream",
          "text": [
            "Selected Entities (Score > 50%): ['SC Senate', 'Fe', 'Heart', '##IS', 'News', 'Club', 'Hudson', 'Hurricane Center', 'Lake Murray', '##lemson Tigers', 'WIS', 'DC Bureau', 'Senate']\n"
          ]
        },
        {
          "metadata": {
            "tags": null
          },
          "name": "stderr",
          "output_type": "stream",
          "text": [
            "\r141it [16:56,  7.20s/it]"
          ]
        },
        {
          "metadata": {
            "tags": null
          },
          "name": "stdout",
          "output_type": "stream",
          "text": [
            "Selected Entities (Score > 50%): ['Abor', 'Fight for Digital Privacy', 'ACLU', 'Abortion', 'Fight for Digital Privacy', 'Supreme Court', 'Kade Crockford', 'ACLU of Massachusetts Technology for Liberty Project', 'Nathan Freed Wessler', 'ACLU Speech, Privacy, and Technology Project', 'Supreme Court', 'Roe v', 'Wade', 'Guttmacher Institute', 'Roe', 'Black', 'Brown']\n"
          ]
        },
        {
          "metadata": {
            "tags": null
          },
          "name": "stderr",
          "output_type": "stream",
          "text": [
            "\r142it [17:03,  7.15s/it]"
          ]
        },
        {
          "metadata": {
            "tags": null
          },
          "name": "stdout",
          "output_type": "stream",
          "text": [
            "Selected Entities (Score > 50%): ['Joni Ernst', 'Supreme Court', 'Roe v', 'Wade', 'US', 'World', 'US Treasury', 'Cry', '##o Industries', 'Em', 'Pick', 'Em', 'NFL', '##C', 'MLB', 'World', 'Classic NBA', 'NHL', 'League MLS NWSL Liga', 'CONCACAF League', 'League La Liga Serie', 'Bundesliga Ligue', 'World Cup', 'MMA W', 'NCAA', 'NASCAR NCAA', 'NCAA', 'US', 'Cycling', 'Olympics']\n"
          ]
        },
        {
          "metadata": {
            "tags": null
          },
          "name": "stderr",
          "output_type": "stream",
          "text": [
            "\r143it [17:11,  7.25s/it]"
          ]
        },
        {
          "metadata": {
            "tags": null
          },
          "name": "stdout",
          "output_type": "stream",
          "text": [
            "Selected Entities (Score > 50%): ['Rights', 'Supreme Court', 'US', 'US Treasury', 'Cry', '##o Industries', 'Em', 'Pick', 'Em', 'NFL', 'News', 'Super Bowl', 'MLB', 'World', 'Classic NBA', 'NHL', 'League MLS NWSL Liga', 'CONCACAF League', 'League La Liga Serie', 'Bundesliga Ligue', 'World Cup', 'MMA', '##BA', 'NCAAF', 'NASCAR NCAA', 'NCAA', 'USFL Cycling', 'Olympics', 'R']\n"
          ]
        },
        {
          "metadata": {
            "tags": null
          },
          "name": "stderr",
          "output_type": "stream",
          "text": [
            "\r144it [17:19,  7.39s/it]"
          ]
        },
        {
          "metadata": {
            "tags": null
          },
          "name": "stdout",
          "output_type": "stream",
          "text": [
            "Selected Entities (Score > 50%): ['Polish', 'Poland', 'The Guardian', 'Guardian', '##icTV', '##ia', 'Guardian', 'Guardian', 'Observer', '##uard', '##ian', 'Warsaw', 'Ka', 'Europe', 'Polish', 'Warsaw', 'Ka', 'Henley', 'Europe', 'Ka', 'Warsaw']\n"
          ]
        },
        {
          "metadata": {
            "tags": null
          },
          "name": "stderr",
          "output_type": "stream",
          "text": [
            "\r145it [17:25,  7.17s/it]"
          ]
        },
        {
          "metadata": {
            "tags": null
          },
          "name": "stdout",
          "output_type": "stream",
          "text": [
            "Selected Entities (Score > 50%): ['Rocky Mountain Vibes', 'KRDO', 'KRDO', 'Colorado Springs', 'Pueblo News', 'Military', 'US', 'Do', '##hood Weather Network Viaero Wireless Network', 'Olympic City USA Club', 'Colorado', 'Black', 'Forest', 'Fire', 'Colorado Springs', 'Se', 'Waldos Inferno', 'KRDO', 'Pikes Peak', 'Telemundo Telemundo', '##ion Colorado', 'Southern Colorado', 'KRDO', 'FCC', '##A', 'Colorado', 'Riley Carroll', 'Sean', '##AD', '##RI', 'Col', 'K']\n"
          ]
        },
        {
          "metadata": {
            "tags": null
          },
          "name": "stderr",
          "output_type": "stream",
          "text": [
            "\r146it [17:33,  7.45s/it]"
          ]
        },
        {
          "metadata": {
            "tags": null
          },
          "name": "stdout",
          "output_type": "stream",
          "text": [
            "Selected Entities (Score > 50%): ['Bill Lee', 'Nashville', 'Treehouse', 'East Nashville', 'Sports', '##ill Lee', 'Bill Lee', 'Tennessee', 'Elizabeth Lanphier', '##Elizabeth Lanphier', 'MS', 'REACH Coalition', 'Riverbend Maximum Security Prison', 'Tennessee', 'Bill Lee', 'Tennessee', 'America', 'Lee', 'CO', '##D', '19', 'Tennessee', 'Harold Wayne Nichols', 'Lee', 'COVID', '19', 'Tennessee', 'Nichols', 'Lee', 'Lee', 'Republican', 'Lee', 'Lee', 'Harold Wayne Nichols', 'Tennessee']\n"
          ]
        },
        {
          "metadata": {
            "tags": null
          },
          "name": "stderr",
          "output_type": "stream",
          "text": [
            "\r147it [17:40,  7.11s/it]"
          ]
        },
        {
          "metadata": {
            "tags": null
          },
          "name": "stdout",
          "output_type": "stream",
          "text": [
            "Selected Entities (Score > 50%): ['COVID', '19 Pande', 'CO', '##D', '19', '##de', 'Seema Jalan', 'COVID', '19', 'World Health Organization WHO', 'WHO', 'UN', 'United Nations', 'UNFP', 'UN', 'UN', 'CO', 'UN']\n"
          ]
        },
        {
          "metadata": {
            "tags": null
          },
          "name": "stderr",
          "output_type": "stream",
          "text": [
            "\r148it [17:48,  7.52s/it]"
          ]
        },
        {
          "metadata": {
            "tags": null
          },
          "name": "stdout",
          "output_type": "stream",
          "text": [
            "Selected Entities (Score > 50%): ['Texas', 'AP', 'World', 'U', 'S', 'Israel - Hamas War Russia - Ukraine War', 'Asia', 'Pacific', 'Latin', 'America', 'Europe Africa Middle East China', 'Australia Joe Biden Congress March Madness MLB NBA NHL NFL Soccer Golf Tennis AP', 'Associated Press', 'AP', 'AP', 'Associated Press', 'AP', 'AP', 'Associated Press', 'Israel', 'Hamas', 'Unilever', 'Elon Musk Washington News', 'Texas', 'Jessica Bernardo', 'Dallas', 'Texas', 'AP', 'Jessica Bernardo', 'Dallas', 'Texas', 'AP', 'Jessica Bernardo', 'Dallas', 'Texas', 'AP']\n"
          ]
        },
        {
          "metadata": {
            "tags": null
          },
          "name": "stderr",
          "output_type": "stream",
          "text": [
            "\r149it [17:54,  7.13s/it]"
          ]
        },
        {
          "metadata": {
            "tags": null
          },
          "name": "stdout",
          "output_type": "stream",
          "text": [
            "Selected Entities (Score > 50%): ['Texas Supreme Court', 'Congress White House', 'Defense EnergyE', 'Fintech Health Care Technology Transportation', 'C', 'Fintech', 'Capitol', 'RollCall', 'RollCall', 'Texas Supreme Court', 'Texas', 'Texas', 'U', 'S. Supreme Court', 'Texas', 'U', 'S. Supreme Court', 'Bill Clark', '##C', 'Sandhya Raman', 'Todd Ruger', 'Red', 'Texas Supreme Court', 'Republicans', 'Senate', 'Democrats', 'Texas', 'Texas', 'SB 8', 'U', 'S', 'Court', 'Circuit', 'South Carolina', 'Texas', 'Texas', 'Texas', 'U', 'S', 'Supreme Court']\n"
          ]
        },
        {
          "metadata": {
            "tags": null
          },
          "name": "stderr",
          "output_type": "stream",
          "text": [
            "\r150it [18:03,  7.52s/it]"
          ]
        },
        {
          "metadata": {
            "tags": null
          },
          "name": "stdout",
          "output_type": "stream",
          "text": [
            "Selected Entities (Score > 50%): ['Arizona', 'Roe v', 'Wade', 'PBS', 'News', '##our', 'PBS', 'NewsHour', 'Brooks', 'and', 'Capehart', 'Supreme Court Arts', 'Race', 'Paul Sol', 'PBS NewsHour', 'Chloe Jones', '##r', 'Arizona', 'Roe v', 'Wade', 'Supreme Court', 'Roe v', 'Wade', 'Constitution', 'Arizona', 'Roe', 'Arizona', 'Roe', 'Wade', 'Arizona']\n"
          ]
        },
        {
          "metadata": {
            "tags": null
          },
          "name": "stderr",
          "output_type": "stream",
          "text": [
            "\r151it [18:09,  7.12s/it]"
          ]
        },
        {
          "metadata": {
            "tags": null
          },
          "name": "stdout",
          "output_type": "stream",
          "text": [
            "Selected Entities (Score > 50%): ['Roe v', 'Wade', 'ABC News ABC News', 'Roe v', 'Wade', '##Mary Kekatos', 'Katie Kindelan', 'Brooklyn Bridge', 'New York', 'Emilie RichardsonBloomberg', 'Getty Images', 'U', 'S. Supreme Court', 'Roe v', 'Wade', 'Court', 'Roe', 'Guttmacher Institute', 'ABC NewsA', '##la', '##maAlabama', 'Roe v', 'Wade', 'Guttmacher Institute', 'Alaska', 'Alaska', 'Institute', 'Arizona']\n"
          ]
        },
        {
          "metadata": {
            "tags": null
          },
          "name": "stderr",
          "output_type": "stream",
          "text": [
            "\r152it [18:17,  7.48s/it]"
          ]
        },
        {
          "metadata": {
            "tags": null
          },
          "name": "stdout",
          "output_type": "stream",
          "text": [
            "Selected Entities (Score > 50%): ['Texas', 'The Texas Tribune', 'Immigration Law Air', 'Pollution House Freedom Caucus', '##ception', 'SXSW', 'Texas Abor', '##tion', 'Texas', 'Texas', 'Reese Oxner', 'Mara Mndez', 'Facebook Reddit LinkedI', 'Congress Avenue', 'Austin', 'Supreme Court', 'Roe v', 'Wade', 'Texas', 'Sergio Flores', 'The Texas Tribune', 'The Brief', 'Texas', 'Texas Medical Association', 'The Dallas Morning News', 'Texas Medical Board', 'TMA', 'TMA', 'Texas', 'Texas', 'Roe', 'Texas']\n"
          ]
        },
        {
          "metadata": {
            "tags": null
          },
          "name": "stderr",
          "output_type": "stream",
          "text": [
            "\r153it [18:24,  7.14s/it]"
          ]
        },
        {
          "metadata": {
            "tags": null
          },
          "name": "stdout",
          "output_type": "stream",
          "text": [
            "Selected Entities (Score > 50%): ['Lourdes Rivera', 'Center for Reproductive Rights', 'Ford Foundation', 'Workers', 'Ethnic', 'Society', 'and Justice', 'Ford Global Fellowship', 'Andean', 'Region', 'Africa', '##ndia', 'Nepal', 'Sri Lanka', '##Mexico', 'Central America', 'East', 'North Africa', 'Africa', 'States', 'Africa', 'Ford Foundation Center for Social Justice Ford Foundation', 'Lourdes Rivera', 'Center for Reproductive Rights', 'Lourdes Rivera', 'US', 'Center for Rep', '##uctive Rights', 'Lourdes Rivera', 'Puerto Rican', 'RIVE', 'Ford Foundation', 'Ford Foundation']\n"
          ]
        },
        {
          "metadata": {
            "tags": null
          },
          "name": "stderr",
          "output_type": "stream",
          "text": [
            "\r154it [18:31,  7.25s/it]"
          ]
        },
        {
          "metadata": {
            "tags": null
          },
          "name": "stdout",
          "output_type": "stream",
          "text": [
            "Selected Entities (Score > 50%): ['Fight for Reproductive Rights', 'Tina Smith', 'Tina', 'Committee', 'Federal Agency Academy', 'Tina', 'Fight for Reproductive Rights', 'Supreme Court', 'Roe v', 'Wade', 'Roe v', 'Wade', 'Planned Parenthood', 'Supreme Court', 'Roe', 'Republican', 'Indiana', 'Texas', 'Biden Administration', 'Americans', 'Americans', 'York', 'Elizabeth Warren', 'Americans', 'Congress']\n"
          ]
        },
        {
          "metadata": {
            "tags": null
          },
          "name": "stderr",
          "output_type": "stream",
          "text": [
            "\r155it [18:38,  7.17s/it]"
          ]
        },
        {
          "metadata": {
            "tags": null
          },
          "name": "stdout",
          "output_type": "stream",
          "text": [
            "Selected Entities (Score > 50%): ['North Carolina AG', 'AP', 'U', 'S', 'Israel', 'Hamas War Russia - Ukraine War', 'Asia', 'Pacific', 'Latin', 'America', 'Europe Africa Middle East China Australia', 'Joe Biden Congress', 'MLB NBA NHL NFL Soccer Golf Tennis AP', 'Associated Press', 'AP', 'AP', 'The Associated Press', 'AP', 'AP', 'Associated Press', 'Israel', 'Hamas', 'Unilever', 'Elon Musk', 'North Carolina AG', 'North Carolina', 'Josh Stein', 'North', 'Carolina', 'Department of Justice', 'Raleigh', 'N', 'C', 'North Carolina', 'Stein', '##ibel', 'AP', 'Box', 'West Alabama', 'Center', 'Al', 'AP']\n"
          ]
        },
        {
          "metadata": {
            "tags": null
          },
          "name": "stderr",
          "output_type": "stream",
          "text": [
            "\r156it [18:45,  7.00s/it]"
          ]
        },
        {
          "metadata": {
            "tags": null
          },
          "name": "stdout",
          "output_type": "stream",
          "text": [
            "Selected Entities (Score > 50%): ['Filipino', 'JavaScript', '##ricaAs', '##ia', 'America', 'America', '##l', 'Hamas', '##iaR', 'Ukraine', 'Filipino', '##na P', 'Manila', 'Ana P', 'Santos', 'Manila', 'Getty Images', 'Acayan', 'Juan Antonio Perez', 'Commission on Population and Development', 'Perez', 'Asia', 'Perez', 'Southeast']\n"
          ]
        },
        {
          "metadata": {
            "tags": null
          },
          "name": "stderr",
          "output_type": "stream",
          "text": [
            "\r157it [18:53,  7.29s/it]"
          ]
        },
        {
          "metadata": {
            "tags": null
          },
          "name": "stdout",
          "output_type": "stream",
          "text": [
            "Selected Entities (Score > 50%): ['HC', 'The Hindu India World Op', 'The Hindu', '##L', 'Business Entertainment Life Style Society', 'Chennai Delhi Bengaluru Hyderabad', 'US', 'Tamil Nadu', 'HC', 'CO', '##D', 'CHENNAI', 'Mohamed Imranullah', 'Madras High Court', 'Constitution', 'Madras High Court', 'CO', '##D', '19', 'M', 'Sathyanarayanan', 'M', 'Nirmal Kumar', 'Amreshwar P', '##p Sahi']\n"
          ]
        },
        {
          "metadata": {
            "tags": null
          },
          "name": "stderr",
          "output_type": "stream",
          "text": [
            "\r158it [18:59,  6.95s/it]"
          ]
        },
        {
          "metadata": {
            "tags": null
          },
          "name": "stdout",
          "output_type": "stream",
          "text": [
            "Selected Entities (Score > 50%): ['Roe v', 'Wade', 'NonCom', 'No', '##D', '##vat', 'Creative', 'Commons', 'The 19th', 'The 19th', 'News Network', '19th News Network', 'Black South Carolinian', 'Nikki Haley Brandon Tensley', 'Capital B', 'Alabama Supreme Court', 'Alander Rocha', 'Alabama Reflector', 'Bekah McNeel', 'So', '##rner', 'Amendment', 'Amendment Down South', 'Tressie McMillan Co', 'Errin Haines', 'Amendment', 'Amendment', 'Nikole Hannah - Jones', 'Chabeli Carrazana', 'Jasmine Mithan', 'Marie', '##di', 'Dar', 'Davis', 'G', 'G', 'Jennifer G', 'Sarah McBride', 'Congress', 'Orion R', 'Hawaiian', '##dice']\n"
          ]
        },
        {
          "metadata": {
            "tags": null
          },
          "name": "stderr",
          "output_type": "stream",
          "text": [
            "\r159it [19:07,  7.38s/it]"
          ]
        },
        {
          "metadata": {
            "tags": null
          },
          "name": "stdout",
          "output_type": "stream",
          "text": [
            "Selected Entities (Score > 50%): ['OnePlus 8 Pro', 'GSMArena', 'com', 'News', 'GSMArena', 'OnePlus 8 Pro', 'OnePlus 8 Pro', 'OnePlus Android Next', 'OnePlus 8 Pro', 'Galaxy S20 Ultra', '8 Pro', 'S20 Ultra', '8 Pro', 'OnePlus', 'OnePlus 8 Pro']\n"
          ]
        },
        {
          "metadata": {
            "tags": null
          },
          "name": "stderr",
          "output_type": "stream",
          "text": [
            "\r160it [19:13,  7.00s/it]"
          ]
        },
        {
          "metadata": {
            "tags": null
          },
          "name": "stdout",
          "output_type": "stream",
          "text": [
            "Selected Entities (Score > 50%): ['Nebraska', 'Merv Riepe', 'Nebraska Ex', 'Nebraska', 'Merv Riepe', 'Joni Albrecht', 'Rie', 'Aaron Sanderford', 'Merv Riepe', 'Ralston', 'Nebraska Legislature', 'Lincoln', 'Neb', 'Zach', '##ka Ex', 'LIN', '##L', 'Nebraska', 'Ralston', 'Ra', '##lston', 'Merve Riepe', 'Bill 626', 'Nebraska', 'Merv Riepe', 'Craig Chandler', 'Riepe', 'Joni Albrecht', 'Thurston', 'R', 'R', 'Albrecht', 'Albrecht']\n"
          ]
        },
        {
          "metadata": {
            "tags": null
          },
          "name": "stderr",
          "output_type": "stream",
          "text": [
            "\r161it [19:22,  7.46s/it]"
          ]
        },
        {
          "metadata": {
            "tags": null
          },
          "name": "stdout",
          "output_type": "stream",
          "text": [
            "Selected Entities (Score > 50%): ['Do', '##bbs', \"Jackson Women ' s Health\", 'Krecic', 'Students for', 'Life', 'Anton Krecic', 'Gayle Irwin', 'Anton Krecic', 'God', 'Seven Weeks Coffee', 'Krecic', 'Krecic', 'Virginia', 'Virginia', 'Washington']\n"
          ]
        },
        {
          "metadata": {
            "tags": null
          },
          "name": "stderr",
          "output_type": "stream",
          "text": [
            "\r162it [19:28,  7.06s/it]"
          ]
        },
        {
          "metadata": {
            "tags": null
          },
          "name": "stdout",
          "output_type": "stream",
          "text": [
            "Selected Entities (Score > 50%): ['Harvard Health Harvard Health Publishing', '##B', 'Harvard Health', 'Robert H. Shmerling', 'Harvard Health Publishing', 'Advisory Board', 'Harvard Health Publishing', 'Alison Shmerling', 'Harvard T', 'H. Chan School of Public Health', 'Harvard Medical School', 'Mediterranean']\n"
          ]
        },
        {
          "metadata": {
            "tags": null
          },
          "name": "stderr",
          "output_type": "stream",
          "text": [
            "\r163it [19:36,  7.31s/it]"
          ]
        },
        {
          "metadata": {
            "tags": null
          },
          "name": "stdout",
          "output_type": "stream",
          "text": [
            "Selected Entities (Score > 50%): ['Texas', '##F', 'Supreme Court', 'The Texas Tribune', 'Immigration Law', 'Air Pollution House Freedom Caucus', 'SXSW', 'Texas A', '##bor', '##tion', 'IVF', 'Texas', 'Texas', 'Mara Mndez', 'Red', 'Katarzyna Koziol', 'IVF', 'Novum', 'Warsaw', '##ac', '##per Pem', 'The Brief', 'Texas', 'Texas', 'U', 'S', 'Supreme Courts', 'Roe v', 'Wade', 'Texas', 'Natalie Crawford', 'Austin', 'Crawford', 'Crawford']\n"
          ]
        },
        {
          "metadata": {
            "tags": null
          },
          "name": "stderr",
          "output_type": "stream",
          "text": [
            "\r164it [19:42,  7.06s/it]"
          ]
        },
        {
          "metadata": {
            "tags": null
          },
          "name": "stdout",
          "output_type": "stream",
          "text": [
            "Selected Entities (Score > 50%): ['Ohio', 'Dave Yost', 'Fed', 'Against Pro - Life Groups', 'Ohio', 'Dave Yost', 'Military', 'Cha', 'Enforcement BC', 'Ohio Law Enforcement Gateway', '##OCIC', 'Sunshine Laws', 'Ohio', 'Dave Yo', '##st', 'Service', 'Ohio', 'Sunshine Laws', 'Board', 'Service', 'Sunshine Laws', 'Ohio', 'Dave Yo', 'Fed', 'Against Pro', 'Life Groups', 'Ohio', 'Dave Yost', 'Fed', 'Against Pro', 'Life Groups', '##US', 'Ohio', 'U', 'S', 'Merrick Garland', 'Ohio', 'Dave Yost', 'Garland', 'U', 'S', 'Court', 'Roe', 'Wade', 'FBI', 'Department', 'Justice']\n"
          ]
        },
        {
          "metadata": {
            "tags": null
          },
          "name": "stderr",
          "output_type": "stream",
          "text": [
            "\r165it [19:49,  7.05s/it]"
          ]
        },
        {
          "metadata": {
            "tags": null
          },
          "name": "stdout",
          "output_type": "stream",
          "text": [
            "Selected Entities (Score > 50%): ['States', 'A', 'Child', 'Birth', 'Search Media Center', 'Facebook', 'Po', 'U', 'S. Census', 'American Community Survey World', 'U', 'S', 'Data Center', 'World', 'International United States Resource Library', 'Board of', 'States', 'A', 'Child', 'U', 'S', 'Linda A. Jacobsen', 'U', 'S', 'Supreme Court', 'Roe v', 'Wade', 'United', 'States']\n"
          ]
        },
        {
          "metadata": {
            "tags": null
          },
          "name": "stderr",
          "output_type": "stream",
          "text": [
            "\r166it [19:57,  7.19s/it]"
          ]
        },
        {
          "metadata": {
            "tags": null
          },
          "name": "stdout",
          "output_type": "stream",
          "text": [
            "Selected Entities (Score > 50%): ['Iowa', 'CBS News', 'U', 'World Politics Entertainment HealthWatch MoneyWatch Crime Sports Local News Baltimore', 'Bay Area Boston Chicago Colorado Detroit Los Angeles', 'Miami Minnesota', 'New', 'York', 'Philadelphia', 'Pittsburgh Sacramento Texas Live CBS News', 'America', 'CBS Evening News CBS', 'CBS News', 'Eye', 'America', 'CBS', 'News', 'CBS Reports CBS', 'CBS News Team', 'Paramount Shop Paramount', '##in Our Talent Community RS', 'Di', 'CBS News', 'Iowa', 'AP', 'Iowa', 'Iowa', 'Iowa', 'Iowa', 'Kim Reynolds', 'Christians', 'Iowa', 'Iowa', 'Go', 'Kim Reynolds', 'Family', 'Moines', 'Iowa', 'ACLU', 'Iowa', 'North', 'States', 'Emma Goldman', 'Court', 'Joseph']\n"
          ]
        },
        {
          "metadata": {
            "tags": null
          },
          "name": "stderr",
          "output_type": "stream",
          "text": [
            "\r167it [20:07,  7.96s/it]"
          ]
        },
        {
          "metadata": {
            "tags": null
          },
          "name": "stdout",
          "output_type": "stream",
          "text": [
            "Selected Entities (Score > 50%): ['North Carolina', 'CNN', 'CNN', 'Congress', 'CNN', 'CNN', 'US', 'Arabic', 'CNN', 'World Africa', 'Americas Asia Australia China Europe India Middle East United Kingdom', 'US', 'Bell', 'US', 'Olympics', 'Hockey Digital Studios CNN', 'CNN', 'Earth', 'World', 'Africa', 'CNN', 'CNN', 'CNN', 'CNN', 'CNN', 'North Carolina', 'Dianne Gallagher', 'CNN', 'North Carolina', 'Raleigh', 'CNN', 'North Carolina', 'Assembly', 'Republican', 'Democratic']\n"
          ]
        },
        {
          "metadata": {
            "tags": null
          },
          "name": "stderr",
          "output_type": "stream",
          "text": [
            "\r168it [20:13,  7.61s/it]"
          ]
        },
        {
          "metadata": {
            "tags": null
          },
          "name": "stdout",
          "output_type": "stream",
          "text": [
            "Selected Entities (Score > 50%): ['Ever', 'Democrats', 'Wisconsin', 'Wisconsin', 'Ex', 'Rights', 'Ever', 'Democrats', 'Wisconsin', 'Supreme Court', 'Baylor Spears', 'Womens March', 'State Street', 'University of Wisconsin', 'Baylor Spears', '##iscons', 'Tony Evers', 'Democratic', 'Wisconsin', 'Roe', 'Wisconsin', 'Supreme Court Election', 'Republicans', 'Wisconsin', 'Ever', 'GOP', 'Wisconsin', 'U', 'S', 'Supreme Court', 'Roe', 'Ever', 'Republicans', 'Republican', 'Republican', 'Senate', 'Devin LeMahieu', 'O', '##burg', 'Senate', 'Democrats', 'Wisconsin', 'Roe', 'Wade', 'Wisconsin']\n"
          ]
        },
        {
          "metadata": {
            "tags": null
          },
          "name": "stderr",
          "output_type": "stream",
          "text": [
            "\r169it [20:20,  7.34s/it]"
          ]
        },
        {
          "metadata": {
            "tags": null
          },
          "name": "stdout",
          "output_type": "stream",
          "text": [
            "Selected Entities (Score > 50%): ['##ND', '##IC Planned Parenthood Advocates of Indiana', 'Kentucky', 'Inc', 'Planned Parenthood Action Fund', 'Planned Parenthood Advocates of Indiana', 'Kentucky', 'Inc', 'Indiana', 'Kentucky', 'PlannedP', '##nthood', 'Nicole Erwin', 'Amber Duke', 'Frankfort', 'KY', 'Planned Parenthood of Indiana', 'Kentucky', 'American Civil Liberties Union of Kentucky ACLU', 'K', '##Y', 'Daniel Cameron', 'CHFS', 'Eric Friedlander', 'Kentucky', 'CO', '##D', '19', 'Chris Charbonneau', 'Planned Parenthood', 'Indiana', 'Kentucky', 'American College of Obstetricians and Gynecologists', 'American Board of Obstetrics', 'Cameron', 'Kentucky', 'American']\n"
          ]
        },
        {
          "metadata": {
            "tags": null
          },
          "name": "stderr",
          "output_type": "stream",
          "text": [
            "\r170it [20:28,  7.45s/it]"
          ]
        },
        {
          "metadata": {
            "tags": null
          },
          "name": "stdout",
          "output_type": "stream",
          "text": [
            "Selected Entities (Score > 50%): ['Ever', 'Wisconsin', 'Wisconsin Public Radio', 'Wisconsin Public Radio', 'Ever', 'Wisconsin', 'Wisconsin', 'Shawn Johnson', 'Democratic Wisconsin', 'Tony Evers', 'Republican', 'Legislature', 'Madison', 'Wis', 'Scott', 'Tony Evers', 'Wisconsin', 'Wisconsin', 'Ever', 'Republicans', 'Civil War', 'Republican', 'Republicans', 'Ever', 'Republican', 'Ever', 'Wisconsin']\n"
          ]
        },
        {
          "metadata": {
            "tags": null
          },
          "name": "stderr",
          "output_type": "stream",
          "text": [
            "\r171it [20:34,  7.04s/it]"
          ]
        },
        {
          "metadata": {
            "tags": null
          },
          "name": "stdout",
          "output_type": "stream",
          "text": [
            "Selected Entities (Score > 50%): ['Kanye West', '##ned Pa', '##hood Fox News Fox News Media Fox News Media', 'Business', 'News', 'Fox News U', 'World Op', 'Media', 'Fox News', 'Senate House', 'U', 'N', '##OX Nation', 'Celebrity', 'NFL College Football MLB NBA NHL Golf Tennis Soccer', 'UFC WWE', '##OX Business', 'Tech', 'Earth', 'Nature Watch', '##OX News', '##OX News Go', '##OX Weather', '##OX Nation', '##OX News Shop', '##OX News Radio', 'Fox News', '##OX News Network, LLC', 'F', '##et', 'FactSet Digital Solutions', 'Refinitiv Lipper', 'Facebook', 'RS', 'Em', 'Ka', 'West Ka', 'West', 'Tyler McCarthy', 'Fox', 'Facebook', 'Trump', 'WHO', 'Hogan', 'Trump', 'Fox', 'Ka', 'West']\n"
          ]
        },
        {
          "metadata": {
            "tags": null
          },
          "name": "stderr",
          "output_type": "stream",
          "text": [
            "\r172it [20:42,  7.42s/it]"
          ]
        },
        {
          "metadata": {
            "tags": null
          },
          "name": "stdout",
          "output_type": "stream",
          "text": [
            "Selected Entities (Score > 50%): ['Co', 'The Guardian', '##ralia', 'Guardian', 'Guardian', 'Guardian', '##icTV', '##ralia', 'Guardian', 'Guardian', 'Observer', 'Institute', 'UN']\n"
          ]
        },
        {
          "metadata": {
            "tags": null
          },
          "name": "stderr",
          "output_type": "stream",
          "text": [
            "\r173it [20:48,  7.02s/it]"
          ]
        },
        {
          "metadata": {
            "tags": null
          },
          "name": "stdout",
          "output_type": "stream",
          "text": [
            "Selected Entities (Score > 50%): ['United States U', 'S', 'All About America', 'World', 'Africa', 'Americas East Asia Europe Middle East South Central Asia Ukraine', 'China Iran', 'USA', 'Chris Simkins', 'March for Reproductive Justice', 'Atlanta', 'Washington', 'U', 'Supreme Court', 'Supreme Court', 'National Urban League', 'Marc Morial', 'VOA', 'U', 'S', 'Supreme Court', 'United States', 'Marjorie', 'Susan', 'Anthony', 'America', 'Louisiana']\n"
          ]
        },
        {
          "metadata": {
            "tags": null
          },
          "name": "stderr",
          "output_type": "stream",
          "text": [
            "\r174it [20:57,  7.43s/it]"
          ]
        },
        {
          "metadata": {
            "tags": null
          },
          "name": "stdout",
          "output_type": "stream",
          "text": [
            "Selected Entities (Score > 50%): ['Indiana', 'Indiana', 'Capital Chronicle', 'Indiana', 'Casey Smith', 'Whitney Downard', 'Indiana', 'Hoosier', 'Getty Images', 'Indiana', 'Do', '##bbs', 'U', 'S. Supreme Court', 'Roe v', 'Wade', 'Indiana', 'Indiana Department of Health IDOH', 'Indiana Capital Chronicle', 'Indiana', 'Indiana', 'Hoosier', 'Planned Parenthoods', 'Indianapolis', 'Georgetown', 'Indianapolis', 'Indiana']\n"
          ]
        },
        {
          "metadata": {
            "tags": null
          },
          "name": "stderr",
          "output_type": "stream",
          "text": [
            "\r175it [21:03,  7.05s/it]"
          ]
        },
        {
          "metadata": {
            "tags": null
          },
          "name": "stdout",
          "output_type": "stream",
          "text": [
            "Selected Entities (Score > 50%): ['Betty Cockrum', 'Indiana', 'Planned Parenthood', '##News North Sports', 'Indy 500', 'NEWS', '##Betty Cockrum', 'Indiana', '##Crystal Hill Shari Rudavsky', '##Indianapolis Star', '##Betty Cockrum', 'Indiana', 'Ho', '##ier', 'Planned Parenthood', 'Indiana', 'Kentucky', 'Vi Simpson', 'Indiana', 'Cockrum', 'Mom', 'Cockrum', 'Planned Parenthood', 'Cockrum', 'Department of Administration', 'Bloomington', 'Bloomington Redevelopment Department', 'Betty', 'Bloomington City Hall', 'John Goss', 'Bloomington', 'Frank OBannon', 'Department', 'Administration', 'Tom', 'Co', '##rum', 'Co', '##rum', 'Go', 'O', 'Betty', 'Betty']\n"
          ]
        },
        {
          "metadata": {
            "tags": null
          },
          "name": "stderr",
          "output_type": "stream",
          "text": [
            "\r176it [21:11,  7.39s/it]"
          ]
        },
        {
          "metadata": {
            "tags": null
          },
          "name": "stdout",
          "output_type": "stream",
          "text": [
            "Selected Entities (Score > 50%): ['Republic of Moldova', 'WHO', 'Africa Americas', 'South', 'East Asia Europe', 'Eastern', 'Mediterranean', 'Western Pacific Countries', 'Albania Andorra Armenia Austria Azerbaijan Belarus Belgium Bosnia and Herzegovina Bulgaria Croatia Cyprus Czechia Denmark Estonia Finland France Georgia Germany Greece Hungary Iceland Ireland Israel Italy Kazakhstan Kyrgyzstan Latvia Lithuania Luxembourg Malta Monaco Montenegro Netherlands Kingdom of the North Macedonia Norway Poland Portugal Republic of Moldova Romania Russian Federation San Marino Serbia Slovakia Slovenia Spain Sweden Switzerland Tajikistan', 'T', 'Turkmenistan Ukraine United Kingdom', 'Great Britain', 'Northern Ireland Uzbekistan', 'English Franais Deutsch', 'Co', 'Ukraine', 'European Programme', 'Work One', 'Sustainable Development Goals', 'Pan - European Mental Health Coalition', 'European Immunization Agenda 2030', 'UHC', 'WHOE', 'European Health Information Gateway', 'European', 'WHO', 'EVIP', 'European', 'Israel', 'Palestinian', 'Armenian', 'Syria', 'Region', 'WHO', 'Europe', 'Council', 'WHO', 'Committee', 'Europe', 'Committee', 'WHO', 'Republic', 'Moldova']\n"
          ]
        },
        {
          "metadata": {
            "tags": null
          },
          "name": "stderr",
          "output_type": "stream",
          "text": [
            "\r177it [21:17,  7.08s/it]"
          ]
        },
        {
          "metadata": {
            "tags": null
          },
          "name": "stdout",
          "output_type": "stream",
          "text": [
            "Selected Entities (Score > 50%): ['Indiana', 'AP', 'U', 'S', 'Israel', 'Hamas War Russia - Ukraine War', 'Asia', 'Pacific', 'Latin', 'America', 'Europe Africa Middle East China Australia', 'Joe', '##iden Congress', 'Madness MLB NBA NHL NFL Soccer Golf Tennis', 'Associated Press', 'AP', 'AP', 'Associated Press', 'AP', 'AP', 'Associated Press', 'Israel', 'Hamas', 'Unilever', 'Elon Musk', 'Indiana', 'Republican', 'Tyler Johnson', 'Republican', 'Sue Glick', 'House', 'Indiana', '##house', 'Indianapolis', 'House', 'Republican', 'AP', 'Rodgers', 'Democratic', 'Sen', 'Shell', 'House', 'Indiana', 'Indianapolis', 'Medic', 'House', 'AP', '##A', 'Rodgers', 'A', 'Rodgers S', 'Em', 'Facebook X Red', '##I', 'Pi', 'F', 'INDIAN', '##IS AP', 'Indiana']\n"
          ]
        },
        {
          "metadata": {
            "tags": null
          },
          "name": "stderr",
          "output_type": "stream",
          "text": [
            "\r178it [21:25,  7.25s/it]"
          ]
        },
        {
          "metadata": {
            "tags": null
          },
          "name": "stdout",
          "output_type": "stream",
          "text": [
            "Selected Entities (Score > 50%): ['Life', 'Trump', 'CNN CNN', 'CNN', 'CNN', 'US International Arabic', 'CNN', 'World', 'Africa Americas Asia Australia China Europe India Middle East United Kingdom', 'US', 'Congress', 'Tech Media', '##tors', 'Bell', 'US Sports Olympics', 'Hockey Digital Studios CNN', 'CNN', 'Earth', 'World', 'Africa', 'CNN', 'CNN', 'CNN', 'CNN', 'CNN', 'Life', 'Trump', 'Terry', 'E', 'Co', 'Donald Trump', 'Life', 'National', 'Washington', 'Patrick', 'Terry', 'American', 'CNN', 'CNN', 'Donald Trump']\n"
          ]
        },
        {
          "metadata": {
            "tags": null
          },
          "name": "stderr",
          "output_type": "stream",
          "text": [
            "\r179it [21:34,  7.76s/it]"
          ]
        },
        {
          "metadata": {
            "tags": null
          },
          "name": "stdout",
          "output_type": "stream",
          "text": [
            "Selected Entities (Score > 50%): ['N', 'Susan Vog', 'Catholic', 'Catholics', 'Catholic', 'Roe v Wade', 'Joseph Bernardin', 'Life', 'Roe', 'Wade']\n"
          ]
        },
        {
          "metadata": {
            "tags": null
          },
          "name": "stderr",
          "output_type": "stream",
          "text": [
            "\r180it [21:44,  8.37s/it]"
          ]
        },
        {
          "metadata": {
            "tags": null
          },
          "name": "stdout",
          "output_type": "stream",
          "text": [
            "Selected Entities (Score > 50%): ['Kristan Hawkins', 'National Pro - Life Summit', 'Fight for Freedom', 'Students for Life of', 'America', 'SFLA', '##Kristan Hawkins', 'National Pro - Life Summit', 'Fight for Freedom', '##renna Lewis', 'British', 'Philadelphia', 'Civil War', 'Black Americans', 'God']\n"
          ]
        },
        {
          "metadata": {
            "tags": null
          },
          "name": "stderr",
          "output_type": "stream",
          "text": [
            "\r181it [21:50,  7.74s/it]"
          ]
        },
        {
          "metadata": {
            "tags": null
          },
          "name": "stdout",
          "output_type": "stream",
          "text": [
            "Selected Entities (Score > 50%): ['Maltese', 'Malta', 'National Court', 'San G', '##tano', 'Malta', 'Gozo', 'Labour MEP', 'Metsola', 'Rise Foundation', 'News Business Business News', 'Malta', 'Bit', 'Germany', 'World Cup', 'Europa League', 'Champions League', 'Chelsea', 'Newcastle MFA', 'Premier League', 'Dave Call', 'Malta Biennale', 'Oppen', '##heimer', 'Oscars', 'Skin', 'Abel', 'Um El Faroud', 'Malta']\n"
          ]
        },
        {
          "metadata": {
            "tags": null
          },
          "name": "stderr",
          "output_type": "stream",
          "text": [
            "\r182it [21:58,  7.69s/it]"
          ]
        },
        {
          "metadata": {
            "tags": null
          },
          "name": "stdout",
          "output_type": "stream",
          "text": [
            "Selected Entities (Score > 50%): ['Catholics', 'Black Lives', 'Matter', 'Catholic News Agency', 'EWTN News CNA ACI Prensa ACI Stampa ACI Digital ACI', 'Africa', 'ACI Af', '##que ACI Mena CNA Deutsche NCR', '##ister', 'Vatican Americas Asia', 'Pacific US Europe Middle East', 'Africa', 'Benedict XVI Bible Catech', 'Catholic Link', 'Pope Francis', '##ue CNA', 'EWTN News', 'Catholics', 'Black Lives', 'Matter', 'Black Trans Lives', 'Matter', 'Brooklyn Borough', 'New York City', 'Angela Weiss', 'AFP', 'Getty Images CNA Staff', 'Catholic', 'Black Lives Matter', 'Black', '##L', '##ives', '##Matter', 'Trayvon Martin', 'Ferguson', 'Missouri', 'Michael Brown', 'Black Lives', 'Matter', 'Black Lives Matter', 'Black Lives Matter Global Network Foundation', 'U', 'S', 'Black', 'Lives', 'Western', 'Black Lives', 'Black']\n"
          ]
        },
        {
          "metadata": {
            "tags": null
          },
          "name": "stderr",
          "output_type": "stream",
          "text": [
            "\r183it [22:05,  7.45s/it]"
          ]
        },
        {
          "metadata": {
            "tags": null
          },
          "name": "stdout",
          "output_type": "stream",
          "text": [
            "Selected Entities (Score > 50%): ['AAP', 'AAP', 'Jeff Craven', 'American Academy of Pediatrics Committee on Ad', '##scence', 'AAP', 'HP', 'HP', 'Laura K. Grubb', 'Floating Hospital for Children', 'Tufts Medical Center', 'Boston', 'AAP']\n"
          ]
        },
        {
          "metadata": {
            "tags": null
          },
          "name": "stderr",
          "output_type": "stream",
          "text": [
            "\r184it [22:11,  7.29s/it]"
          ]
        },
        {
          "metadata": {
            "tags": null
          },
          "name": "stdout",
          "output_type": "stream",
          "text": [
            "Selected Entities (Score > 50%): ['Texas', 'The Guardian', '##ralia', 'Guardian', 'Guardian', 'News', 'Guardian', '##icTV', '##ralia', 'Guardian', 'Guardian', 'Observer', 'Archive', '##uardian Li', 'Us', '##ia', '##ia', '##rica', 'Austin', 'Texas', 'Suzanne Co']\n"
          ]
        },
        {
          "metadata": {
            "tags": null
          },
          "name": "stderr",
          "output_type": "stream",
          "text": [
            "\r185it [22:19,  7.35s/it]"
          ]
        },
        {
          "metadata": {
            "tags": null
          },
          "name": "stdout",
          "output_type": "stream",
          "text": [
            "Selected Entities (Score > 50%): ['Ra', 'Abor', 'Midwife', 'Ban', 'ACLU', 'Racist', 'Abortion', 'Mid', 'Ban', 'Michele Goodwin', 'University of California', 'Irvine', 'Sojourner Truth', '##A', 'I A Woman?', 'Womens Convention', 'Akron', 'Ohio', 'American', 'Fugitive Slave Act', 'Black', 'Boston', 'Philadelphia', 'Southern', 'Black', 'Ms', 'Truth', 'Ms', 'Truth', 'Black', 'Black', 'Black', 'American', 'Ms', 'Truth', 'Jesus', 'Supreme Courts', 'Medical Services', 'Russo', 'United', 'States', 'Black']\n"
          ]
        },
        {
          "metadata": {
            "tags": null
          },
          "name": "stderr",
          "output_type": "stream",
          "text": [
            "\r186it [22:25,  7.03s/it]"
          ]
        },
        {
          "metadata": {
            "tags": null
          },
          "name": "stdout",
          "output_type": "stream",
          "text": [
            "Selected Entities (Score > 50%): ['Texas', 'ACLU of Texas', 'Texas', 'ACLU of Texas', 'Board of Directors', 'ACLU ACLU', 'and I', 'LGBT', '##QIA', 'Texas Legislature', 'Texas Capitol', 'Harris County', 'Texas', 'Legal', 'Anti', 'Trans', 'Texas', 'Texas', 'National Network of A', 'National Abortion Federation Hotline', 'Supreme Court', 'Do', '##bbs', 'Jackson Womens Health Organization', 'Texas', 'Senate', 'Bill 8 S', 'Greg Abbott', 'House', 'Texas', 'Roe']\n"
          ]
        },
        {
          "metadata": {
            "tags": null
          },
          "name": "stderr",
          "output_type": "stream",
          "text": [
            "\r187it [22:33,  7.37s/it]"
          ]
        },
        {
          "metadata": {
            "tags": null
          },
          "name": "stdout",
          "output_type": "stream",
          "text": [
            "Selected Entities (Score > 50%): ['Roe v', 'Wade', 'Life', 'The New York Times', 'God', 'Pro', 'V', 'Abortion', 'America', 'Vanessa Mobley', 'Adrian J', 'Rivera', 'Roe v', 'Wade', 'Fair Destinee', 'Pennsylvania', 'Republican', 'Dwyarrn', 'New York', 'Black', 'Democratic', 'Olivia', 'Oklahoma', 'Republican', 'America', 'God', 'Life', 'Abortion', 'America', 'Roe v', 'Wade', 'Roe', 'Americans', 'Do', '##bbs', 'Jackson Womens Health Organization']\n"
          ]
        },
        {
          "metadata": {
            "tags": null
          },
          "name": "stderr",
          "output_type": "stream",
          "text": [
            "\r188it [22:40,  7.01s/it]"
          ]
        },
        {
          "metadata": {
            "tags": null
          },
          "name": "stdout",
          "output_type": "stream",
          "text": [
            "Selected Entities (Score > 50%): ['Supreme Court', 'Louisiana Abortion Law', 'ABC News', 'Supreme Court', 'Louisiana Abortion Law', 'Facebook', 'Amelia Thomson', 'De', '##Veaux', 'Supreme Court', 'John Roberts', 'Louisiana', 'Trump', 'Louisiana', 'Texas', 'Supreme Court', 'DAC', 'Roberts', 'Louisiana', 'Texas', 'Louisiana', 'Roberts', 'Roberts', 'Texas', 'Louisiana', 'Louisiana', 'Texas']\n"
          ]
        },
        {
          "metadata": {
            "tags": null
          },
          "name": "stderr",
          "output_type": "stream",
          "text": [
            "\r189it [22:48,  7.38s/it]"
          ]
        },
        {
          "metadata": {
            "tags": null
          },
          "name": "stdout",
          "output_type": "stream",
          "text": [
            "Selected Entities (Score > 50%): ['Catholic', 'Court', 'U', 'S', 'U', 'S', 'World', 'University of Venus Letters', 'Catholic', 'Benedictine', 'Catholic', 'Sara', 'Weiss', 'Benedictine', 'Stephen', 'Catholic', 'Palazzo', '##lo']\n"
          ]
        },
        {
          "metadata": {
            "tags": null
          },
          "name": "stderr",
          "output_type": "stream",
          "text": [
            "\r190it [22:54,  7.02s/it]"
          ]
        },
        {
          "metadata": {
            "tags": null
          },
          "name": "stdout",
          "output_type": "stream",
          "text": [
            "Selected Entities (Score > 50%): ['Michigan', \"Women ' s Rights News Al Jazeera\", '##US Canada', '##n America', '##pe', '##As', '##ia Pacific', '##rae', 'War', 'Gaza', '##nce Technology', \"##n ' s\", 'Rights', 'US Supreme Court', 'Roe', 'Wade', 'Michigan', 'Michigan', 'Gretchen Whitmer', 'Paul San', '##cy', 'Gretchen Whitmer', 'Michigan', 'United States', 'Democratic', 'Oakland County', 'Michigan', 'US Supreme Court', 'US Supreme Court', 'Senate', '##ret', 'US Supreme Court', '##rett Ka', 'US Supreme Court', 'US', 'Michigan', 'Court', 'Michigan', 'US', 'US', 'Supreme Court', 'Roe', 'Wade', 'Michigan', 'Supreme Court']\n"
          ]
        },
        {
          "metadata": {
            "tags": null
          },
          "name": "stderr",
          "output_type": "stream",
          "text": [
            "\r191it [23:02,  7.40s/it]"
          ]
        },
        {
          "metadata": {
            "tags": null
          },
          "name": "stdout",
          "output_type": "stream",
          "text": [
            "Selected Entities (Score > 50%): ['UNC', 'Chapel', 'Hill', 'First Amendment', 'Assembly', 'Student Network', 'Network', 'FIRE Legal Network', 'FIR', 'Network', 'FIRE']\n"
          ]
        },
        {
          "metadata": {
            "tags": null
          },
          "name": "stderr",
          "output_type": "stream",
          "text": [
            "\r192it [23:08,  7.03s/it]"
          ]
        },
        {
          "metadata": {
            "tags": null
          },
          "name": "stdout",
          "output_type": "stream",
          "text": [
            "Selected Entities (Score > 50%): ['CBS Baltimore', 'U', 'S', 'World Politics Entertainment HealthWatch MoneyWatch Crime Sports Local News Baltimore Bay Area Boston', 'Chicago', 'Colorado Detroit', 'Los Angeles', 'Miami Minnesota New York Philadelphia Pittsburgh Sacramento Texas Live CBS News', 'America', 'CBS Evening', 'CBS', 'CBS News Eye', 'America', 'CBS', 'CBS Reports CBS', 'Dish', 'CBS News Team', 'Paramount Shop Paramount', 'Our Talent Community', 'Maryland', 'WJ', 'Consumer Business Health CBS Weather', 'Weather Watch', 'All', 'CBS Sports HQ Ravens Orioles Terps', 'WJ', 'WJZ WJZ', 'Baltimore Banner HealthyMD WJZ', 'Black History Month', 'CBS News Maryland', 'CBS', 'Baltimore', 'CNN', 'Republican', 'Republican', 'Oklahoma', 'Kevin Sitt', 'Oklahoma', 'Texas', 'Senate', 'Oklahoma', 'Oklahoma', 'Texas', 'Wales']\n"
          ]
        },
        {
          "metadata": {
            "tags": null
          },
          "name": "stderr",
          "output_type": "stream",
          "text": [
            "\r193it [23:17,  7.36s/it]"
          ]
        },
        {
          "metadata": {
            "tags": null
          },
          "name": "stdout",
          "output_type": "stream",
          "text": [
            "Selected Entities (Score > 50%): ['In', 'China Congress', 'Israel', 'Security Society', 'Border', 'Robert Hur', 'Global Censorship Society', 'Supreme Court', 'Haiti', 'Georgia', 'Alien Bill', 'Justice', 'Ali', 'Texas Law', 'Schum', 'Tik', '##ok', 'Senate', 'Republicans', 'Democrats', 'International News', 'China', 'Americas Un', 'House', 'Biden', 'Age', 'Iran', 'FBI', 'Russia', 'Association']\n"
          ]
        },
        {
          "metadata": {
            "tags": null
          },
          "name": "stderr",
          "output_type": "stream",
          "text": [
            "\r194it [23:23,  7.00s/it]"
          ]
        },
        {
          "metadata": {
            "tags": null
          },
          "name": "stdout",
          "output_type": "stream",
          "text": [
            "Selected Entities (Score > 50%): ['Oklahoma A', 'Ban', 'Security World Technology', 'Newslette', 'Oklahoma', 'A', 'Ban', 'Oklahoma City', 'Sue Ogro', 'Texas', 'S', 'B', '8', 'Jordan Smith', 'Oklahoma', 'Kevin Stitt', 'Rabia Muqaddam', 'Center for Reproductive Rights', 'Oklahoma', 'Politicos', 'Supreme Court', 'Samuel Alito', 'Mississippi', 'Roe v', 'Wade', 'Dobbs', 'Jackson Womens Health Organization', 'Our Newsletter', 'Oklahoma', 'Texas Senate', 'Bill 8', 'Texas']\n"
          ]
        },
        {
          "metadata": {
            "tags": null
          },
          "name": "stderr",
          "output_type": "stream",
          "text": [
            "\r195it [23:30,  7.12s/it]"
          ]
        },
        {
          "metadata": {
            "tags": null
          },
          "name": "stdout",
          "output_type": "stream",
          "text": [
            "Selected Entities (Score > 50%): ['Eduardo Verstegui', 'John Paul', 'II', 'English', '##nglishItaliano', '##uese', '##olskaS', '##love', '##nina', 'Saint Joseph', 'Eduardo Verstegui', 'John Paul', '##wona Flisikowska', 'Aleteia', 'Lenten', 'ALETEI', 'Eduardo Verstegui', 'Rosary', 'Rosary', 'Eduardo Verstegui', 'United States', 'God']\n"
          ]
        },
        {
          "metadata": {
            "tags": null
          },
          "name": "stderr",
          "output_type": "stream",
          "text": [
            "\r196it [23:37,  7.04s/it]"
          ]
        },
        {
          "metadata": {
            "tags": null
          },
          "name": "stdout",
          "output_type": "stream",
          "text": [
            "Selected Entities (Score > 50%): ['Reeves', 'Mississippi Today', 'Mississippi', 'In', 'P', 'Mari', 'BCBSUMMC', 'Washington Justice', 'Mississippi Welfare', '##bortion Law', 'Mississippi', 'Mississippi', 'Today Pulitzer Prize', 'Mississippi', 'Jackson', 'Reeves', 'Isabelle Taft', 'Facebook', 'Tate Reeves', 'State', 'Jackson', 'Tate Reeves', 'Mississippi', 'Reeves', 'Mississippi', 'Mississippi', 'Mississippi']\n"
          ]
        },
        {
          "metadata": {
            "tags": null
          },
          "name": "stderr",
          "output_type": "stream",
          "text": [
            "\r197it [23:44,  6.90s/it]"
          ]
        },
        {
          "metadata": {
            "tags": null
          },
          "name": "stdout",
          "output_type": "stream",
          "text": [
            "Selected Entities (Score > 50%): ['Green', '##eorge W. Davis', 'Beacon Journal', 'Green High School', 'Isabella Doyle', 'Ohio', '##an', '2020 Students for Life T', '##hadde', '##us Stevens Fellowship', 'Green', 'David', 'Rosette Doyle', 'Isabella', 'Mary Briganti', 'Students for Life in America', 'Fredericksburg', 'Va', 'Briganti', 'Isabella', 'Claudia Isakov', 'Green', 'Claudia', 'Claudia', 'Isabella', 'Skyler Arny', 'Ally LaPenes', 'Right to Life Club', 'Isabella', 'Mark Tomecko', 'Green', 'Right to Life Clubs', 'Isabella', 'Isabella']\n"
          ]
        },
        {
          "metadata": {
            "tags": null
          },
          "name": "stderr",
          "output_type": "stream",
          "text": [
            "\r198it [23:51,  7.14s/it]"
          ]
        },
        {
          "metadata": {
            "tags": null
          },
          "name": "stdout",
          "output_type": "stream",
          "text": [
            "Selected Entities (Score > 50%): ['Iowa', 'PBS NewsHour', 'PBS', 'News', 'Brooks', 'and', 'Capehart', 'Supreme Court Arts', 'Race', 'Sol', \"' Lounge\", 'PBS NewsHour', 'Hannah Fingerhut', 'Associated Press', 'Associated Press', '##nter', '##lr', 'Iowa', 'Iowa', 'Iowa', 'Kim Reynolds', 'Iowa', 'Reynolds', 'Christians', 'ACLU of Iowa', 'North', 'States', 'Emma', 'Joseph', 'Iowa']\n"
          ]
        },
        {
          "metadata": {
            "tags": null
          },
          "name": "stderr",
          "output_type": "stream",
          "text": [
            "\r199it [23:57,  6.83s/it]"
          ]
        },
        {
          "metadata": {
            "tags": null
          },
          "name": "stdout",
          "output_type": "stream",
          "text": [
            "Selected Entities (Score > 50%): ['He', 'Christian', 'Tony Dungy', 'Raphael Warnock', 'Michael Fous', 'Israel LGBTQ', 'Christian', 'He', 'Christian', 'Tony Dungy', 'Raphael Warnock Michael Fous', 'ChristianHeadlines', 'com', 'NFL', 'Tony Dungy', 'Atlanta', 'U', 'S', 'Senate', 'Raphael Warnock', 'Christian', 'Dungy', 'NBC', 'Indianapolis Colts', 'Dungy', 'Warnock', 'Warnock', 'Warnock', 'Ebenezer Baptist Church', 'Atlanta', 'Democratic', 'U', 'S', 'Kelly Loeffler', 'Republican', 'Dungy', 'Warnock', 'Christian', 'Jesus', 'Bible', 'God', 'Dungy', 'Warnock Warren', 'Dungy', 'God', 'Psalm', 'God', 'Tony Du', 'Tony', 'Du', 'God', 'God']\n"
          ]
        },
        {
          "metadata": {
            "tags": null
          },
          "name": "stderr",
          "output_type": "stream",
          "text": [
            "\r200it [24:06,  7.28s/it]"
          ]
        },
        {
          "metadata": {
            "tags": null
          },
          "name": "stdout",
          "output_type": "stream",
          "text": [
            "Selected Entities (Score > 50%): ['Planned Parenthood Action Fund', 'Health', 'Ed Markey', 'Planned Parenthood Advocacy Fund of Massachusetts, Inc', 'Planned Parenthood Action Fund', 'Planned Parenthood Advocacy Fund of Massachusetts', 'Inc', 'Act', 'PlannedParenthoodAction', 'Age', 'Youth Act', 'R', 'Planned Parenthood Action Fund', 'Planned Parenthood Action Fund', 'Ed Markey', 'Action Fund', 'Action Fund', 'U', 'Senate', 'Congress', 'Planned Parenthood', 'Jennifer Childs - Roshak', 'Planned Parenthood Advocacy Fund', 'Massachusetts', 'Planned Parenthood Action Fund', 'Ed Markey', 'Massachusetts', 'Trump', 'Markey', 'Massachusetts', 'Commonwealth', 'Congress', 'Mark', 'Mark', 'Mark', 'Fund']\n"
          ]
        },
        {
          "metadata": {
            "tags": null
          },
          "name": "stderr",
          "output_type": "stream",
          "text": [
            "\r201it [24:12,  6.93s/it]"
          ]
        },
        {
          "metadata": {
            "tags": null
          },
          "name": "stdout",
          "output_type": "stream",
          "text": [
            "Selected Entities (Score > 50%): ['Trump', 'Anti', 'Women', 'Democrats DNC', 'Democratic National Committee', 'DNC', 'Democratic Party', 'DNC Services Corporation', 'DE', 'DEMO', 'South Capitol Street', 'Washington', 'DC', 'Word', 'Democrats', 'Trump', 'Anti', 'Women Record', 'Trump', 'Trump', 'Trump', 'Trump', 'Trump', 'Trump', 'Trump', 'Trump', 'Act', 'Roe', 'Wade', 'Trump', 'Court', 'Trump']\n"
          ]
        },
        {
          "metadata": {
            "tags": null
          },
          "name": "stderr",
          "output_type": "stream",
          "text": [
            "\r202it [24:20,  7.34s/it]"
          ]
        },
        {
          "metadata": {
            "tags": null
          },
          "name": "stdout",
          "output_type": "stream",
          "text": [
            "Selected Entities (Score > 50%): ['Kentucky', 'Bloomberg', 'Bloomberg', 'Bloomberg Any', 'Americas', 'EMEA', 'Asia', 'Pacific', 'Bloomberg London', 'Equality Index', '##berg Beta Communications Press', 'Facebook', 'Bloomberg', 'Bloomberg Law', 'New Energy Finance Media Bloomberg Markets', 'Media Services Bloomberg Media', 'Bloomberg London', 'Equality Index', 'Beta Communications Press', 'Facebook', 'Bloomberg', 'Bloomberg', 'Bloomberg', 'Bloomberg', 'Bloomberg']\n"
          ]
        },
        {
          "metadata": {
            "tags": null
          },
          "name": "stderr",
          "output_type": "stream",
          "text": [
            "\r203it [24:26,  6.98s/it]"
          ]
        },
        {
          "metadata": {
            "tags": null
          },
          "name": "stdout",
          "output_type": "stream",
          "text": [
            "Selected Entities (Score > 50%): ['S', 'David C', '##rary Associated Press', 'Roe', 'Wade', 'Supreme Court', 'Mississippi', 'USA', 'Y', '##K', 'Julie Burkhart', 'Wichita', 'Kansas', 'Oklahoma City', 'Texas', 'Allison Cowett', 'Family Planning Associates', 'Chicago', 'Texas', 'Atlanta', 'Marissa Lapedis', 'Texas', 'Georgia', 'Texas', 'Texas', 'Wichita', 'Texas', 'Michigan']\n"
          ]
        },
        {
          "metadata": {
            "tags": null
          },
          "name": "stderr",
          "output_type": "stream",
          "text": [
            "\r204it [24:35,  7.37s/it]"
          ]
        },
        {
          "metadata": {
            "tags": null
          },
          "name": "stdout",
          "output_type": "stream",
          "text": [
            "Selected Entities (Score > 50%): [\"March for Women ' s Lives\", 'America', 'The Independent The Independent', 'Register Independent', 'America', 'Olympics', 'Union', 'Deje', 'G', '##ral', 'New Zealand', 'America', 'America', 'Caribbean']\n"
          ]
        },
        {
          "metadata": {
            "tags": null
          },
          "name": "stderr",
          "output_type": "stream",
          "text": [
            "\r205it [24:41,  7.00s/it]"
          ]
        },
        {
          "metadata": {
            "tags": null
          },
          "name": "stdout",
          "output_type": "stream",
          "text": [
            "Selected Entities (Score > 50%): ['Democrat', 'Jones', 'M', '##de', 'Democrat', 'Jones', 'Democrat', 'Cass', 'Jones', '##de', 'Jasmine Gomez', 'J', 'MCBR', '##DE', 'Jewelyn Butron']\n"
          ]
        },
        {
          "metadata": {
            "tags": null
          },
          "name": "stderr",
          "output_type": "stream",
          "text": [
            "\r206it [24:48,  7.25s/it]"
          ]
        },
        {
          "metadata": {
            "tags": null
          },
          "name": "stdout",
          "output_type": "stream",
          "text": [
            "Selected Entities (Score > 50%): ['U', 'S', 'Hopkins Bloomberg Public Health Magazine', 'Hopkins Bloomberg Public Health Magazine', 'U', 'S', 'Anna', 'U', 'S', 'Joanne Rosen', 'Health Policy and Management', 'U', 'S.', 'Rosen', 'Americas', 'U', 'S', 'DC', 'American', 'Association', 'Black', 'AM', 'Mario', 'Department']\n"
          ]
        },
        {
          "metadata": {
            "tags": null
          },
          "name": "stderr",
          "output_type": "stream",
          "text": [
            "\r207it [24:57,  7.75s/it]"
          ]
        },
        {
          "metadata": {
            "tags": null
          },
          "name": "stdout",
          "output_type": "stream",
          "text": [
            "Selected Entities (Score > 50%): ['U', 'S. News', 'Lil Nas X', 'Christian', 'JavaScript', 'Mini', 'S', '##CP Magazine', '##CP', 'Modern Version', '##on DeSantis', 'American', 'Haiti', 'God', 'Ohio', '##eorgia', 'Charles Stanley', 'Jesus', 'Palm', 'Red Pill', 'Lil Nas X', 'Ryan Foley', 'Christian', 'America', 'Lil', 'Monte', 'Lamar Hill']\n"
          ]
        },
        {
          "metadata": {
            "tags": null
          },
          "name": "stderr",
          "output_type": "stream",
          "text": [
            "\r208it [25:06,  7.91s/it]"
          ]
        },
        {
          "metadata": {
            "tags": null
          },
          "name": "stdout",
          "output_type": "stream",
          "text": [
            "Selected Entities (Score > 50%): ['Biden', 'Pro', 'Life', 'National Catholic Register', 'Service', 'EWTN News, Inc', 'EWTN News, Inc', 'Catholic', 'Gospel', 'Catholic Church', 'National Catholic Register', 'Catholic News Agency CNA Deutsch ACI Africa ACI Afrique ACI', 'ACI Prens', 'ACI Stampa ACI Mena Digital Media', 'Espaol Church', 'Italiano', 'Port', '##ug', '##us TV Radio E', '##N', '##N', 'Register Radio Vatican', 'Register', 'National Catholic Register', 'Pope', 'Francis', 'Eucharistic Congress Synod', 'Synod', 'Vatican Job Board', 'Life', 'Register', 'Biden', 'Life', 'Biden', 'Mark Houck', 'Brown', 'FBI', 'Peter', 'Thomas', 'Society', 'Register']\n"
          ]
        },
        {
          "metadata": {
            "tags": null
          },
          "name": "stderr",
          "output_type": "stream",
          "text": [
            "\r209it [25:12,  7.36s/it]"
          ]
        },
        {
          "metadata": {
            "tags": null
          },
          "name": "stdout",
          "output_type": "stream",
          "text": [
            "Selected Entities (Score > 50%): ['##bor', 'CO', '##D', '##bor', 'Law', '##hood', '##bortion Laws', 'Abortion', 'CO', '##D', 'Miriam Berg', 'Texas', 'Americans', 'CO', '##D']\n"
          ]
        },
        {
          "metadata": {
            "tags": null
          },
          "name": "stderr",
          "output_type": "stream",
          "text": [
            "\r210it [25:20,  7.51s/it]"
          ]
        },
        {
          "metadata": {
            "tags": null
          },
          "name": "stdout",
          "output_type": "stream",
          "text": [
            "Selected Entities (Score > 50%): ['Life', 'Life', 'Students for Life of America', 'SFLA', 'Life', 'Life', '##renna Lewis', 'for Life', 'Christian', 'Mike']\n"
          ]
        },
        {
          "metadata": {
            "tags": null
          },
          "name": "stderr",
          "output_type": "stream",
          "text": [
            "\r211it [25:26,  7.14s/it]"
          ]
        },
        {
          "metadata": {
            "tags": null
          },
          "name": "stdout",
          "output_type": "stream",
          "text": [
            "Selected Entities (Score > 50%): ['Rights', 'Florida', 'Progressive', 'org', 'Rights', 'Gender', 'Justice', 'Care', 'LGBT', '##cial Justice', 'War and Peace Magazine Digital Magazine', 'Advocate', 'Our Fellows', 'Board of Directors', 'Rights', 'Florida', 'Creative', 'Commons', '##bor', 'Rights', 'Florida', 'South', 'Steph Black', 'Democratic', 'House', 'Senate', 'Equal Access to Abortion Cover', 'Health Insurance EACH Woman Act', 'Womens Health Protection Act of', 'Southern', 'Center for Reproductive Rights', 'United States', 'Roe', 'Wade', 'U', 'S', 'South', 'Florida', 'Florida', 'Roe', 'Louisiana', 'Mississippi', 'Alabama', 'Georgia', 'Carolina']\n"
          ]
        },
        {
          "metadata": {
            "tags": null
          },
          "name": "stderr",
          "output_type": "stream",
          "text": [
            "\r212it [25:33,  7.20s/it]"
          ]
        },
        {
          "metadata": {
            "tags": null
          },
          "name": "stdout",
          "output_type": "stream",
          "text": [
            "Selected Entities (Score > 50%): ['Facebook', 'In', 'Biblical', 'Trump Trials Biden', 'Israel - Hamas War', 'Family International', 'Politics', 'Magazine Election Center', 'Family Society', 'Thaddeus Williams', 'Los Angeles', 'Getty Images', 'Keith Birmingham', '##MediaNews GroupPasadena Star - News', 'U', 'S', 'Barney Frank', 'Mass', 'Los Angeles Times', 'Christy Berghoef', 'Franks', 'Berghoef', 'Michigan', 'Berghoef']\n"
          ]
        },
        {
          "metadata": {
            "tags": null
          },
          "name": "stderr",
          "output_type": "stream",
          "text": [
            "\r213it [25:40,  7.12s/it]"
          ]
        },
        {
          "metadata": {
            "tags": null
          },
          "name": "stdout",
          "output_type": "stream",
          "text": [
            "Selected Entities (Score > 50%): ['The Economic Times', '##C', 'Rob', 'The Economic Times', 'Indians']\n"
          ]
        },
        {
          "metadata": {
            "tags": null
          },
          "name": "stderr",
          "output_type": "stream",
          "text": [
            "\r214it [25:47,  6.95s/it]"
          ]
        },
        {
          "metadata": {
            "tags": null
          },
          "name": "stdout",
          "output_type": "stream",
          "text": [
            "Selected Entities (Score > 50%): ['Pete Buttigieg', 'Trump', '##ews North Sports', 'Indy 500', 'Butti', '##g', 'Trump James Briggs', '##ete Butti', '##g', 'Iowa', 'New Hampshire', 'Democratic', 'Democratic Party', 'Buttigieg', 'Democrats', 'Bernie Sanders', 'Butti', '##g', 'Democrats', 'Donald Trump', 'Kristen Day', 'Democrats for Life', 'Butti', '##g', 'Fox News', 'Democrat', 'Day', 'Butti', '##g', 'Democratic', 'Butti', 'Butti', '##g', 'Democratic', 'Democrats', 'Sarah', 'Bailey', 'Washington', 'Post', 'Days', 'Democrats', 'Bill Clinton', 'Indiana', 'Democratic', 'Joe Donnell', 'Briggs']\n"
          ]
        },
        {
          "metadata": {
            "tags": null
          },
          "name": "stderr",
          "output_type": "stream",
          "text": [
            "\r215it [25:54,  7.10s/it]"
          ]
        },
        {
          "metadata": {
            "tags": null
          },
          "name": "stdout",
          "output_type": "stream",
          "text": [
            "Selected Entities (Score > 50%): ['North Carolina', 'Republicans', 'ABC News ABC News', '##L', '##N', 'Carolina', 'Republicans', 'North Carolina', 'Ke', 'Sarah Stevens', 'Republican', 'Legislature', 'Building', 'Raleigh', 'N', 'C', 'The News Observer', 'APN', 'Carolina', 'Republican', 'GOP', 'House', 'Senate', 'The Care for Women, Children', 'and', 'Families Act', 'House', 'Senate', 'North Carolina', 'Joyce Krawiec', 'Republican', 'ABC', '##TV', 'North Carolina', 'Joyce', 'Republican', 'Raleigh', 'Hannah', '##AP']\n"
          ]
        },
        {
          "metadata": {
            "tags": null
          },
          "name": "stderr",
          "output_type": "stream",
          "text": [
            "\r216it [26:00,  6.81s/it]"
          ]
        },
        {
          "metadata": {
            "tags": null
          },
          "name": "stdout",
          "output_type": "stream",
          "text": [
            "Selected Entities (Score > 50%): ['Region', 'WHO', 'Africa Americas South', 'East Asia Europe Eastern Mediterranean Western Pacific', 'English', 'Fr', 'Espaol Port', '##ug', '##us', '##HIJ', 'Herpes HIV', 'AIDS', 'WHO', 'Newsroom', 'Afghanistan', 'Co', 'Horn of Africa Israel', 'Palestinian', 'Sudan Ukraine', 'WHO', 'International Health Regulations', 'Independent Oversight and Advisory Committee', 'WHO', 'Global', 'Sustainable Development Goals', 'Global', 'Health Observatory', 'World Health Statistics', 'WHO', 'WHO Academy', 'WHO Foundation', 'World Health Assembly Executive Board']\n"
          ]
        },
        {
          "metadata": {
            "tags": null
          },
          "name": "stderr",
          "output_type": "stream",
          "text": [
            "\r217it [26:09,  7.24s/it]"
          ]
        },
        {
          "metadata": {
            "tags": null
          },
          "name": "stdout",
          "output_type": "stream",
          "text": [
            "Selected Entities (Score > 50%): ['Amy Coney Barrett', 'Supreme Court', 'A', '##bor', '##bortion Laws', 'Amy Coney', 'Barrett', 'Supreme Court', 'Miriam Berg', 'Amy Coney Barrett', 'Americans', 'Senate', 'Amy Coney Barrett', 'Barrett', 'Supreme Court', 'Roe v', 'Wade', 'South', 'Midwest', 'Mountain West', 'Roe v', 'Wade', 'Supreme Court', 'Roe v', 'Wade', 'Roe', 'Roe', 'Wade']\n"
          ]
        },
        {
          "output_type": "stream",
          "name": "stderr",
          "text": [
            "\r218it [26:15,  6.92s/it]"
          ]
        },
        {
          "output_type": "stream",
          "name": "stdout",
          "text": [
            "Selected Entities (Score > 50%): ['Jane Roe', 'Pro', 'Life Does', 'Michael C. Dorf', 'Justia Verdi', 'Justia Justia Home Col', 'Archives', 'Facebook', 'Twitter', 'RS', '##ia', 'Jane Roe', 'Life', 'Michael C', 'Do', 'Citizen Ruth', 'Laura Dern', 'Ruth Stoops', 'Stoops', 'Stoops', 'Stoops', 'Stoops', 'FX', 'AKA', 'Jane', 'Roe', 'Norma McCorvey', 'Roe v', 'Wade', 'McCorvey', 'M', '##C', 'Texas', 'M', '##C', 'M', '##C']\n"
          ]
        },
        {
          "output_type": "stream",
          "name": "stderr",
          "text": [
            "\r219it [26:23,  7.39s/it]"
          ]
        },
        {
          "output_type": "stream",
          "name": "stdout",
          "text": [
            "Selected Entities (Score > 50%): ['U', 'S. Supreme Court', 'Texas', 'The Texas Tribune', 'Immigration Law', 'Air Pollution House Freedom Caucus Teen Contraception SXSW', 'Coronavirus', 'Texas', 'Planned Parenthood', 'U', 'S. Supreme Court', 'Texas', 'U', 'S', '5th Circuit Court of Appeals', 'Texas', 'GO', '##P', 'Greg Abbott', 'CO', '##D', 'Sami Sparber', 'Facebook', '##dit', 'U', 'S. Supreme Court', 'Texas', 'Stephen Spillman', 'The Texas Tribune', 'The Brief', 'Texas', 'U', '5th Circuit Court of Appeals', 'Texas', 'GO', '##P', 'Greg Abbott', 'CO', '##D', 'Planned Parenthood', 'Pa', 'Center', 'Project', 'Abbott', 'NBC', 'Abbott', 'CO', '##D', 'Texas', 'Ken', 'Pa']\n"
          ]
        },
        {
          "output_type": "stream",
          "name": "stderr",
          "text": [
            "\r220it [26:29,  7.01s/it]"
          ]
        },
        {
          "output_type": "stream",
          "name": "stdout",
          "text": [
            "Selected Entities (Score > 50%): ['English Esp', 'Franais Portug', 'Bahasa Deutsch Kiswahili', '##h', 'Kreyl Zulu Setswana isiXhosa R', '##oh', '##ingya Tagalog Italiano', 'V', '##aka', 'Ki', '##l Somali', 'Africa Americas Asia Europe Middle East', 'O', 'Animals', 'Rights', 'Apart', 'Post', 'Pande', 'Rights', 'Rights', 'Rights', 'Rights', 'French', 'Commission on the Status of', 'Women', 'United Nations', 'Headquarters', 'New York', 'UN', 'WomenR', 'Brown']\n"
          ]
        },
        {
          "output_type": "stream",
          "name": "stderr",
          "text": [
            "\r221it [26:38,  7.38s/it]"
          ]
        },
        {
          "output_type": "stream",
          "name": "stdout",
          "text": [
            "Selected Entities (Score > 50%): ['Afghanistan', 'CO', '##D', '19', 'Atlantic Council In', 'Atlantic Councils', 'New Atlanticist', '##ew Atlanticist', '##ew Atlanticist', 'Atlantic Council', 'United States', 'Atlantic Council', 'Frederick Kempe', 'In', 'Points', 'United States', 'Ukraine', '##ine', '##lert', 'Ukraine', 'Ukraine', '##Aler', 'Ukraine', '##MENA', '##ce', 'Middle East', '##rica', 'Iran', 'Turkey', 'Front', 'United Nations', 'NATO', 'Partnership']\n"
          ]
        },
        {
          "output_type": "stream",
          "name": "stderr",
          "text": [
            "\r222it [26:44,  7.00s/it]"
          ]
        },
        {
          "output_type": "stream",
          "name": "stdout",
          "text": [
            "Selected Entities (Score > 50%): ['Oklahoma Capitol', 'Sports Life Op', 'NEWS', 'Oklahoma Capitol', '##ayla Branch', 'Capitol', 'Oklahoma', 'Senate', 'Bill 13', 'Oklahoma', 'U', 'S', 'Supreme Court', 'Roe v', 'Wade', 'Abolition Day', 'Capitol', 'Leslie Hanks', 'Colorado', 'Amy Kelly', 'Tecumseh', 'Kelly', 'Joseph Silk', 'Broken Bow', 'Abolition Day', 'Susan', 'Tulsa', 'Oklahoma', 'Silk']\n"
          ]
        },
        {
          "output_type": "stream",
          "name": "stderr",
          "text": [
            "\r223it [26:52,  7.34s/it]"
          ]
        },
        {
          "output_type": "stream",
          "name": "stdout",
          "text": [
            "Selected Entities (Score > 50%): ['Poland', 'Poland', 'News', 'Po p', '##ku', 'Politics Society', 'Law', 'Poland', 'VoiCEE', 'Board', 'Poland Foundation', 'Poland', 'Newslette', 'Central and Eastern Europe News', 'Poland', 'Agnieszka Wdoowska', 'Poland', 'Catholic', 'Law and Justice PiS', 'Womens Strike Strajk Kobiet', 'Ola Jasionowska', 'Jasionowska', 'Newsweek Polska', 'Mars', 'Marcel', '##za']\n"
          ]
        },
        {
          "output_type": "stream",
          "name": "stderr",
          "text": [
            "\r224it [26:58,  7.00s/it]"
          ]
        },
        {
          "output_type": "stream",
          "name": "stdout",
          "text": [
            "Selected Entities (Score > 50%): ['Life and Family Bill', 'Guatemala', 'Human Rights Watch', 'Human Rights Watch', 'English', 'Franais De', '##uts', '##ch Port', '##us Espaol', 'Life and Family', 'Bill', 'Guatemala', 'ElPeridico', 'Cristian Gonzlez Cabrera', 'Lesbian', ', Gay,', 'B', '##xual', 'and', 'Trans', '##der Rights Program', 'Juan Pappier', 'Americas', 'JuanPappier', 'Facebook', 'WhatsA', '##edIn', 'Red', 'Guatemala', 'Life and', 'Family', 'Guatemala City', 'Guatemala', 'REUTERSSandra Sebastian', 'International Womens Day', 'Guatemalan', 'Congress', 'Life', 'and', 'Family', 'Alejandro Giammattei']\n"
          ]
        },
        {
          "output_type": "stream",
          "name": "stderr",
          "text": [
            "\r225it [27:05,  7.07s/it]"
          ]
        },
        {
          "output_type": "stream",
          "name": "stdout",
          "text": [
            "Selected Entities (Score > 50%): ['North Carolina House', 'AP', 'U', 'S', 'Israel', 'Hamas War Russia - Ukraine War', 'Asia Pacific', 'Latin', 'America', 'Europe Africa Middle East China Australia', 'Joe', 'B', '##iden Congress March Madness MLB NBA NHL NFL Soccer Golf Tennis', 'Associated Press', 'AP', 'AP', 'The Associated Press', 'AP', 'AP', 'Associated Press', 'Israel', 'Hamas', 'Unilever', 'Elon Musk', 'North Carolina House', 'Bicente', '##ial Plaza', 'Planned Parenthood South Atlantic', 'North Carolina Legislature', 'Raleigh', 'N', 'C', 'AP', '##l', 'DeB', 'Cora Field', 'Chapel Hill', 'NC', 'Bice', 'Plan', 'Pa', '##hood', 'South', 'Atlantic', 'North', 'Carolina', 'Legislature', 'N', 'C', 'AP', 'B', 'A', 'Bicente', 'Plan', '##hood', 'South', 'Atlantic', 'North', 'Carolina', 'Legislature', 'Raleigh', 'N', 'C', 'AP', 'B']\n"
          ]
        },
        {
          "output_type": "stream",
          "name": "stderr",
          "text": [
            "\r226it [27:12,  7.04s/it]"
          ]
        },
        {
          "output_type": "stream",
          "name": "stdout",
          "text": [
            "Selected Entities (Score > 50%): ['United Nations Population Fund', 'United Nations Population Fund ENE', 'ICPD', 'Centre of Excellence', 'South', 'South', 'Generation Equality Forum Action Coalition', 'UNFPA', 'UN', 'University Network', 'Services', 'PSEA', 'UNFPA', 'UNFPA', 'UN', 'Award', 'HIV', 'Afghanistan Armenia', 'Bangladesh', 'Democratic', 'Republic', 'Congo Ethiopia', 'Palestinian', 'Haiti', 'Africa Sudan Syria', 'Syria Ukraine Yemen']\n"
          ]
        },
        {
          "output_type": "stream",
          "name": "stderr",
          "text": [
            "\r227it [27:19,  6.86s/it]"
          ]
        },
        {
          "output_type": "stream",
          "name": "stdout",
          "text": [
            "Selected Entities (Score > 50%): ['Texas', 'The Texas Tribune', 'Immigration Law', 'Air Pollution House Freedom Caucus', '##ception', 'SXSW', 'Texas', 'Abor', '##tion Rest', 'Texas', 'Eleanor Klibanoff', 'Facebook Reddit', 'Lauren Hall', 'Hall', 'Roe v', 'Wade', 'Shelby Tauber', 'The Texas Tribune', 'The', '##rief', 'The Texas Tribune', 'Texas', 'Texas', 'Texas', 'Anna Zargarian', 'Colorado', 'Texas', 'Texas', 'Texas', 'Board', 'Center', 'York']\n"
          ]
        },
        {
          "output_type": "stream",
          "name": "stderr",
          "text": [
            "\r228it [27:26,  7.14s/it]"
          ]
        },
        {
          "output_type": "stream",
          "name": "stdout",
          "text": [
            "Selected Entities (Score > 50%): ['Katie Hobbs', 'Kari Lake', 'Desert', 'MONTINI', 'Katie Hobbs', 'Kari Lake', 'Montini', '##rizona', 'Republic', '##n', 'Kari Lake', 'Democrat', 'Katie Hobbs', 'Katie Hobbs', '##bs', 'Arizona', 'GOP', 'Hobbs', 'Lake', 'Arizona', 'Ka', 'Lake', 'Roe', 'Wade', 'U', 'Court', 'Arizona', 'Legislature']\n"
          ]
        },
        {
          "output_type": "stream",
          "name": "stderr",
          "text": [
            "\r229it [27:32,  6.81s/it]"
          ]
        },
        {
          "output_type": "stream",
          "name": "stdout",
          "text": [
            "Selected Entities (Score > 50%): ['Heritage Foundation', 'Heritage Foundation', 'Race Theory Life Index', 'Economic Freedom', 'China', 'Kevin Roberts', 'Show', 'Heritage Foundation', 'Asia', 'American', 'Middle East', 'Amendment', 'Human Life', 'Thomas Ji', 'Center for Legal and Judicial Studies', 'Thomas Jipping', 'Edwin', 'Me', '##ese', 'III Center for Legal and Judicial Studies', 'Ronald Reagan', 'WHPA', 'Roe', 'Ronald Reagan', 'Protection', 'Act', 'House', 'Caucus', 'Senate', 'Roe', 'Wade', 'Court']\n"
          ]
        },
        {
          "output_type": "stream",
          "name": "stderr",
          "text": [
            "\r230it [27:41,  7.21s/it]"
          ]
        },
        {
          "output_type": "stream",
          "name": "stdout",
          "text": [
            "Selected Entities (Score > 50%): ['The Daily Illini', '##iktok', 'The Daily Illini', 'Around', 'World', 'Pygmalion Lolla', 'CU', 'International', 'C', 'Illini Black History Month', 'Da', 'Guide LGBT', 'Asian Heritage', 'Illini Media Company', 'Il', 'Malcolm Murdoch', '##iki', '##media', 'Commons', 'Capitol', 'Washington D', 'C', 'Women', 'March', 'Sanchita Teeka', 'Te', 'Americans', 'Americans']\n"
          ]
        },
        {
          "output_type": "stream",
          "name": "stderr",
          "text": [
            "\r231it [27:47,  6.85s/it]"
          ]
        },
        {
          "output_type": "stream",
          "name": "stdout",
          "text": [
            "Selected Entities (Score > 50%): ['Poland', 'FTSearch', '##l', 'Hamas', '##ricaAsia', 'Pacific', 'Ukraine', 'East North Africa', '##k', 'Japan', '##elson Peltz', 'Donald Trump', 'Joe Biden', 'Biden', '##oe Biden', 'Benjamin Netanyahu', 'Rafah', 'America', '##eloitte', 'Trump', 'New York', '##oldman Sachs', 'Stephanie Cohen', 'Cloudflare', '##bu Dhabi', 'China', 'Germany', 'Russia', 'US']\n"
          ]
        },
        {
          "output_type": "stream",
          "name": "stderr",
          "text": [
            "\r232it [27:55,  7.26s/it]"
          ]
        },
        {
          "output_type": "stream",
          "name": "stdout",
          "text": [
            "Selected Entities (Score > 50%): ['Save', 'Lives', 'Women', 'Girls', 'Africa', 'Save', 'Lives', 'Women', 'Girls', 'Africa', 'African', 'Edinah Masiyiwa', 'Zimbabwe', 'Womens Action Group', 'PHOTO', 'Womens Action Group', 'Edinah Masiyiwa', 'Chipo Moyo', 'Harare', 'Chipo', '##CP', 'Nairobi', '##CP', 'Group', 'Zimbabwe', '##CP']\n"
          ]
        },
        {
          "output_type": "stream",
          "name": "stderr",
          "text": [
            "\r233it [28:01,  6.89s/it]"
          ]
        },
        {
          "output_type": "stream",
          "name": "stdout",
          "text": [
            "Selected Entities (Score > 50%): ['Poles', 'Yahoo Movies', 'Constitutional Tribunal', 'Law and Justice PiS', 'Warsaw', 'Constitutional Tribunal', 'Klementyna Suchanow', \"Strajk Kobiet Women ' s Strike\", 'Poland', '##ames Bond', 'Sean Connery', 'Daniel Craig', '##ave Myers', 'Hairy BikersBA', 'James Bond', 'Theo James', 'Cillian Murphy', 'Jake Gyllenhaal', 'Helen', 'Ken', 'Barlow', 'UK', 'Sweeney', 'Taylor', 'Johnson', 'James Bond', 'British']\n"
          ]
        },
        {
          "output_type": "stream",
          "name": "stderr",
          "text": [
            "\r234it [28:09,  7.20s/it]"
          ]
        },
        {
          "output_type": "stream",
          "name": "stdout",
          "text": [
            "Selected Entities (Score > 50%): ['UNFPA', 'New Vision', 'Us', 'Us', 'First Street', 'Industrial Area', 'Kampala', 'NEWS', '##ME', '##DIA', '##DI', 'AMA', 'KAMPALA', 'UNFPA', 'United Nations Population Fund UNFPA', 'Uganda', 'UNFPA Uganda', 'Alain Sibenaler', 'Kampala', 'Uganda', 'UNFPA', 'Programme', 'Sibenale', 'GB', 'Council', 'Authority', 'Uganda', 'Uganda', 'Uganda']\n"
          ]
        },
        {
          "output_type": "stream",
          "name": "stderr",
          "text": [
            "\r235it [28:15,  6.91s/it]"
          ]
        },
        {
          "output_type": "stream",
          "name": "stdout",
          "text": [
            "Selected Entities (Score > 50%): ['Burbidge', 'Arlington Catholic Herald', 'Global', 'Pope Francis', 'Burbidge', 'Ann M. Augherton Christina Capecchi Elizabeth Foss Mary Beth Bonacci Russell Shaw', '##ren Johnson', 'English', 'Burbidge', 'Kevin Sch', '##weers Catholic Herald', 'Michael F', 'Burbidge', 'Joseph W. Farrell', 'George Mason University', 'Fairfax', 'Best Choice', 'Ultrasound and Pregnancy Resource Center', 'St. Mary of Sorrows Church', 'Fairfax', '##ILE PHOTO', '##ife', 'Catholic Church', 'Michel F. Burbidge', 'U', 'S', 'bishops Committee for Pro - Life Activities', 'Bishop Burbidge', 'U', 'S. Conference of Catholic Bishops', 'Assembly', 'Baltimore', 'William E. Lori', 'Baltimore', 'Burbidge', 'Archbishop Lori', 'Hu', 'Roe', 'Wade', 'Catholics']\n"
          ]
        },
        {
          "output_type": "stream",
          "name": "stderr",
          "text": [
            "\r236it [28:22,  6.98s/it]"
          ]
        },
        {
          "output_type": "stream",
          "name": "stdout",
          "text": [
            "Selected Entities (Score > 50%): ['Poland', 'Post Courier', 'National News Business World News', 'Drum Editorial', 'Us Twitter Facebook', 'Post Courier', 'Papua New Guinea', 'Post - Courier', 'PNG', '##W', '##ld News', 'Poland', '##AdminPNG', 'Twitter', 'Facebook', 'LinkedIn', 'Telegram', 'WhatsApp', 'Polish', 'Warsaw', 'Warsaw', 'Rafal Trzaskowski', 'Sylwester Marczak', 'Warsaw Police', 'Poland', 'Warsaw', 'Poland']\n"
          ]
        },
        {
          "output_type": "stream",
          "name": "stderr",
          "text": [
            "\r237it [28:29,  7.01s/it]"
          ]
        },
        {
          "output_type": "stream",
          "name": "stdout",
          "text": [
            "Selected Entities (Score > 50%): ['Behemoth', 'Nergal', 'Polish', 'In', 'N', 'Polish', 'Pandemic', 'Stasi', '##na', 'Poland', 'Behemoth', 'Ner', '##gal', 'Poland', 'Covid - 19', 'Stop Abortion', 'Poland', 'Polish', 'Poland', 'North Korea', 'Belarus', 'Polish', 'Poland', 'Polish']\n"
          ]
        },
        {
          "output_type": "stream",
          "name": "stderr",
          "text": [
            "\r238it [28:36,  6.81s/it]"
          ]
        },
        {
          "output_type": "stream",
          "name": "stdout",
          "text": [
            "Selected Entities (Score > 50%): ['Bob Stefanowski', 'CT Mirror', 'CT Mirror', 'Connecticut', 'CT Mirror', 'Connecticut', 'CT Mirror', 'Brian', 'North', 'Ginny Monk', 'iPhonei', 'Connecticut CT Mirror', 'Community Editorial Board CT', 'Facebook', 'Editorial Board', 'Altimari Andrew Brown Jenna Carlesso Tom Condon Jaden Edison Katy Golvala Lisa Hagen Jessika Harkay Jos Luis Martnez Ginny Monk Mark Pazniokas Keith Phaneuf Erica E', 'Phillips Shahrzad Rasekh Jan Ellen S', '##gel', 'CT Mirror', 'Connecticut', 'Bob Stefano']\n"
          ]
        },
        {
          "output_type": "stream",
          "name": "stderr",
          "text": [
            "\r239it [28:43,  7.13s/it]"
          ]
        },
        {
          "output_type": "stream",
          "name": "stdout",
          "text": [
            "Selected Entities (Score > 50%): ['Russia', 'UN', 'The Guardian', '##ralia', 'Guardian', 'Guardian', 'Guardian', '##icTV', '##ralia', 'Guardian', 'Guardian', 'Observer', 'Us', 'East', '##rica', 'Ukrainian', 'UN', 'U', '##inian']\n"
          ]
        },
        {
          "output_type": "stream",
          "name": "stderr",
          "text": [
            "\r240it [28:50,  6.80s/it]"
          ]
        },
        {
          "output_type": "stream",
          "name": "stdout",
          "text": [
            "Selected Entities (Score > 50%): ['Mary Camilleri', 'Labour', '##ite', 'Times of Malta', 'l - Orizzont', 'UK', 'Abortion Support Network', 'Maltese', 'Lara Dimitrijevic', 'Dimitrijevic', 'Abortion Support Network', 'Malta', 'Irish', 'UK', 'Dimitrije', 'Malta']\n"
          ]
        },
        {
          "output_type": "stream",
          "name": "stderr",
          "text": [
            "\r241it [28:58,  7.21s/it]"
          ]
        },
        {
          "output_type": "stream",
          "name": "stdout",
          "text": [
            "Selected Entities (Score > 50%): ['Matthew Phillips', 'Life on WheelsN', 'Business Go', 'NE', 'Matthew Phillips', 'Life on Wheels', 'Hadley HitsonMontgomery', 'Matthew Phillips', 'Camille', 'Phillips', 'Montgomery', 'Phillips', 'Phillips', 'Life on Wheels', 'Montgomery', 'Birmingham', 'Life on Wheels', 'Taylor Road', 'Phillips', 'Montgomery', 'Life On Wheels', 'Alabama State University', 'Phillips', 'Life', 'Phillips', 'Life', 'Phillips']\n"
          ]
        },
        {
          "output_type": "stream",
          "name": "stderr",
          "text": [
            "\r242it [29:04,  6.86s/it]"
          ]
        },
        {
          "output_type": "stream",
          "name": "stdout",
          "text": [
            "Selected Entities (Score > 50%): ['CNN CNN', 'CNN', 'CNN', 'US International Arabic', 'CNN', 'World', 'Africa Americas Asia Australia China Europe India Middle East United Kingdom', 'US', 'Congress', 'Tech', 'Bell', 'US Sports Olympics', 'Hockey Digital Studios CNN', 'CNNVR', 'to Earth', 'World', 'Africa', 'CNN', 'CNN', 'CNN Leadership CNN', 'CNN', 'Erik', 'Bach', 'Daniel Williams', 'Adobe', 'Erik', 'Bach', '##tec']\n"
          ]
        },
        {
          "output_type": "stream",
          "name": "stderr",
          "text": [
            "\r243it [29:12,  7.25s/it]"
          ]
        },
        {
          "output_type": "stream",
          "name": "stdout",
          "text": [
            "Selected Entities (Score > 50%): ['Russia', 'UN', 'The Guardian', '##ralia', 'Guardian', 'Guardian', 'Guardian', '##icTV', '##ralia', 'Guardian', 'Guardian', 'Observer', '##ian', '##ian', 'Us', 'East', '##rica', 'Na', 'Pan', 'South Africa', 'Mu', 'Pan']\n"
          ]
        },
        {
          "output_type": "stream",
          "name": "stderr",
          "text": [
            "\r244it [29:18,  6.88s/it]"
          ]
        },
        {
          "output_type": "stream",
          "name": "stdout",
          "text": [
            "Selected Entities (Score > 50%): ['South Carolina', 'Democrat', 'Republican Party', 'Fox News Fox News Media Fox News', 'News Audio', 'Fox News U', 'S', 'Politics World Op', 'Media', 'Fox News', 'Senate House', 'U', 'N', '##OX Nation', 'NFL College Football MLB NBA NHL Golf Tennis Soccer', 'UFC WWE', 'Auto Travel', 'Real Estate House', '##OX', 'Nature', '##OX News', '##OX News Go', '##OX Weather', '##OX Nation', '##OX News Shop', '##OX News Radio', 'Fox News', '##OX News Network, LLC', 'F', '##et', 'FactSet Digital Solutions', 'Refinitiv Lipper', 'Facebook', 'Fox News', 'South', 'Carolina', 'Democrat', 'Republican', 'Party', 'Army', 'Harriet', 'Democrats', 'Stephanie', 'Fox', 'Facebook', 'South Carolina', 'Democrat', 'Republican', '##ester County', 'Harriet', 'Fox', 'First', 'South Carolina', 'Democratic', 'Republican']\n"
          ]
        },
        {
          "output_type": "stream",
          "name": "stderr",
          "text": [
            "\r245it [29:26,  7.16s/it]"
          ]
        },
        {
          "output_type": "stream",
          "name": "stdout",
          "text": [
            "Selected Entities (Score > 50%): ['New Mexico', 'U', 'S', 'Israel', 'Hamas War Russia - Ukraine War', 'Asia', 'Pacific', 'Latin', 'America', 'Europe Africa Middle East China Australia', 'Joe Biden Congress March Madness MLB NBA NHL NFL Soccer Golf Tennis', 'Associated Press', 'AP', 'AP', 'The Associated Press', 'AP', 'AP', 'Associated Press', 'Israel', 'Hamas', 'Unilever', 'Elon Musk', 'New Mexico', 'Pro - Life Rally', 'New Mexico', 'Las Cruces', 'N', 'M', 'New Mexico', 'Mississippi', 'Roe v', 'Wade', 'New Mexico', 'Meg Potter', 'Las', 'AP', 'New Mexico', 'Las', 'New Mexico', 'Mississippi', 'Roe', 'Wade', 'New Mexico']\n"
          ]
        },
        {
          "output_type": "stream",
          "name": "stderr",
          "text": [
            "\r246it [29:32,  6.93s/it]"
          ]
        },
        {
          "output_type": "stream",
          "name": "stdout",
          "text": [
            "Selected Entities (Score > 50%): ['States', 'Roe', 'Rights Sunshine Week', 'Supreme Court', 'Election Day', 'States', 'Roe', 'Supreme Court', 'Emma Coleman', 'post', 'Roe', \"Women ' s Rights Health Care Supreme Court\", 'Amy Coney Barrett', 'U', 'S', 'Supreme Court', 'Roe v', 'Wade', 'Barrett', 'Roe', 'Barrett', 'Roe', 'Arkansas', 'South Dakota', 'Missouri', 'Supreme Court', 'Roe']\n"
          ]
        },
        {
          "output_type": "stream",
          "name": "stderr",
          "text": [
            "\r247it [29:39,  6.97s/it]"
          ]
        },
        {
          "output_type": "stream",
          "name": "stdout",
          "text": [
            "Selected Entities (Score > 50%): ['Pro', 'Choice', 'Pro', 'Life', '##CLC', '##ife', '##dian', '##dicare', 'Canadian', '##dian', 'Canadian', 'Virtual Pro - Life Club', 'UN', 'E', 'Maeve Roche', 'CLC', 'Virtual Pro - Life Clubs', 'God', 'Jeremiah', 'God', 'God', 'God', 'Morgan Murphy']\n"
          ]
        },
        {
          "output_type": "stream",
          "name": "stderr",
          "text": [
            "\r248it [29:48,  7.68s/it]"
          ]
        },
        {
          "output_type": "stream",
          "name": "stdout",
          "text": [
            "Selected Entities (Score > 50%): ['Missouri', 'Cannabis', 'Missouri', 'John A. Tures', 'Jane', 'NormanStates Newsroom', 'Dobbs', 'Supreme Court', 'Roe v', 'Wade', 'Bill Clinton', 'Roe', 'Roe', 'California', 'California Maternal Quality Care Col', '##borative', 'Massachusetts', 'Nevada', 'Connecticut', 'Colorado', 'Louisiana', 'America', 'CBS', 'Arkansas']\n"
          ]
        },
        {
          "output_type": "stream",
          "name": "stderr",
          "text": [
            "\r249it [29:55,  7.21s/it]"
          ]
        },
        {
          "output_type": "stream",
          "name": "stdout",
          "text": [
            "Selected Entities (Score > 50%): ['Northern Ireland', 'OS X', 'Amnesty International UK', 'Ireland', 'Northern Ireland', 'Sarah Ewart', 'England', 'Northern Ireland', 'Northern Ireland', 'Northern Ireland', 'Sarah Ewart', 'England', 'Sarah', 'Northern Ireland Human Rights Commission', 'Belfast', 'High Court', 'Northern Ireland', 'Article 8', 'European Convention on Human Rights', 'Northern', 'Ireland', 'England', 'England', 'Sarah', 'Northern Ireland']\n"
          ]
        },
        {
          "output_type": "stream",
          "name": "stderr",
          "text": [
            "\r250it [30:03,  7.49s/it]"
          ]
        },
        {
          "output_type": "stream",
          "name": "stdout",
          "text": [
            "Selected Entities (Score > 50%): ['Kansas', 'Heritage Foundation', 'Heritage Foundation', 'Race Theory Life Index', 'Economic Freedom', 'China', 'Kevin Roberts', 'Heritage Foundation', 'American', 'International Europe', 'Middle East', 'Second Amendment', 'Constitution', 'Care', 'Life', 'Kansas', 'Kevin D. Roberts', 'Kevin', '##R', 'Heritage Trust', 'Kansas Constitutional Amendment On Abortion', 'Kansas 10', 'Lenexa', 'Kansas', 'Kyle Riva', 'Getty', 'Kansas', '##P', 'Dobbs', 'Kansas', 'Kansas', 'Kansas', 'Roe', 'Wade', 'Les', 'Sandra', 'Day', 'O', 'Connor', 'Anthony Kennedy', 'David', 'John Roberts', 'Casey']\n"
          ]
        },
        {
          "output_type": "stream",
          "name": "stderr",
          "text": [
            "\r251it [30:09,  7.06s/it]"
          ]
        },
        {
          "output_type": "stream",
          "name": "stdout",
          "text": [
            "Selected Entities (Score > 50%): ['UNC', 'Chapel Hill', 'Assembly', 'Student Network', 'Network', 'FIRE Legal Network', 'FIR', 'Network', 'FIRE', 'College']\n"
          ]
        },
        {
          "output_type": "stream",
          "name": "stderr",
          "text": [
            "\r252it [30:17,  7.39s/it]"
          ]
        },
        {
          "output_type": "stream",
          "name": "stdout",
          "text": [
            "Selected Entities (Score > 50%): ['Minnesota', 'CNN', 'CNN', 'Congress', 'CNN', 'CNN', 'US', 'Arabic', 'CNN', 'World Africa', 'Americas Asia Australia China Europe India Middle East United Kingdom', 'US', 'Bell', 'US', 'Olympics', 'Digital Studios CNN', 'CNN', 'Earth', 'World', 'Africa', 'CNN', 'CNN', 'CNN', 'CNN', 'CNN', 'Minnesota', 'Sydney Kashi', '##gi', 'CNN', 'Minnesota', 'Tim', 'Paul', 'Glen', 'Tribune', 'CNN', 'Minnesota', 'Democratic', 'Tim', 'Minnesota', 'US']\n"
          ]
        },
        {
          "output_type": "stream",
          "name": "stderr",
          "text": [
            "\r253it [30:23,  7.01s/it]"
          ]
        },
        {
          "output_type": "stream",
          "name": "stdout",
          "text": [
            "Selected Entities (Score > 50%): ['Michigan', 'Rights', 'Lori Carpentier', 'Bans', 'Ken Coleman', 'Michigan', 'Legislature', 'COVID - 19', 'House of Representatives', 'Isaac Robinson', 'CO', '##D', 'Lansing', 'Gretchen Whitmer', 'Arizona', 'Planned Parenthood of Michigan']\n"
          ]
        },
        {
          "output_type": "stream",
          "name": "stderr",
          "text": [
            "\r254it [30:31,  7.35s/it]"
          ]
        },
        {
          "output_type": "stream",
          "name": "stdout",
          "text": [
            "Selected Entities (Score > 50%): ['Ohio Senate', 'Roe v', 'Wade', '##kron Zoo', 'Komodo', 'Sports Entertainment Life', 'Op', 'POLITIC', 'Ohio', 'Supreme Court', 'Doug Livingston', '##Akron Beacon Journal', 'Roe v', 'Wade', 'Hudson', 'Ohio Senate', 'Kristina Roegner', 'Hudson', \"Sandra O ' Brien\", 'Ash', '##tabula', 'Senate', 'Bill 123', 'Ohio', 'Roe', 'Supreme Court', 'U', 'S', 'Constitution', 'U', 'S', 'Supreme Court', 'Roe', 'Roegner', 'Human Life Protection Act', 'Ohio', 'Roegner', 'Beacon Journal', 'General Assembly', 'Roegner']\n"
          ]
        },
        {
          "output_type": "stream",
          "name": "stderr",
          "text": [
            "\r255it [30:37,  6.95s/it]"
          ]
        },
        {
          "output_type": "stream",
          "name": "stdout",
          "text": [
            "Selected Entities (Score > 50%): ['All Lives Matter', 'Pro', 'Death Penalty Rally', 'Times', 'Got', 'S', 'Red', 'Ted Pillow', 'MIAMI', 'All Lives Matter', 'Pro', 'Death Penalty', 'All Lives Matter', 'Ned Wallace', 'American', 'Confederate', 'Punisher', 'NRA', 'All Lives Matter', 'Black Lives Matter', 'Waylon Jarrett', 'America', '##ssie', 'All Lives', '##sson', 'Anna', 'Claire']\n"
          ]
        },
        {
          "output_type": "stream",
          "name": "stderr",
          "text": [
            "\r256it [30:45,  7.19s/it]"
          ]
        },
        {
          "output_type": "stream",
          "name": "stdout",
          "text": [
            "Selected Entities (Score > 50%): ['Poland', 'World News Sky News', 'Sky News', 'Watch Live Home UK World', 'Israel', 'Hamas', 'US Climate Science Tech Business Ents Arts Travel Offbeat Analysis', 'For', 'Weather More', 'Poland', 'UK', 'Poles', 'Law and Justice', 'Warsaw', 'Poland', 'Sky News', 'Poland', 'Warsaw', \"Women ' s Strike\", 'LGBT', 'Poland', 'Poland', 'Chrome', 'Poland', 'France', 'Poles']\n"
          ]
        },
        {
          "output_type": "stream",
          "name": "stderr",
          "text": [
            "\r257it [30:51,  6.97s/it]"
          ]
        },
        {
          "output_type": "stream",
          "name": "stdout",
          "text": [
            "Selected Entities (Score > 50%): ['Rodgers', 'Age', 'Abor', '##N', 'Media', 'Media', 'Rodgers', 'A', 'House', 'Human Rights of the Unborn', '##ng', '##ton', 'D', 'C', 'Energy and Commerce Committee', 'Republican', 'Cathy McMorris Rodgers', 'WA', 'Democrats En', '##ring Access to Abortion Act', '##E CH', '##O', '##ICEI', 'H', 'R', '82', 'Ensuring Access to Abortion Act', 'Democrats Abortion on Demand Until Birth Act', '##IC', 'Democrats', 'Biden', 'Act']\n"
          ]
        },
        {
          "output_type": "stream",
          "name": "stderr",
          "text": [
            "\r258it [30:58,  6.97s/it]"
          ]
        },
        {
          "output_type": "stream",
          "name": "stdout",
          "text": [
            "Selected Entities (Score > 50%): ['U', 'S', 'States', 'Elizabeth Nash', 'Gutt', '##cher Institute', 'States', 'U', 'S', 'Roe v', 'Wade', 'G', 'Texas', 'Arkansas', 'Oklahoma', 'Indiana', 'Montana', 'South Dakota', 'Arkansas', 'Louisiana', 'Texas', 'S', 'B', '8', 'Texas', 'Texas', 'Texas', 'Greg Abbott', 'U', 'S', 'Mississippi', 'Roe']\n"
          ]
        },
        {
          "output_type": "stream",
          "name": "stderr",
          "text": [
            "\r259it [31:06,  7.04s/it]"
          ]
        },
        {
          "output_type": "stream",
          "name": "stdout",
          "text": [
            "Selected Entities (Score > 50%): ['Lubbock', 'Pope', 'Amarillo Pioneer News', '##illo', 'Pioneer', 'Amarillo', 'The Amarillo PioneerAmar', '##illo', 'Lubbock', 'Pope Thomas Warren', 'Regional News', 'Stephen Sanders', 'Amarillo', 'Lubbock', 'West Texas', 'Amarillo', 'Ginger Nelson', 'Lubbock', 'Dan Pope', 'El Paso', 'Dee Margo', 'Greg Abbott', 'Texas', 'Nelson', 'Pope', 'Amarillo', 'Lubbock', 'Lubbock', 'Stephen Sanders', 'Pope', 'Hu', 'City', 'Sanders', 'Texas Tech University', 'Sanders', '##bb', '##ock', 'Sanders', '##bb', '##ock', 'Sanders', 'Sanders']\n"
          ]
        },
        {
          "output_type": "stream",
          "name": "stderr",
          "text": [
            "\r260it [31:12,  6.76s/it]"
          ]
        },
        {
          "output_type": "stream",
          "name": "stdout",
          "text": [
            "Selected Entities (Score > 50%): ['Pew Research Center', 'World', 'Press', 'TikTok', 'LGBT', 'Asia', 'Pacific', 'Russia', 'America', 'East North Africa', 'America', 'Saharan', 'Africa', 'Pew Research Centers', 'U', 'S', 'Americas', 'ABC']\n"
          ]
        },
        {
          "output_type": "stream",
          "name": "stderr",
          "text": [
            "\r261it [31:20,  7.17s/it]"
          ]
        },
        {
          "output_type": "stream",
          "name": "stdout",
          "text": [
            "Selected Entities (Score > 50%): ['South Carolina House', 'AP', 'U', 'S', 'Israel', 'Hamas War Russia - Ukraine War', 'Asia Pacific', 'Latin', 'America', 'Europe Africa Middle East China Australia', 'Joe', 'B', '##iden Congress March Madness MLB NBA NHL NFL Soccer Golf Tennis AP', 'Associated Press', 'AP', 'AP', 'The Associated Press', 'AP', 'AP', 'Associated Press', 'Israel', 'Hamas', 'Unilever', 'Elon Musk', 'South', 'Carolina House', 'South Carolina House of Representatives', 'Columbia', 'S', 'C', 'AP', 'South Carolina', 'Rep', 'John McCravy', 'Greenwood', 'House', 'Columbia', 'C', 'AP', '##frey Collins', 'South Carolina', 'Columbia', 'C', 'AP', '##frey Collins', 'South Carolina', 'Chris', 'R', 'Lexington', 'Republican', 'House', 'David', 'House', 'C']\n"
          ]
        },
        {
          "output_type": "stream",
          "name": "stderr",
          "text": [
            "\r262it [31:26,  6.85s/it]"
          ]
        },
        {
          "output_type": "stream",
          "name": "stdout",
          "text": [
            "Selected Entities (Score > 50%): ['South Bend', 'Indiana', 'P', 'Do', \"Jackson Women ' s Health\", 'Center', 'St', 'Joseph County Right to Life', 'Katie Franklin', 'South Bend', 'Indiana', 'St. Joseph County Right to Life', 'Roe', '##Wade', 'us', 'St. Joseph County Right to Life', 'Supreme Court', 'ACAB', 'St', 'Joseph County Right to Life', 'Help News', 'Ulrich Klopfer', 'Center', 'Jackie Apple', 'Life', '##chia']\n"
          ]
        },
        {
          "output_type": "stream",
          "name": "stderr",
          "text": [
            "\r263it [31:34,  7.25s/it]"
          ]
        },
        {
          "output_type": "stream",
          "name": "stdout",
          "text": [
            "Selected Entities (Score > 50%): ['Georgia', 'Nation', 'Atlanta Company', 'Young T', 'Clayton', 'County', 'Victor Hill', 'Atlanta', 'Georgia', 'Atlanta', 'GA', '11', 'Atlanta', 'Hope Ford', 'ATLANT', 'Georgia', '11A', '##ve', 'Suzanne Guy', 'Tamara Stevens', 'Georgia State Capitol', 'Guy', 'Life and Life Initiatives', 'Stevens', 'Coalition']\n"
          ]
        },
        {
          "output_type": "stream",
          "name": "stderr",
          "text": [
            "\r264it [31:40,  6.88s/it]"
          ]
        },
        {
          "output_type": "stream",
          "name": "stdout",
          "text": [
            "Selected Entities (Score > 50%): ['Un', 'Business of Gender Equality', 'Ford Foundation', 'Justice', 'Ford Global Fellowship', 'Andean', 'Region', 'Africa', '##ndia', 'Nepal', 'Sri Lanka', '##Mexico', 'Central America', 'East', 'North Africa', 'Africa', 'States', 'Africa', 'Ford Foundation Center for Social Justice Ford Foundation', 'Un', 'of Gender Equality', 'Hilary Pennington', 'Facebook', 'Creative Commons', 'Mexico', 'Indonesia', 'Rwanda', 'South Africa', 'Ethiopia', 'Ahmed', 'Ethiopia']\n"
          ]
        },
        {
          "output_type": "stream",
          "name": "stderr",
          "text": [
            "\r265it [31:48,  7.27s/it]"
          ]
        },
        {
          "output_type": "stream",
          "name": "stdout",
          "text": [
            "Selected Entities (Score > 50%): ['Roe', 'OPB', 'Evergreen', 'Pacific Northwest', 'The', 'Evergreen', 'The News', '##kona Nature PreserveOregon Rail Heritage Center', 'Ever', '##green', '##Albina Vision Trust', 'Wars', 'Roe', 'AS', '##F KHALIL', 'PAUL J', 'WEBER', 'EMI', '##GS', '##R P', 'Associated PressWASHINGTON', 'March for Life', 'Supreme Court', 'Roe v', 'Wade', '##ON', '##RB', 'Jordan Moorman', 'Cincinnati', 'Roe', 'March for Life', 'National Mall', 'Washington', 'March for Life', 'Supreme Court', 'Walsh', 'AP', 'Roe', 'CO', 'Mall', 'CO', 'Columbia']\n"
          ]
        },
        {
          "output_type": "stream",
          "name": "stderr",
          "text": [
            "\r266it [31:54,  6.91s/it]"
          ]
        },
        {
          "output_type": "stream",
          "name": "stdout",
          "text": [
            "Selected Entities (Score > 50%): ['Texas', 'The Texas Tribune', 'Immigration Law', 'Air Pollution House Freedom Caucus', 'SXSW', 'Texas A', '##bor', '##tion', 'Texas', 'Texas', 'Megan Munce', 'Reddit', 'U', 'S', 'Supreme Court', 'Washington', 'Roe v', 'Wade', 'Jason Garza', 'The Texas Tribune', 'The', '##rief', 'Texas', 'U', 'S. Supreme Court', 'Texas', 'Roe v', 'Wade', 'Roe v', 'Wade', 'U', 'S', 'Supreme Court', 'Texas', 'Roe', 'Dobbs', 'Jackson', 'Mississippi', 'Dobbs', 'Roe v', 'Wade', 'Samuel Ali', 'Roe', 'Constitution', 'Constitution', 'Court', 'Roe']\n"
          ]
        },
        {
          "output_type": "stream",
          "name": "stderr",
          "text": [
            "\r267it [32:02,  7.18s/it]"
          ]
        },
        {
          "output_type": "stream",
          "name": "stdout",
          "text": [
            "Selected Entities (Score > 50%): ['Iowa', 'PBS NewsHour', 'PBS', 'News', '##our', 'Brooks and Capehart', 'Supreme Court Arts', 'Race', 'Paul Sol', \"' Lounge\", 'PBS NewsHour', 'Associated Press', '##nter', '##r', 'Iowa', '##S', 'Iowa', 'Iowa', 'Celene Gogerty', 'Kim Reynolds', 'Iowa Supreme Court', 'Reynolds', 'Reynolds', 'U', 'S. Supreme Court', 'Iowa', 'Iowa', '##EA', 'Indiana', 'Iowa', 'Reynolds', 'Reynolds', 'Michael', 'U']\n"
          ]
        },
        {
          "output_type": "stream",
          "name": "stderr",
          "text": [
            "\r268it [32:08,  6.89s/it]"
          ]
        },
        {
          "output_type": "stream",
          "name": "stdout",
          "text": [
            "Selected Entities (Score > 50%): ['Rights', 'The Nation', 'The Nation', 'Rep', 'Rights Magazine', 'World', 'The Nation', 'Issue Society', 'Rights', 'Rights', 'Supreme Court', 'Katha Pollitt', 'Supreme Court', 'Washington', 'Caroline Brehman Getty Images', 'The Nation', 'The Nations', 'The Nations', 'The Nations', 'Nation', 'The Nation', 'The Nation', 'Wine Club', 'The Nation', 'Women with a Vision', 'Black', 'Louisiana', 'Orleans', 'Fund', 'All', 'AC', 'Center', '##US', 'Services', 'Russo', 'Louisiana']\n"
          ]
        },
        {
          "output_type": "stream",
          "name": "stderr",
          "text": [
            "\r269it [32:16,  7.00s/it]"
          ]
        },
        {
          "output_type": "stream",
          "name": "stdout",
          "text": [
            "Selected Entities (Score > 50%): ['Georgia', 'Georgia', \"Georgia General Assembly Health Women ' s Health\", 'Jess Mador', 'Fe', '##st Womens Health Center', 'Tracii Wesley', 'Jess Mador', 'Georgia Supreme Court', 'House', 'Bill 481', 'Atlanta', 'Feminist Womens Health Center', 'DeKalb County', 'Tracii Wesley', 'Wesley', 'Wesley', 'Wesley', 'Wesley', 'Gwinnett', 'County', 'God']\n"
          ]
        },
        {
          "output_type": "stream",
          "name": "stderr",
          "text": [
            "\r270it [32:23,  7.01s/it]"
          ]
        },
        {
          "output_type": "stream",
          "name": "stdout",
          "text": [
            "Selected Entities (Score > 50%): ['Americans', 'Fox News Fox News Media Fox News Media', 'Nation', 'Fox News U', 'S', 'World Op', 'Fox News', 'Senate House', 'U', 'N', '##OX Nation', 'NFL College Football MLB NBA NHL Golf Tennis Soccer', 'UFC WWE', 'House', '##OX Business', '##OX News', '##OX News Go', '##OX Weather FOX Nation', '##OX News Shop', '##OX News Radio Out', 'Fox News', '##OX News Network', 'LLC', 'Factset', 'FactSet Digital Solutions', 'ET', 'Refinitiv Lipper', 'Facebook', 'Americans', 'Americans', 'Roe', 'Wade', 'Tyler', 'Neil Fox', 'E', 'E', 'Facebook', 'Co', 'Em', 'Texas', 'Supreme Court Alexandria Ho', 'Supreme Court', 'Texas', 'Report', 'Americans', 'Knights', 'Columbus', 'Maris', 'Americans']\n"
          ]
        },
        {
          "output_type": "stream",
          "name": "stderr",
          "text": [
            "\r271it [32:29,  6.86s/it]"
          ]
        },
        {
          "output_type": "stream",
          "name": "stdout",
          "text": [
            "Selected Entities (Score > 50%): ['Roe', 'Johns Hopkins Bloomberg School of Public Health', 'Baltimore', '##cis', 'Women', 'Health', 'Roe v', 'Wade', 'Winny Drugs Family Planning Health', 'U', 'S', 'Supreme Court', 'Roe v', 'Wade', 'U', 'S.', 'U', 'Bloomberg', 'U', 'Roe', 'Roe']\n"
          ]
        },
        {
          "output_type": "stream",
          "name": "stderr",
          "text": [
            "\r272it [32:36,  6.72s/it]"
          ]
        },
        {
          "output_type": "stream",
          "name": "stdout",
          "text": [
            "Selected Entities (Score > 50%): ['Elusive Pro', 'Life Democrat', 'Kristen Day', 'Babylon Bee', 'Babylon Bee', 'El', 'Pro', 'Life Democrat', 'Kristen Day', 'BabylonBee', 'com', 'Babylon Bee', 'Kyle', 'Ethan', 'Kristen Day', 'Democrats For Life of America', 'Bee', 'Pete Buttigieg', 'Democratic Party', 'Kyle', 'Ethan', 'Democrats', 'Kristen', 'Pete Buttigieg', 'Dems', 'Democrats For Life of America', 'Democrats For Life', 'Joe Biden', 'Modern', 'Day Hanukkah', 'Bee Bee']\n"
          ]
        },
        {
          "output_type": "stream",
          "name": "stderr",
          "text": [
            "\r273it [32:42,  6.52s/it]"
          ]
        },
        {
          "output_type": "stream",
          "name": "stdout",
          "text": [
            "Selected Entities (Score > 50%): ['Life', 'Congress', 'Christianity Today', '##Asbury University', 'Alliance University', 'Southern Baptist', 'Co', 'Christian', 'Johnson', 'Johnson', 'Evangelical', 'Brian', 'Houston', 'Life', 'Congress', 'House', 'Democratic', 'Megan Fowler', 'Michael', 'Nancy', 'South Carolina', 'US', 'House']\n"
          ]
        },
        {
          "output_type": "stream",
          "name": "stderr",
          "text": [
            "\r274it [32:50,  7.02s/it]"
          ]
        },
        {
          "output_type": "stream",
          "name": "stdout",
          "text": [
            "Selected Entities (Score > 50%): ['Roe v', 'Wade', 'America', 'ABC News ABC News', 'Roe v', 'Wade', 'America', 'U', 'S', '##Mary Kekatos', 'Katie Kindelan', '##aith Bernstein', 'Katie Kindelan', 'Asher May', 'Corsini', 'Washington', 'Supreme Court', 'Steve Helber', 'United States', 'Roe v', 'Wade', 'Supreme Court', 'Roe', 'Roe', 'Katie Watson', 'Northwestern University', 'Fe', '##in', '##berg School of Medicine', 'ABC News', 'U', 'S', 'Supreme Court', 'Justice Samuel', 'Ali', 'Roe', 'Wade', 'Washington', 'Ho', 'FIL', 'Roe', 'G', 'Institute', 'Alabama', 'Arkansas', 'Idaho', 'Kentucky', 'Louisiana Mississippi', 'Missouri', 'Oklahoma', 'South Dakota', 'Tennessee']\n"
          ]
        },
        {
          "output_type": "stream",
          "name": "stderr",
          "text": [
            "\r275it [32:56,  6.75s/it]"
          ]
        },
        {
          "output_type": "stream",
          "name": "stdout",
          "text": [
            "Selected Entities (Score > 50%): ['Trump', 'Anti', 'Women', 'Democrats DNC', 'Democratic National Committee', 'DNC', 'Democratic Party', 'DNC Services Corporation', 'DE', 'DEMO', 'South Capitol Street', 'Washington', 'DC', 'Word', 'Democrats', 'Trump', 'Anti', 'Women Record', 'Trump', 'Trump', 'Trump', 'Trump', 'Trump', 'Trump', 'Trump', 'Trump', 'Act', 'Roe', 'Wade', 'Trump', 'Court', 'Trump']\n"
          ]
        },
        {
          "output_type": "stream",
          "name": "stderr",
          "text": [
            "\r276it [33:04,  7.15s/it]"
          ]
        },
        {
          "output_type": "stream",
          "name": "stdout",
          "text": [
            "Selected Entities (Score > 50%): ['Northern Ireland', 'OS X', 'Amnesty International UK', 'Ireland', 'Northern Ireland', 'Sarah Ewart', 'England', 'Northern Ireland', 'Northern Ireland', 'Northern Ireland', 'Sarah Ewart', 'England', 'Sarah', 'Northern Ireland Human Rights Commission', 'Belfast', 'High Court', 'Northern Ireland', 'Article 8', 'European Convention on Human Rights', 'Northern', 'Ireland', 'England', 'England', 'Sarah', 'Northern Ireland']\n"
          ]
        },
        {
          "output_type": "stream",
          "name": "stderr",
          "text": [
            "\r277it [33:10,  6.84s/it]"
          ]
        },
        {
          "output_type": "stream",
          "name": "stdout",
          "text": [
            "Selected Entities (Score > 50%): ['March for Life', 'Connecticut', 'Pro', 'Life', 'National Catholic Register', 'Service', 'EWTN News, Inc', 'EWTN News, Inc', 'Catholic', 'Gospel', 'Catholic Church', 'National Catholic Register', 'Age', 'Catholic News Agency CNA Deutsch ACI Africa ACI Afrique ACI Digital ACI Prensa ACI Stampa AC', 'Mena Digital Media', 'Espaol', '##o', 'Port', '##ug', '##us TV Radio E', '##N', 'EWTN', '##N', '##icias E', '##N', 'Register Radio Vatican', 'Register', 'National Catholic Register', 'Pope Francis Eucharistic Congress Synod', 'Synod', 'Vatican Job Board', 'Life', 'Register', 'March for Life', 'Connecticut', 'Life', 'Hartford', 'Jeanne Mancini', 'March for Life', 'Register', 'Connecticut', 'March for Life', 'Hartford', 'Sisters of Life', 'Tom We', 'National Catholic Register Erik', '##a', 'J', 'Ahern', '##TF', 'Jackson', 'Wade', 'Life', 'Washington', 'Connecticut', 'Life', 'Capitol', 'Hartford', 'Jeanne', 'Life', 'Leonard Blair', 'Hartford']\n"
          ]
        },
        {
          "output_type": "stream",
          "name": "stderr",
          "text": [
            "\r278it [33:18,  6.98s/it]"
          ]
        },
        {
          "output_type": "stream",
          "name": "stdout",
          "text": [
            "Selected Entities (Score > 50%): ['Ted Cruz', 'Kingdom', '##ralia', 'Cruz', 'Cis', 'Cruz', 'Cis', '##i Reynolds', '##bergG', 'Images', 'Ted Cruz', 'Republican', '##is', 'Cruz', 'Alabama', 'HB 238', 'Rolanda Hollis', 'Cruz', 'Alabama', 'Democrat', 'Alabama', 'Democrat', 'Ted Cruz', 'Alabama', 'Cruz', 'Cruz', 'Alabama']\n"
          ]
        },
        {
          "output_type": "stream",
          "name": "stderr",
          "text": [
            "\r279it [33:24,  6.97s/it]"
          ]
        },
        {
          "output_type": "stream",
          "name": "stdout",
          "text": [
            "Selected Entities (Score > 50%): ['Planned Parenthood of Tennessee', 'North Mississippi', 'Slatery', 'American Civil Liberties Union', 'Planned Parenthood of Tennessee', 'North Mississippi', 'Slatery', 'ACLU', 'ACLU of Tennessee', 'Planned Parenthood Federation of America', 'Center for Reproductive Rights', 'Tennessee', 'Planned Parenthood of', 'Tennessee', 'North Mississippi', 'Knoxville Center for Reproductive Health', 'Memphis Center for Reproductive Health', 'Carafem', 'Bill Lee', 'United', 'Court', 'Middle', 'Tennessee', 'Nashville', 'Division', 'Tennessee', 'Federal Court', 'Tennessee', 'Tennessee', 'Court']\n"
          ]
        },
        {
          "output_type": "stream",
          "name": "stderr",
          "text": [
            "\r280it [33:31,  6.83s/it]"
          ]
        },
        {
          "output_type": "stream",
          "name": "stdout",
          "text": [
            "Selected Entities (Score > 50%): ['Travis Tu', 'Louisiana', 'US Supreme Court NYU School of Law', 'NYU Law', 'News and Press NYU Home Technology', 'Group Make', 'Gift Events Group', 'LLMJSD', 'NYU Law Group', 'Public Service Centers Institutes', 'NYU', 'Travis Tu', 'Louisiana', 'US Supreme Court', 'US Supreme Court', 'Louisiana', 'Medical Services', 'Russo', 'Travis TJ Tu', 'US', 'Center for Reproductive Rights', 'Julie Rikelman', 'Louisiana', 'Travis Tu', 'Louisiana', 'Tu', 'Louisiana', 'Louisiana', 'Texas', 'Supreme Court', 'Medical Services', 'Russo', 'Tu', 'NY', 'American', '##bert', 'Union', 'Pennsylvania', 'LGBT', 'LGBT']\n"
          ]
        },
        {
          "output_type": "stream",
          "name": "stderr",
          "text": [
            "\r281it [33:39,  7.09s/it]"
          ]
        },
        {
          "output_type": "stream",
          "name": "stdout",
          "text": [
            "Selected Entities (Score > 50%): [\"Association for Women ' s Rights in Development\", 'Females', 'PETA', 'Animals', 'Species', 'PETA', 'Action Team', '##ETA', 'PETA', 'Animals', 'PETA Vanguard Society', 'PETA', 'Animals', 'Team', '##e', 'Species', 'PETA', '##ETA', 'PETA', 'PETA', 'PETA', 'PETA Global Vanguard Society', 'PET', 'Association for Womens Rights in Development', 'Females', 'PETA', \"Association for Women ' s Rights in Development\", 'Megan Wilt', '##sie', 'Toronto', 'International Women', 'PET', 'North America', 'Association', 'Toronto', '##ETA', 'Ingrid', 'PET', 'Association']\n"
          ]
        },
        {
          "output_type": "stream",
          "name": "stderr",
          "text": [
            "\r282it [33:45,  6.77s/it]"
          ]
        },
        {
          "output_type": "stream",
          "name": "stdout",
          "text": [
            "Selected Entities (Score > 50%): ['ACLU of Southern California', 'ACLU of', 'Southern', 'California', 'Justice', 'Drug', '##an Bernardino', 'ACLU', '##C', '##al', 'L', 'A', '##cial Justice Framework', 'California', 'U', 'S', 'Constitution', 'AB', 'California', 'Senate Appropriations Committee', 'Senate', 'Committee', '##anu', 'Assembly', 'A', 'Assembly A', 'Committee', 'A', 'Assembly', 'Safety Committee', 'Bill', 'S', 'AC', 'California', 'California Latin', 'Rep', 'Justice', 'Women', 'Institute', 'Women', 'Foundation of California', 'Women', 'Freedom Center', 'Assembly', 'Co', 'Assembly', 'Lim', 'Weber', 'Mitchell', 'House']\n"
          ]
        },
        {
          "output_type": "stream",
          "name": "stderr",
          "text": [
            "\r283it [33:53,  7.20s/it]"
          ]
        },
        {
          "output_type": "stream",
          "name": "stdout",
          "text": [
            "Selected Entities (Score > 50%): ['P', '##bbs', \"Jackson Women ' s Health\", 'Center', '##ia Chepinska', 'Gayle Irwin', 'Karla Raab', 'Raab', 'Raab', 'Pregnancy Care Center', 'Southeast Indiana', 'PCC', 'God', 'Sydna Massey', 'Raab', 'God', 'Raab', 'PCC', 'Pregnancy Care Center', 'SE Indiana', 'Pre', 'Help News', 'Cathy', 'Cathy', 'Ra', 'Ra', 'Cathy']\n"
          ]
        },
        {
          "output_type": "stream",
          "name": "stderr",
          "text": [
            "\r284it [33:59,  6.85s/it]"
          ]
        },
        {
          "output_type": "stream",
          "name": "stdout",
          "text": [
            "Selected Entities (Score > 50%): ['Arkansas', 'Arkansas Democrat - Gazette', 'Arkansas', 'News Today', 'Arkansas News', 'Pine', 'Bluff', '##nuel Baptist Church', 'World Weather Today', 'All Sports Razorbacks', 'Wally Hall', 'UCA', 'NASCAR', 'Rex Nelson John Brummett Brenda Loop', 'Philip Martin Robert Steinbuch Mike Masterson', 'Best', 'Arkansas', 'Arkansas', 'Act 180', 'Michael R', 'Wick', 'Asa Hutchinson', 'House', 'Matthew Shepherd', 'Arkansas', 'Leslie Rutledge', 'Hutchinson', 'Arkansas', 'Democrat', 'Gazette', 'Arkansas', 'Leslie', 'Arkansas', 'U']\n"
          ]
        },
        {
          "output_type": "stream",
          "name": "stderr",
          "text": [
            "\r285it [34:07,  7.24s/it]"
          ]
        },
        {
          "output_type": "stream",
          "name": "stdout",
          "text": [
            "Selected Entities (Score > 50%): ['Florida', 'Bay', '##ine', 'Petersburg', 'Bay Times', 'Tampa Bay Times', 'Gothic', 'Florida', 'San Francisco', 'Court', 'Louisiana']\n"
          ]
        },
        {
          "output_type": "stream",
          "name": "stderr",
          "text": [
            "\r286it [34:13,  6.88s/it]"
          ]
        },
        {
          "output_type": "stream",
          "name": "stdout",
          "text": [
            "Selected Entities (Score > 50%): ['Life', 'Baby Lives', 'Matter', 'Planned Parenthood', 'Charlotte', 'WCCB', 'CW', 'WCCBWCCB', 'The CW WCCB', 'WCCB Charlotte', 'CW Search', 'WCCB', 'Baby Lives Matter', 'Planned Parenthood', 'Charlotte', 'WCCB Web Staff', 'CHARLOTTE', 'N', 'C', 'Baby Lives Matter', 'Planned Parenthood', 'Cherry N', '##borhood', 'Cherry', 'WCCB', 'Tayler Hansen', 'Baby Lives Matter', 'Baby', 'Lives Matter', 'Hansen', 'WCCB', 'Baby Lives Matter', 'Go', '##Me', 'Baby', 'Lives Matter', 'Planned Parenthood', 'Salt Lake City', 'Utah', 'GoFundMe', 'Hansen', '##hood', 'Matter', 'Charlotte', 'Mecklenburg Police Department', '##D', '##tter', '##erest', '##ink', 'WCCB', 'Charlotte', 'Mobile', 'Center', 'Teen', '##ead', 'Program', 'Charlotte', 'Parkinson']\n"
          ]
        },
        {
          "output_type": "stream",
          "name": "stderr",
          "text": [
            "\r287it [34:21,  7.25s/it]"
          ]
        },
        {
          "output_type": "stream",
          "name": "stdout",
          "text": [
            "Selected Entities (Score > 50%): ['Supreme Court', 'ABC News ABC News', '##N', '##F', '##ly', 'Supreme Court', '##K', '##atie Kind', '##elan', '##aith Bernstein', 'Supreme Court', 'Washington', 'Court', 'Louisiana', 'Caroline Brehman', 'Roll Call, Inc', 'Getty Images', 'Louisiana', \"Kim O ' Brien\", 'Roe v', 'Wade', \"O ' Brien\", 'U', 'S. Supreme Court', 'United States', 'Louisiana', '##ady Gaga', 'Ariana Grande', 'Planned Parenthood', '##B', 'Google', 'Supreme Court', 'June Medical Services', 'Russo', \"O ' Brien\", 'O', 'Brien', 'America', 'Kim O', 'Brien']\n"
          ]
        },
        {
          "output_type": "stream",
          "name": "stderr",
          "text": [
            "\r288it [34:30,  7.56s/it]"
          ]
        },
        {
          "output_type": "stream",
          "name": "stdout",
          "text": [
            "Selected Entities (Score > 50%): ['North', 'Dakota Supreme Court', 'ABC News ABC News', 'Dakota Supreme Court', 'March for Life', 'U', 'S. Supreme Court', 'Washington', 'DC', 'Chip So', '##devilla', 'North Dakota Supreme Court', 'Supreme Court', 'Roe v', 'Wade', 'North Dakota', \"Red River Women ' s Clinic\", 'Jon J', 'Jensen', 'Supreme Court', 'North', 'Dakota Constitution', 'RRWC', 'Jensen', 'U', 'Supreme Court', 'Washington', 'DC', 'Chip', 'Court']\n"
          ]
        },
        {
          "output_type": "stream",
          "name": "stderr",
          "text": [
            "\r289it [34:38,  7.75s/it]"
          ]
        },
        {
          "output_type": "stream",
          "name": "stdout",
          "text": [
            "Selected Entities (Score > 50%): ['Pueblo Council', '##N', 'Sports Entertainment', 'Pueblo Council', 'James Bartolo', 'Pueblo Chief', '##C', 'Pueblo City Hall', 'Pueblo', 'Kat Matthews', 'Pueblo', 'Monica Hughes', 'Hughes', 'Pueblo', 'Cobalt Abortion Fund', 'Pueblo Pro - Choice Facebook', '##lo', 'Pueblo', 'Pueblo', 'Pueblo', 'Hughes', 'Colorado', '2022 Reproductive Health Equity Act', 'Hughes', 'Colorado', 'RHEA', 'Colorado', 'Hughes', 'Council', 'Council', 'Regina', 'Mae', 'Lori', 'Larry', '##cio', 'Mark Lee', 'Texas']\n"
          ]
        },
        {
          "output_type": "stream",
          "name": "stderr",
          "text": [
            "\r290it [34:42,  6.59s/it]"
          ]
        },
        {
          "output_type": "stream",
          "name": "stdout",
          "text": [
            "Selected Entities (Score > 50%): ['Pueblo City Council', 'Pueblo', 'Kat Matthews', 'Pueblo', 'Monica Hughes', 'Pueblo', 'Cobalt Abortion Fund', 'Colorado', '##2 Reproductive Health Equity Act', 'RHEA', 'Hughes', 'Colorado', 'Regina Maestri', 'Lori Winner', 'Larry Atencio', 'Texas', 'Mark Lee Dickson', 'Dickson', 'Colorado', 'Pueblo', 'Pueblo']\n"
          ]
        },
        {
          "output_type": "stream",
          "name": "stderr",
          "text": [
            "\r291it [34:48,  6.60s/it]"
          ]
        },
        {
          "output_type": "stream",
          "name": "stdout",
          "text": [
            "Selected Entities (Score > 50%): ['The Guardian', '##ralia', 'Guardian', 'Guardian', 'News', 'Guardian', '##icTV', '##ralia', 'Guardian', 'Guardian', 'Observer', 'Connolly']\n"
          ]
        },
        {
          "output_type": "stream",
          "name": "stderr",
          "text": [
            "\r292it [34:56,  6.91s/it]"
          ]
        },
        {
          "output_type": "stream",
          "name": "stdout",
          "text": [
            "Selected Entities (Score > 50%): ['Indiana', 'AP', 'U', 'S', 'AP', 'Israel - Hamas War Russia - Ukraine War', 'Asia', 'Pacific', 'Latin', 'America', 'Europe Africa Middle East', 'China Australia Joe Biden Congress March Madness MLB NBA NHL NFL Soccer Golf Tennis AP', 'Associated Press', 'AP', 'AP', 'Associated Press', 'AP', 'AP', 'Associated Press', 'Israel', 'Hamas', 'Unilever', 'Elon Musk', 'U', 'S. News', 'Indiana', 'Rebecca Gibron', 'Planned Parenthood', 'Indiana', 'Planned Parenthood', 'Indianapolis', 'AP', '##ar', 'Plan', '##hood', 'Indianapolis', 'AP', '##ron', 'Cummings', 'M', 'Plan', 'Pa', '##hood', 'Indianapolis', 'AP', '##D', '##ron', 'Cummings', 'Katie', 'Plan', 'Pa', '##hood', 'Indianapolis', 'AP', '##ron', 'Cummings', 'Rebecca']\n"
          ]
        },
        {
          "output_type": "stream",
          "name": "stderr",
          "text": [
            "293it [35:02,  7.18s/it]"
          ]
        },
        {
          "output_type": "stream",
          "name": "stdout",
          "text": [
            "Selected Entities (Score > 50%): ['UK', 'Catholic News Agency', 'EWTN News CNA ACI Prensa ACI Stampa ACI Digital ACI Africa ACI Afrique ACI Men', 'CNA Deutsche NCR', '##ister', 'Vatican Americas Asia', 'Pacific US Europe Middle East', 'Africa', 'Benedict XVI Bible Catechism Catholic Link', 'CNA', 'Service About Us', 'EWTN News', 'UK', 'EmiliaU', '##ng', '##S', '##tters', 'London', 'England', 'The Telegraph', 'Julia Rynkiewicz', 'University of Nottingham', 'U', 'K', 'Rynkiewicz', 'Rynkiewicz', 'Rynkiewicz', 'Nottingham']\n",
            "Entities for all articles saved to 'selected_entities.csv'\n"
          ]
        },
        {
          "output_type": "stream",
          "name": "stderr",
          "text": [
            "\n"
          ]
        }
      ]
    },
    {
      "cell_type": "code",
      "source": [
        "# # Example usage\n",
        "# article_index = 1  # Example: First article\n",
        "# selected_entities = show_entities_and_get_selection(article_index)\n",
        "\n",
        "# selected_entities"
      ],
      "metadata": {
        "id": "v8kvrKu3J7UE"
      },
      "execution_count": null,
      "outputs": []
    }
  ]
}